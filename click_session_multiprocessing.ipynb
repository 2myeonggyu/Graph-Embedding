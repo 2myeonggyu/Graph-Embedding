{
 "cells": [
  {
   "cell_type": "markdown",
   "metadata": {},
   "source": [
    "# 6주동안의 click_session 데이터 생성\n",
    "- 2019.10.15 부터 6주 click 데이터\n",
    "- multiprocessing 활용"
   ]
  },
  {
   "cell_type": "code",
   "execution_count": 1,
   "metadata": {},
   "outputs": [],
   "source": [
    "import pandas as pd\n",
    "import numpy as np\n",
    "import seaborn as sns\n",
    "import matplotlib.pyplot as plt\n",
    "\n",
    "import glob\n",
    "import os\n",
    "import pickle\n",
    "\n",
    "from collections import Counter \n",
    "\n",
    "%matplotlib inline"
   ]
  },
  {
   "cell_type": "code",
   "execution_count": null,
   "metadata": {
    "scrolled": true
   },
   "outputs": [],
   "source": [
    "glob.glob('/mnt/sda1/common/SNU_recommendation/wmind_data/click_data/click_data_6weeks_snu-project/*')"
   ]
  },
  {
   "cell_type": "code",
   "execution_count": 3,
   "metadata": {},
   "outputs": [],
   "source": [
    "parse_dates = ['serverTime']\n",
    "#pd.read_csv(file, sep='\\t', header=None, names=headers, dtype=dtypes, parse_dates=parse_dates)\n",
    "\n",
    "data = pd.concat(\n",
    "    [pd.read_csv(path, parse_dates = parse_dates) for path in glob.glob('/mnt/sda1/common/SNU_recommendation/wmind_data/click_data/click_data_6weeks_snu-project/*')]\n",
    ", axis=0)"
   ]
  },
  {
   "cell_type": "code",
   "execution_count": 4,
   "metadata": {},
   "outputs": [
    {
     "data": {
      "text/html": [
       "<div>\n",
       "<style scoped>\n",
       "    .dataframe tbody tr th:only-of-type {\n",
       "        vertical-align: middle;\n",
       "    }\n",
       "\n",
       "    .dataframe tbody tr th {\n",
       "        vertical-align: top;\n",
       "    }\n",
       "\n",
       "    .dataframe thead th {\n",
       "        text-align: right;\n",
       "    }\n",
       "</style>\n",
       "<table border=\"1\" class=\"dataframe\">\n",
       "  <thead>\n",
       "    <tr style=\"text-align: right;\">\n",
       "      <th></th>\n",
       "      <th>serverTime</th>\n",
       "      <th>mid</th>\n",
       "      <th>pid</th>\n",
       "    </tr>\n",
       "  </thead>\n",
       "  <tbody>\n",
       "    <tr>\n",
       "      <th>0</th>\n",
       "      <td>2019-10-21 04:16:30.172</td>\n",
       "      <td>9404702</td>\n",
       "      <td>602621686</td>\n",
       "    </tr>\n",
       "    <tr>\n",
       "      <th>1</th>\n",
       "      <td>2019-10-21 04:16:30.177</td>\n",
       "      <td>7771767</td>\n",
       "      <td>146124413</td>\n",
       "    </tr>\n",
       "    <tr>\n",
       "      <th>2</th>\n",
       "      <td>2019-10-21 04:16:30.182</td>\n",
       "      <td>6813096</td>\n",
       "      <td>602614600</td>\n",
       "    </tr>\n",
       "    <tr>\n",
       "      <th>3</th>\n",
       "      <td>2019-10-21 04:16:30.227</td>\n",
       "      <td>5471776</td>\n",
       "      <td>602408770</td>\n",
       "    </tr>\n",
       "    <tr>\n",
       "      <th>4</th>\n",
       "      <td>2019-10-21 04:16:30.267</td>\n",
       "      <td>17744793</td>\n",
       "      <td>602609603</td>\n",
       "    </tr>\n",
       "  </tbody>\n",
       "</table>\n",
       "</div>"
      ],
      "text/plain": [
       "               serverTime       mid        pid\n",
       "0 2019-10-21 04:16:30.172   9404702  602621686\n",
       "1 2019-10-21 04:16:30.177   7771767  146124413\n",
       "2 2019-10-21 04:16:30.182   6813096  602614600\n",
       "3 2019-10-21 04:16:30.227   5471776  602408770\n",
       "4 2019-10-21 04:16:30.267  17744793  602609603"
      ]
     },
     "execution_count": 4,
     "metadata": {},
     "output_type": "execute_result"
    }
   ],
   "source": [
    "data.head()"
   ]
  },
  {
   "cell_type": "code",
   "execution_count": 5,
   "metadata": {},
   "outputs": [
    {
     "data": {
      "text/plain": [
       "(262456105, 3)"
      ]
     },
     "execution_count": 5,
     "metadata": {},
     "output_type": "execute_result"
    }
   ],
   "source": [
    "data.shape"
   ]
  },
  {
   "cell_type": "markdown",
   "metadata": {},
   "source": [
    "---"
   ]
  },
  {
   "cell_type": "markdown",
   "metadata": {},
   "source": [
    "### - 상품title null인것들 빼준다..."
   ]
  },
  {
   "cell_type": "code",
   "execution_count": 6,
   "metadata": {},
   "outputs": [],
   "source": [
    "null_list = [602631866, 602625540, 602467240, 600984871, 600991343]"
   ]
  },
  {
   "cell_type": "code",
   "execution_count": 7,
   "metadata": {},
   "outputs": [],
   "source": [
    "data = data[~data.pid.isin( null_list )].copy()"
   ]
  },
  {
   "cell_type": "markdown",
   "metadata": {},
   "source": [
    "---"
   ]
  },
  {
   "cell_type": "markdown",
   "metadata": {},
   "source": [
    "## # 대략 정보"
   ]
  },
  {
   "cell_type": "code",
   "execution_count": 8,
   "metadata": {},
   "outputs": [
    {
     "data": {
      "text/plain": [
       "(262455600, 3)"
      ]
     },
     "execution_count": 8,
     "metadata": {},
     "output_type": "execute_result"
    }
   ],
   "source": [
    "data.shape"
   ]
  },
  {
   "cell_type": "code",
   "execution_count": 9,
   "metadata": {},
   "outputs": [
    {
     "data": {
      "text/plain": [
       "505"
      ]
     },
     "execution_count": 9,
     "metadata": {},
     "output_type": "execute_result"
    }
   ],
   "source": [
    "# 약 505개 rows 빠졌다\n",
    "#262456105-262455600"
   ]
  },
  {
   "cell_type": "code",
   "execution_count": 10,
   "metadata": {},
   "outputs": [
    {
     "name": "stdout",
     "output_type": "stream",
     "text": [
      "<class 'pandas.core.frame.DataFrame'>\n",
      "Int64Index: 262455600 entries, 0 to 7410904\n",
      "Data columns (total 3 columns):\n",
      "serverTime    datetime64[ns]\n",
      "mid           int64\n",
      "pid           int64\n",
      "dtypes: datetime64[ns](1), int64(2)\n",
      "memory usage: 7.8 GB\n"
     ]
    }
   ],
   "source": [
    "data.info()"
   ]
  },
  {
   "cell_type": "code",
   "execution_count": 11,
   "metadata": {},
   "outputs": [
    {
     "data": {
      "text/plain": [
       "serverTime    0\n",
       "mid           0\n",
       "pid           0\n",
       "dtype: int64"
      ]
     },
     "execution_count": 11,
     "metadata": {},
     "output_type": "execute_result"
    }
   ],
   "source": [
    "data.isnull().sum(axis = 0)"
   ]
  },
  {
   "cell_type": "code",
   "execution_count": 9,
   "metadata": {},
   "outputs": [
    {
     "data": {
      "text/plain": [
       "44"
      ]
     },
     "execution_count": 9,
     "metadata": {},
     "output_type": "execute_result"
    }
   ],
   "source": [
    "data.serverTime.dt.date.nunique() # 맞네 - (서버는 미국시간이라 이렇게 나올 수 있다)"
   ]
  },
  {
   "cell_type": "code",
   "execution_count": 12,
   "metadata": {},
   "outputs": [
    {
     "data": {
      "text/plain": [
       "5335820"
      ]
     },
     "execution_count": 12,
     "metadata": {},
     "output_type": "execute_result"
    }
   ],
   "source": [
    "# 활동 유저수 - 530만\n",
    "data.mid.nunique()"
   ]
  },
  {
   "cell_type": "code",
   "execution_count": 13,
   "metadata": {},
   "outputs": [
    {
     "data": {
      "text/plain": [
       "5591911"
      ]
     },
     "execution_count": 13,
     "metadata": {},
     "output_type": "execute_result"
    }
   ],
   "source": [
    "# 6주동안 클릭된 상품 규모 (주문은 96만건)\n",
    "\n",
    "data.pid.nunique() # 559만개의 상품!"
   ]
  },
  {
   "cell_type": "markdown",
   "metadata": {},
   "source": [
    "---"
   ]
  },
  {
   "cell_type": "markdown",
   "metadata": {},
   "source": [
    "## # 유저들에 대하여"
   ]
  },
  {
   "cell_type": "markdown",
   "metadata": {},
   "source": [
    "- 유저들의 활동정보"
   ]
  },
  {
   "cell_type": "code",
   "execution_count": 9,
   "metadata": {},
   "outputs": [],
   "source": [
    "action_ = data.groupby('mid').size().sort_values().reset_index()"
   ]
  },
  {
   "cell_type": "code",
   "execution_count": 10,
   "metadata": {},
   "outputs": [
    {
     "data": {
      "text/plain": [
       "(5335820, 2)"
      ]
     },
     "execution_count": 10,
     "metadata": {},
     "output_type": "execute_result"
    }
   ],
   "source": [
    "action_.shape # 당연히 유저수와 같아야지"
   ]
  },
  {
   "cell_type": "code",
   "execution_count": 11,
   "metadata": {},
   "outputs": [],
   "source": [
    "action_.columns = ['mid', 'action_count']"
   ]
  },
  {
   "cell_type": "code",
   "execution_count": 12,
   "metadata": {},
   "outputs": [
    {
     "data": {
      "text/html": [
       "<div>\n",
       "<style scoped>\n",
       "    .dataframe tbody tr th:only-of-type {\n",
       "        vertical-align: middle;\n",
       "    }\n",
       "\n",
       "    .dataframe tbody tr th {\n",
       "        vertical-align: top;\n",
       "    }\n",
       "\n",
       "    .dataframe thead th {\n",
       "        text-align: right;\n",
       "    }\n",
       "</style>\n",
       "<table border=\"1\" class=\"dataframe\">\n",
       "  <thead>\n",
       "    <tr style=\"text-align: right;\">\n",
       "      <th></th>\n",
       "      <th>mid</th>\n",
       "      <th>action_count</th>\n",
       "    </tr>\n",
       "  </thead>\n",
       "  <tbody>\n",
       "    <tr>\n",
       "      <th>0</th>\n",
       "      <td>737450143</td>\n",
       "      <td>1</td>\n",
       "    </tr>\n",
       "    <tr>\n",
       "      <th>1</th>\n",
       "      <td>2408790</td>\n",
       "      <td>1</td>\n",
       "    </tr>\n",
       "    <tr>\n",
       "      <th>2</th>\n",
       "      <td>16536387</td>\n",
       "      <td>1</td>\n",
       "    </tr>\n",
       "    <tr>\n",
       "      <th>3</th>\n",
       "      <td>5328448</td>\n",
       "      <td>1</td>\n",
       "    </tr>\n",
       "    <tr>\n",
       "      <th>4</th>\n",
       "      <td>26222524</td>\n",
       "      <td>1</td>\n",
       "    </tr>\n",
       "  </tbody>\n",
       "</table>\n",
       "</div>"
      ],
      "text/plain": [
       "         mid  action_count\n",
       "0  737450143             1\n",
       "1    2408790             1\n",
       "2   16536387             1\n",
       "3    5328448             1\n",
       "4   26222524             1"
      ]
     },
     "execution_count": 12,
     "metadata": {},
     "output_type": "execute_result"
    }
   ],
   "source": [
    "action_.head()"
   ]
  },
  {
   "cell_type": "code",
   "execution_count": 13,
   "metadata": {},
   "outputs": [
    {
     "data": {
      "text/plain": [
       "49.1875859755389"
      ]
     },
     "execution_count": 13,
     "metadata": {},
     "output_type": "execute_result"
    }
   ],
   "source": [
    "# 6주간의 멤버들의 평균 클릭 - 42일간 평균 49회\n",
    "action_.action_count.mean()"
   ]
  },
  {
   "cell_type": "code",
   "execution_count": 22,
   "metadata": {},
   "outputs": [
    {
     "data": {
      "text/plain": [
       "count    5.335820e+06\n",
       "mean     4.918759e+01\n",
       "std      1.175592e+02\n",
       "min      1.000000e+00\n",
       "25%      3.000000e+00\n",
       "50%      1.000000e+01\n",
       "75%      4.000000e+01\n",
       "max      1.181600e+04\n",
       "Name: action_count, dtype: float64"
      ]
     },
     "execution_count": 22,
     "metadata": {},
     "output_type": "execute_result"
    }
   ],
   "source": [
    "action_.action_count.describe() # 오른쪽 긴 꼬리 형태 : (평균 49) 중위수 10 / 상위 25% - 40 /  더 살펴보자..."
   ]
  },
  {
   "cell_type": "code",
   "execution_count": 25,
   "metadata": {},
   "outputs": [
    {
     "data": {
      "text/plain": [
       "mid             21946184.2\n",
       "action_count          57.0\n",
       "Name: 0.8, dtype: float64"
      ]
     },
     "execution_count": 25,
     "metadata": {},
     "output_type": "execute_result"
    }
   ],
   "source": [
    "action_.quantile(0.8)"
   ]
  },
  {
   "cell_type": "code",
   "execution_count": 26,
   "metadata": {},
   "outputs": [
    {
     "data": {
      "text/plain": [
       "mid             24233921.3\n",
       "action_count          84.0\n",
       "Name: 0.85, dtype: float64"
      ]
     },
     "execution_count": 26,
     "metadata": {},
     "output_type": "execute_result"
    }
   ],
   "source": [
    "action_.quantile(0.85)"
   ]
  },
  {
   "cell_type": "code",
   "execution_count": 27,
   "metadata": {},
   "outputs": [
    {
     "data": {
      "text/plain": [
       "mid             26536416.1\n",
       "action_count         131.0\n",
       "Name: 0.9, dtype: float64"
      ]
     },
     "execution_count": 27,
     "metadata": {},
     "output_type": "execute_result"
    }
   ],
   "source": [
    "action_.quantile(0.9)"
   ]
  },
  {
   "cell_type": "code",
   "execution_count": 28,
   "metadata": {},
   "outputs": [
    {
     "data": {
      "text/plain": [
       "mid             29425319.8\n",
       "action_count         232.0\n",
       "Name: 0.95, dtype: float64"
      ]
     },
     "execution_count": 28,
     "metadata": {},
     "output_type": "execute_result"
    }
   ],
   "source": [
    "action_.quantile(0.95) # 상위 5%인 애의 클릭빈도가 232회인데"
   ]
  },
  {
   "cell_type": "code",
   "execution_count": 32,
   "metadata": {},
   "outputs": [
    {
     "data": {
      "text/plain": [
       "(0, 100)"
      ]
     },
     "execution_count": 32,
     "metadata": {},
     "output_type": "execute_result"
    },
    {
     "data": {
      "image/png": "[encoded data removed]",
      "text/plain": [
       "<Figure size 432x288 with 1 Axes>"
      ]
     },
     "metadata": {
      "needs_background": "light"
     },
     "output_type": "display_data"
    }
   ],
   "source": [
    "action_.action_count.hist()\n",
    "plt.ylim(0,100)"
   ]
  },
  {
   "cell_type": "code",
   "execution_count": null,
   "metadata": {},
   "outputs": [],
   "source": []
  },
  {
   "cell_type": "markdown",
   "metadata": {},
   "source": [
    "### - over-active 유저\n",
    "- 이들을 제거해야하나?"
   ]
  },
  {
   "cell_type": "code",
   "execution_count": 43,
   "metadata": {},
   "outputs": [
    {
     "name": "stdout",
     "output_type": "stream",
     "text": [
      "over_active user count : 2122\n",
      "over_active user ratio : 0.00039768957723461434\n"
     ]
    }
   ],
   "source": [
    "print('over_active user count : {}'.format( action_[action_.action_count > 1600].shape[0]) )\n",
    "print('over_active user ratio : {}'.format( action_[action_.action_count > 1600].shape[0]/action_.shape[0] ) )"
   ]
  },
  {
   "cell_type": "code",
   "execution_count": 38,
   "metadata": {},
   "outputs": [
    {
     "data": {
      "text/plain": [
       "5335596    29187027\n",
       "5334249    21989978\n",
       "5333999     7606725\n",
       "5335015    25905166\n",
       "5335674    21277648\n",
       "5335160    23151703\n",
       "5335644    25480044\n",
       "5335713     6329574\n",
       "5334566    22905128\n",
       "5333753    12844306\n",
       "Name: mid, dtype: int64"
      ]
     },
     "execution_count": 38,
     "metadata": {},
     "output_type": "execute_result"
    }
   ],
   "source": [
    "action_[action_.action_count > 1600].mid.sample(10)"
   ]
  },
  {
   "cell_type": "code",
   "execution_count": 41,
   "metadata": {},
   "outputs": [
    {
     "name": "stdout",
     "output_type": "stream",
     "text": [
      "2890\n",
      "44\n"
     ]
    }
   ],
   "source": [
    "# case 1\n",
    "\n",
    "print( data[data.mid == 29187027].shape[0] )\n",
    "print( data[data.mid == 29187027].serverTime.dt.date.nunique() )"
   ]
  },
  {
   "cell_type": "code",
   "execution_count": 44,
   "metadata": {},
   "outputs": [
    {
     "data": {
      "text/html": [
       "<div>\n",
       "<style scoped>\n",
       "    .dataframe tbody tr th:only-of-type {\n",
       "        vertical-align: middle;\n",
       "    }\n",
       "\n",
       "    .dataframe tbody tr th {\n",
       "        vertical-align: top;\n",
       "    }\n",
       "\n",
       "    .dataframe thead th {\n",
       "        text-align: right;\n",
       "    }\n",
       "</style>\n",
       "<table border=\"1\" class=\"dataframe\">\n",
       "  <thead>\n",
       "    <tr style=\"text-align: right;\">\n",
       "      <th></th>\n",
       "      <th>serverTime</th>\n",
       "      <th>mid</th>\n",
       "      <th>pid</th>\n",
       "    </tr>\n",
       "  </thead>\n",
       "  <tbody>\n",
       "    <tr>\n",
       "      <th>336129</th>\n",
       "      <td>2019-10-21 05:31:58.854</td>\n",
       "      <td>29187027</td>\n",
       "      <td>601994496</td>\n",
       "    </tr>\n",
       "    <tr>\n",
       "      <th>340350</th>\n",
       "      <td>2019-10-21 05:32:50.158</td>\n",
       "      <td>29187027</td>\n",
       "      <td>152845139</td>\n",
       "    </tr>\n",
       "    <tr>\n",
       "      <th>405761</th>\n",
       "      <td>2019-10-21 05:47:01.728</td>\n",
       "      <td>29187027</td>\n",
       "      <td>159165492</td>\n",
       "    </tr>\n",
       "    <tr>\n",
       "      <th>678391</th>\n",
       "      <td>2019-10-21 06:50:59.472</td>\n",
       "      <td>29187027</td>\n",
       "      <td>244228469</td>\n",
       "    </tr>\n",
       "    <tr>\n",
       "      <th>735303</th>\n",
       "      <td>2019-10-21 07:04:44.745</td>\n",
       "      <td>29187027</td>\n",
       "      <td>244228469</td>\n",
       "    </tr>\n",
       "    <tr>\n",
       "      <th>...</th>\n",
       "      <td>...</td>\n",
       "      <td>...</td>\n",
       "      <td>...</td>\n",
       "    </tr>\n",
       "    <tr>\n",
       "      <th>7399638</th>\n",
       "      <td>2019-11-04 10:23:31.891</td>\n",
       "      <td>29187027</td>\n",
       "      <td>602644064</td>\n",
       "    </tr>\n",
       "    <tr>\n",
       "      <th>7400094</th>\n",
       "      <td>2019-11-04 10:23:36.651</td>\n",
       "      <td>29187027</td>\n",
       "      <td>600156695</td>\n",
       "    </tr>\n",
       "    <tr>\n",
       "      <th>7403944</th>\n",
       "      <td>2019-11-04 10:24:17.497</td>\n",
       "      <td>29187027</td>\n",
       "      <td>155369330</td>\n",
       "    </tr>\n",
       "    <tr>\n",
       "      <th>7408711</th>\n",
       "      <td>2019-11-04 10:25:05.958</td>\n",
       "      <td>29187027</td>\n",
       "      <td>147137842</td>\n",
       "    </tr>\n",
       "    <tr>\n",
       "      <th>7409116</th>\n",
       "      <td>2019-11-04 10:25:09.847</td>\n",
       "      <td>29187027</td>\n",
       "      <td>185096554</td>\n",
       "    </tr>\n",
       "  </tbody>\n",
       "</table>\n",
       "<p>2890 rows × 3 columns</p>\n",
       "</div>"
      ],
      "text/plain": [
       "                     serverTime       mid        pid\n",
       "336129  2019-10-21 05:31:58.854  29187027  601994496\n",
       "340350  2019-10-21 05:32:50.158  29187027  152845139\n",
       "405761  2019-10-21 05:47:01.728  29187027  159165492\n",
       "678391  2019-10-21 06:50:59.472  29187027  244228469\n",
       "735303  2019-10-21 07:04:44.745  29187027  244228469\n",
       "...                         ...       ...        ...\n",
       "7399638 2019-11-04 10:23:31.891  29187027  602644064\n",
       "7400094 2019-11-04 10:23:36.651  29187027  600156695\n",
       "7403944 2019-11-04 10:24:17.497  29187027  155369330\n",
       "7408711 2019-11-04 10:25:05.958  29187027  147137842\n",
       "7409116 2019-11-04 10:25:09.847  29187027  185096554\n",
       "\n",
       "[2890 rows x 3 columns]"
      ]
     },
     "execution_count": 44,
     "metadata": {},
     "output_type": "execute_result"
    }
   ],
   "source": [
    "data[data.mid == 29187027]"
   ]
  },
  {
   "cell_type": "code",
   "execution_count": 45,
   "metadata": {},
   "outputs": [
    {
     "data": {
      "text/plain": [
       "550"
      ]
     },
     "execution_count": 45,
     "metadata": {},
     "output_type": "execute_result"
    }
   ],
   "source": [
    "data[data.mid == 29187027].pid.nunique()"
   ]
  },
  {
   "cell_type": "code",
   "execution_count": null,
   "metadata": {},
   "outputs": [],
   "source": [
    "### 음.. 일단 그냥간다"
   ]
  },
  {
   "cell_type": "markdown",
   "metadata": {},
   "source": [
    "---"
   ]
  },
  {
   "cell_type": "markdown",
   "metadata": {},
   "source": [
    "### # timediff\n",
    "- 시간별 sorting, index 초기화\n",
    "- 멤버별로 클릭의 time-diff 구한다"
   ]
  },
  {
   "cell_type": "code",
   "execution_count": 14,
   "metadata": {},
   "outputs": [
    {
     "data": {
      "text/html": [
       "<div>\n",
       "<style scoped>\n",
       "    .dataframe tbody tr th:only-of-type {\n",
       "        vertical-align: middle;\n",
       "    }\n",
       "\n",
       "    .dataframe tbody tr th {\n",
       "        vertical-align: top;\n",
       "    }\n",
       "\n",
       "    .dataframe thead th {\n",
       "        text-align: right;\n",
       "    }\n",
       "</style>\n",
       "<table border=\"1\" class=\"dataframe\">\n",
       "  <thead>\n",
       "    <tr style=\"text-align: right;\">\n",
       "      <th></th>\n",
       "      <th>serverTime</th>\n",
       "      <th>mid</th>\n",
       "      <th>pid</th>\n",
       "    </tr>\n",
       "  </thead>\n",
       "  <tbody>\n",
       "    <tr>\n",
       "      <th>0</th>\n",
       "      <td>2019-10-21 04:16:30.172</td>\n",
       "      <td>9404702</td>\n",
       "      <td>602621686</td>\n",
       "    </tr>\n",
       "    <tr>\n",
       "      <th>1</th>\n",
       "      <td>2019-10-21 04:16:30.177</td>\n",
       "      <td>7771767</td>\n",
       "      <td>146124413</td>\n",
       "    </tr>\n",
       "    <tr>\n",
       "      <th>2</th>\n",
       "      <td>2019-10-21 04:16:30.182</td>\n",
       "      <td>6813096</td>\n",
       "      <td>602614600</td>\n",
       "    </tr>\n",
       "    <tr>\n",
       "      <th>3</th>\n",
       "      <td>2019-10-21 04:16:30.227</td>\n",
       "      <td>5471776</td>\n",
       "      <td>602408770</td>\n",
       "    </tr>\n",
       "    <tr>\n",
       "      <th>4</th>\n",
       "      <td>2019-10-21 04:16:30.267</td>\n",
       "      <td>17744793</td>\n",
       "      <td>602609603</td>\n",
       "    </tr>\n",
       "  </tbody>\n",
       "</table>\n",
       "</div>"
      ],
      "text/plain": [
       "               serverTime       mid        pid\n",
       "0 2019-10-21 04:16:30.172   9404702  602621686\n",
       "1 2019-10-21 04:16:30.177   7771767  146124413\n",
       "2 2019-10-21 04:16:30.182   6813096  602614600\n",
       "3 2019-10-21 04:16:30.227   5471776  602408770\n",
       "4 2019-10-21 04:16:30.267  17744793  602609603"
      ]
     },
     "execution_count": 14,
     "metadata": {},
     "output_type": "execute_result"
    }
   ],
   "source": [
    "data.head()"
   ]
  },
  {
   "cell_type": "code",
   "execution_count": 10,
   "metadata": {},
   "outputs": [],
   "source": [
    "# 시간별 sorting, index 초기화\n",
    "data_re = data.sort_values(by='serverTime', ascending=True).reset_index(drop=True).copy()"
   ]
  },
  {
   "cell_type": "code",
   "execution_count": 10,
   "metadata": {},
   "outputs": [
    {
     "data": {
      "text/html": [
       "<div>\n",
       "<style scoped>\n",
       "    .dataframe tbody tr th:only-of-type {\n",
       "        vertical-align: middle;\n",
       "    }\n",
       "\n",
       "    .dataframe tbody tr th {\n",
       "        vertical-align: top;\n",
       "    }\n",
       "\n",
       "    .dataframe thead th {\n",
       "        text-align: right;\n",
       "    }\n",
       "</style>\n",
       "<table border=\"1\" class=\"dataframe\">\n",
       "  <thead>\n",
       "    <tr style=\"text-align: right;\">\n",
       "      <th></th>\n",
       "      <th>serverTime</th>\n",
       "      <th>mid</th>\n",
       "      <th>pid</th>\n",
       "    </tr>\n",
       "  </thead>\n",
       "  <tbody>\n",
       "    <tr>\n",
       "      <th>0</th>\n",
       "      <td>2019-10-15 00:00:00.003</td>\n",
       "      <td>1628926</td>\n",
       "      <td>152823017</td>\n",
       "    </tr>\n",
       "    <tr>\n",
       "      <th>1</th>\n",
       "      <td>2019-10-15 00:00:00.006</td>\n",
       "      <td>18507518</td>\n",
       "      <td>602597344</td>\n",
       "    </tr>\n",
       "    <tr>\n",
       "      <th>2</th>\n",
       "      <td>2019-10-15 00:00:00.010</td>\n",
       "      <td>21346403</td>\n",
       "      <td>189973551</td>\n",
       "    </tr>\n",
       "    <tr>\n",
       "      <th>3</th>\n",
       "      <td>2019-10-15 00:00:00.035</td>\n",
       "      <td>10969804</td>\n",
       "      <td>287406027</td>\n",
       "    </tr>\n",
       "    <tr>\n",
       "      <th>4</th>\n",
       "      <td>2019-10-15 00:00:00.105</td>\n",
       "      <td>1040863</td>\n",
       "      <td>139844404</td>\n",
       "    </tr>\n",
       "    <tr>\n",
       "      <th>...</th>\n",
       "      <td>...</td>\n",
       "      <td>...</td>\n",
       "      <td>...</td>\n",
       "    </tr>\n",
       "    <tr>\n",
       "      <th>262455595</th>\n",
       "      <td>2019-11-27 23:59:59.847</td>\n",
       "      <td>6714226</td>\n",
       "      <td>153271286</td>\n",
       "    </tr>\n",
       "    <tr>\n",
       "      <th>262455596</th>\n",
       "      <td>2019-11-27 23:59:59.854</td>\n",
       "      <td>30209610</td>\n",
       "      <td>602674375</td>\n",
       "    </tr>\n",
       "    <tr>\n",
       "      <th>262455597</th>\n",
       "      <td>2019-11-27 23:59:59.879</td>\n",
       "      <td>2349455</td>\n",
       "      <td>602309929</td>\n",
       "    </tr>\n",
       "    <tr>\n",
       "      <th>262455598</th>\n",
       "      <td>2019-11-27 23:59:59.925</td>\n",
       "      <td>13180560</td>\n",
       "      <td>155071189</td>\n",
       "    </tr>\n",
       "    <tr>\n",
       "      <th>262455599</th>\n",
       "      <td>2019-11-27 23:59:59.933</td>\n",
       "      <td>3006905</td>\n",
       "      <td>602690380</td>\n",
       "    </tr>\n",
       "  </tbody>\n",
       "</table>\n",
       "<p>262455600 rows × 3 columns</p>\n",
       "</div>"
      ],
      "text/plain": [
       "                       serverTime       mid        pid\n",
       "0         2019-10-15 00:00:00.003   1628926  152823017\n",
       "1         2019-10-15 00:00:00.006  18507518  602597344\n",
       "2         2019-10-15 00:00:00.010  21346403  189973551\n",
       "3         2019-10-15 00:00:00.035  10969804  287406027\n",
       "4         2019-10-15 00:00:00.105   1040863  139844404\n",
       "...                           ...       ...        ...\n",
       "262455595 2019-11-27 23:59:59.847   6714226  153271286\n",
       "262455596 2019-11-27 23:59:59.854  30209610  602674375\n",
       "262455597 2019-11-27 23:59:59.879   2349455  602309929\n",
       "262455598 2019-11-27 23:59:59.925  13180560  155071189\n",
       "262455599 2019-11-27 23:59:59.933   3006905  602690380\n",
       "\n",
       "[262455600 rows x 3 columns]"
      ]
     },
     "execution_count": 10,
     "metadata": {},
     "output_type": "execute_result"
    }
   ],
   "source": [
    "data_re"
   ]
  },
  {
   "cell_type": "markdown",
   "metadata": {},
   "source": [
    "---"
   ]
  },
  {
   "cell_type": "markdown",
   "metadata": {},
   "source": [
    "### - mid 별로, time_diff 구한다\n",
    "- mid 그룹 30등분하여 multiprocessing"
   ]
  },
  {
   "cell_type": "code",
   "execution_count": 11,
   "metadata": {},
   "outputs": [],
   "source": [
    "mid_list = data_re.mid.unique().tolist()"
   ]
  },
  {
   "cell_type": "code",
   "execution_count": 12,
   "metadata": {},
   "outputs": [],
   "source": [
    "# seq를 비슷하게 나눠주는 함수 - mid 30등분\n",
    "\n",
    "def chunkify(lst,n):\n",
    "    return [lst[i::n] for i in range(n)]"
   ]
  },
  {
   "cell_type": "code",
   "execution_count": 16,
   "metadata": {},
   "outputs": [],
   "source": [
    "mid_chunk = chunkify(mid_list, 30)"
   ]
  },
  {
   "cell_type": "code",
   "execution_count": 17,
   "metadata": {},
   "outputs": [
    {
     "data": {
      "text/plain": [
       "30"
      ]
     },
     "execution_count": 17,
     "metadata": {},
     "output_type": "execute_result"
    }
   ],
   "source": [
    "len(mid_chunk)"
   ]
  },
  {
   "cell_type": "code",
   "execution_count": 18,
   "metadata": {},
   "outputs": [],
   "source": [
    "# mid 별로 데이터 쪼갠다\n",
    "tmp = data_re.copy() # 초기화\n",
    "data_split_l = []\n",
    "\n",
    "for chunk in mid_chunk:\n",
    "    data_split_l.append( tmp[tmp.mid.isin(chunk)] )\n",
    "    tmp = tmp[ ~ tmp.mid.isin(chunk)]"
   ]
  },
  {
   "cell_type": "code",
   "execution_count": 19,
   "metadata": {},
   "outputs": [
    {
     "data": {
      "text/html": [
       "<div>\n",
       "<style scoped>\n",
       "    .dataframe tbody tr th:only-of-type {\n",
       "        vertical-align: middle;\n",
       "    }\n",
       "\n",
       "    .dataframe tbody tr th {\n",
       "        vertical-align: top;\n",
       "    }\n",
       "\n",
       "    .dataframe thead th {\n",
       "        text-align: right;\n",
       "    }\n",
       "</style>\n",
       "<table border=\"1\" class=\"dataframe\">\n",
       "  <thead>\n",
       "    <tr style=\"text-align: right;\">\n",
       "      <th></th>\n",
       "      <th>serverTime</th>\n",
       "      <th>mid</th>\n",
       "      <th>pid</th>\n",
       "    </tr>\n",
       "  </thead>\n",
       "  <tbody>\n",
       "    <tr>\n",
       "      <th>0</th>\n",
       "      <td>2019-10-15 00:00:00.003</td>\n",
       "      <td>1628926</td>\n",
       "      <td>152823017</td>\n",
       "    </tr>\n",
       "    <tr>\n",
       "      <th>30</th>\n",
       "      <td>2019-10-15 00:00:00.782</td>\n",
       "      <td>7959462</td>\n",
       "      <td>126897501</td>\n",
       "    </tr>\n",
       "    <tr>\n",
       "      <th>60</th>\n",
       "      <td>2019-10-15 00:00:01.304</td>\n",
       "      <td>1112783</td>\n",
       "      <td>602405952</td>\n",
       "    </tr>\n",
       "    <tr>\n",
       "      <th>90</th>\n",
       "      <td>2019-10-15 00:00:01.978</td>\n",
       "      <td>3096819</td>\n",
       "      <td>205115419</td>\n",
       "    </tr>\n",
       "    <tr>\n",
       "      <th>120</th>\n",
       "      <td>2019-10-15 00:00:02.637</td>\n",
       "      <td>19181308</td>\n",
       "      <td>602166255</td>\n",
       "    </tr>\n",
       "    <tr>\n",
       "      <th>...</th>\n",
       "      <td>...</td>\n",
       "      <td>...</td>\n",
       "      <td>...</td>\n",
       "    </tr>\n",
       "    <tr>\n",
       "      <th>262455373</th>\n",
       "      <td>2019-11-27 23:59:56.195</td>\n",
       "      <td>29896218</td>\n",
       "      <td>601243237</td>\n",
       "    </tr>\n",
       "    <tr>\n",
       "      <th>262455445</th>\n",
       "      <td>2019-11-27 23:59:57.468</td>\n",
       "      <td>15681444</td>\n",
       "      <td>600112820</td>\n",
       "    </tr>\n",
       "    <tr>\n",
       "      <th>262455458</th>\n",
       "      <td>2019-11-27 23:59:57.623</td>\n",
       "      <td>13764180</td>\n",
       "      <td>600086234</td>\n",
       "    </tr>\n",
       "    <tr>\n",
       "      <th>262455486</th>\n",
       "      <td>2019-11-27 23:59:58.037</td>\n",
       "      <td>1308601</td>\n",
       "      <td>310514479</td>\n",
       "    </tr>\n",
       "    <tr>\n",
       "      <th>262455596</th>\n",
       "      <td>2019-11-27 23:59:59.854</td>\n",
       "      <td>30209610</td>\n",
       "      <td>602674375</td>\n",
       "    </tr>\n",
       "  </tbody>\n",
       "</table>\n",
       "<p>8810176 rows × 3 columns</p>\n",
       "</div>"
      ],
      "text/plain": [
       "                       serverTime       mid        pid\n",
       "0         2019-10-15 00:00:00.003   1628926  152823017\n",
       "30        2019-10-15 00:00:00.782   7959462  126897501\n",
       "60        2019-10-15 00:00:01.304   1112783  602405952\n",
       "90        2019-10-15 00:00:01.978   3096819  205115419\n",
       "120       2019-10-15 00:00:02.637  19181308  602166255\n",
       "...                           ...       ...        ...\n",
       "262455373 2019-11-27 23:59:56.195  29896218  601243237\n",
       "262455445 2019-11-27 23:59:57.468  15681444  600112820\n",
       "262455458 2019-11-27 23:59:57.623  13764180  600086234\n",
       "262455486 2019-11-27 23:59:58.037   1308601  310514479\n",
       "262455596 2019-11-27 23:59:59.854  30209610  602674375\n",
       "\n",
       "[8810176 rows x 3 columns]"
      ]
     },
     "execution_count": 19,
     "metadata": {},
     "output_type": "execute_result"
    }
   ],
   "source": [
    "data_split_l[0]"
   ]
  },
  {
   "cell_type": "code",
   "execution_count": 24,
   "metadata": {},
   "outputs": [
    {
     "name": "stdout",
     "output_type": "stream",
     "text": [
      "8810176\n",
      "8776742\n",
      "8803148\n",
      "8762736\n",
      "8847707\n",
      "8775443\n",
      "8721148\n",
      "8724261\n",
      "8695891\n",
      "8806524\n",
      "8681589\n",
      "8743143\n",
      "8677777\n",
      "8731982\n",
      "8745555\n",
      "8764965\n",
      "8764892\n",
      "8765815\n",
      "8758212\n",
      "8764706\n",
      "8673545\n",
      "8715430\n",
      "8744533\n",
      "8791849\n",
      "8749574\n",
      "8627906\n",
      "8727120\n",
      "8747272\n",
      "8725057\n",
      "8830902\n"
     ]
    }
   ],
   "source": [
    "chunk_size = 0\n",
    "for split in data_split_l:\n",
    "    print(split.shape[0])\n",
    "    chunk_size += split.shape[0]"
   ]
  },
  {
   "cell_type": "markdown",
   "metadata": {},
   "source": [
    "---"
   ]
  },
  {
   "cell_type": "markdown",
   "metadata": {},
   "source": [
    "- eg. 이런식으로 하면 된다"
   ]
  },
  {
   "cell_type": "code",
   "execution_count": 28,
   "metadata": {},
   "outputs": [
    {
     "data": {
      "text/html": [
       "<div>\n",
       "<style scoped>\n",
       "    .dataframe tbody tr th:only-of-type {\n",
       "        vertical-align: middle;\n",
       "    }\n",
       "\n",
       "    .dataframe tbody tr th {\n",
       "        vertical-align: top;\n",
       "    }\n",
       "\n",
       "    .dataframe thead th {\n",
       "        text-align: right;\n",
       "    }\n",
       "</style>\n",
       "<table border=\"1\" class=\"dataframe\">\n",
       "  <thead>\n",
       "    <tr style=\"text-align: right;\">\n",
       "      <th></th>\n",
       "      <th>serverTime</th>\n",
       "      <th>mid</th>\n",
       "      <th>pid</th>\n",
       "    </tr>\n",
       "  </thead>\n",
       "  <tbody>\n",
       "    <tr>\n",
       "      <th>0</th>\n",
       "      <td>2019-10-15 00:00:00.003</td>\n",
       "      <td>1628926</td>\n",
       "      <td>152823017</td>\n",
       "    </tr>\n",
       "    <tr>\n",
       "      <th>30</th>\n",
       "      <td>2019-10-15 00:00:00.782</td>\n",
       "      <td>7959462</td>\n",
       "      <td>126897501</td>\n",
       "    </tr>\n",
       "    <tr>\n",
       "      <th>60</th>\n",
       "      <td>2019-10-15 00:00:01.304</td>\n",
       "      <td>1112783</td>\n",
       "      <td>602405952</td>\n",
       "    </tr>\n",
       "    <tr>\n",
       "      <th>90</th>\n",
       "      <td>2019-10-15 00:00:01.978</td>\n",
       "      <td>3096819</td>\n",
       "      <td>205115419</td>\n",
       "    </tr>\n",
       "    <tr>\n",
       "      <th>120</th>\n",
       "      <td>2019-10-15 00:00:02.637</td>\n",
       "      <td>19181308</td>\n",
       "      <td>602166255</td>\n",
       "    </tr>\n",
       "    <tr>\n",
       "      <th>...</th>\n",
       "      <td>...</td>\n",
       "      <td>...</td>\n",
       "      <td>...</td>\n",
       "    </tr>\n",
       "    <tr>\n",
       "      <th>262455373</th>\n",
       "      <td>2019-11-27 23:59:56.195</td>\n",
       "      <td>29896218</td>\n",
       "      <td>601243237</td>\n",
       "    </tr>\n",
       "    <tr>\n",
       "      <th>262455445</th>\n",
       "      <td>2019-11-27 23:59:57.468</td>\n",
       "      <td>15681444</td>\n",
       "      <td>600112820</td>\n",
       "    </tr>\n",
       "    <tr>\n",
       "      <th>262455458</th>\n",
       "      <td>2019-11-27 23:59:57.623</td>\n",
       "      <td>13764180</td>\n",
       "      <td>600086234</td>\n",
       "    </tr>\n",
       "    <tr>\n",
       "      <th>262455486</th>\n",
       "      <td>2019-11-27 23:59:58.037</td>\n",
       "      <td>1308601</td>\n",
       "      <td>310514479</td>\n",
       "    </tr>\n",
       "    <tr>\n",
       "      <th>262455596</th>\n",
       "      <td>2019-11-27 23:59:59.854</td>\n",
       "      <td>30209610</td>\n",
       "      <td>602674375</td>\n",
       "    </tr>\n",
       "  </tbody>\n",
       "</table>\n",
       "<p>8810176 rows × 3 columns</p>\n",
       "</div>"
      ],
      "text/plain": [
       "                       serverTime       mid        pid\n",
       "0         2019-10-15 00:00:00.003   1628926  152823017\n",
       "30        2019-10-15 00:00:00.782   7959462  126897501\n",
       "60        2019-10-15 00:00:01.304   1112783  602405952\n",
       "90        2019-10-15 00:00:01.978   3096819  205115419\n",
       "120       2019-10-15 00:00:02.637  19181308  602166255\n",
       "...                           ...       ...        ...\n",
       "262455373 2019-11-27 23:59:56.195  29896218  601243237\n",
       "262455445 2019-11-27 23:59:57.468  15681444  600112820\n",
       "262455458 2019-11-27 23:59:57.623  13764180  600086234\n",
       "262455486 2019-11-27 23:59:58.037   1308601  310514479\n",
       "262455596 2019-11-27 23:59:59.854  30209610  602674375\n",
       "\n",
       "[8810176 rows x 3 columns]"
      ]
     },
     "execution_count": 28,
     "metadata": {},
     "output_type": "execute_result"
    }
   ],
   "source": [
    "data_split_l[0]"
   ]
  },
  {
   "cell_type": "code",
   "execution_count": 29,
   "metadata": {},
   "outputs": [
    {
     "data": {
      "text/html": [
       "<div>\n",
       "<style scoped>\n",
       "    .dataframe tbody tr th:only-of-type {\n",
       "        vertical-align: middle;\n",
       "    }\n",
       "\n",
       "    .dataframe tbody tr th {\n",
       "        vertical-align: top;\n",
       "    }\n",
       "\n",
       "    .dataframe thead th {\n",
       "        text-align: right;\n",
       "    }\n",
       "</style>\n",
       "<table border=\"1\" class=\"dataframe\">\n",
       "  <thead>\n",
       "    <tr style=\"text-align: right;\">\n",
       "      <th></th>\n",
       "      <th>serverTime</th>\n",
       "      <th>mid</th>\n",
       "      <th>pid</th>\n",
       "    </tr>\n",
       "  </thead>\n",
       "  <tbody>\n",
       "    <tr>\n",
       "      <th>0</th>\n",
       "      <td>2019-10-15 00:00:00.003</td>\n",
       "      <td>1628926</td>\n",
       "      <td>152823017</td>\n",
       "    </tr>\n",
       "    <tr>\n",
       "      <th>1263</th>\n",
       "      <td>2019-10-15 00:00:27.209</td>\n",
       "      <td>1628926</td>\n",
       "      <td>180751751</td>\n",
       "    </tr>\n",
       "    <tr>\n",
       "      <th>4147</th>\n",
       "      <td>2019-10-15 00:01:26.492</td>\n",
       "      <td>1628926</td>\n",
       "      <td>152823017</td>\n",
       "    </tr>\n",
       "    <tr>\n",
       "      <th>126536</th>\n",
       "      <td>2019-10-15 00:39:44.817</td>\n",
       "      <td>1628926</td>\n",
       "      <td>602595601</td>\n",
       "    </tr>\n",
       "    <tr>\n",
       "      <th>144962</th>\n",
       "      <td>2019-10-15 00:45:02.689</td>\n",
       "      <td>1628926</td>\n",
       "      <td>602609862</td>\n",
       "    </tr>\n",
       "    <tr>\n",
       "      <th>...</th>\n",
       "      <td>...</td>\n",
       "      <td>...</td>\n",
       "      <td>...</td>\n",
       "    </tr>\n",
       "    <tr>\n",
       "      <th>255863053</th>\n",
       "      <td>2019-11-26 18:20:13.066</td>\n",
       "      <td>1628926</td>\n",
       "      <td>600053630</td>\n",
       "    </tr>\n",
       "    <tr>\n",
       "      <th>255864442</th>\n",
       "      <td>2019-11-26 18:21:04.446</td>\n",
       "      <td>1628926</td>\n",
       "      <td>313826296</td>\n",
       "    </tr>\n",
       "    <tr>\n",
       "      <th>255866042</th>\n",
       "      <td>2019-11-26 18:22:06.383</td>\n",
       "      <td>1628926</td>\n",
       "      <td>600053630</td>\n",
       "    </tr>\n",
       "    <tr>\n",
       "      <th>255870174</th>\n",
       "      <td>2019-11-26 18:24:45.402</td>\n",
       "      <td>1628926</td>\n",
       "      <td>602686749</td>\n",
       "    </tr>\n",
       "    <tr>\n",
       "      <th>258944936</th>\n",
       "      <td>2019-11-27 09:27:02.477</td>\n",
       "      <td>1628926</td>\n",
       "      <td>602825559</td>\n",
       "    </tr>\n",
       "  </tbody>\n",
       "</table>\n",
       "<p>83 rows × 3 columns</p>\n",
       "</div>"
      ],
      "text/plain": [
       "                       serverTime      mid        pid\n",
       "0         2019-10-15 00:00:00.003  1628926  152823017\n",
       "1263      2019-10-15 00:00:27.209  1628926  180751751\n",
       "4147      2019-10-15 00:01:26.492  1628926  152823017\n",
       "126536    2019-10-15 00:39:44.817  1628926  602595601\n",
       "144962    2019-10-15 00:45:02.689  1628926  602609862\n",
       "...                           ...      ...        ...\n",
       "255863053 2019-11-26 18:20:13.066  1628926  600053630\n",
       "255864442 2019-11-26 18:21:04.446  1628926  313826296\n",
       "255866042 2019-11-26 18:22:06.383  1628926  600053630\n",
       "255870174 2019-11-26 18:24:45.402  1628926  602686749\n",
       "258944936 2019-11-27 09:27:02.477  1628926  602825559\n",
       "\n",
       "[83 rows x 3 columns]"
      ]
     },
     "execution_count": 29,
     "metadata": {},
     "output_type": "execute_result"
    }
   ],
   "source": [
    "data_split_l[0][data_split_l[0].mid == 1628926]"
   ]
  },
  {
   "cell_type": "code",
   "execution_count": 35,
   "metadata": {},
   "outputs": [],
   "source": [
    "tmp = data_split_l[0].copy()"
   ]
  },
  {
   "cell_type": "code",
   "execution_count": 36,
   "metadata": {},
   "outputs": [
    {
     "data": {
      "text/html": [
       "<div>\n",
       "<style scoped>\n",
       "    .dataframe tbody tr th:only-of-type {\n",
       "        vertical-align: middle;\n",
       "    }\n",
       "\n",
       "    .dataframe tbody tr th {\n",
       "        vertical-align: top;\n",
       "    }\n",
       "\n",
       "    .dataframe thead th {\n",
       "        text-align: right;\n",
       "    }\n",
       "</style>\n",
       "<table border=\"1\" class=\"dataframe\">\n",
       "  <thead>\n",
       "    <tr style=\"text-align: right;\">\n",
       "      <th></th>\n",
       "      <th>serverTime</th>\n",
       "      <th>mid</th>\n",
       "      <th>pid</th>\n",
       "    </tr>\n",
       "  </thead>\n",
       "  <tbody>\n",
       "    <tr>\n",
       "      <th>0</th>\n",
       "      <td>2019-10-15 00:00:00.003</td>\n",
       "      <td>1628926</td>\n",
       "      <td>152823017</td>\n",
       "    </tr>\n",
       "    <tr>\n",
       "      <th>30</th>\n",
       "      <td>2019-10-15 00:00:00.782</td>\n",
       "      <td>7959462</td>\n",
       "      <td>126897501</td>\n",
       "    </tr>\n",
       "    <tr>\n",
       "      <th>60</th>\n",
       "      <td>2019-10-15 00:00:01.304</td>\n",
       "      <td>1112783</td>\n",
       "      <td>602405952</td>\n",
       "    </tr>\n",
       "    <tr>\n",
       "      <th>90</th>\n",
       "      <td>2019-10-15 00:00:01.978</td>\n",
       "      <td>3096819</td>\n",
       "      <td>205115419</td>\n",
       "    </tr>\n",
       "    <tr>\n",
       "      <th>120</th>\n",
       "      <td>2019-10-15 00:00:02.637</td>\n",
       "      <td>19181308</td>\n",
       "      <td>602166255</td>\n",
       "    </tr>\n",
       "    <tr>\n",
       "      <th>...</th>\n",
       "      <td>...</td>\n",
       "      <td>...</td>\n",
       "      <td>...</td>\n",
       "    </tr>\n",
       "    <tr>\n",
       "      <th>262455373</th>\n",
       "      <td>2019-11-27 23:59:56.195</td>\n",
       "      <td>29896218</td>\n",
       "      <td>601243237</td>\n",
       "    </tr>\n",
       "    <tr>\n",
       "      <th>262455445</th>\n",
       "      <td>2019-11-27 23:59:57.468</td>\n",
       "      <td>15681444</td>\n",
       "      <td>600112820</td>\n",
       "    </tr>\n",
       "    <tr>\n",
       "      <th>262455458</th>\n",
       "      <td>2019-11-27 23:59:57.623</td>\n",
       "      <td>13764180</td>\n",
       "      <td>600086234</td>\n",
       "    </tr>\n",
       "    <tr>\n",
       "      <th>262455486</th>\n",
       "      <td>2019-11-27 23:59:58.037</td>\n",
       "      <td>1308601</td>\n",
       "      <td>310514479</td>\n",
       "    </tr>\n",
       "    <tr>\n",
       "      <th>262455596</th>\n",
       "      <td>2019-11-27 23:59:59.854</td>\n",
       "      <td>30209610</td>\n",
       "      <td>602674375</td>\n",
       "    </tr>\n",
       "  </tbody>\n",
       "</table>\n",
       "<p>8810176 rows × 3 columns</p>\n",
       "</div>"
      ],
      "text/plain": [
       "                       serverTime       mid        pid\n",
       "0         2019-10-15 00:00:00.003   1628926  152823017\n",
       "30        2019-10-15 00:00:00.782   7959462  126897501\n",
       "60        2019-10-15 00:00:01.304   1112783  602405952\n",
       "90        2019-10-15 00:00:01.978   3096819  205115419\n",
       "120       2019-10-15 00:00:02.637  19181308  602166255\n",
       "...                           ...       ...        ...\n",
       "262455373 2019-11-27 23:59:56.195  29896218  601243237\n",
       "262455445 2019-11-27 23:59:57.468  15681444  600112820\n",
       "262455458 2019-11-27 23:59:57.623  13764180  600086234\n",
       "262455486 2019-11-27 23:59:58.037   1308601  310514479\n",
       "262455596 2019-11-27 23:59:59.854  30209610  602674375\n",
       "\n",
       "[8810176 rows x 3 columns]"
      ]
     },
     "execution_count": 36,
     "metadata": {},
     "output_type": "execute_result"
    }
   ],
   "source": [
    "tmp"
   ]
  },
  {
   "cell_type": "code",
   "execution_count": 37,
   "metadata": {},
   "outputs": [],
   "source": [
    "tmp.sort_values(by=['mid', 'serverTime'], inplace=True)"
   ]
  },
  {
   "cell_type": "code",
   "execution_count": 38,
   "metadata": {},
   "outputs": [
    {
     "data": {
      "text/html": [
       "<div>\n",
       "<style scoped>\n",
       "    .dataframe tbody tr th:only-of-type {\n",
       "        vertical-align: middle;\n",
       "    }\n",
       "\n",
       "    .dataframe tbody tr th {\n",
       "        vertical-align: top;\n",
       "    }\n",
       "\n",
       "    .dataframe thead th {\n",
       "        text-align: right;\n",
       "    }\n",
       "</style>\n",
       "<table border=\"1\" class=\"dataframe\">\n",
       "  <thead>\n",
       "    <tr style=\"text-align: right;\">\n",
       "      <th></th>\n",
       "      <th>serverTime</th>\n",
       "      <th>mid</th>\n",
       "      <th>pid</th>\n",
       "    </tr>\n",
       "  </thead>\n",
       "  <tbody>\n",
       "    <tr>\n",
       "      <th>10769473</th>\n",
       "      <td>2019-10-17 05:42:29.474</td>\n",
       "      <td>1000113</td>\n",
       "      <td>312701141</td>\n",
       "    </tr>\n",
       "    <tr>\n",
       "      <th>12845710</th>\n",
       "      <td>2019-10-17 14:49:18.287</td>\n",
       "      <td>1000157</td>\n",
       "      <td>221334540</td>\n",
       "    </tr>\n",
       "    <tr>\n",
       "      <th>12858922</th>\n",
       "      <td>2019-10-17 14:52:08.932</td>\n",
       "      <td>1000157</td>\n",
       "      <td>221334540</td>\n",
       "    </tr>\n",
       "    <tr>\n",
       "      <th>12859869</th>\n",
       "      <td>2019-10-17 14:52:21.944</td>\n",
       "      <td>1000157</td>\n",
       "      <td>221334540</td>\n",
       "    </tr>\n",
       "    <tr>\n",
       "      <th>12874522</th>\n",
       "      <td>2019-10-17 14:55:34.932</td>\n",
       "      <td>1000157</td>\n",
       "      <td>251146845</td>\n",
       "    </tr>\n",
       "    <tr>\n",
       "      <th>...</th>\n",
       "      <td>...</td>\n",
       "      <td>...</td>\n",
       "      <td>...</td>\n",
       "    </tr>\n",
       "    <tr>\n",
       "      <th>262154883</th>\n",
       "      <td>2019-11-27 22:28:16.121</td>\n",
       "      <td>30754704</td>\n",
       "      <td>289212571</td>\n",
       "    </tr>\n",
       "    <tr>\n",
       "      <th>262167928</th>\n",
       "      <td>2019-11-27 22:32:58.720</td>\n",
       "      <td>30754704</td>\n",
       "      <td>289212571</td>\n",
       "    </tr>\n",
       "    <tr>\n",
       "      <th>262177493</th>\n",
       "      <td>2019-11-27 22:36:19.989</td>\n",
       "      <td>30754704</td>\n",
       "      <td>295220963</td>\n",
       "    </tr>\n",
       "    <tr>\n",
       "      <th>262157714</th>\n",
       "      <td>2019-11-27 22:29:17.938</td>\n",
       "      <td>30754711</td>\n",
       "      <td>602620808</td>\n",
       "    </tr>\n",
       "    <tr>\n",
       "      <th>216602207</th>\n",
       "      <td>2019-11-20 08:29:02.374</td>\n",
       "      <td>39792734</td>\n",
       "      <td>181546922</td>\n",
       "    </tr>\n",
       "  </tbody>\n",
       "</table>\n",
       "<p>8810176 rows × 3 columns</p>\n",
       "</div>"
      ],
      "text/plain": [
       "                       serverTime       mid        pid\n",
       "10769473  2019-10-17 05:42:29.474   1000113  312701141\n",
       "12845710  2019-10-17 14:49:18.287   1000157  221334540\n",
       "12858922  2019-10-17 14:52:08.932   1000157  221334540\n",
       "12859869  2019-10-17 14:52:21.944   1000157  221334540\n",
       "12874522  2019-10-17 14:55:34.932   1000157  251146845\n",
       "...                           ...       ...        ...\n",
       "262154883 2019-11-27 22:28:16.121  30754704  289212571\n",
       "262167928 2019-11-27 22:32:58.720  30754704  289212571\n",
       "262177493 2019-11-27 22:36:19.989  30754704  295220963\n",
       "262157714 2019-11-27 22:29:17.938  30754711  602620808\n",
       "216602207 2019-11-20 08:29:02.374  39792734  181546922\n",
       "\n",
       "[8810176 rows x 3 columns]"
      ]
     },
     "execution_count": 38,
     "metadata": {},
     "output_type": "execute_result"
    }
   ],
   "source": [
    "tmp"
   ]
  },
  {
   "cell_type": "code",
   "execution_count": 33,
   "metadata": {},
   "outputs": [
    {
     "data": {
      "text/html": [
       "<div>\n",
       "<style scoped>\n",
       "    .dataframe tbody tr th:only-of-type {\n",
       "        vertical-align: middle;\n",
       "    }\n",
       "\n",
       "    .dataframe tbody tr th {\n",
       "        vertical-align: top;\n",
       "    }\n",
       "\n",
       "    .dataframe thead th {\n",
       "        text-align: right;\n",
       "    }\n",
       "</style>\n",
       "<table border=\"1\" class=\"dataframe\">\n",
       "  <thead>\n",
       "    <tr style=\"text-align: right;\">\n",
       "      <th></th>\n",
       "      <th>serverTime</th>\n",
       "      <th>mid</th>\n",
       "      <th>pid</th>\n",
       "    </tr>\n",
       "  </thead>\n",
       "  <tbody>\n",
       "    <tr>\n",
       "      <th>0</th>\n",
       "      <td>2019-10-15 00:00:00.003</td>\n",
       "      <td>1628926</td>\n",
       "      <td>152823017</td>\n",
       "    </tr>\n",
       "    <tr>\n",
       "      <th>1263</th>\n",
       "      <td>2019-10-15 00:00:27.209</td>\n",
       "      <td>1628926</td>\n",
       "      <td>180751751</td>\n",
       "    </tr>\n",
       "    <tr>\n",
       "      <th>4147</th>\n",
       "      <td>2019-10-15 00:01:26.492</td>\n",
       "      <td>1628926</td>\n",
       "      <td>152823017</td>\n",
       "    </tr>\n",
       "    <tr>\n",
       "      <th>126536</th>\n",
       "      <td>2019-10-15 00:39:44.817</td>\n",
       "      <td>1628926</td>\n",
       "      <td>602595601</td>\n",
       "    </tr>\n",
       "    <tr>\n",
       "      <th>144962</th>\n",
       "      <td>2019-10-15 00:45:02.689</td>\n",
       "      <td>1628926</td>\n",
       "      <td>602609862</td>\n",
       "    </tr>\n",
       "    <tr>\n",
       "      <th>...</th>\n",
       "      <td>...</td>\n",
       "      <td>...</td>\n",
       "      <td>...</td>\n",
       "    </tr>\n",
       "    <tr>\n",
       "      <th>255863053</th>\n",
       "      <td>2019-11-26 18:20:13.066</td>\n",
       "      <td>1628926</td>\n",
       "      <td>600053630</td>\n",
       "    </tr>\n",
       "    <tr>\n",
       "      <th>255864442</th>\n",
       "      <td>2019-11-26 18:21:04.446</td>\n",
       "      <td>1628926</td>\n",
       "      <td>313826296</td>\n",
       "    </tr>\n",
       "    <tr>\n",
       "      <th>255866042</th>\n",
       "      <td>2019-11-26 18:22:06.383</td>\n",
       "      <td>1628926</td>\n",
       "      <td>600053630</td>\n",
       "    </tr>\n",
       "    <tr>\n",
       "      <th>255870174</th>\n",
       "      <td>2019-11-26 18:24:45.402</td>\n",
       "      <td>1628926</td>\n",
       "      <td>602686749</td>\n",
       "    </tr>\n",
       "    <tr>\n",
       "      <th>258944936</th>\n",
       "      <td>2019-11-27 09:27:02.477</td>\n",
       "      <td>1628926</td>\n",
       "      <td>602825559</td>\n",
       "    </tr>\n",
       "  </tbody>\n",
       "</table>\n",
       "<p>83 rows × 3 columns</p>\n",
       "</div>"
      ],
      "text/plain": [
       "                       serverTime      mid        pid\n",
       "0         2019-10-15 00:00:00.003  1628926  152823017\n",
       "1263      2019-10-15 00:00:27.209  1628926  180751751\n",
       "4147      2019-10-15 00:01:26.492  1628926  152823017\n",
       "126536    2019-10-15 00:39:44.817  1628926  602595601\n",
       "144962    2019-10-15 00:45:02.689  1628926  602609862\n",
       "...                           ...      ...        ...\n",
       "255863053 2019-11-26 18:20:13.066  1628926  600053630\n",
       "255864442 2019-11-26 18:21:04.446  1628926  313826296\n",
       "255866042 2019-11-26 18:22:06.383  1628926  600053630\n",
       "255870174 2019-11-26 18:24:45.402  1628926  602686749\n",
       "258944936 2019-11-27 09:27:02.477  1628926  602825559\n",
       "\n",
       "[83 rows x 3 columns]"
      ]
     },
     "execution_count": 33,
     "metadata": {},
     "output_type": "execute_result"
    }
   ],
   "source": [
    "tmp[tmp.mid == 1628926]"
   ]
  },
  {
   "cell_type": "code",
   "execution_count": 71,
   "metadata": {},
   "outputs": [],
   "source": [
    "time_diff = tmp.groupby('mid')['serverTime'].diff()"
   ]
  },
  {
   "cell_type": "code",
   "execution_count": 72,
   "metadata": {},
   "outputs": [
    {
     "data": {
      "text/plain": [
       "10769473                NaT\n",
       "12845710                NaT\n",
       "12858922    00:02:50.645000\n",
       "12859869    00:00:13.012000\n",
       "12874522    00:03:12.988000\n",
       "                  ...      \n",
       "262154883   00:01:43.412000\n",
       "262167928   00:04:42.599000\n",
       "262177493   00:03:21.269000\n",
       "262157714               NaT\n",
       "216602207               NaT\n",
       "Name: serverTime, Length: 8810176, dtype: timedelta64[ns]"
      ]
     },
     "execution_count": 72,
     "metadata": {},
     "output_type": "execute_result"
    }
   ],
   "source": [
    "time_diff"
   ]
  },
  {
   "cell_type": "code",
   "execution_count": 73,
   "metadata": {},
   "outputs": [],
   "source": [
    "data_w_tdiff = tmp.merge(time_diff, left_index=True, right_index=True)"
   ]
  },
  {
   "cell_type": "code",
   "execution_count": 74,
   "metadata": {},
   "outputs": [
    {
     "data": {
      "text/html": [
       "<div>\n",
       "<style scoped>\n",
       "    .dataframe tbody tr th:only-of-type {\n",
       "        vertical-align: middle;\n",
       "    }\n",
       "\n",
       "    .dataframe tbody tr th {\n",
       "        vertical-align: top;\n",
       "    }\n",
       "\n",
       "    .dataframe thead th {\n",
       "        text-align: right;\n",
       "    }\n",
       "</style>\n",
       "<table border=\"1\" class=\"dataframe\">\n",
       "  <thead>\n",
       "    <tr style=\"text-align: right;\">\n",
       "      <th></th>\n",
       "      <th>serverTime_x</th>\n",
       "      <th>mid</th>\n",
       "      <th>pid</th>\n",
       "      <th>serverTime_y</th>\n",
       "    </tr>\n",
       "  </thead>\n",
       "  <tbody>\n",
       "    <tr>\n",
       "      <th>10769473</th>\n",
       "      <td>2019-10-17 05:42:29.474</td>\n",
       "      <td>1000113</td>\n",
       "      <td>312701141</td>\n",
       "      <td>NaT</td>\n",
       "    </tr>\n",
       "    <tr>\n",
       "      <th>12845710</th>\n",
       "      <td>2019-10-17 14:49:18.287</td>\n",
       "      <td>1000157</td>\n",
       "      <td>221334540</td>\n",
       "      <td>NaT</td>\n",
       "    </tr>\n",
       "    <tr>\n",
       "      <th>12858922</th>\n",
       "      <td>2019-10-17 14:52:08.932</td>\n",
       "      <td>1000157</td>\n",
       "      <td>221334540</td>\n",
       "      <td>00:02:50.645000</td>\n",
       "    </tr>\n",
       "    <tr>\n",
       "      <th>12859869</th>\n",
       "      <td>2019-10-17 14:52:21.944</td>\n",
       "      <td>1000157</td>\n",
       "      <td>221334540</td>\n",
       "      <td>00:00:13.012000</td>\n",
       "    </tr>\n",
       "    <tr>\n",
       "      <th>12874522</th>\n",
       "      <td>2019-10-17 14:55:34.932</td>\n",
       "      <td>1000157</td>\n",
       "      <td>251146845</td>\n",
       "      <td>00:03:12.988000</td>\n",
       "    </tr>\n",
       "    <tr>\n",
       "      <th>...</th>\n",
       "      <td>...</td>\n",
       "      <td>...</td>\n",
       "      <td>...</td>\n",
       "      <td>...</td>\n",
       "    </tr>\n",
       "    <tr>\n",
       "      <th>262154883</th>\n",
       "      <td>2019-11-27 22:28:16.121</td>\n",
       "      <td>30754704</td>\n",
       "      <td>289212571</td>\n",
       "      <td>00:01:43.412000</td>\n",
       "    </tr>\n",
       "    <tr>\n",
       "      <th>262167928</th>\n",
       "      <td>2019-11-27 22:32:58.720</td>\n",
       "      <td>30754704</td>\n",
       "      <td>289212571</td>\n",
       "      <td>00:04:42.599000</td>\n",
       "    </tr>\n",
       "    <tr>\n",
       "      <th>262177493</th>\n",
       "      <td>2019-11-27 22:36:19.989</td>\n",
       "      <td>30754704</td>\n",
       "      <td>295220963</td>\n",
       "      <td>00:03:21.269000</td>\n",
       "    </tr>\n",
       "    <tr>\n",
       "      <th>262157714</th>\n",
       "      <td>2019-11-27 22:29:17.938</td>\n",
       "      <td>30754711</td>\n",
       "      <td>602620808</td>\n",
       "      <td>NaT</td>\n",
       "    </tr>\n",
       "    <tr>\n",
       "      <th>216602207</th>\n",
       "      <td>2019-11-20 08:29:02.374</td>\n",
       "      <td>39792734</td>\n",
       "      <td>181546922</td>\n",
       "      <td>NaT</td>\n",
       "    </tr>\n",
       "  </tbody>\n",
       "</table>\n",
       "<p>8810176 rows × 4 columns</p>\n",
       "</div>"
      ],
      "text/plain": [
       "                     serverTime_x       mid        pid    serverTime_y\n",
       "10769473  2019-10-17 05:42:29.474   1000113  312701141             NaT\n",
       "12845710  2019-10-17 14:49:18.287   1000157  221334540             NaT\n",
       "12858922  2019-10-17 14:52:08.932   1000157  221334540 00:02:50.645000\n",
       "12859869  2019-10-17 14:52:21.944   1000157  221334540 00:00:13.012000\n",
       "12874522  2019-10-17 14:55:34.932   1000157  251146845 00:03:12.988000\n",
       "...                           ...       ...        ...             ...\n",
       "262154883 2019-11-27 22:28:16.121  30754704  289212571 00:01:43.412000\n",
       "262167928 2019-11-27 22:32:58.720  30754704  289212571 00:04:42.599000\n",
       "262177493 2019-11-27 22:36:19.989  30754704  295220963 00:03:21.269000\n",
       "262157714 2019-11-27 22:29:17.938  30754711  602620808             NaT\n",
       "216602207 2019-11-20 08:29:02.374  39792734  181546922             NaT\n",
       "\n",
       "[8810176 rows x 4 columns]"
      ]
     },
     "execution_count": 74,
     "metadata": {},
     "output_type": "execute_result"
    }
   ],
   "source": [
    "data_w_tdiff"
   ]
  },
  {
   "cell_type": "code",
   "execution_count": 77,
   "metadata": {},
   "outputs": [],
   "source": [
    "time_diff.columns = ['time_diff']"
   ]
  },
  {
   "cell_type": "code",
   "execution_count": 83,
   "metadata": {},
   "outputs": [
    {
     "data": {
      "text/plain": [
       "'serverTime'"
      ]
     },
     "execution_count": 83,
     "metadata": {},
     "output_type": "execute_result"
    }
   ],
   "source": [
    "time_diff.name"
   ]
  },
  {
   "cell_type": "code",
   "execution_count": 78,
   "metadata": {},
   "outputs": [
    {
     "data": {
      "text/html": [
       "<div>\n",
       "<style scoped>\n",
       "    .dataframe tbody tr th:only-of-type {\n",
       "        vertical-align: middle;\n",
       "    }\n",
       "\n",
       "    .dataframe tbody tr th {\n",
       "        vertical-align: top;\n",
       "    }\n",
       "\n",
       "    .dataframe thead th {\n",
       "        text-align: right;\n",
       "    }\n",
       "</style>\n",
       "<table border=\"1\" class=\"dataframe\">\n",
       "  <thead>\n",
       "    <tr style=\"text-align: right;\">\n",
       "      <th></th>\n",
       "      <th>serverTime</th>\n",
       "      <th>mid</th>\n",
       "      <th>pid</th>\n",
       "      <th>serverTime</th>\n",
       "    </tr>\n",
       "  </thead>\n",
       "  <tbody>\n",
       "    <tr>\n",
       "      <th>10769473</th>\n",
       "      <td>2019-10-17 05:42:29.474</td>\n",
       "      <td>1000113</td>\n",
       "      <td>312701141</td>\n",
       "      <td>NaT</td>\n",
       "    </tr>\n",
       "    <tr>\n",
       "      <th>12845710</th>\n",
       "      <td>2019-10-17 14:49:18.287</td>\n",
       "      <td>1000157</td>\n",
       "      <td>221334540</td>\n",
       "      <td>NaT</td>\n",
       "    </tr>\n",
       "    <tr>\n",
       "      <th>12858922</th>\n",
       "      <td>2019-10-17 14:52:08.932</td>\n",
       "      <td>1000157</td>\n",
       "      <td>221334540</td>\n",
       "      <td>00:02:50.645000</td>\n",
       "    </tr>\n",
       "    <tr>\n",
       "      <th>12859869</th>\n",
       "      <td>2019-10-17 14:52:21.944</td>\n",
       "      <td>1000157</td>\n",
       "      <td>221334540</td>\n",
       "      <td>00:00:13.012000</td>\n",
       "    </tr>\n",
       "    <tr>\n",
       "      <th>12874522</th>\n",
       "      <td>2019-10-17 14:55:34.932</td>\n",
       "      <td>1000157</td>\n",
       "      <td>251146845</td>\n",
       "      <td>00:03:12.988000</td>\n",
       "    </tr>\n",
       "    <tr>\n",
       "      <th>...</th>\n",
       "      <td>...</td>\n",
       "      <td>...</td>\n",
       "      <td>...</td>\n",
       "      <td>...</td>\n",
       "    </tr>\n",
       "    <tr>\n",
       "      <th>262154883</th>\n",
       "      <td>2019-11-27 22:28:16.121</td>\n",
       "      <td>30754704</td>\n",
       "      <td>289212571</td>\n",
       "      <td>00:01:43.412000</td>\n",
       "    </tr>\n",
       "    <tr>\n",
       "      <th>262167928</th>\n",
       "      <td>2019-11-27 22:32:58.720</td>\n",
       "      <td>30754704</td>\n",
       "      <td>289212571</td>\n",
       "      <td>00:04:42.599000</td>\n",
       "    </tr>\n",
       "    <tr>\n",
       "      <th>262177493</th>\n",
       "      <td>2019-11-27 22:36:19.989</td>\n",
       "      <td>30754704</td>\n",
       "      <td>295220963</td>\n",
       "      <td>00:03:21.269000</td>\n",
       "    </tr>\n",
       "    <tr>\n",
       "      <th>262157714</th>\n",
       "      <td>2019-11-27 22:29:17.938</td>\n",
       "      <td>30754711</td>\n",
       "      <td>602620808</td>\n",
       "      <td>NaT</td>\n",
       "    </tr>\n",
       "    <tr>\n",
       "      <th>216602207</th>\n",
       "      <td>2019-11-20 08:29:02.374</td>\n",
       "      <td>39792734</td>\n",
       "      <td>181546922</td>\n",
       "      <td>NaT</td>\n",
       "    </tr>\n",
       "  </tbody>\n",
       "</table>\n",
       "<p>8810176 rows × 4 columns</p>\n",
       "</div>"
      ],
      "text/plain": [
       "                       serverTime       mid        pid      serverTime\n",
       "10769473  2019-10-17 05:42:29.474   1000113  312701141             NaT\n",
       "12845710  2019-10-17 14:49:18.287   1000157  221334540             NaT\n",
       "12858922  2019-10-17 14:52:08.932   1000157  221334540 00:02:50.645000\n",
       "12859869  2019-10-17 14:52:21.944   1000157  221334540 00:00:13.012000\n",
       "12874522  2019-10-17 14:55:34.932   1000157  251146845 00:03:12.988000\n",
       "...                           ...       ...        ...             ...\n",
       "262154883 2019-11-27 22:28:16.121  30754704  289212571 00:01:43.412000\n",
       "262167928 2019-11-27 22:32:58.720  30754704  289212571 00:04:42.599000\n",
       "262177493 2019-11-27 22:36:19.989  30754704  295220963 00:03:21.269000\n",
       "262157714 2019-11-27 22:29:17.938  30754711  602620808             NaT\n",
       "216602207 2019-11-20 08:29:02.374  39792734  181546922             NaT\n",
       "\n",
       "[8810176 rows x 4 columns]"
      ]
     },
     "execution_count": 78,
     "metadata": {},
     "output_type": "execute_result"
    }
   ],
   "source": [
    "pd.concat([tmp,time_diff], axis=1)"
   ]
  },
  {
   "cell_type": "code",
   "execution_count": null,
   "metadata": {},
   "outputs": [],
   "source": []
  },
  {
   "cell_type": "markdown",
   "metadata": {},
   "source": [
    "---"
   ]
  },
  {
   "cell_type": "markdown",
   "metadata": {},
   "source": [
    "### - 분산처리"
   ]
  },
  {
   "cell_type": "code",
   "execution_count": 20,
   "metadata": {},
   "outputs": [],
   "source": [
    "import multiprocessing"
   ]
  },
  {
   "cell_type": "code",
   "execution_count": 21,
   "metadata": {},
   "outputs": [],
   "source": [
    "num_cores = 30"
   ]
  },
  {
   "cell_type": "code",
   "execution_count": 22,
   "metadata": {},
   "outputs": [],
   "source": [
    "def parallelize_dataframe(df_split, func):\n",
    "    #\n",
    "    pool = multiprocessing.Pool(num_cores)\n",
    "    df = pd.concat(pool.map(func, df_split))\n",
    "    pool.close()\n",
    "    pool.join()\n",
    "    return df\n",
    "\n"
   ]
  },
  {
   "cell_type": "code",
   "execution_count": 29,
   "metadata": {},
   "outputs": [],
   "source": [
    "def make_sess(data):\n",
    "    data_ = data.sort_values(by=['mid','serverTime']).copy()\n",
    "    time_diff = data_.groupby('mid')['serverTime'].diff()\n",
    "    data_w_tdiff = data_.merge(time_diff, left_index=True, right_index=True) # 'serverTime_y'가 생겼다\n",
    "    \n",
    "    #using data_w_tdiff -> make session\n",
    "    # *원래 time_diff 의 fillna는 0으로 해도 되었는데, 이제 이렇게 Timedelta형식으로 채워야한다.\n",
    "    data_w_tdiff.fillna( pd.Timedelta(seconds=0), inplace=True) # 유저의 시작점(time_diff의) 0으로 채워주자\n",
    "    \n",
    "    n=0\n",
    "    session = []\n",
    "    for diff in data_w_tdiff['serverTime_y']:\n",
    "        if diff == pd.to_timedelta('0'): \n",
    "            session.append(n)\n",
    "            n+=1\n",
    "        elif diff > pd.to_timedelta('01:00:00'):\n",
    "            session.append(n)\n",
    "            n+=1\n",
    "        else:\n",
    "            session.append(n-1)\n",
    "    data_w_tdiff['session'] = session\n",
    "    \n",
    "    return data_w_tdiff"
   ]
  },
  {
   "cell_type": "code",
   "execution_count": 27,
   "metadata": {},
   "outputs": [
    {
     "data": {
      "text/plain": [
       "30"
      ]
     },
     "execution_count": 27,
     "metadata": {},
     "output_type": "execute_result"
    }
   ],
   "source": [
    "len(data_split_l)"
   ]
  },
  {
   "cell_type": "code",
   "execution_count": 28,
   "metadata": {},
   "outputs": [
    {
     "name": "stdout",
     "output_type": "stream",
     "text": [
      "CPU times: user 24.4 s, sys: 53.2 s, total: 1min 17s\n",
      "Wall time: 7min 52s\n"
     ]
    }
   ],
   "source": [
    "%%time\n",
    "data_session_parallel = parallelize_dataframe( data_split_l, make_sess )"
   ]
  },
  {
   "cell_type": "code",
   "execution_count": 30,
   "metadata": {},
   "outputs": [
    {
     "data": {
      "text/plain": [
       "262455600"
      ]
     },
     "execution_count": 30,
     "metadata": {},
     "output_type": "execute_result"
    }
   ],
   "source": [
    "len(data_session_parallel)"
   ]
  },
  {
   "cell_type": "code",
   "execution_count": 32,
   "metadata": {},
   "outputs": [
    {
     "data": {
      "text/html": [
       "<div>\n",
       "<style scoped>\n",
       "    .dataframe tbody tr th:only-of-type {\n",
       "        vertical-align: middle;\n",
       "    }\n",
       "\n",
       "    .dataframe tbody tr th {\n",
       "        vertical-align: top;\n",
       "    }\n",
       "\n",
       "    .dataframe thead th {\n",
       "        text-align: right;\n",
       "    }\n",
       "</style>\n",
       "<table border=\"1\" class=\"dataframe\">\n",
       "  <thead>\n",
       "    <tr style=\"text-align: right;\">\n",
       "      <th></th>\n",
       "      <th>serverTime_x</th>\n",
       "      <th>mid</th>\n",
       "      <th>pid</th>\n",
       "      <th>serverTime_y</th>\n",
       "      <th>session</th>\n",
       "    </tr>\n",
       "  </thead>\n",
       "  <tbody>\n",
       "    <tr>\n",
       "      <th>10769473</th>\n",
       "      <td>2019-10-17 05:42:29.474</td>\n",
       "      <td>1000113</td>\n",
       "      <td>312701141</td>\n",
       "      <td>00:00:00</td>\n",
       "      <td>0</td>\n",
       "    </tr>\n",
       "    <tr>\n",
       "      <th>12845710</th>\n",
       "      <td>2019-10-17 14:49:18.287</td>\n",
       "      <td>1000157</td>\n",
       "      <td>221334540</td>\n",
       "      <td>00:00:00</td>\n",
       "      <td>1</td>\n",
       "    </tr>\n",
       "    <tr>\n",
       "      <th>12858922</th>\n",
       "      <td>2019-10-17 14:52:08.932</td>\n",
       "      <td>1000157</td>\n",
       "      <td>221334540</td>\n",
       "      <td>00:02:50.645000</td>\n",
       "      <td>1</td>\n",
       "    </tr>\n",
       "    <tr>\n",
       "      <th>12859869</th>\n",
       "      <td>2019-10-17 14:52:21.944</td>\n",
       "      <td>1000157</td>\n",
       "      <td>221334540</td>\n",
       "      <td>00:00:13.012000</td>\n",
       "      <td>1</td>\n",
       "    </tr>\n",
       "    <tr>\n",
       "      <th>12874522</th>\n",
       "      <td>2019-10-17 14:55:34.932</td>\n",
       "      <td>1000157</td>\n",
       "      <td>251146845</td>\n",
       "      <td>00:03:12.988000</td>\n",
       "      <td>1</td>\n",
       "    </tr>\n",
       "  </tbody>\n",
       "</table>\n",
       "</div>"
      ],
      "text/plain": [
       "                    serverTime_x      mid        pid    serverTime_y  session\n",
       "10769473 2019-10-17 05:42:29.474  1000113  312701141        00:00:00        0\n",
       "12845710 2019-10-17 14:49:18.287  1000157  221334540        00:00:00        1\n",
       "12858922 2019-10-17 14:52:08.932  1000157  221334540 00:02:50.645000        1\n",
       "12859869 2019-10-17 14:52:21.944  1000157  221334540 00:00:13.012000        1\n",
       "12874522 2019-10-17 14:55:34.932  1000157  251146845 00:03:12.988000        1"
      ]
     },
     "execution_count": 32,
     "metadata": {},
     "output_type": "execute_result"
    }
   ],
   "source": [
    "data_session_parallel.head()"
   ]
  },
  {
   "cell_type": "code",
   "execution_count": null,
   "metadata": {
    "scrolled": true
   },
   "outputs": [],
   "source": [
    "session_list = [sess[1].drop_duplicates().tolist() for sess in data_session_parallel.groupby(['mid', 'session'])['pid']]"
   ]
  },
  {
   "cell_type": "code",
   "execution_count": null,
   "metadata": {},
   "outputs": [],
   "source": [
    "#### session 저장\n",
    "with open('session_lisit', 'wb') as f:\n",
    "    pickle.dump(tmp_sess, f) "
   ]
  },
  {
   "cell_type": "markdown",
   "metadata": {},
   "source": [
    "---"
   ]
  },
  {
   "cell_type": "code",
   "execution_count": 2,
   "metadata": {},
   "outputs": [],
   "source": [
    "# pkl 로드하여 사용할때\n",
    "#with open('tmp_sess_1206', 'rb') as f:\n",
    "#    tmp_sess = pickle.load(f)"
   ]
  },
  {
   "cell_type": "code",
   "execution_count": 4,
   "metadata": {},
   "outputs": [
    {
     "data": {
      "text/plain": [
       "60746812"
      ]
     },
     "execution_count": 4,
     "metadata": {},
     "output_type": "execute_result"
    }
   ],
   "source": [
    "tmp_sess = session_list\n",
    "len(tmp_sess)"
   ]
  },
  {
   "cell_type": "code",
   "execution_count": 5,
   "metadata": {},
   "outputs": [],
   "source": [
    "graph_list = []\n",
    "for k in range(len(tmp_sess)):\n",
    "    for i in range(len(tmp_sess[k])-1):\n",
    "        graph_list.append( (tmp_sess[k][i], tmp_sess[k][i+1]) )"
   ]
  },
  {
   "cell_type": "code",
   "execution_count": 6,
   "metadata": {},
   "outputs": [
    {
     "data": {
      "text/plain": [
       "151916990"
      ]
     },
     "execution_count": 6,
     "metadata": {},
     "output_type": "execute_result"
    }
   ],
   "source": [
    "len(graph_list) # 6주 - 1억5천개의 edge"
   ]
  },
  {
   "cell_type": "code",
   "execution_count": null,
   "metadata": {},
   "outputs": [],
   "source": [
    "i"
   ]
  },
  {
   "cell_type": "code",
   "execution_count": 9,
   "metadata": {},
   "outputs": [],
   "source": [
    "# 그래프 이렇게 다시 만들어야해!\n",
    "graph_list = [(x, y, {'weight': v}) for (x, y), v in Counter(graph_list).items()]"
   ]
  },
  {
   "cell_type": "code",
   "execution_count": 10,
   "metadata": {},
   "outputs": [
    {
     "data": {
      "text/plain": [
       "68497234"
      ]
     },
     "execution_count": 10,
     "metadata": {},
     "output_type": "execute_result"
    }
   ],
   "source": [
    "len(graph_list) # edge유형이 6천 800만이네..! 좀 많네"
   ]
  },
  {
   "cell_type": "code",
   "execution_count": 11,
   "metadata": {},
   "outputs": [],
   "source": [
    "with open('graph_list_1206', 'wb') as f:\n",
    "    pickle.dump(graph_list, f)"
   ]
  },
  {
   "cell_type": "markdown",
   "metadata": {},
   "source": [
    "# 여기까지 작업\n",
    "---\n",
    "---\n",
    "---"
   ]
  }
 ],
 "metadata": {
  "kernelspec": {
   "display_name": "Python 3",
   "language": "python",
   "name": "python3"
  },
  "language_info": {
   "codemirror_mode": {
    "name": "ipython",
    "version": 3
   },
   "file_extension": ".py",
   "mimetype": "text/x-python",
   "name": "python",
   "nbconvert_exporter": "python",
   "pygments_lexer": "ipython3",
   "version": "3.7.6"
  }
 },
 "nbformat": 4,
 "nbformat_minor": 4
}
