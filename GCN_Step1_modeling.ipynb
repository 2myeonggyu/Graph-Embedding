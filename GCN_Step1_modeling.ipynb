{
 "cells": [
  {
   "cell_type": "markdown",
   "metadata": {
    "colab_type": "text",
    "id": "-lhGxGEwQMO2"
   },
   "source": [
    "# Graph Convolution Network 요약\n",
    "\n",
    "- 상품 체계 정보를 label로 이용\n",
    "- 배송2.0 으로만 진행\n",
    "- (***) 중요한 step이 추가되었다 : 그래프 생성시 interaction이 없는 node들을 자기 자신과의 interaction으로 선언해주었다\n",
    "- 2가지 ver이 존재(여기선 일반적인 경우로 진행)\n",
    "> - 상품들의 graph-edge간 다른 카테고리와의 작용에는 weight를 조절하는 장치의 유무"
   ]
  },
  {
   "cell_type": "code",
   "execution_count": 1,
   "metadata": {
    "colab": {},
    "colab_type": "code",
    "id": "Tel1E5nD-MBi"
   },
   "outputs": [],
   "source": [
    "import pandas as pd\n",
    "import numpy as np\n",
    "import seaborn as sns\n",
    "import matplotlib.pyplot as plt\n",
    "\n",
    "import glob\n",
    "import os\n",
    "import pickle\n",
    "\n",
    "%matplotlib inline"
   ]
  },
  {
   "cell_type": "code",
   "execution_count": 2,
   "metadata": {
    "colab": {},
    "colab_type": "code",
    "id": "cv_8-WMTqKDd"
   },
   "outputs": [],
   "source": [
    "from sklearn import cluster, metrics"
   ]
  },
  {
   "cell_type": "code",
   "execution_count": 5,
   "metadata": {},
   "outputs": [],
   "source": [
    "import pandas as pd\n",
    "import glob\n",
    "import os"
   ]
  },
  {
   "cell_type": "code",
   "execution_count": 3,
   "metadata": {
    "colab": {},
    "colab_type": "code",
    "id": "8EVsU4VSYJj0"
   },
   "outputs": [],
   "source": [
    "import networkx as nx\n",
    "from collections import Counter"
   ]
  },
  {
   "cell_type": "code",
   "execution_count": 4,
   "metadata": {
    "colab": {
     "base_uri": "https://localhost:8080/",
     "height": 34
    },
    "colab_type": "code",
    "executionInfo": {
     "elapsed": 629,
     "status": "ok",
     "timestamp": 1575592591441,
     "user": {
      "displayName": "이명규",
      "photoUrl": "",
      "userId": "00414544825750465133"
     },
     "user_tz": -540
    },
    "id": "--gNcStsQMPA",
    "outputId": "1741a3db-96c5-4de9-f9ea-f79dee6ffc0c",
    "scrolled": true
   },
   "outputs": [
    {
     "data": {
      "text/plain": [
       "'/home/wmind2/myeonggyulee/SNU_project'"
      ]
     },
     "execution_count": 4,
     "metadata": {},
     "output_type": "execute_result"
    }
   ],
   "source": [
    "pwd"
   ]
  },
  {
   "cell_type": "markdown",
   "metadata": {
    "colab_type": "text",
    "id": "twfoKMz3QMPF"
   },
   "source": [
    "---"
   ]
  },
  {
   "cell_type": "markdown",
   "metadata": {},
   "source": [
    "### # 상품 체계( 상품 + 카테고리 정보) \n",
    "- 저장한거 불러온다! (prod_info.csv)"
   ]
  },
  {
   "cell_type": "code",
   "execution_count": 5,
   "metadata": {
    "scrolled": true
   },
   "outputs": [
    {
     "name": "stderr",
     "output_type": "stream",
     "text": [
      "/home/wmind/anaconda3/lib/python3.7/site-packages/numpy/lib/arraysetops.py:568: FutureWarning: elementwise comparison failed; returning scalar instead, but in the future will perform elementwise comparison\n",
      "  mask |= (ar1 == a)\n"
     ]
    }
   ],
   "source": [
    "prod_cate = pd.read_csv('result_data/prod_info.csv', index_col = 0)"
   ]
  },
  {
   "cell_type": "code",
   "execution_count": 6,
   "metadata": {},
   "outputs": [
    {
     "data": {
      "text/html": [
       "<div>\n",
       "<style scoped>\n",
       "    .dataframe tbody tr th:only-of-type {\n",
       "        vertical-align: middle;\n",
       "    }\n",
       "\n",
       "    .dataframe tbody tr th {\n",
       "        vertical-align: top;\n",
       "    }\n",
       "\n",
       "    .dataframe thead th {\n",
       "        text-align: right;\n",
       "    }\n",
       "</style>\n",
       "<table border=\"1\" class=\"dataframe\">\n",
       "  <thead>\n",
       "    <tr style=\"text-align: right;\">\n",
       "      <th></th>\n",
       "      <th>pid</th>\n",
       "      <th>dcate_cd</th>\n",
       "      <th>scate_cd</th>\n",
       "      <th>mcate_cd</th>\n",
       "      <th>lcate_cd</th>\n",
       "      <th>dcate_nm</th>\n",
       "      <th>scate_nm</th>\n",
       "      <th>mcate_nm</th>\n",
       "      <th>lcate_nm</th>\n",
       "    </tr>\n",
       "  </thead>\n",
       "  <tbody>\n",
       "    <tr>\n",
       "      <th>0</th>\n",
       "      <td>194782399</td>\n",
       "      <td>4103733.0</td>\n",
       "      <td>3100659.0</td>\n",
       "      <td>2100110.0</td>\n",
       "      <td>1100019.0</td>\n",
       "      <td>반상기/식기 홈세트</td>\n",
       "      <td>식기</td>\n",
       "      <td>테이블웨어/식기</td>\n",
       "      <td>주방용품</td>\n",
       "    </tr>\n",
       "    <tr>\n",
       "      <th>1</th>\n",
       "      <td>228663807</td>\n",
       "      <td>4102667.0</td>\n",
       "      <td>3100485.0</td>\n",
       "      <td>2100083.0</td>\n",
       "      <td>1100014.0</td>\n",
       "      <td>이외김치</td>\n",
       "      <td>김치</td>\n",
       "      <td>김치/반찬</td>\n",
       "      <td>신선식품</td>\n",
       "    </tr>\n",
       "    <tr>\n",
       "      <th>2</th>\n",
       "      <td>320111031</td>\n",
       "      <td>4102071.0</td>\n",
       "      <td>3100386.0</td>\n",
       "      <td>2100064.0</td>\n",
       "      <td>1100011.0</td>\n",
       "      <td>무지/민무늬 셔츠</td>\n",
       "      <td>기본/무지 셔츠</td>\n",
       "      <td>블라우스/셔츠</td>\n",
       "      <td>브랜드 여성의류</td>\n",
       "    </tr>\n",
       "    <tr>\n",
       "      <th>3</th>\n",
       "      <td>162068532</td>\n",
       "      <td>4100445.0</td>\n",
       "      <td>3100082.0</td>\n",
       "      <td>2100490.0</td>\n",
       "      <td>1100091.0</td>\n",
       "      <td>싱글(소형)-1인용</td>\n",
       "      <td>전기장판</td>\n",
       "      <td>전기매트/요</td>\n",
       "      <td>계절가전</td>\n",
       "    </tr>\n",
       "    <tr>\n",
       "      <th>4</th>\n",
       "      <td>189956810</td>\n",
       "      <td>4104596.0</td>\n",
       "      <td>3100350.0</td>\n",
       "      <td>2100148.0</td>\n",
       "      <td>1100046.0</td>\n",
       "      <td>장지갑</td>\n",
       "      <td>남성 지갑</td>\n",
       "      <td>지갑/벨트</td>\n",
       "      <td>가방/잡화</td>\n",
       "    </tr>\n",
       "  </tbody>\n",
       "</table>\n",
       "</div>"
      ],
      "text/plain": [
       "         pid   dcate_cd   scate_cd   mcate_cd   lcate_cd    dcate_nm  \\\n",
       "0  194782399  4103733.0  3100659.0  2100110.0  1100019.0  반상기/식기 홈세트   \n",
       "1  228663807  4102667.0  3100485.0  2100083.0  1100014.0        이외김치   \n",
       "2  320111031  4102071.0  3100386.0  2100064.0  1100011.0   무지/민무늬 셔츠   \n",
       "3  162068532  4100445.0  3100082.0  2100490.0  1100091.0  싱글(소형)-1인용   \n",
       "4  189956810  4104596.0  3100350.0  2100148.0  1100046.0         장지갑   \n",
       "\n",
       "   scate_nm  mcate_nm  lcate_nm  \n",
       "0        식기  테이블웨어/식기      주방용품  \n",
       "1        김치     김치/반찬      신선식품  \n",
       "2  기본/무지 셔츠   블라우스/셔츠  브랜드 여성의류  \n",
       "3      전기장판    전기매트/요      계절가전  \n",
       "4     남성 지갑     지갑/벨트     가방/잡화  "
      ]
     },
     "execution_count": 6,
     "metadata": {},
     "output_type": "execute_result"
    }
   ],
   "source": [
    "prod_cate.head()"
   ]
  },
  {
   "cell_type": "code",
   "execution_count": 7,
   "metadata": {},
   "outputs": [
    {
     "data": {
      "text/plain": [
       "pid         5591911\n",
       "dcate_cd       6929\n",
       "scate_cd       1947\n",
       "mcate_cd        451\n",
       "lcate_cd         78\n",
       "dcate_nm       5119\n",
       "scate_nm       1494\n",
       "mcate_nm        367\n",
       "lcate_nm         78\n",
       "dtype: int64"
      ]
     },
     "execution_count": 7,
     "metadata": {},
     "output_type": "execute_result"
    }
   ],
   "source": [
    "prod_cate.nunique()"
   ]
  },
  {
   "cell_type": "code",
   "execution_count": 8,
   "metadata": {},
   "outputs": [
    {
     "data": {
      "text/plain": [
       "(5591911, 9)"
      ]
     },
     "execution_count": 8,
     "metadata": {},
     "output_type": "execute_result"
    }
   ],
   "source": [
    "prod_cate.shape"
   ]
  },
  {
   "cell_type": "code",
   "execution_count": 9,
   "metadata": {},
   "outputs": [
    {
     "name": "stdout",
     "output_type": "stream",
     "text": [
      "<class 'pandas.core.frame.DataFrame'>\n",
      "Int64Index: 5591911 entries, 0 to 5591915\n",
      "Data columns (total 9 columns):\n",
      "pid         int64\n",
      "dcate_cd    float64\n",
      "scate_cd    float64\n",
      "mcate_cd    float64\n",
      "lcate_cd    float64\n",
      "dcate_nm    object\n",
      "scate_nm    object\n",
      "mcate_nm    object\n",
      "lcate_nm    object\n",
      "dtypes: float64(4), int64(1), object(4)\n",
      "memory usage: 426.6+ MB\n"
     ]
    }
   ],
   "source": [
    "prod_cate.info()"
   ]
  },
  {
   "cell_type": "markdown",
   "metadata": {},
   "source": [
    "---\n",
    "---"
   ]
  },
  {
   "cell_type": "markdown",
   "metadata": {
    "colab_type": "text",
    "id": "IMQ3MzghvxMz"
   },
   "source": [
    "## # 세션 데이터 load & Graph 생성\n",
    "- (클릭 데이터의! - 구매 상품과의 손실율을 확인해야한다! )prod_info : 상품 + 카테고리정보\n",
    "- tmp_sess_1206 : 11월 26일부터 이전 6주의 멤버별 클릭 session 데이터\n",
    "- dlv_cat : 상품 카테고리 정보\n"
   ]
  },
  {
   "cell_type": "code",
   "execution_count": null,
   "metadata": {},
   "outputs": [],
   "source": [
    "# 만들어진 세션 불러오기\n",
    "with open('result_data/tmp_sess_1206', 'rb') as f:\n",
    "    tmp_sess = pickle.load(f)"
   ]
  },
  {
   "cell_type": "code",
   "execution_count": 19,
   "metadata": {
    "colab": {
     "base_uri": "https://localhost:8080/",
     "height": 34
    },
    "colab_type": "code",
    "executionInfo": {
     "elapsed": 1459,
     "status": "ok",
     "timestamp": 1575608583576,
     "user": {
      "displayName": "이명규",
      "photoUrl": "",
      "userId": "00414544825750465133"
     },
     "user_tz": -540
    },
    "id": "zOYn9jnUlhGH",
    "jupyter": {
     "outputs_hidden": true
    },
    "outputId": "ffe1fd23-ff71-4d42-a6a3-27a2c0994966"
   },
   "outputs": [
    {
     "data": {
      "text/plain": [
       "60746812"
      ]
     },
     "execution_count": 19,
     "metadata": {},
     "output_type": "execute_result"
    }
   ],
   "source": [
    "len(tmp_sess) # 6주치"
   ]
  },
  {
   "cell_type": "code",
   "execution_count": null,
   "metadata": {
    "colab": {
     "base_uri": "https://localhost:8080/",
     "height": 34
    },
    "colab_type": "code",
    "executionInfo": {
     "elapsed": 670,
     "status": "ok",
     "timestamp": 1575344063301,
     "user": {
      "displayName": "이명규",
      "photoUrl": "",
      "userId": "00414544825750465133"
     },
     "user_tz": -540
    },
    "id": "pQGMllnoQMQq",
    "jupyter": {
     "outputs_hidden": true
    },
    "outputId": "e82fdc8f-1fd1-4e4e-da14-8c398ecb7c97",
    "scrolled": true
   },
   "outputs": [
    {
     "data": {
      "text/plain": [
       "4613890"
      ]
     },
     "execution_count": 35,
     "metadata": {
      "tags": []
     },
     "output_type": "execute_result"
    }
   ],
   "source": [
    "len(tmp_sess) # 4일"
   ]
  },
  {
   "cell_type": "code",
   "execution_count": null,
   "metadata": {
    "colab": {},
    "colab_type": "code",
    "id": "BI6XLrXsQMQr"
   },
   "outputs": [],
   "source": [
    "graph_list = []\n",
    "for k in range(len(tmp_sess)):\n",
    "    for i in range(len(tmp_sess[k])-1):\n",
    "        graph_list.append( (tmp_sess[k][i], tmp_sess[k][i+1]) )"
   ]
  },
  {
   "cell_type": "code",
   "execution_count": 58,
   "metadata": {
    "colab": {
     "base_uri": "https://localhost:8080/",
     "height": 34
    },
    "colab_type": "code",
    "executionInfo": {
     "elapsed": 950,
     "status": "ok",
     "timestamp": 1575608707818,
     "user": {
      "displayName": "이명규",
      "photoUrl": "",
      "userId": "00414544825750465133"
     },
     "user_tz": -540
    },
    "id": "ijZex284mNR-",
    "outputId": "c226bf58-aee7-4b10-d570-2c14a5fd3a13"
   },
   "outputs": [
    {
     "data": {
      "text/plain": [
       "151916990"
      ]
     },
     "execution_count": 58,
     "metadata": {
      "tags": []
     },
     "output_type": "execute_result"
    }
   ],
   "source": [
    "len(graph_list) # 6주"
   ]
  },
  {
   "cell_type": "code",
   "execution_count": null,
   "metadata": {
    "colab": {
     "base_uri": "https://localhost:8080/",
     "height": 34
    },
    "colab_type": "code",
    "executionInfo": {
     "elapsed": 670,
     "status": "ok",
     "timestamp": 1575344090701,
     "user": {
      "displayName": "이명규",
      "photoUrl": "",
      "userId": "00414544825750465133"
     },
     "user_tz": -540
    },
    "id": "wbHaG536QMQs",
    "outputId": "3e417ab3-39dd-47b3-9641-136f9b3f0c73"
   },
   "outputs": [
    {
     "data": {
      "text/plain": [
       "6635558"
      ]
     },
     "execution_count": 38,
     "metadata": {
      "tags": []
     },
     "output_type": "execute_result"
    }
   ],
   "source": [
    "len(graph_list)"
   ]
  },
  {
   "cell_type": "markdown",
   "metadata": {
    "colab_type": "text",
    "id": "nPhXZLsQRLxS"
   },
   "source": [
    "\n",
    "\n",
    "---\n",
    "\n",
    "\n",
    "\n"
   ]
  },
  {
   "cell_type": "markdown",
   "metadata": {},
   "source": [
    "### - weight 카운트 & 그래프 생성\n",
    "- (***) 중요한 step이 추가되었다 : 그래프 생성시 interaction이 없는 node들을 자기자신과의 interaction으로 선언해주었다"
   ]
  },
  {
   "cell_type": "code",
   "execution_count": 83,
   "metadata": {},
   "outputs": [
    {
     "name": "stdout",
     "output_type": "stream",
     "text": [
      "[1, 2, 3]\n"
     ]
    }
   ],
   "source": [
    "\"\"\"\n",
    "이런식으로 가자\n",
    "x = [1,1,2,3]\n",
    "myset = set(x)\n",
    "list(myset)\n",
    "\"\"\"\n",
    "x = [1,1,2,3]\n",
    "print( list(set(x)) )"
   ]
  },
  {
   "cell_type": "code",
   "execution_count": 11,
   "metadata": {
    "colab": {},
    "colab_type": "code",
    "id": "Lag7cvwu8aor"
   },
   "outputs": [],
   "source": [
    "# 만들어진 그래프 불러오기\n",
    "with open('result_data/graph_list_1206', 'rb') as f:\n",
    "    graph_list = pickle.load(f)"
   ]
  },
  {
   "cell_type": "code",
   "execution_count": 12,
   "metadata": {},
   "outputs": [
    {
     "data": {
      "text/plain": [
       "68497234"
      ]
     },
     "execution_count": 12,
     "metadata": {},
     "output_type": "execute_result"
    }
   ],
   "source": [
    "len(graph_list)"
   ]
  },
  {
   "cell_type": "code",
   "execution_count": 13,
   "metadata": {},
   "outputs": [
    {
     "data": {
      "text/plain": [
       "[(602610157, 600515938, {'weight': 1}),\n",
       " (600515938, 600185944, {'weight': 6}),\n",
       " (600185944, 601529111, {'weight': 1}),\n",
       " (601529111, 600016493, {'weight': 1}),\n",
       " (600016493, 601333401, {'weight': 1})]"
      ]
     },
     "execution_count": 13,
     "metadata": {},
     "output_type": "execute_result"
    }
   ],
   "source": [
    "graph_list[:5]"
   ]
  },
  {
   "cell_type": "markdown",
   "metadata": {},
   "source": [
    "---"
   ]
  },
  {
   "cell_type": "markdown",
   "metadata": {},
   "source": [
    "- 연습"
   ]
  },
  {
   "cell_type": "code",
   "execution_count": 58,
   "metadata": {},
   "outputs": [],
   "source": [
    "x = graph_list[:5].copy()"
   ]
  },
  {
   "cell_type": "code",
   "execution_count": 60,
   "metadata": {},
   "outputs": [],
   "source": [
    "tmp_list = []\n",
    "tmp_new = [tmp_list.extend(list(item[:2])) for item in x]"
   ]
  },
  {
   "cell_type": "code",
   "execution_count": 61,
   "metadata": {},
   "outputs": [
    {
     "data": {
      "text/plain": [
       "[602610157,\n",
       " 600515938,\n",
       " 600515938,\n",
       " 600185944,\n",
       " 600185944,\n",
       " 601529111,\n",
       " 601529111,\n",
       " 600016493,\n",
       " 600016493,\n",
       " 601333401]"
      ]
     },
     "execution_count": 61,
     "metadata": {},
     "output_type": "execute_result"
    }
   ],
   "source": [
    "tmp_list"
   ]
  },
  {
   "cell_type": "code",
   "execution_count": 62,
   "metadata": {},
   "outputs": [
    {
     "data": {
      "text/plain": [
       "[None, None, None, None, None]"
      ]
     },
     "execution_count": 62,
     "metadata": {},
     "output_type": "execute_result"
    }
   ],
   "source": [
    "tmp_new # 이렇게되겠지!? - 이해 잘 하기!"
   ]
  },
  {
   "cell_type": "markdown",
   "metadata": {},
   "source": [
    "---"
   ]
  },
  {
   "cell_type": "markdown",
   "metadata": {},
   "source": [
    "### 방법2로 가자!"
   ]
  },
  {
   "cell_type": "markdown",
   "metadata": {},
   "source": [
    "##### 방법 1"
   ]
  },
  {
   "cell_type": "code",
   "execution_count": 63,
   "metadata": {},
   "outputs": [
    {
     "name": "stdout",
     "output_type": "stream",
     "text": [
      "CPU times: user 19.1 s, sys: 843 ms, total: 19.9 s\n",
      "Wall time: 19.9 s\n"
     ]
    }
   ],
   "source": [
    "%%time\n",
    "## idea : graph_list에 들어가있는 vertex들은 node로서 선언될 수 있어 - 이 애들을 모아서 set을 만들고(distinct하게 추려주기위해), 없는 애들을 골라낼 수 있도록 작업하자!\n",
    "tmp_list = []\n",
    "tmp_new = [tmp_list.extend(list(item[:2])) for item in graph_list] # 실제로 tmp_new에 할당된 애들은 없을거야!"
   ]
  },
  {
   "cell_type": "code",
   "execution_count": 80,
   "metadata": {},
   "outputs": [
    {
     "data": {
      "text/plain": [
       "136994468"
      ]
     },
     "execution_count": 80,
     "metadata": {},
     "output_type": "execute_result"
    }
   ],
   "source": [
    "len(tmp_list)"
   ]
  },
  {
   "cell_type": "markdown",
   "metadata": {},
   "source": [
    "##### 방법 2"
   ]
  },
  {
   "cell_type": "code",
   "execution_count": 76,
   "metadata": {},
   "outputs": [
    {
     "name": "stdout",
     "output_type": "stream",
     "text": [
      "[602610157, 600515938]\n",
      "[600515938, 600185944]\n",
      "[600185944, 601529111]\n",
      "[601529111, 600016493]\n",
      "[600016493, 601333401]\n",
      "CPU times: user 547 µs, sys: 0 ns, total: 547 µs\n",
      "Wall time: 375 µs\n"
     ]
    }
   ],
   "source": [
    "%%time\n",
    "## idea : graph_list에 들어가있는 vertex들은 node로서 선언될 수 있어 - 이 애들을 모아서 set을 만들고(distinct하게 추려주기위해), 없는 애들을 골라낼 수 있도록 작업하자!\n",
    "tmp_list_v2 = []\n",
    "for _, edge in enumerate(graph_list[:5]):\n",
    "    print(list(edge[:2]))\n",
    "    #print(edge[0], edge[1], edge[2]['weight'])"
   ]
  },
  {
   "cell_type": "code",
   "execution_count": 15,
   "metadata": {},
   "outputs": [
    {
     "name": "stdout",
     "output_type": "stream",
     "text": [
      "CPU times: user 26.2 s, sys: 1.17 s, total: 27.4 s\n",
      "Wall time: 27.4 s\n"
     ]
    }
   ],
   "source": [
    "%%time\n",
    "## idea : graph_list에 들어가있는 vertex들은 node로서 선언될 수 있어 - 이 애들을 모아서 set을 만들고(distinct하게 추려주기위해), 없는 애들을 골라낼 수 있도록 작업하자!\n",
    "tmp_list_v2 = []\n",
    "for _, edge in enumerate(graph_list):\n",
    "    #print(list(edge[:2]))\n",
    "    tmp_list_v2.extend( list(edge[:2]) )"
   ]
  },
  {
   "cell_type": "code",
   "execution_count": 79,
   "metadata": {},
   "outputs": [
    {
     "data": {
      "text/plain": [
       "136994468"
      ]
     },
     "execution_count": 79,
     "metadata": {},
     "output_type": "execute_result"
    }
   ],
   "source": [
    "len(tmp_list_v2)"
   ]
  },
  {
   "cell_type": "markdown",
   "metadata": {},
   "source": [
    "---"
   ]
  },
  {
   "cell_type": "markdown",
   "metadata": {},
   "source": [
    "### # not_used_nodes 선언\n",
    "- used_graph_nodes이용"
   ]
  },
  {
   "cell_type": "code",
   "execution_count": 16,
   "metadata": {},
   "outputs": [],
   "source": [
    "### 방법 2로 가자(안전하게)\n",
    "used_graph_nodes = tmp_list_v2\n",
    "used_graph_nodes = list( set(used_graph_nodes) )"
   ]
  },
  {
   "cell_type": "code",
   "execution_count": 17,
   "metadata": {},
   "outputs": [
    {
     "data": {
      "text/plain": [
       "5148349"
      ]
     },
     "execution_count": 17,
     "metadata": {},
     "output_type": "execute_result"
    }
   ],
   "source": [
    "len( used_graph_nodes ) # len(G.nodes) = 5148349와 맞다"
   ]
  },
  {
   "cell_type": "code",
   "execution_count": 90,
   "metadata": {},
   "outputs": [],
   "source": [
    "x = [(1,2,{'weight':1})]"
   ]
  },
  {
   "cell_type": "code",
   "execution_count": 91,
   "metadata": {},
   "outputs": [
    {
     "data": {
      "text/plain": [
       "[(1, 2, {'weight': 1})]"
      ]
     },
     "execution_count": 91,
     "metadata": {},
     "output_type": "execute_result"
    }
   ],
   "source": [
    "x"
   ]
  },
  {
   "cell_type": "code",
   "execution_count": 92,
   "metadata": {},
   "outputs": [],
   "source": [
    "x.append((1,3,{'weight':1}))"
   ]
  },
  {
   "cell_type": "code",
   "execution_count": 93,
   "metadata": {},
   "outputs": [
    {
     "data": {
      "text/plain": [
       "[(1, 2, {'weight': 1}), (1, 3, {'weight': 1})]"
      ]
     },
     "execution_count": 93,
     "metadata": {},
     "output_type": "execute_result"
    }
   ],
   "source": [
    "x"
   ]
  },
  {
   "cell_type": "code",
   "execution_count": 96,
   "metadata": {},
   "outputs": [
    {
     "data": {
      "text/plain": [
       "[(602610157, 600515938, {'weight': 1}),\n",
       " (600515938, 600185944, {'weight': 6}),\n",
       " (600185944, 601529111, {'weight': 1}),\n",
       " (601529111, 600016493, {'weight': 1}),\n",
       " (600016493, 601333401, {'weight': 1})]"
      ]
     },
     "execution_count": 96,
     "metadata": {},
     "output_type": "execute_result"
    }
   ],
   "source": [
    "graph_list[:5]"
   ]
  },
  {
   "cell_type": "code",
   "execution_count": 18,
   "metadata": {},
   "outputs": [],
   "source": [
    "# not_used_nodes 선언\n",
    "\n",
    "not_used_nodes = prod_cate[~prod_cate.pid.isin(used_graph_nodes)].pid.unique().tolist()"
   ]
  },
  {
   "cell_type": "code",
   "execution_count": 19,
   "metadata": {},
   "outputs": [
    {
     "data": {
      "text/plain": [
       "443562"
      ]
     },
     "execution_count": 19,
     "metadata": {},
     "output_type": "execute_result"
    }
   ],
   "source": [
    "len(not_used_nodes)"
   ]
  },
  {
   "cell_type": "code",
   "execution_count": 20,
   "metadata": {},
   "outputs": [
    {
     "data": {
      "text/plain": [
       "[161585551, 283309162, 273754259, 317813144, 301904877]"
      ]
     },
     "execution_count": 20,
     "metadata": {},
     "output_type": "execute_result"
    }
   ],
   "source": [
    "not_used_nodes[:5]"
   ]
  },
  {
   "cell_type": "code",
   "execution_count": 21,
   "metadata": {},
   "outputs": [
    {
     "name": "stdout",
     "output_type": "stream",
     "text": [
      "CPU times: user 25.2 s, sys: 1.49 s, total: 26.7 s\n",
      "Wall time: 7.52 s\n"
     ]
    }
   ],
   "source": [
    "%%time\n",
    "# not_used_nodes 를 선언해서, 기존의 graph_list에 추가시킨다!\n",
    "not_used_nodes = prod_cate[~prod_cate.pid.isin(used_graph_nodes)].pid.unique().tolist()\n",
    "\n",
    "for node in not_used_nodes:\n",
    "    graph_list.append( (node, node, {'weight':1}) )"
   ]
  },
  {
   "cell_type": "code",
   "execution_count": 22,
   "metadata": {},
   "outputs": [
    {
     "data": {
      "text/plain": [
       "68940796"
      ]
     },
     "execution_count": 22,
     "metadata": {},
     "output_type": "execute_result"
    }
   ],
   "source": [
    "len(graph_list) # 기존 68497234"
   ]
  },
  {
   "cell_type": "code",
   "execution_count": 23,
   "metadata": {
    "scrolled": true
   },
   "outputs": [
    {
     "data": {
      "text/plain": [
       "[(146583113, 146583113, {'weight': 1}),\n",
       " (319525783, 319525783, {'weight': 1}),\n",
       " (125568429, 125568429, {'weight': 1}),\n",
       " (102097148, 102097148, {'weight': 1}),\n",
       " (100156718, 100156718, {'weight': 1})]"
      ]
     },
     "execution_count": 23,
     "metadata": {},
     "output_type": "execute_result"
    }
   ],
   "source": [
    "graph_list[-5:] # 이렇게 잘 추가!?"
   ]
  },
  {
   "cell_type": "markdown",
   "metadata": {},
   "source": [
    "----\n",
    "---"
   ]
  },
  {
   "cell_type": "markdown",
   "metadata": {},
   "source": [
    "# 정의한 graph 사용!"
   ]
  },
  {
   "cell_type": "markdown",
   "metadata": {},
   "source": [
    "#### networkx 너무 많은 메모리 사용하는 문제 : https://stackoverflow.com/questions/35437439/why-is-networkx-consuming-all-my-memory"
   ]
  },
  {
   "cell_type": "code",
   "execution_count": 24,
   "metadata": {
    "colab": {},
    "colab_type": "code",
    "id": "lD-6cNqmI9VB"
   },
   "outputs": [
    {
     "name": "stdout",
     "output_type": "stream",
     "text": [
      "CPU times: user 14min 30s, sys: 1min 59s, total: 16min 29s\n",
      "Wall time: 16min 29s\n"
     ]
    }
   ],
   "source": [
    "%%time\n",
    "### Undirected\n",
    "G = nx.DiGraph(graph_list)\n",
    "G = G.to_undirected( ) # reciprocal : 양방향에 다 존재한경우만 edge로 표현(default는 False)"
   ]
  },
  {
   "cell_type": "code",
   "execution_count": 25,
   "metadata": {},
   "outputs": [
    {
     "data": {
      "text/plain": [
       "{'weight': 1}"
      ]
     },
     "execution_count": 25,
     "metadata": {},
     "output_type": "execute_result"
    }
   ],
   "source": [
    "# not_used_nodes : (146583113, 146583113, {'weight': 1}) 확인해보자\n",
    "G.get_edge_data(146583113,146583113,default=0)"
   ]
  },
  {
   "cell_type": "markdown",
   "metadata": {},
   "source": [
    "---"
   ]
  },
  {
   "cell_type": "markdown",
   "metadata": {},
   "source": [
    "#### 그래프 저장 / 불러오기"
   ]
  },
  {
   "cell_type": "code",
   "execution_count": 26,
   "metadata": {},
   "outputs": [],
   "source": [
    "# 저장\n",
    "nx.write_gpickle(G, \"result_data/graph_1209.gpickle\")"
   ]
  },
  {
   "cell_type": "code",
   "execution_count": 10,
   "metadata": {},
   "outputs": [],
   "source": [
    "# 불러오기\n",
    "G = nx.read_gpickle(\"result_data/graph_1209.gpickle\")"
   ]
  },
  {
   "cell_type": "code",
   "execution_count": 11,
   "metadata": {},
   "outputs": [
    {
     "data": {
      "text/plain": [
       "5591911"
      ]
     },
     "execution_count": 11,
     "metadata": {},
     "output_type": "execute_result"
    }
   ],
   "source": [
    "len(G.nodes) # (graph 수정하고서)559만개의 상품 다 존재하는지 확인!"
   ]
  },
  {
   "cell_type": "code",
   "execution_count": 25,
   "metadata": {},
   "outputs": [
    {
     "data": {
      "text/plain": [
       "5148349"
      ]
     },
     "execution_count": 25,
     "metadata": {},
     "output_type": "execute_result"
    }
   ],
   "source": [
    "len(G.nodes) #(graph 수정 전)"
   ]
  },
  {
   "cell_type": "code",
   "execution_count": 1,
   "metadata": {},
   "outputs": [
    {
     "data": {
      "text/plain": [
       "443562"
      ]
     },
     "execution_count": 1,
     "metadata": {},
     "output_type": "execute_result"
    }
   ],
   "source": [
    "5591911 - 5148349"
   ]
  },
  {
   "cell_type": "code",
   "execution_count": null,
   "metadata": {
    "colab": {
     "base_uri": "https://localhost:8080/",
     "height": 34
    },
    "colab_type": "code",
    "executionInfo": {
     "elapsed": 745,
     "status": "ok",
     "timestamp": 1575334907833,
     "user": {
      "displayName": "이명규",
      "photoUrl": "",
      "userId": "00414544825750465133"
     },
     "user_tz": -540
    },
    "id": "0wRqJ8xZRo0A",
    "outputId": "2ae292d6-eea4-4b99-8447-bb16fbaa79b3"
   },
   "outputs": [
    {
     "data": {
      "text/plain": [
       "1106646"
      ]
     },
     "execution_count": 59,
     "metadata": {
      "tags": []
     },
     "output_type": "execute_result"
    }
   ],
   "source": [
    "len(G.nodes) # (4일동안의 규모)"
   ]
  },
  {
   "cell_type": "markdown",
   "metadata": {
    "colab_type": "text",
    "id": "EvZ9zT2Jtya2"
   },
   "source": [
    "\n",
    "\n",
    "---\n",
    "\n",
    "\n",
    "\n",
    "---\n",
    "\n"
   ]
  },
  {
   "cell_type": "markdown",
   "metadata": {
    "colab_type": "text",
    "id": "gtsVR3gr8_gb"
   },
   "source": [
    "## - (*)nodes 들의 카테고리 속성 정의해주자\n",
    "- X_features, labels 로 쓰이는 카테고리 속성값들"
   ]
  },
  {
   "cell_type": "code",
   "execution_count": 12,
   "metadata": {
    "colab": {},
    "colab_type": "code",
    "id": "tUPuXdKEA0cv"
   },
   "outputs": [],
   "source": [
    "### Undirected\n",
    "\n",
    "undi_nodes = list(G.nodes)\n",
    "#digraph_nodes = list(G_d.nodes)"
   ]
  },
  {
   "cell_type": "code",
   "execution_count": 13,
   "metadata": {
    "colab": {
     "base_uri": "https://localhost:8080/",
     "height": 34
    },
    "colab_type": "code",
    "executionInfo": {
     "elapsed": 551,
     "status": "ok",
     "timestamp": 1575423652046,
     "user": {
      "displayName": "이명규",
      "photoUrl": "",
      "userId": "00414544825750465133"
     },
     "user_tz": -540
    },
    "id": "c9J_TKUK8OCm",
    "outputId": "f9cf2fec-edf7-44a7-ce13-990a140d9e71"
   },
   "outputs": [
    {
     "data": {
      "text/plain": [
       "[602610157, 600515938, 600185944, 601529111, 600016493]"
      ]
     },
     "execution_count": 13,
     "metadata": {},
     "output_type": "execute_result"
    }
   ],
   "source": [
    "undi_nodes[:5]"
   ]
  },
  {
   "cell_type": "code",
   "execution_count": 14,
   "metadata": {
    "colab": {
     "base_uri": "https://localhost:8080/",
     "height": 206
    },
    "colab_type": "code",
    "executionInfo": {
     "elapsed": 741,
     "status": "ok",
     "timestamp": 1575354821620,
     "user": {
      "displayName": "이명규",
      "photoUrl": "",
      "userId": "00414544825750465133"
     },
     "user_tz": -540
    },
    "id": "GTpRa4VZDIka",
    "outputId": "be49f3ca-28e8-4f05-82e1-61ce43e57b6f"
   },
   "outputs": [
    {
     "data": {
      "text/html": [
       "<div>\n",
       "<style scoped>\n",
       "    .dataframe tbody tr th:only-of-type {\n",
       "        vertical-align: middle;\n",
       "    }\n",
       "\n",
       "    .dataframe tbody tr th {\n",
       "        vertical-align: top;\n",
       "    }\n",
       "\n",
       "    .dataframe thead th {\n",
       "        text-align: right;\n",
       "    }\n",
       "</style>\n",
       "<table border=\"1\" class=\"dataframe\">\n",
       "  <thead>\n",
       "    <tr style=\"text-align: right;\">\n",
       "      <th></th>\n",
       "      <th>pid</th>\n",
       "      <th>dcate_cd</th>\n",
       "      <th>scate_cd</th>\n",
       "      <th>mcate_cd</th>\n",
       "      <th>lcate_cd</th>\n",
       "      <th>dcate_nm</th>\n",
       "      <th>scate_nm</th>\n",
       "      <th>mcate_nm</th>\n",
       "      <th>lcate_nm</th>\n",
       "    </tr>\n",
       "  </thead>\n",
       "  <tbody>\n",
       "    <tr>\n",
       "      <th>0</th>\n",
       "      <td>194782399</td>\n",
       "      <td>4103733.0</td>\n",
       "      <td>3100659.0</td>\n",
       "      <td>2100110.0</td>\n",
       "      <td>1100019.0</td>\n",
       "      <td>반상기/식기 홈세트</td>\n",
       "      <td>식기</td>\n",
       "      <td>테이블웨어/식기</td>\n",
       "      <td>주방용품</td>\n",
       "    </tr>\n",
       "    <tr>\n",
       "      <th>1</th>\n",
       "      <td>228663807</td>\n",
       "      <td>4102667.0</td>\n",
       "      <td>3100485.0</td>\n",
       "      <td>2100083.0</td>\n",
       "      <td>1100014.0</td>\n",
       "      <td>이외김치</td>\n",
       "      <td>김치</td>\n",
       "      <td>김치/반찬</td>\n",
       "      <td>신선식품</td>\n",
       "    </tr>\n",
       "    <tr>\n",
       "      <th>2</th>\n",
       "      <td>320111031</td>\n",
       "      <td>4102071.0</td>\n",
       "      <td>3100386.0</td>\n",
       "      <td>2100064.0</td>\n",
       "      <td>1100011.0</td>\n",
       "      <td>무지/민무늬 셔츠</td>\n",
       "      <td>기본/무지 셔츠</td>\n",
       "      <td>블라우스/셔츠</td>\n",
       "      <td>브랜드 여성의류</td>\n",
       "    </tr>\n",
       "    <tr>\n",
       "      <th>3</th>\n",
       "      <td>162068532</td>\n",
       "      <td>4100445.0</td>\n",
       "      <td>3100082.0</td>\n",
       "      <td>2100490.0</td>\n",
       "      <td>1100091.0</td>\n",
       "      <td>싱글(소형)-1인용</td>\n",
       "      <td>전기장판</td>\n",
       "      <td>전기매트/요</td>\n",
       "      <td>계절가전</td>\n",
       "    </tr>\n",
       "    <tr>\n",
       "      <th>4</th>\n",
       "      <td>189956810</td>\n",
       "      <td>4104596.0</td>\n",
       "      <td>3100350.0</td>\n",
       "      <td>2100148.0</td>\n",
       "      <td>1100046.0</td>\n",
       "      <td>장지갑</td>\n",
       "      <td>남성 지갑</td>\n",
       "      <td>지갑/벨트</td>\n",
       "      <td>가방/잡화</td>\n",
       "    </tr>\n",
       "  </tbody>\n",
       "</table>\n",
       "</div>"
      ],
      "text/plain": [
       "         pid   dcate_cd   scate_cd   mcate_cd   lcate_cd    dcate_nm  \\\n",
       "0  194782399  4103733.0  3100659.0  2100110.0  1100019.0  반상기/식기 홈세트   \n",
       "1  228663807  4102667.0  3100485.0  2100083.0  1100014.0        이외김치   \n",
       "2  320111031  4102071.0  3100386.0  2100064.0  1100011.0   무지/민무늬 셔츠   \n",
       "3  162068532  4100445.0  3100082.0  2100490.0  1100091.0  싱글(소형)-1인용   \n",
       "4  189956810  4104596.0  3100350.0  2100148.0  1100046.0         장지갑   \n",
       "\n",
       "   scate_nm  mcate_nm  lcate_nm  \n",
       "0        식기  테이블웨어/식기      주방용품  \n",
       "1        김치     김치/반찬      신선식품  \n",
       "2  기본/무지 셔츠   블라우스/셔츠  브랜드 여성의류  \n",
       "3      전기장판    전기매트/요      계절가전  \n",
       "4     남성 지갑     지갑/벨트     가방/잡화  "
      ]
     },
     "execution_count": 14,
     "metadata": {},
     "output_type": "execute_result"
    }
   ],
   "source": [
    "prod_cate.head()"
   ]
  },
  {
   "cell_type": "code",
   "execution_count": 15,
   "metadata": {},
   "outputs": [
    {
     "name": "stdout",
     "output_type": "stream",
     "text": [
      "<class 'pandas.core.frame.DataFrame'>\n",
      "Int64Index: 5591911 entries, 0 to 5591915\n",
      "Data columns (total 9 columns):\n",
      "pid         int64\n",
      "dcate_cd    float64\n",
      "scate_cd    float64\n",
      "mcate_cd    float64\n",
      "lcate_cd    float64\n",
      "dcate_nm    object\n",
      "scate_nm    object\n",
      "mcate_nm    object\n",
      "lcate_nm    object\n",
      "dtypes: float64(4), int64(1), object(4)\n",
      "memory usage: 426.6+ MB\n"
     ]
    }
   ],
   "source": [
    "prod_cate.info() # "
   ]
  },
  {
   "cell_type": "code",
   "execution_count": 16,
   "metadata": {},
   "outputs": [
    {
     "data": {
      "text/plain": [
       "pid         0\n",
       "dcate_cd    1\n",
       "scate_cd    1\n",
       "mcate_cd    1\n",
       "lcate_cd    1\n",
       "dcate_nm    1\n",
       "scate_nm    1\n",
       "mcate_nm    1\n",
       "lcate_nm    1\n",
       "dtype: int64"
      ]
     },
     "execution_count": 16,
     "metadata": {},
     "output_type": "execute_result"
    }
   ],
   "source": [
    "prod_cate.isnull().sum(axis=0)"
   ]
  },
  {
   "cell_type": "code",
   "execution_count": 17,
   "metadata": {
    "colab": {},
    "colab_type": "code",
    "id": "DjV7yPpGDN9B"
   },
   "outputs": [],
   "source": [
    "# G(그래프) 노드들을 순서로해서,    카테고리 정보 테이블 붙여주자! prod_cate[['dcate_cd', 'scate_cd', 'mcate_cd', 'lcate_cd']]\n",
    "# undi_nodes + 'dcate'\n",
    "undi_nodes_w_cate = pd.DataFrame({'pid':undi_nodes}).merge(prod_cate[['pid' , 'dcate_cd', 'scate_cd', 'mcate_cd', 'lcate_cd']], how='left').reset_index(drop=True)"
   ]
  },
  {
   "cell_type": "code",
   "execution_count": 18,
   "metadata": {
    "colab": {
     "base_uri": "https://localhost:8080/",
     "height": 424
    },
    "colab_type": "code",
    "executionInfo": {
     "elapsed": 455,
     "status": "ok",
     "timestamp": 1575423661722,
     "user": {
      "displayName": "이명규",
      "photoUrl": "",
      "userId": "00414544825750465133"
     },
     "user_tz": -540
    },
    "id": "mflocyqtENua",
    "outputId": "dd0a6f3e-d3f3-4c76-ca8c-763af1b5858e"
   },
   "outputs": [
    {
     "data": {
      "text/html": [
       "<div>\n",
       "<style scoped>\n",
       "    .dataframe tbody tr th:only-of-type {\n",
       "        vertical-align: middle;\n",
       "    }\n",
       "\n",
       "    .dataframe tbody tr th {\n",
       "        vertical-align: top;\n",
       "    }\n",
       "\n",
       "    .dataframe thead th {\n",
       "        text-align: right;\n",
       "    }\n",
       "</style>\n",
       "<table border=\"1\" class=\"dataframe\">\n",
       "  <thead>\n",
       "    <tr style=\"text-align: right;\">\n",
       "      <th></th>\n",
       "      <th>pid</th>\n",
       "      <th>dcate_cd</th>\n",
       "      <th>scate_cd</th>\n",
       "      <th>mcate_cd</th>\n",
       "      <th>lcate_cd</th>\n",
       "    </tr>\n",
       "  </thead>\n",
       "  <tbody>\n",
       "    <tr>\n",
       "      <th>0</th>\n",
       "      <td>602610157</td>\n",
       "      <td>4100879.0</td>\n",
       "      <td>3100174.0</td>\n",
       "      <td>2100020.0</td>\n",
       "      <td>1100004.0</td>\n",
       "    </tr>\n",
       "    <tr>\n",
       "      <th>1</th>\n",
       "      <td>600515938</td>\n",
       "      <td>4100077.0</td>\n",
       "      <td>3100012.0</td>\n",
       "      <td>2100003.0</td>\n",
       "      <td>1100000.0</td>\n",
       "    </tr>\n",
       "    <tr>\n",
       "      <th>2</th>\n",
       "      <td>600185944</td>\n",
       "      <td>4100042.0</td>\n",
       "      <td>3100007.0</td>\n",
       "      <td>2100002.0</td>\n",
       "      <td>1100000.0</td>\n",
       "    </tr>\n",
       "    <tr>\n",
       "      <th>3</th>\n",
       "      <td>601529111</td>\n",
       "      <td>4105068.0</td>\n",
       "      <td>3102133.0</td>\n",
       "      <td>2100425.0</td>\n",
       "      <td>1100059.0</td>\n",
       "    </tr>\n",
       "    <tr>\n",
       "      <th>4</th>\n",
       "      <td>600016493</td>\n",
       "      <td>4102692.0</td>\n",
       "      <td>3100489.0</td>\n",
       "      <td>2100084.0</td>\n",
       "      <td>1100014.0</td>\n",
       "    </tr>\n",
       "    <tr>\n",
       "      <th>...</th>\n",
       "      <td>...</td>\n",
       "      <td>...</td>\n",
       "      <td>...</td>\n",
       "      <td>...</td>\n",
       "      <td>...</td>\n",
       "    </tr>\n",
       "    <tr>\n",
       "      <th>5591906</th>\n",
       "      <td>146583113</td>\n",
       "      <td>4101359.0</td>\n",
       "      <td>3100258.0</td>\n",
       "      <td>2100504.0</td>\n",
       "      <td>1100006.0</td>\n",
       "    </tr>\n",
       "    <tr>\n",
       "      <th>5591907</th>\n",
       "      <td>319525783</td>\n",
       "      <td>4101359.0</td>\n",
       "      <td>3100258.0</td>\n",
       "      <td>2100504.0</td>\n",
       "      <td>1100006.0</td>\n",
       "    </tr>\n",
       "    <tr>\n",
       "      <th>5591908</th>\n",
       "      <td>125568429</td>\n",
       "      <td>4101359.0</td>\n",
       "      <td>3100258.0</td>\n",
       "      <td>2100504.0</td>\n",
       "      <td>1100006.0</td>\n",
       "    </tr>\n",
       "    <tr>\n",
       "      <th>5591909</th>\n",
       "      <td>102097148</td>\n",
       "      <td>4101359.0</td>\n",
       "      <td>3100258.0</td>\n",
       "      <td>2100504.0</td>\n",
       "      <td>1100006.0</td>\n",
       "    </tr>\n",
       "    <tr>\n",
       "      <th>5591910</th>\n",
       "      <td>100156718</td>\n",
       "      <td>4101359.0</td>\n",
       "      <td>3100258.0</td>\n",
       "      <td>2100504.0</td>\n",
       "      <td>1100006.0</td>\n",
       "    </tr>\n",
       "  </tbody>\n",
       "</table>\n",
       "<p>5591911 rows × 5 columns</p>\n",
       "</div>"
      ],
      "text/plain": [
       "               pid   dcate_cd   scate_cd   mcate_cd   lcate_cd\n",
       "0        602610157  4100879.0  3100174.0  2100020.0  1100004.0\n",
       "1        600515938  4100077.0  3100012.0  2100003.0  1100000.0\n",
       "2        600185944  4100042.0  3100007.0  2100002.0  1100000.0\n",
       "3        601529111  4105068.0  3102133.0  2100425.0  1100059.0\n",
       "4        600016493  4102692.0  3100489.0  2100084.0  1100014.0\n",
       "...            ...        ...        ...        ...        ...\n",
       "5591906  146583113  4101359.0  3100258.0  2100504.0  1100006.0\n",
       "5591907  319525783  4101359.0  3100258.0  2100504.0  1100006.0\n",
       "5591908  125568429  4101359.0  3100258.0  2100504.0  1100006.0\n",
       "5591909  102097148  4101359.0  3100258.0  2100504.0  1100006.0\n",
       "5591910  100156718  4101359.0  3100258.0  2100504.0  1100006.0\n",
       "\n",
       "[5591911 rows x 5 columns]"
      ]
     },
     "execution_count": 18,
     "metadata": {},
     "output_type": "execute_result"
    }
   ],
   "source": [
    "undi_nodes_w_cate # 맞다"
   ]
  },
  {
   "cell_type": "code",
   "execution_count": 31,
   "metadata": {},
   "outputs": [
    {
     "data": {
      "text/plain": [
       "pid         0\n",
       "dcate_cd    1\n",
       "scate_cd    1\n",
       "mcate_cd    1\n",
       "lcate_cd    1\n",
       "dtype: int64"
      ]
     },
     "execution_count": 31,
     "metadata": {},
     "output_type": "execute_result"
    }
   ],
   "source": [
    "undi_nodes_w_cate.isnull().sum(axis=0) # null 값이 있다 -> float형으로 들어간 이유"
   ]
  },
  {
   "cell_type": "code",
   "execution_count": 19,
   "metadata": {},
   "outputs": [
    {
     "data": {
      "text/html": [
       "<div>\n",
       "<style scoped>\n",
       "    .dataframe tbody tr th:only-of-type {\n",
       "        vertical-align: middle;\n",
       "    }\n",
       "\n",
       "    .dataframe tbody tr th {\n",
       "        vertical-align: top;\n",
       "    }\n",
       "\n",
       "    .dataframe thead th {\n",
       "        text-align: right;\n",
       "    }\n",
       "</style>\n",
       "<table border=\"1\" class=\"dataframe\">\n",
       "  <thead>\n",
       "    <tr style=\"text-align: right;\">\n",
       "      <th></th>\n",
       "      <th>pid</th>\n",
       "      <th>dcate_cd</th>\n",
       "      <th>scate_cd</th>\n",
       "      <th>mcate_cd</th>\n",
       "      <th>lcate_cd</th>\n",
       "    </tr>\n",
       "  </thead>\n",
       "  <tbody>\n",
       "    <tr>\n",
       "      <th>1839763</th>\n",
       "      <td>10000033</td>\n",
       "      <td>NaN</td>\n",
       "      <td>NaN</td>\n",
       "      <td>NaN</td>\n",
       "      <td>NaN</td>\n",
       "    </tr>\n",
       "  </tbody>\n",
       "</table>\n",
       "</div>"
      ],
      "text/plain": [
       "              pid  dcate_cd  scate_cd  mcate_cd  lcate_cd\n",
       "1839763  10000033       NaN       NaN       NaN       NaN"
      ]
     },
     "execution_count": 19,
     "metadata": {},
     "output_type": "execute_result"
    }
   ],
   "source": [
    "# 아까 처음에 카테고리 정보 없는 상품 하나 있었지? \n",
    "# 얘는 나중에 처리하자 \n",
    "\n",
    "undi_nodes_w_cate[undi_nodes_w_cate.pid == 10000033] "
   ]
  },
  {
   "cell_type": "markdown",
   "metadata": {},
   "source": [
    "---\n",
    "---"
   ]
  },
  {
   "cell_type": "markdown",
   "metadata": {},
   "source": [
    "#### eg. 이런식으로 해보면?\n",
    "- 흐름 예제"
   ]
  },
  {
   "cell_type": "code",
   "execution_count": 84,
   "metadata": {},
   "outputs": [],
   "source": [
    "tmp = pd.DataFrame({'x':[3], 'y':[1]})"
   ]
  },
  {
   "cell_type": "code",
   "execution_count": 85,
   "metadata": {},
   "outputs": [
    {
     "data": {
      "text/html": [
       "<div>\n",
       "<style scoped>\n",
       "    .dataframe tbody tr th:only-of-type {\n",
       "        vertical-align: middle;\n",
       "    }\n",
       "\n",
       "    .dataframe tbody tr th {\n",
       "        vertical-align: top;\n",
       "    }\n",
       "\n",
       "    .dataframe thead th {\n",
       "        text-align: right;\n",
       "    }\n",
       "</style>\n",
       "<table border=\"1\" class=\"dataframe\">\n",
       "  <thead>\n",
       "    <tr style=\"text-align: right;\">\n",
       "      <th></th>\n",
       "      <th>x</th>\n",
       "      <th>y</th>\n",
       "    </tr>\n",
       "  </thead>\n",
       "  <tbody>\n",
       "    <tr>\n",
       "      <th>0</th>\n",
       "      <td>3</td>\n",
       "      <td>1</td>\n",
       "    </tr>\n",
       "  </tbody>\n",
       "</table>\n",
       "</div>"
      ],
      "text/plain": [
       "   x  y\n",
       "0  3  1"
      ]
     },
     "execution_count": 85,
     "metadata": {},
     "output_type": "execute_result"
    }
   ],
   "source": [
    "tmp"
   ]
  },
  {
   "cell_type": "code",
   "execution_count": 86,
   "metadata": {},
   "outputs": [],
   "source": [
    "# 이렇게 None 인 상황에 처리해주는거야\n",
    "tmp.at[0,'x']= None"
   ]
  },
  {
   "cell_type": "code",
   "execution_count": 87,
   "metadata": {},
   "outputs": [
    {
     "data": {
      "text/html": [
       "<div>\n",
       "<style scoped>\n",
       "    .dataframe tbody tr th:only-of-type {\n",
       "        vertical-align: middle;\n",
       "    }\n",
       "\n",
       "    .dataframe tbody tr th {\n",
       "        vertical-align: top;\n",
       "    }\n",
       "\n",
       "    .dataframe thead th {\n",
       "        text-align: right;\n",
       "    }\n",
       "</style>\n",
       "<table border=\"1\" class=\"dataframe\">\n",
       "  <thead>\n",
       "    <tr style=\"text-align: right;\">\n",
       "      <th></th>\n",
       "      <th>x</th>\n",
       "      <th>y</th>\n",
       "    </tr>\n",
       "  </thead>\n",
       "  <tbody>\n",
       "    <tr>\n",
       "      <th>0</th>\n",
       "      <td>NaN</td>\n",
       "      <td>1</td>\n",
       "    </tr>\n",
       "  </tbody>\n",
       "</table>\n",
       "</div>"
      ],
      "text/plain": [
       "    x  y\n",
       "0 NaN  1"
      ]
     },
     "execution_count": 87,
     "metadata": {},
     "output_type": "execute_result"
    }
   ],
   "source": [
    "tmp"
   ]
  },
  {
   "cell_type": "code",
   "execution_count": 88,
   "metadata": {},
   "outputs": [],
   "source": [
    "try :\n",
    "    get_null_index = tmp[tmp.x.isnull()].index.values # x-column을 특정지어서 null 값 있느냐 물어본거야\n",
    "    for null_index in get_null_index:\n",
    "        tmp.at[ null_index , 'x' ] = int(0)\n",
    "    tmp = tmp.apply(lambda x:x.astype(int))\n",
    "except:\n",
    "    pass"
   ]
  },
  {
   "cell_type": "code",
   "execution_count": 89,
   "metadata": {},
   "outputs": [
    {
     "data": {
      "text/html": [
       "<div>\n",
       "<style scoped>\n",
       "    .dataframe tbody tr th:only-of-type {\n",
       "        vertical-align: middle;\n",
       "    }\n",
       "\n",
       "    .dataframe tbody tr th {\n",
       "        vertical-align: top;\n",
       "    }\n",
       "\n",
       "    .dataframe thead th {\n",
       "        text-align: right;\n",
       "    }\n",
       "</style>\n",
       "<table border=\"1\" class=\"dataframe\">\n",
       "  <thead>\n",
       "    <tr style=\"text-align: right;\">\n",
       "      <th></th>\n",
       "      <th>x</th>\n",
       "      <th>y</th>\n",
       "    </tr>\n",
       "  </thead>\n",
       "  <tbody>\n",
       "    <tr>\n",
       "      <th>0</th>\n",
       "      <td>0</td>\n",
       "      <td>1</td>\n",
       "    </tr>\n",
       "  </tbody>\n",
       "</table>\n",
       "</div>"
      ],
      "text/plain": [
       "   x  y\n",
       "0  0  1"
      ]
     },
     "execution_count": 89,
     "metadata": {},
     "output_type": "execute_result"
    }
   ],
   "source": [
    "tmp"
   ]
  },
  {
   "cell_type": "code",
   "execution_count": 90,
   "metadata": {},
   "outputs": [
    {
     "name": "stdout",
     "output_type": "stream",
     "text": [
      "<class 'pandas.core.frame.DataFrame'>\n",
      "RangeIndex: 1 entries, 0 to 0\n",
      "Data columns (total 2 columns):\n",
      "x    1 non-null int64\n",
      "y    1 non-null int64\n",
      "dtypes: int64(2)\n",
      "memory usage: 144.0 bytes\n"
     ]
    }
   ],
   "source": [
    "tmp.info()"
   ]
  },
  {
   "cell_type": "markdown",
   "metadata": {},
   "source": [
    "----\n",
    "---"
   ]
  },
  {
   "cell_type": "markdown",
   "metadata": {},
   "source": [
    "## - 위의 경우처럼 해보자"
   ]
  },
  {
   "cell_type": "code",
   "execution_count": 20,
   "metadata": {
    "colab": {
     "base_uri": "https://localhost:8080/",
     "height": 34
    },
    "colab_type": "code",
    "executionInfo": {
     "elapsed": 762,
     "status": "ok",
     "timestamp": 1575356307688,
     "user": {
      "displayName": "이명규",
      "photoUrl": "",
      "userId": "00414544825750465133"
     },
     "user_tz": -540
    },
    "id": "vfMS4HY5jYTt",
    "outputId": "59856b22-0c97-4752-bc94-5ce293e22435"
   },
   "outputs": [],
   "source": [
    "# 일단 이런경우에 category null 값 채워줘\n",
    "\n",
    "try :\n",
    "    get_null_index = undi_nodes_w_cate[undi_nodes_w_cate.dcate_cd.isnull()].index.values # dcate을 특정지어서 null 값 있느냐 물어본거야 -> index 저장\n",
    "    for null_index in get_null_index:\n",
    "        undi_nodes_w_cate.at[ null_index , 'dcate_cd' ] = -9999\n",
    "        undi_nodes_w_cate.at[ null_index , 'scate_cd' ] = -9999\n",
    "        undi_nodes_w_cate.at[ null_index , 'mcate_cd' ] = -9999\n",
    "        undi_nodes_w_cate.at[ null_index , 'lcate_cd' ] = -9999\n",
    "    \n",
    "    #모든 columns형식 다시한번 int로 바꿔주는거야\n",
    "    undi_nodes_w_cate = undi_nodes_w_cate.apply(lambda x:x.astype(int))\n",
    "except:\n",
    "    pass\n"
   ]
  },
  {
   "cell_type": "code",
   "execution_count": 21,
   "metadata": {},
   "outputs": [
    {
     "data": {
      "text/plain": [
       "pid         0\n",
       "dcate_cd    0\n",
       "scate_cd    0\n",
       "mcate_cd    0\n",
       "lcate_cd    0\n",
       "dtype: int64"
      ]
     },
     "execution_count": 21,
     "metadata": {},
     "output_type": "execute_result"
    }
   ],
   "source": [
    "undi_nodes_w_cate.isnull().sum(axis=0)"
   ]
  },
  {
   "cell_type": "code",
   "execution_count": 22,
   "metadata": {},
   "outputs": [
    {
     "data": {
      "text/html": [
       "<div>\n",
       "<style scoped>\n",
       "    .dataframe tbody tr th:only-of-type {\n",
       "        vertical-align: middle;\n",
       "    }\n",
       "\n",
       "    .dataframe tbody tr th {\n",
       "        vertical-align: top;\n",
       "    }\n",
       "\n",
       "    .dataframe thead th {\n",
       "        text-align: right;\n",
       "    }\n",
       "</style>\n",
       "<table border=\"1\" class=\"dataframe\">\n",
       "  <thead>\n",
       "    <tr style=\"text-align: right;\">\n",
       "      <th></th>\n",
       "      <th>pid</th>\n",
       "      <th>dcate_cd</th>\n",
       "      <th>scate_cd</th>\n",
       "      <th>mcate_cd</th>\n",
       "      <th>lcate_cd</th>\n",
       "    </tr>\n",
       "  </thead>\n",
       "  <tbody>\n",
       "    <tr>\n",
       "      <th>1839763</th>\n",
       "      <td>10000033</td>\n",
       "      <td>-9999</td>\n",
       "      <td>-9999</td>\n",
       "      <td>-9999</td>\n",
       "      <td>-9999</td>\n",
       "    </tr>\n",
       "  </tbody>\n",
       "</table>\n",
       "</div>"
      ],
      "text/plain": [
       "              pid  dcate_cd  scate_cd  mcate_cd  lcate_cd\n",
       "1839763  10000033     -9999     -9999     -9999     -9999"
      ]
     },
     "execution_count": 22,
     "metadata": {},
     "output_type": "execute_result"
    }
   ],
   "source": [
    "undi_nodes_w_cate[undi_nodes_w_cate.pid == 10000033] # 이렇게 바뀌게 되네!"
   ]
  },
  {
   "cell_type": "code",
   "execution_count": 23,
   "metadata": {},
   "outputs": [],
   "source": [
    "undi_nodes_w_cate.reset_index(drop=True, inplace=True)"
   ]
  },
  {
   "cell_type": "markdown",
   "metadata": {},
   "source": [
    "---"
   ]
  },
  {
   "cell_type": "markdown",
   "metadata": {},
   "source": [
    "- eg. 잠시 확인"
   ]
  },
  {
   "cell_type": "code",
   "execution_count": null,
   "metadata": {
    "colab": {},
    "colab_type": "code",
    "id": "rsa4jFd-JVep"
   },
   "outputs": [],
   "source": [
    "import scipy.sparse as sp"
   ]
  },
  {
   "cell_type": "code",
   "execution_count": null,
   "metadata": {
    "colab": {},
    "colab_type": "code",
    "id": "hpo5OOHrDHO_"
   },
   "outputs": [],
   "source": [
    "# adj - matrix\n",
    "adj = sp.coo_matrix( nx.adjacency_matrix(G) )"
   ]
  },
  {
   "cell_type": "code",
   "execution_count": null,
   "metadata": {
    "colab": {
     "base_uri": "https://localhost:8080/",
     "height": 34
    },
    "colab_type": "code",
    "executionInfo": {
     "elapsed": 677,
     "status": "ok",
     "timestamp": 1575249285610,
     "user": {
      "displayName": "이명규",
      "photoUrl": "",
      "userId": "00414544825750465133"
     },
     "user_tz": -540
    },
    "id": "vb3OQoBoCtAb",
    "outputId": "adf661d9-c62b-4211-8b27-6ae69bacd813"
   },
   "outputs": [
    {
     "data": {
      "text/plain": [
       "(1106646, 1106646)"
      ]
     },
     "execution_count": 52,
     "metadata": {
      "tags": []
     },
     "output_type": "execute_result"
    }
   ],
   "source": [
    "adj.get_shape() # 맞다!"
   ]
  },
  {
   "cell_type": "markdown",
   "metadata": {
    "colab_type": "text",
    "id": "HPMdjXChSs9A"
   },
   "source": [
    "\n",
    "\n",
    "---\n"
   ]
  },
  {
   "cell_type": "code",
   "execution_count": null,
   "metadata": {
    "colab": {},
    "colab_type": "code",
    "id": "KO-hL60eJqpg"
   },
   "outputs": [],
   "source": [
    "x = np.array([[0,2],\n",
    "                [1,0]])"
   ]
  },
  {
   "cell_type": "code",
   "execution_count": null,
   "metadata": {
    "colab": {
     "base_uri": "https://localhost:8080/",
     "height": 51
    },
    "colab_type": "code",
    "executionInfo": {
     "elapsed": 616,
     "status": "ok",
     "timestamp": 1575249994887,
     "user": {
      "displayName": "이명규",
      "photoUrl": "",
      "userId": "00414544825750465133"
     },
     "user_tz": -540
    },
    "id": "c-3wOsE-JqSn",
    "outputId": "368599c5-973b-4ab4-f7d0-0841c83a87b9"
   },
   "outputs": [
    {
     "data": {
      "text/plain": [
       "array([[0, 2],\n",
       "       [1, 0]])"
      ]
     },
     "execution_count": 70,
     "metadata": {
      "tags": []
     },
     "output_type": "execute_result"
    }
   ],
   "source": [
    "x"
   ]
  },
  {
   "cell_type": "code",
   "execution_count": null,
   "metadata": {
    "colab": {},
    "colab_type": "code",
    "id": "dgAYT5QXNHLa"
   },
   "outputs": [],
   "source": [
    "x_ = sp.coo_matrix(x)"
   ]
  },
  {
   "cell_type": "code",
   "execution_count": null,
   "metadata": {
    "colab": {
     "base_uri": "https://localhost:8080/",
     "height": 51
    },
    "colab_type": "code",
    "executionInfo": {
     "elapsed": 709,
     "status": "ok",
     "timestamp": 1575249997395,
     "user": {
      "displayName": "이명규",
      "photoUrl": "",
      "userId": "00414544825750465133"
     },
     "user_tz": -540
    },
    "id": "xT_fUBC-JqGX",
    "outputId": "9b15f0d1-da6b-48a1-ee6b-7727810eec1c"
   },
   "outputs": [
    {
     "data": {
      "text/plain": [
       "matrix([[0, 0],\n",
       "        [2, 0]], dtype=int64)"
      ]
     },
     "execution_count": 72,
     "metadata": {
      "tags": []
     },
     "output_type": "execute_result"
    }
   ],
   "source": [
    "x_.T.multiply(x_.T > x_).todense()"
   ]
  },
  {
   "cell_type": "code",
   "execution_count": null,
   "metadata": {
    "colab": {},
    "colab_type": "code",
    "id": "8OIu_QAuJqDv"
   },
   "outputs": [],
   "source": [
    "x_r = x_ + x_.T.multiply(x_.T > x_) - x_.multiply( x_.T > x_)\n"
   ]
  },
  {
   "cell_type": "code",
   "execution_count": null,
   "metadata": {
    "colab": {
     "base_uri": "https://localhost:8080/",
     "height": 51
    },
    "colab_type": "code",
    "executionInfo": {
     "elapsed": 494,
     "status": "ok",
     "timestamp": 1575250000161,
     "user": {
      "displayName": "이명규",
      "photoUrl": "",
      "userId": "00414544825750465133"
     },
     "user_tz": -540
    },
    "id": "qvJLClptJp2q",
    "outputId": "1baba871-eecd-414e-f011-5e0f60503cb3"
   },
   "outputs": [
    {
     "data": {
      "text/plain": [
       "matrix([[0, 2],\n",
       "        [2, 0]], dtype=int64)"
      ]
     },
     "execution_count": 74,
     "metadata": {
      "tags": []
     },
     "output_type": "execute_result"
    }
   ],
   "source": [
    "x_r.todense()"
   ]
  },
  {
   "cell_type": "markdown",
   "metadata": {
    "colab_type": "text",
    "id": "co4j-oLeO9h0"
   },
   "source": [
    "\n",
    "\n",
    "---\n",
    "\n",
    "\n",
    "\n",
    "---\n",
    "\n"
   ]
  },
  {
   "cell_type": "markdown",
   "metadata": {
    "colab_type": "text",
    "id": "w7wevDGPPAJd"
   },
   "source": [
    "# 신경망 만들어보기"
   ]
  },
  {
   "cell_type": "markdown",
   "metadata": {
    "colab_type": "text",
    "id": "y-VWfRt0Qrow"
   },
   "source": [
    "### - utils.py"
   ]
  },
  {
   "cell_type": "code",
   "execution_count": 24,
   "metadata": {
    "colab": {},
    "colab_type": "code",
    "id": "KyMNuPe7PHvR"
   },
   "outputs": [],
   "source": [
    "import scipy.sparse as sp\n",
    "import torch\n",
    "\n",
    "def normalize(mx):\n",
    "    \"\"\"Row-normalize sparse matrix\"\"\"\n",
    "    rowsum = np.array(mx.sum(1))\n",
    "    r_inv = np.power(rowsum, -1).flatten()\n",
    "    r_inv[np.isinf(r_inv)] = 0.\n",
    "    r_mat_inv = sp.diags(r_inv)\n",
    "    mx = r_mat_inv.dot(mx)\n",
    "    return mx\n",
    "\n",
    "\n",
    "def accuracy(output, labels):\n",
    "    preds = output.max(1)[1].type_as(labels)\n",
    "    correct = preds.eq(labels).double()\n",
    "    correct = correct.sum()\n",
    "    return correct / len(labels)\n",
    "\n",
    "\n",
    "def sparse_mx_to_torch_sparse_tensor(sparse_mx):\n",
    "    \"\"\"Convert a scipy sparse matrix to a torch sparse tensor.\"\"\"\n",
    "    sparse_mx = sparse_mx.tocoo().astype(np.float32)\n",
    "    indices = torch.from_numpy(\n",
    "        np.vstack((sparse_mx.row, sparse_mx.col)).astype(np.int64))\n",
    "    values = torch.from_numpy(sparse_mx.data)\n",
    "    shape = torch.Size(sparse_mx.shape)\n",
    "    return torch.sparse.FloatTensor(indices, values, shape)\n",
    "\n",
    "# index mapping\n",
    "#idx = np.array( undi_nodes, dtype=np.int32)\n",
    "#idx_map = {j: i for i, j in enumerate(idx)}\n",
    "#######################################\n",
    "\n",
    "\n",
    "# labels\n",
    "def encode_onehot(labels): # 이거 굳이 안쓰고 pd.get_dummies() 쓰는게 더 효율적\n",
    "    classes = set(labels)\n",
    "    classes_dict = {c: np.identity(len(classes))[i, :] for i, c in\n",
    "                    enumerate(classes)}\n",
    "    labels_onehot = np.array(list(map(classes_dict.get, labels)),\n",
    "                             dtype=np.int32)\n",
    "    return labels_onehot\n",
    "\n",
    "#labels = undi_nodes_w_categories['lcate_cd'] ) # 1차 : label= 'lcate' # 이렇게 써도 되지만, get_dummies()가 더 효율적인것 같다\n",
    "labels = pd.get_dummies(undi_nodes_w_cate['lcate_cd'] ).values # \n",
    "\n",
    "# adj , features\n",
    "adj = sp.coo_matrix( nx.adjacency_matrix(G) )  # adj 정의\n",
    "#adj = adj + adj.T.multiply(adj.T > adj) - adj.multiply(adj.T > adj) #이미 directed -> undirected 로 바꾸면서 거친 과정이야!\n",
    "\n",
    "features = sp.csr_matrix( pd.get_dummies(undi_nodes_w_cate['scate_cd'] ).values , dtype=np.float32 )  # 1차\n",
    "#features = sp.csr_matrix( pd.get_dummies(undi_nodes_w_categories['lcate_cd'] ).values , dtype=np.float32 ) # 1.1 차\n",
    "\n",
    "# normalize\n",
    "#features = normalize(features)\n",
    "adj = normalize(adj + sp.eye(adj.shape[0]))\n",
    "\n",
    "\n",
    "## set as input type\n",
    "features = torch.FloatTensor(np.array(features.todense())) # 처음에 dcate로 진행시 메모리터짐 - sparse matrix 로 바꾸고 싶었지만 실패 : 현재(1차)의 features는 scate이다\n",
    "# features = sparse_mx_to_torch_sparse_tensor( features ) # sparse matrix로\n",
    "labels = torch.LongTensor(np.where(labels)[1])\n",
    "adj = sparse_mx_to_torch_sparse_tensor(adj)\n",
    "\n",
    "#######################################"
   ]
  },
  {
   "cell_type": "markdown",
   "metadata": {
    "colab_type": "text",
    "id": "B_jVa53hUJGt"
   },
   "source": [
    "\n",
    "\n",
    "---\n",
    "\n",
    "\n",
    "\n",
    "---\n",
    "\n"
   ]
  },
  {
   "cell_type": "markdown",
   "metadata": {
    "colab_type": "text",
    "id": "eDyiWzBvUOlX"
   },
   "source": [
    "## - layers.py"
   ]
  },
  {
   "cell_type": "code",
   "execution_count": 25,
   "metadata": {
    "colab": {},
    "colab_type": "code",
    "id": "wbw9lbHGJppL"
   },
   "outputs": [],
   "source": [
    "import math\n",
    "\n",
    "import torch\n",
    "\n",
    "from torch.nn.parameter import Parameter\n",
    "from torch.nn.modules.module import Module\n",
    "\n",
    "\n",
    "class GraphConvolution(Module):\n",
    "    \"\"\"\n",
    "    Simple GCN layer, similar to https://arxiv.org/abs/1609.02907\n",
    "    \"\"\"\n",
    "\n",
    "    def __init__(self, in_features, out_features, bias=True):\n",
    "        super(GraphConvolution, self).__init__()\n",
    "        self.in_features = in_features\n",
    "        self.out_features = out_features\n",
    "        self.weight = Parameter(torch.FloatTensor(in_features, out_features))\n",
    "        if bias:\n",
    "            self.bias = Parameter(torch.FloatTensor(out_features))\n",
    "        else:\n",
    "            self.register_parameter('bias', None)\n",
    "        self.reset_parameters()\n",
    "\n",
    "    def reset_parameters(self):\n",
    "        stdv = 1. / math.sqrt(self.weight.size(1))\n",
    "        self.weight.data.uniform_(-stdv, stdv)\n",
    "        if self.bias is not None:\n",
    "            self.bias.data.uniform_(-stdv, stdv)\n",
    "\n",
    "    def forward(self, input, adj):\n",
    "        support = torch.mm(input, self.weight)\n",
    "        output = torch.sparse.mm(adj, support) # D-inv 는 어디있지?\n",
    "\n",
    "        if self.bias is not None:\n",
    "            return output + self.bias\n",
    "        else:\n",
    "            return output\n",
    "\n",
    "    def __repr__(self):\n",
    "        return self.__class__.__name__ + ' (' \\\n",
    "               + str(self.in_features) + ' -> ' \\\n",
    "               + str(self.out_features) + ')'"
   ]
  },
  {
   "cell_type": "markdown",
   "metadata": {
    "colab_type": "text",
    "id": "h1QRiJnhUYVh"
   },
   "source": [
    "\n",
    "\n",
    "---\n",
    "\n",
    "\n",
    "\n",
    "---\n",
    "\n"
   ]
  },
  {
   "cell_type": "markdown",
   "metadata": {},
   "source": [
    " - cf. 참고"
   ]
  },
  {
   "cell_type": "code",
   "execution_count": null,
   "metadata": {
    "colab": {},
    "colab_type": "code",
    "id": "00cM_LxckhQx"
   },
   "outputs": [],
   "source": [
    "x = np.array([[1,2],\n",
    "              [3,4]])"
   ]
  },
  {
   "cell_type": "code",
   "execution_count": null,
   "metadata": {
    "colab": {
     "base_uri": "https://localhost:8080/",
     "height": 51
    },
    "colab_type": "code",
    "executionInfo": {
     "elapsed": 698,
     "status": "ok",
     "timestamp": 1575256007397,
     "user": {
      "displayName": "이명규",
      "photoUrl": "",
      "userId": "00414544825750465133"
     },
     "user_tz": -540
    },
    "id": "uSsLmM42kxcI",
    "outputId": "a3c2e162-6cb1-4e56-b444-f36c15ef8b70"
   },
   "outputs": [
    {
     "data": {
      "text/plain": [
       "array([[1, 2],\n",
       "       [3, 4]])"
      ]
     },
     "execution_count": 43,
     "metadata": {
      "tags": []
     },
     "output_type": "execute_result"
    }
   ],
   "source": [
    "x"
   ]
  },
  {
   "cell_type": "code",
   "execution_count": null,
   "metadata": {
    "colab": {},
    "colab_type": "code",
    "id": "RZbX5xPdk86t"
   },
   "outputs": [],
   "source": [
    "x = sp.csr_matrix(x)"
   ]
  },
  {
   "cell_type": "code",
   "execution_count": null,
   "metadata": {
    "colab": {},
    "colab_type": "code",
    "id": "wu1LBOh3kxav"
   },
   "outputs": [],
   "source": [
    "x_s = sparse_mx_to_torch_sparse_tensor( x ) "
   ]
  },
  {
   "cell_type": "code",
   "execution_count": null,
   "metadata": {
    "colab": {
     "base_uri": "https://localhost:8080/",
     "height": 51
    },
    "colab_type": "code",
    "executionInfo": {
     "elapsed": 782,
     "status": "ok",
     "timestamp": 1575256324287,
     "user": {
      "displayName": "이명규",
      "photoUrl": "",
      "userId": "00414544825750465133"
     },
     "user_tz": -540
    },
    "id": "NETB5_NOlBNd",
    "outputId": "b8d548e6-e0da-43f3-dac1-3ee5c714b68c"
   },
   "outputs": [
    {
     "data": {
      "text/plain": [
       "tensor([[1., 2.],\n",
       "        [3., 4.]])"
      ]
     },
     "execution_count": 48,
     "metadata": {
      "tags": []
     },
     "output_type": "execute_result"
    }
   ],
   "source": [
    "x_s.to_dense()"
   ]
  },
  {
   "cell_type": "markdown",
   "metadata": {
    "colab": {},
    "colab_type": "code",
    "id": "NY8Zhdt_kxNz"
   },
   "source": [
    "---"
   ]
  },
  {
   "cell_type": "markdown",
   "metadata": {
    "colab_type": "text",
    "id": "3G-F1ahLUYSt"
   },
   "source": [
    "## models.py"
   ]
  },
  {
   "cell_type": "code",
   "execution_count": 26,
   "metadata": {
    "colab": {},
    "colab_type": "code",
    "id": "CGakXTiTCs3P"
   },
   "outputs": [],
   "source": [
    "import torch.nn as nn\n",
    "import torch.nn.functional as F\n",
    "\n",
    "\n",
    "class GCN(nn.Module):\n",
    "    def __init__(self, nfeat, nhid, nclass, dropout, prelu_init):\n",
    "        super(GCN, self).__init__()\n",
    "\n",
    "        self.gc1 = GraphConvolution(nfeat, nhid)\n",
    "        #self.gc2 = GraphConvolution(nhid, nhid)\n",
    "        self.gc_last = GraphConvolution(nhid, nclass)\n",
    "        self.dropout = dropout\n",
    "        self.prelu_init = prelu_init\n",
    "\n",
    "    def forward(self, x, adj):\n",
    "        x = self.gc1(x, adj)\n",
    "        embedding = F.prelu( x , self.prelu_init)\n",
    "        x = F.dropout( embedding, self.dropout, training=self.training) # dropout\n",
    "        #embedding = self.gc2(x, adj)\n",
    "        #x = F.relu( embedding )\n",
    "        #x = F.dropout( embedding, self.dropout, training=self.training) # dropout \n",
    "        x = self.gc_last( x, adj )\n",
    "        return F.log_softmax(x, dim=1), embedding"
   ]
  },
  {
   "cell_type": "markdown",
   "metadata": {
    "colab_type": "text",
    "id": "LGRC-i3qUleb"
   },
   "source": [
    "\n",
    "\n",
    "---\n",
    "\n",
    "\n",
    "\n",
    "---\n",
    "\n"
   ]
  },
  {
   "cell_type": "markdown",
   "metadata": {
    "colab_type": "text",
    "id": "9n5th5DmUlZ2"
   },
   "source": [
    "## train"
   ]
  },
  {
   "cell_type": "code",
   "execution_count": 27,
   "metadata": {
    "colab": {},
    "colab_type": "code",
    "id": "4Y-rJPjsUoX8"
   },
   "outputs": [],
   "source": [
    "from __future__ import division\n",
    "from __future__ import print_function\n",
    "\n",
    "import time\n",
    "import numpy as np\n",
    "\n",
    "import torch\n",
    "import torch.nn.functional as F\n",
    "import torch.optim as optim"
   ]
  },
  {
   "cell_type": "code",
   "execution_count": 14,
   "metadata": {
    "colab": {
     "base_uri": "https://localhost:8080/",
     "height": 34
    },
    "colab_type": "code",
    "executionInfo": {
     "elapsed": 761,
     "status": "ok",
     "timestamp": 1575255268235,
     "user": {
      "displayName": "이명규",
      "photoUrl": "",
      "userId": "00414544825750465133"
     },
     "user_tz": -540
    },
    "id": "gm3mW-NJUoVr",
    "outputId": "33024314-1137-4f65-e389-13c781653071"
   },
   "outputs": [
    {
     "data": {
      "text/plain": [
       "True"
      ]
     },
     "execution_count": 14,
     "metadata": {},
     "output_type": "execute_result"
    }
   ],
   "source": [
    "torch.cuda.is_available()"
   ]
  },
  {
   "cell_type": "code",
   "execution_count": 29,
   "metadata": {
    "colab": {
     "base_uri": "https://localhost:8080/",
     "height": 1000
    },
    "colab_type": "code",
    "executionInfo": {
     "elapsed": 539839,
     "status": "ok",
     "timestamp": 1575425680062,
     "user": {
      "displayName": "이명규",
      "photoUrl": "",
      "userId": "00414544825750465133"
     },
     "user_tz": -540
    },
    "id": "_VxFGZm1lUnu",
    "outputId": "0237f7b9-c997-40cd-ec3a-c3dae0371e04"
   },
   "outputs": [
    {
     "name": "stdout",
     "output_type": "stream",
     "text": [
      "Epoch: 0001 loss_train: 4.1606 acc_train: 0.0048 time: 102.3672s\n",
      "Epoch: 0002 loss_train: 4.1213 acc_train: 0.0467 time: 101.8689s\n",
      "Epoch: 0003 loss_train: 4.0923 acc_train: 0.1111 time: 95.2567s\n",
      "Epoch: 0004 loss_train: 4.0636 acc_train: 0.1943 time: 93.1090s\n",
      "Epoch: 0005 loss_train: 4.0510 acc_train: 0.2674 time: 93.3826s\n",
      "Epoch: 0006 loss_train: 4.0289 acc_train: 0.3470 time: 91.7709s\n",
      "Epoch: 0007 loss_train: 3.9638 acc_train: 0.4229 time: 94.8665s\n",
      "Epoch: 0008 loss_train: 3.8287 acc_train: 0.4769 time: 96.7463s\n",
      "Epoch: 0009 loss_train: 3.6592 acc_train: 0.5105 time: 97.9121s\n",
      "Epoch: 0010 loss_train: 3.4885 acc_train: 0.5314 time: 92.2906s\n",
      "Epoch: 0011 loss_train: 3.3566 acc_train: 0.5450 time: 95.2523s\n",
      "Epoch: 0012 loss_train: 3.2325 acc_train: 0.5559 time: 95.0424s\n",
      "Epoch: 0013 loss_train: 3.1098 acc_train: 0.5673 time: 92.3674s\n",
      "Epoch: 0014 loss_train: 2.9878 acc_train: 0.5811 time: 92.9896s\n",
      "Epoch: 0015 loss_train: 2.8639 acc_train: 0.5984 time: 92.5419s\n",
      "Epoch: 0016 loss_train: 2.7314 acc_train: 0.6195 time: 89.9360s\n",
      "Epoch: 0017 loss_train: 2.5741 acc_train: 0.6430 time: 95.2835s\n",
      "Epoch: 0018 loss_train: 2.4057 acc_train: 0.6674 time: 94.4667s\n",
      "Epoch: 0019 loss_train: 2.2435 acc_train: 0.6916 time: 88.0332s\n",
      "Epoch: 0020 loss_train: 2.0915 acc_train: 0.7138 time: 93.5124s\n",
      "Epoch: 0021 loss_train: 1.9330 acc_train: 0.7329 time: 96.7216s\n",
      "Epoch: 0022 loss_train: 1.7662 acc_train: 0.7495 time: 94.8786s\n",
      "Epoch: 0023 loss_train: 1.6089 acc_train: 0.7638 time: 92.7819s\n",
      "Epoch: 0024 loss_train: 1.4768 acc_train: 0.7756 time: 94.2422s\n",
      "Epoch: 0025 loss_train: 1.3467 acc_train: 0.7852 time: 94.0535s\n",
      "Epoch: 0026 loss_train: 1.2311 acc_train: 0.7929 time: 91.8549s\n",
      "Epoch: 0027 loss_train: 1.1326 acc_train: 0.7986 time: 95.2086s\n",
      "Epoch: 0028 loss_train: 1.0496 acc_train: 0.8036 time: 86.4151s\n",
      "Epoch: 0029 loss_train: 0.9804 acc_train: 0.8074 time: 97.1203s\n",
      "Epoch: 0030 loss_train: 0.9229 acc_train: 0.8109 time: 93.0289s\n",
      "Epoch: 0031 loss_train: 0.8748 acc_train: 0.8140 time: 105.2257s\n",
      "Epoch: 0032 loss_train: 0.8355 acc_train: 0.8165 time: 90.8092s\n",
      "Epoch: 0033 loss_train: 0.8031 acc_train: 0.8188 time: 106.0806s\n",
      "Epoch: 0034 loss_train: 0.7763 acc_train: 0.8207 time: 95.4604s\n",
      "Epoch: 0035 loss_train: 0.7550 acc_train: 0.8224 time: 84.4696s\n",
      "Epoch: 0036 loss_train: 0.7373 acc_train: 0.8238 time: 87.3627s\n",
      "Epoch: 0037 loss_train: 0.7228 acc_train: 0.8252 time: 98.6095s\n",
      "Epoch: 0038 loss_train: 0.7114 acc_train: 0.8263 time: 91.9476s\n",
      "Epoch: 0039 loss_train: 0.7017 acc_train: 0.8275 time: 88.7441s\n",
      "Epoch: 0040 loss_train: 0.6943 acc_train: 0.8284 time: 90.6210s\n",
      "Epoch: 0041 loss_train: 0.6874 acc_train: 0.8295 time: 90.6350s\n",
      "Epoch: 0042 loss_train: 0.6817 acc_train: 0.8304 time: 93.4302s\n",
      "Epoch: 0043 loss_train: 0.6770 acc_train: 0.8313 time: 100.2675s\n",
      "Epoch: 0044 loss_train: 0.6724 acc_train: 0.8322 time: 92.1012s\n",
      "Epoch: 0045 loss_train: 0.6685 acc_train: 0.8330 time: 89.9832s\n",
      "Epoch: 0046 loss_train: 0.6649 acc_train: 0.8337 time: 91.1236s\n",
      "Epoch: 0047 loss_train: 0.6608 acc_train: 0.8344 time: 84.5122s\n",
      "Epoch: 0048 loss_train: 0.6576 acc_train: 0.8350 time: 88.8152s\n",
      "Epoch: 0049 loss_train: 0.6541 acc_train: 0.8354 time: 90.4372s\n",
      "Epoch: 0050 loss_train: 0.6512 acc_train: 0.8359 time: 87.8164s\n",
      "Epoch: 0051 loss_train: 0.6481 acc_train: 0.8362 time: 89.6299s\n",
      "Epoch: 0052 loss_train: 0.6448 acc_train: 0.8365 time: 90.2462s\n",
      "Epoch: 0053 loss_train: 0.6417 acc_train: 0.8369 time: 96.9162s\n",
      "Epoch: 0054 loss_train: 0.6393 acc_train: 0.8372 time: 92.4660s\n",
      "Epoch: 0055 loss_train: 0.6363 acc_train: 0.8375 time: 86.6735s\n",
      "Epoch: 0056 loss_train: 0.6332 acc_train: 0.8379 time: 90.1418s\n",
      "Epoch: 0057 loss_train: 0.6307 acc_train: 0.8380 time: 88.6517s\n",
      "Epoch: 0058 loss_train: 0.6278 acc_train: 0.8383 time: 86.8369s\n",
      "Epoch: 0059 loss_train: 0.6252 acc_train: 0.8384 time: 90.7358s\n",
      "Epoch: 0060 loss_train: 0.6227 acc_train: 0.8387 time: 87.0694s\n",
      "Epoch: 0061 loss_train: 0.6203 acc_train: 0.8390 time: 95.7171s\n",
      "Epoch: 0062 loss_train: 0.6175 acc_train: 0.8393 time: 87.0270s\n",
      "Epoch: 0063 loss_train: 0.6152 acc_train: 0.8394 time: 90.6333s\n",
      "Epoch: 0064 loss_train: 0.6127 acc_train: 0.8397 time: 89.4151s\n",
      "Epoch: 0065 loss_train: 0.6104 acc_train: 0.8400 time: 89.1089s\n",
      "Epoch: 0066 loss_train: 0.6085 acc_train: 0.8401 time: 88.9717s\n",
      "Epoch: 0067 loss_train: 0.6061 acc_train: 0.8403 time: 92.7580s\n",
      "Epoch: 0068 loss_train: 0.6044 acc_train: 0.8405 time: 88.8147s\n",
      "Epoch: 0069 loss_train: 0.6024 acc_train: 0.8406 time: 91.9471s\n",
      "Epoch: 0070 loss_train: 0.6005 acc_train: 0.8408 time: 93.6963s\n",
      "Epoch: 0071 loss_train: 0.5990 acc_train: 0.8408 time: 89.8994s\n",
      "Epoch: 0072 loss_train: 0.5973 acc_train: 0.8410 time: 96.3504s\n",
      "Epoch: 0073 loss_train: 0.5956 acc_train: 0.8413 time: 91.1065s\n",
      "Epoch: 0074 loss_train: 0.5944 acc_train: 0.8412 time: 88.2058s\n",
      "Epoch: 0075 loss_train: 0.5928 acc_train: 0.8413 time: 87.4235s\n",
      "Epoch: 0076 loss_train: 0.5918 acc_train: 0.8414 time: 88.3314s\n",
      "Epoch: 0077 loss_train: 0.5905 acc_train: 0.8415 time: 88.2465s\n",
      "Epoch: 0078 loss_train: 0.5887 acc_train: 0.8417 time: 88.8879s\n",
      "Epoch: 0079 loss_train: 0.5882 acc_train: 0.8417 time: 93.3021s\n",
      "Epoch: 0080 loss_train: 0.5866 acc_train: 0.8417 time: 88.8802s\n",
      "Epoch: 0081 loss_train: 0.5858 acc_train: 0.8418 time: 90.8629s\n",
      "Epoch: 0082 loss_train: 0.5847 acc_train: 0.8419 time: 89.6704s\n",
      "Epoch: 0083 loss_train: 0.5841 acc_train: 0.8418 time: 88.6364s\n",
      "Epoch: 0084 loss_train: 0.5832 acc_train: 0.8419 time: 95.3355s\n",
      "Epoch: 0085 loss_train: 0.5822 acc_train: 0.8420 time: 89.5153s\n",
      "Epoch: 0086 loss_train: 0.5813 acc_train: 0.8421 time: 88.6429s\n",
      "Epoch: 0087 loss_train: 0.5804 acc_train: 0.8421 time: 90.7289s\n",
      "Epoch: 0088 loss_train: 0.5797 acc_train: 0.8421 time: 94.8806s\n",
      "Epoch: 0089 loss_train: 0.5788 acc_train: 0.8422 time: 92.6511s\n",
      "Epoch: 0090 loss_train: 0.5782 acc_train: 0.8422 time: 90.2556s\n",
      "Epoch: 0091 loss_train: 0.5773 acc_train: 0.8423 time: 90.9538s\n",
      "Epoch: 0092 loss_train: 0.5768 acc_train: 0.8423 time: 93.2482s\n",
      "Epoch: 0093 loss_train: 0.5759 acc_train: 0.8423 time: 90.3238s\n",
      "Epoch: 0094 loss_train: 0.5755 acc_train: 0.8423 time: 90.8617s\n",
      "Epoch: 0095 loss_train: 0.5746 acc_train: 0.8426 time: 91.6731s\n",
      "Epoch: 0096 loss_train: 0.5741 acc_train: 0.8424 time: 92.4876s\n",
      "Epoch: 0097 loss_train: 0.5732 acc_train: 0.8424 time: 91.8328s\n",
      "Epoch: 0098 loss_train: 0.5727 acc_train: 0.8425 time: 91.1545s\n",
      "Epoch: 0099 loss_train: 0.5721 acc_train: 0.8425 time: 92.5587s\n",
      "Optimization Finished!\n",
      "Total time elapsed: 9235.6540s\n"
     ]
    }
   ],
   "source": [
    "# 1203 - embdding: activation 탄 값 ( ELU )\n",
    "# Model and optimizer\n",
    "model = GCN(nfeat = features.shape[1],\n",
    "            nhid = 128,\n",
    "            nclass=labels.max().item() + 1,\n",
    "            dropout = 0.5 ,\n",
    "            prelu_init = torch.tensor(0.25) )\n",
    "\n",
    "optimizer = optim.Adam(model.parameters(),\n",
    "                       lr = 0.01) # 원래 weight_decay = 5e-4 였는데, prelu쓸때엔 learning-decay 빼주라네???\n",
    "\n",
    "\n",
    "\n",
    "def train(epoch, get_embedding = False):\n",
    "    if not get_embedding :\n",
    "        t = time.time()\n",
    "        model.train()\n",
    "        optimizer.zero_grad()\n",
    "        output, embedding = model(features, adj)\n",
    "        loss_train = F.nll_loss(output, labels)\n",
    "        acc_train = accuracy(output, labels )\n",
    "        loss_train.backward()\n",
    "        optimizer.step()\n",
    "    else:\n",
    "        t = time.time()\n",
    "        model.train()\n",
    "        optimizer.zero_grad()\n",
    "        output, embedding = model(features, adj)\n",
    "        loss_train = F.nll_loss(output, labels)\n",
    "        acc_train = accuracy(output, labels )\n",
    "        loss_train.backward()\n",
    "        optimizer.step()\n",
    "        return embedding\n",
    "\n",
    "\n",
    "\n",
    "    print('Epoch: {:04d}'.format(epoch+1),\n",
    "          'loss_train: {:.4f}'.format(loss_train.item()),\n",
    "          'acc_train: {:.4f}'.format(acc_train.item()),\n",
    "          'time: {:.4f}s'.format(time.time() - t))\n",
    "\n",
    "\n",
    "\n",
    "\n",
    "# Train model\n",
    "epochs = 100 # set #epochs\n",
    "\n",
    "t_total = time.time()\n",
    "for epoch in range( epochs ): # epochs\n",
    "    if epoch == epochs-1:\n",
    "        embedding = train(epoch, True)\n",
    "    else:\n",
    "        train(epoch)\n",
    "print(\"Optimization Finished!\")\n",
    "print(\"Total time elapsed: {:.4f}s\".format(time.time() - t_total))\n",
    "\n",
    "# Testing\n"
   ]
  },
  {
   "cell_type": "markdown",
   "metadata": {},
   "source": [
    "----\n",
    "---"
   ]
  },
  {
   "cell_type": "markdown",
   "metadata": {
    "colab_type": "text",
    "id": "w6yN3uVFlno6"
   },
   "source": [
    "# * 학습 후, embedding  파일 만들기"
   ]
  },
  {
   "cell_type": "code",
   "execution_count": 30,
   "metadata": {
    "colab": {
     "base_uri": "https://localhost:8080/",
     "height": 34
    },
    "colab_type": "code",
    "executionInfo": {
     "elapsed": 657,
     "status": "ok",
     "timestamp": 1575425728069,
     "user": {
      "displayName": "이명규",
      "photoUrl": "",
      "userId": "00414544825750465133"
     },
     "user_tz": -540
    },
    "id": "thS5zf3PCstl",
    "outputId": "46b9e877-a965-4b9a-c99d-c0a7b76e5cd3"
   },
   "outputs": [
    {
     "data": {
      "text/plain": [
       "torch.Size([5591911, 128])"
      ]
     },
     "execution_count": 30,
     "metadata": {},
     "output_type": "execute_result"
    }
   ],
   "source": [
    "embedding.shape # "
   ]
  },
  {
   "cell_type": "code",
   "execution_count": 34,
   "metadata": {},
   "outputs": [
    {
     "data": {
      "text/html": [
       "<div>\n",
       "<style scoped>\n",
       "    .dataframe tbody tr th:only-of-type {\n",
       "        vertical-align: middle;\n",
       "    }\n",
       "\n",
       "    .dataframe tbody tr th {\n",
       "        vertical-align: top;\n",
       "    }\n",
       "\n",
       "    .dataframe thead th {\n",
       "        text-align: right;\n",
       "    }\n",
       "</style>\n",
       "<table border=\"1\" class=\"dataframe\">\n",
       "  <thead>\n",
       "    <tr style=\"text-align: right;\">\n",
       "      <th></th>\n",
       "      <th>pid</th>\n",
       "      <th>dcate_cd</th>\n",
       "      <th>scate_cd</th>\n",
       "      <th>mcate_cd</th>\n",
       "      <th>lcate_cd</th>\n",
       "    </tr>\n",
       "  </thead>\n",
       "  <tbody>\n",
       "    <tr>\n",
       "      <th>0</th>\n",
       "      <td>602610157</td>\n",
       "      <td>4100879</td>\n",
       "      <td>3100174</td>\n",
       "      <td>2100020</td>\n",
       "      <td>1100004</td>\n",
       "    </tr>\n",
       "    <tr>\n",
       "      <th>1</th>\n",
       "      <td>600515938</td>\n",
       "      <td>4100077</td>\n",
       "      <td>3100012</td>\n",
       "      <td>2100003</td>\n",
       "      <td>1100000</td>\n",
       "    </tr>\n",
       "    <tr>\n",
       "      <th>2</th>\n",
       "      <td>600185944</td>\n",
       "      <td>4100042</td>\n",
       "      <td>3100007</td>\n",
       "      <td>2100002</td>\n",
       "      <td>1100000</td>\n",
       "    </tr>\n",
       "    <tr>\n",
       "      <th>3</th>\n",
       "      <td>601529111</td>\n",
       "      <td>4105068</td>\n",
       "      <td>3102133</td>\n",
       "      <td>2100425</td>\n",
       "      <td>1100059</td>\n",
       "    </tr>\n",
       "    <tr>\n",
       "      <th>4</th>\n",
       "      <td>600016493</td>\n",
       "      <td>4102692</td>\n",
       "      <td>3100489</td>\n",
       "      <td>2100084</td>\n",
       "      <td>1100014</td>\n",
       "    </tr>\n",
       "  </tbody>\n",
       "</table>\n",
       "</div>"
      ],
      "text/plain": [
       "         pid  dcate_cd  scate_cd  mcate_cd  lcate_cd\n",
       "0  602610157   4100879   3100174   2100020   1100004\n",
       "1  600515938   4100077   3100012   2100003   1100000\n",
       "2  600185944   4100042   3100007   2100002   1100000\n",
       "3  601529111   4105068   3102133   2100425   1100059\n",
       "4  600016493   4102692   3100489   2100084   1100014"
      ]
     },
     "execution_count": 34,
     "metadata": {},
     "output_type": "execute_result"
    }
   ],
   "source": [
    "undi_nodes_w_cate.head()"
   ]
  },
  {
   "cell_type": "code",
   "execution_count": 33,
   "metadata": {
    "colab": {
     "base_uri": "https://localhost:8080/",
     "height": 206
    },
    "colab_type": "code",
    "executionInfo": {
     "elapsed": 588,
     "status": "ok",
     "timestamp": 1575425732396,
     "user": {
      "displayName": "이명규",
      "photoUrl": "",
      "userId": "00414544825750465133"
     },
     "user_tz": -540
    },
    "id": "DzLdC4ndB0fL",
    "outputId": "0fbb545e-435f-4ba0-9c39-b6dfcbc7e08d"
   },
   "outputs": [
    {
     "data": {
      "text/html": [
       "<div>\n",
       "<style scoped>\n",
       "    .dataframe tbody tr th:only-of-type {\n",
       "        vertical-align: middle;\n",
       "    }\n",
       "\n",
       "    .dataframe tbody tr th {\n",
       "        vertical-align: top;\n",
       "    }\n",
       "\n",
       "    .dataframe thead th {\n",
       "        text-align: right;\n",
       "    }\n",
       "</style>\n",
       "<table border=\"1\" class=\"dataframe\">\n",
       "  <thead>\n",
       "    <tr style=\"text-align: right;\">\n",
       "      <th></th>\n",
       "      <th>pid</th>\n",
       "      <th>dcate_cd</th>\n",
       "      <th>scate_cd</th>\n",
       "      <th>mcate_cd</th>\n",
       "      <th>lcate_cd</th>\n",
       "    </tr>\n",
       "  </thead>\n",
       "  <tbody>\n",
       "    <tr>\n",
       "      <th>5591906</th>\n",
       "      <td>146583113</td>\n",
       "      <td>4101359</td>\n",
       "      <td>3100258</td>\n",
       "      <td>2100504</td>\n",
       "      <td>1100006</td>\n",
       "    </tr>\n",
       "    <tr>\n",
       "      <th>5591907</th>\n",
       "      <td>319525783</td>\n",
       "      <td>4101359</td>\n",
       "      <td>3100258</td>\n",
       "      <td>2100504</td>\n",
       "      <td>1100006</td>\n",
       "    </tr>\n",
       "    <tr>\n",
       "      <th>5591908</th>\n",
       "      <td>125568429</td>\n",
       "      <td>4101359</td>\n",
       "      <td>3100258</td>\n",
       "      <td>2100504</td>\n",
       "      <td>1100006</td>\n",
       "    </tr>\n",
       "    <tr>\n",
       "      <th>5591909</th>\n",
       "      <td>102097148</td>\n",
       "      <td>4101359</td>\n",
       "      <td>3100258</td>\n",
       "      <td>2100504</td>\n",
       "      <td>1100006</td>\n",
       "    </tr>\n",
       "    <tr>\n",
       "      <th>5591910</th>\n",
       "      <td>100156718</td>\n",
       "      <td>4101359</td>\n",
       "      <td>3100258</td>\n",
       "      <td>2100504</td>\n",
       "      <td>1100006</td>\n",
       "    </tr>\n",
       "  </tbody>\n",
       "</table>\n",
       "</div>"
      ],
      "text/plain": [
       "               pid  dcate_cd  scate_cd  mcate_cd  lcate_cd\n",
       "5591906  146583113   4101359   3100258   2100504   1100006\n",
       "5591907  319525783   4101359   3100258   2100504   1100006\n",
       "5591908  125568429   4101359   3100258   2100504   1100006\n",
       "5591909  102097148   4101359   3100258   2100504   1100006\n",
       "5591910  100156718   4101359   3100258   2100504   1100006"
      ]
     },
     "execution_count": 33,
     "metadata": {},
     "output_type": "execute_result"
    }
   ],
   "source": [
    "undi_nodes_w_cate.tail()"
   ]
  },
  {
   "cell_type": "code",
   "execution_count": 32,
   "metadata": {
    "colab": {
     "base_uri": "https://localhost:8080/",
     "height": 243
    },
    "colab_type": "code",
    "executionInfo": {
     "elapsed": 585,
     "status": "ok",
     "timestamp": 1575425737700,
     "user": {
      "displayName": "이명규",
      "photoUrl": "",
      "userId": "00414544825750465133"
     },
     "user_tz": -540
    },
    "id": "RtZWTCe0hpeP",
    "outputId": "92352c32-0eb2-4159-d4fb-863390e83b98"
   },
   "outputs": [
    {
     "data": {
      "text/plain": [
       "tensor([[ 0.4463,  0.2773,  0.1779,  ...,  0.2993,  0.2003,  0.2330],\n",
       "        [ 0.5161,  0.2814,  0.3335,  ...,  0.1356,  0.1705,  0.2941],\n",
       "        [ 0.4172,  0.2520,  0.2921,  ...,  0.1771,  0.1808,  0.3127],\n",
       "        ...,\n",
       "        [-0.0223,  0.6326,  0.3706,  ...,  0.5878, -0.0456,  0.3477],\n",
       "        [-0.0223,  0.6326,  0.3706,  ...,  0.5878, -0.0456,  0.3477],\n",
       "        [-0.0223,  0.6326,  0.3706,  ...,  0.5878, -0.0456,  0.3477]],\n",
       "       grad_fn=<PreluBackward>)"
      ]
     },
     "execution_count": 32,
     "metadata": {},
     "output_type": "execute_result"
    }
   ],
   "source": [
    "embedding"
   ]
  },
  {
   "cell_type": "code",
   "execution_count": 36,
   "metadata": {
    "colab": {
     "base_uri": "https://localhost:8080/",
     "height": 34
    },
    "colab_type": "code",
    "executionInfo": {
     "elapsed": 560,
     "status": "ok",
     "timestamp": 1575425743650,
     "user": {
      "displayName": "이명규",
      "photoUrl": "",
      "userId": "00414544825750465133"
     },
     "user_tz": -540
    },
    "id": "SDJpk-rVD4Jz",
    "outputId": "efbafcfe-093c-4953-c76b-b1a4f9e4d491"
   },
   "outputs": [
    {
     "data": {
      "text/plain": [
       "(5591911, 5)"
      ]
     },
     "execution_count": 36,
     "metadata": {},
     "output_type": "execute_result"
    }
   ],
   "source": [
    "undi_nodes_w_cate.shape"
   ]
  },
  {
   "cell_type": "code",
   "execution_count": 35,
   "metadata": {
    "colab": {},
    "colab_type": "code",
    "id": "V9wOY7w1B0Pc"
   },
   "outputs": [],
   "source": [
    "embedding_npy = embedding.detach().numpy()"
   ]
  },
  {
   "cell_type": "code",
   "execution_count": 41,
   "metadata": {
    "colab": {},
    "colab_type": "code",
    "id": "-tN0DjU0Cs_T"
   },
   "outputs": [],
   "source": [
    "# 혹시 몰라 저장\n",
    "np.save('result_data/embedding_1209_prelu.npy',embedding_npy)"
   ]
  },
  {
   "cell_type": "markdown",
   "metadata": {
    "colab": {},
    "colab_type": "code",
    "id": "N006tc5Ncl0e"
   },
   "source": [
    "---"
   ]
  },
  {
   "cell_type": "code",
   "execution_count": null,
   "metadata": {
    "colab": {},
    "colab_type": "code",
    "id": "g3LLYNs1ceyf"
   },
   "outputs": [],
   "source": [
    "embedding_npy = np.load('embedding_1203.npy')"
   ]
  },
  {
   "cell_type": "code",
   "execution_count": null,
   "metadata": {
    "colab": {
     "base_uri": "https://localhost:8080/",
     "height": 243
    },
    "colab_type": "code",
    "executionInfo": {
     "elapsed": 703,
     "status": "ok",
     "timestamp": 1575364449489,
     "user": {
      "displayName": "이명규",
      "photoUrl": "",
      "userId": "00414544825750465133"
     },
     "user_tz": -540
    },
    "id": "nWu32ohmCccH",
    "outputId": "5dbba387-c394-4d3d-bf6c-1ba46bde4b37"
   },
   "outputs": [
    {
     "data": {
      "text/plain": [
       "array([[-0.06229699,  0.10632266,  0.13854109, ...,  0.1667273 ,\n",
       "         0.17042798, -0.03680032],\n",
       "       [-0.03422737,  0.08680156,  0.10839143, ...,  0.13637027,\n",
       "         0.1410108 , -0.01611423],\n",
       "       [-0.02145267,  0.08144503,  0.10349715, ...,  0.12403204,\n",
       "         0.1262565 , -0.02063572],\n",
       "       ...,\n",
       "       [ 0.19105117, -0.08257723,  0.18580681, ..., -0.0757308 ,\n",
       "         0.1456488 , -0.08505833],\n",
       "       [-0.07341862, -0.0332883 , -0.10092348, ..., -0.12907463,\n",
       "        -0.045708  ,  0.21251215],\n",
       "       [ 0.17877957,  0.15571123, -0.08540243, ..., -0.07913971,\n",
       "         0.13730708, -0.04629767]], dtype=float32)"
      ]
     },
     "execution_count": 167,
     "metadata": {
      "tags": []
     },
     "output_type": "execute_result"
    }
   ],
   "source": [
    "embedding_npy"
   ]
  },
  {
   "cell_type": "markdown",
   "metadata": {},
   "source": [
    "---"
   ]
  },
  {
   "cell_type": "markdown",
   "metadata": {},
   "source": [
    "## embedding + (undi_nodes_w_cate + deal_name_1209)"
   ]
  },
  {
   "cell_type": "code",
   "execution_count": 37,
   "metadata": {
    "colab": {},
    "colab_type": "code",
    "id": "rlsOX3gOCZXq"
   },
   "outputs": [],
   "source": [
    "# 1. embedding\n",
    "embedding_df = pd.DataFrame(embedding_npy )"
   ]
  },
  {
   "cell_type": "code",
   "execution_count": 38,
   "metadata": {
    "colab": {
     "base_uri": "https://localhost:8080/",
     "height": 34
    },
    "colab_type": "code",
    "executionInfo": {
     "elapsed": 538,
     "status": "ok",
     "timestamp": 1575425782631,
     "user": {
      "displayName": "이명규",
      "photoUrl": "",
      "userId": "00414544825750465133"
     },
     "user_tz": -540
    },
    "id": "1-SHmY_6DL5T",
    "outputId": "4ad7a796-3d0d-44ea-80c7-50085245c937"
   },
   "outputs": [
    {
     "data": {
      "text/plain": [
       "0.44628644"
      ]
     },
     "execution_count": 38,
     "metadata": {},
     "output_type": "execute_result"
    }
   ],
   "source": [
    "embedding_df.iloc[0][0]"
   ]
  },
  {
   "cell_type": "code",
   "execution_count": 39,
   "metadata": {
    "colab": {
     "base_uri": "https://localhost:8080/",
     "height": 206
    },
    "colab_type": "code",
    "executionInfo": {
     "elapsed": 680,
     "status": "ok",
     "timestamp": 1575425785831,
     "user": {
      "displayName": "이명규",
      "photoUrl": "",
      "userId": "00414544825750465133"
     },
     "user_tz": -540
    },
    "id": "QSsSYqEekMcE",
    "outputId": "ebec7a45-aee8-44ec-9adb-7907e7d61bc7"
   },
   "outputs": [
    {
     "data": {
      "text/html": [
       "<div>\n",
       "<style scoped>\n",
       "    .dataframe tbody tr th:only-of-type {\n",
       "        vertical-align: middle;\n",
       "    }\n",
       "\n",
       "    .dataframe tbody tr th {\n",
       "        vertical-align: top;\n",
       "    }\n",
       "\n",
       "    .dataframe thead th {\n",
       "        text-align: right;\n",
       "    }\n",
       "</style>\n",
       "<table border=\"1\" class=\"dataframe\">\n",
       "  <thead>\n",
       "    <tr style=\"text-align: right;\">\n",
       "      <th></th>\n",
       "      <th>pid</th>\n",
       "      <th>dcate_cd</th>\n",
       "      <th>scate_cd</th>\n",
       "      <th>mcate_cd</th>\n",
       "      <th>lcate_cd</th>\n",
       "    </tr>\n",
       "  </thead>\n",
       "  <tbody>\n",
       "    <tr>\n",
       "      <th>0</th>\n",
       "      <td>602610157</td>\n",
       "      <td>4100879</td>\n",
       "      <td>3100174</td>\n",
       "      <td>2100020</td>\n",
       "      <td>1100004</td>\n",
       "    </tr>\n",
       "    <tr>\n",
       "      <th>1</th>\n",
       "      <td>600515938</td>\n",
       "      <td>4100077</td>\n",
       "      <td>3100012</td>\n",
       "      <td>2100003</td>\n",
       "      <td>1100000</td>\n",
       "    </tr>\n",
       "    <tr>\n",
       "      <th>2</th>\n",
       "      <td>600185944</td>\n",
       "      <td>4100042</td>\n",
       "      <td>3100007</td>\n",
       "      <td>2100002</td>\n",
       "      <td>1100000</td>\n",
       "    </tr>\n",
       "    <tr>\n",
       "      <th>3</th>\n",
       "      <td>601529111</td>\n",
       "      <td>4105068</td>\n",
       "      <td>3102133</td>\n",
       "      <td>2100425</td>\n",
       "      <td>1100059</td>\n",
       "    </tr>\n",
       "    <tr>\n",
       "      <th>4</th>\n",
       "      <td>600016493</td>\n",
       "      <td>4102692</td>\n",
       "      <td>3100489</td>\n",
       "      <td>2100084</td>\n",
       "      <td>1100014</td>\n",
       "    </tr>\n",
       "  </tbody>\n",
       "</table>\n",
       "</div>"
      ],
      "text/plain": [
       "         pid  dcate_cd  scate_cd  mcate_cd  lcate_cd\n",
       "0  602610157   4100879   3100174   2100020   1100004\n",
       "1  600515938   4100077   3100012   2100003   1100000\n",
       "2  600185944   4100042   3100007   2100002   1100000\n",
       "3  601529111   4105068   3102133   2100425   1100059\n",
       "4  600016493   4102692   3100489   2100084   1100014"
      ]
     },
     "execution_count": 39,
     "metadata": {},
     "output_type": "execute_result"
    }
   ],
   "source": [
    "# 2. undi_nodes_w_cate\n",
    "undi_nodes_w_cate.head()"
   ]
  },
  {
   "cell_type": "code",
   "execution_count": null,
   "metadata": {},
   "outputs": [],
   "source": [
    "# 3. deal_name_1209"
   ]
  },
  {
   "cell_type": "code",
   "execution_count": 40,
   "metadata": {},
   "outputs": [
    {
     "name": "stderr",
     "output_type": "stream",
     "text": [
      "/home/wmind/anaconda3/lib/python3.7/site-packages/numpy/lib/arraysetops.py:568: FutureWarning: elementwise comparison failed; returning scalar instead, but in the future will perform elementwise comparison\n",
      "  mask |= (ar1 == a)\n"
     ]
    }
   ],
   "source": [
    "deal_name_1209 = pd.read_csv('result_data/deal_name_1209.csv', index_col=0)"
   ]
  },
  {
   "cell_type": "code",
   "execution_count": 41,
   "metadata": {},
   "outputs": [
    {
     "data": {
      "text/html": [
       "<div>\n",
       "<style scoped>\n",
       "    .dataframe tbody tr th:only-of-type {\n",
       "        vertical-align: middle;\n",
       "    }\n",
       "\n",
       "    .dataframe tbody tr th {\n",
       "        vertical-align: top;\n",
       "    }\n",
       "\n",
       "    .dataframe thead th {\n",
       "        text-align: right;\n",
       "    }\n",
       "</style>\n",
       "<table border=\"1\" class=\"dataframe\">\n",
       "  <thead>\n",
       "    <tr style=\"text-align: right;\">\n",
       "      <th></th>\n",
       "      <th>pid</th>\n",
       "      <th>dealNm</th>\n",
       "    </tr>\n",
       "  </thead>\n",
       "  <tbody>\n",
       "    <tr>\n",
       "      <th>0</th>\n",
       "      <td>600006061</td>\n",
       "      <td>독차지 강아지 배변판 배변망 대형 중형 애견 개 고양이 화장실</td>\n",
       "    </tr>\n",
       "    <tr>\n",
       "      <th>1</th>\n",
       "      <td>600011647</td>\n",
       "      <td>[ANF] 강아지껌 모음전 (묶음가능)</td>\n",
       "    </tr>\n",
       "    <tr>\n",
       "      <th>2</th>\n",
       "      <td>600019657</td>\n",
       "      <td>비프월드 제육볶음용 돼지고기500g 프리미엄미국산</td>\n",
       "    </tr>\n",
       "    <tr>\n",
       "      <th>3</th>\n",
       "      <td>600027074</td>\n",
       "      <td>[에코스토어] 뉴질랜드친환경/베이비스킨케어/친환경로션/아기로션/아기샴푸/바디워시/배...</td>\n",
       "    </tr>\n",
       "    <tr>\n",
       "      <th>4</th>\n",
       "      <td>600031762</td>\n",
       "      <td>빈슨메시프 가성비 캠핑침낭 모음-감성 사계절 극 동계</td>\n",
       "    </tr>\n",
       "  </tbody>\n",
       "</table>\n",
       "</div>"
      ],
      "text/plain": [
       "         pid                                             dealNm\n",
       "0  600006061                 독차지 강아지 배변판 배변망 대형 중형 애견 개 고양이 화장실\n",
       "1  600011647                              [ANF] 강아지껌 모음전 (묶음가능)\n",
       "2  600019657                        비프월드 제육볶음용 돼지고기500g 프리미엄미국산\n",
       "3  600027074  [에코스토어] 뉴질랜드친환경/베이비스킨케어/친환경로션/아기로션/아기샴푸/바디워시/배...\n",
       "4  600031762                      빈슨메시프 가성비 캠핑침낭 모음-감성 사계절 극 동계"
      ]
     },
     "execution_count": 41,
     "metadata": {},
     "output_type": "execute_result"
    }
   ],
   "source": [
    "deal_name_1209.head()"
   ]
  },
  {
   "cell_type": "code",
   "execution_count": 43,
   "metadata": {},
   "outputs": [],
   "source": [
    "undi_nodes_w_cate_ = undi_nodes_w_cate[['pid', 'lcate_cd']].merge(deal_name_1209, how='left')"
   ]
  },
  {
   "cell_type": "code",
   "execution_count": 46,
   "metadata": {},
   "outputs": [
    {
     "data": {
      "text/html": [
       "<div>\n",
       "<style scoped>\n",
       "    .dataframe tbody tr th:only-of-type {\n",
       "        vertical-align: middle;\n",
       "    }\n",
       "\n",
       "    .dataframe tbody tr th {\n",
       "        vertical-align: top;\n",
       "    }\n",
       "\n",
       "    .dataframe thead th {\n",
       "        text-align: right;\n",
       "    }\n",
       "</style>\n",
       "<table border=\"1\" class=\"dataframe\">\n",
       "  <thead>\n",
       "    <tr style=\"text-align: right;\">\n",
       "      <th></th>\n",
       "      <th>pid</th>\n",
       "      <th>lcate_cd</th>\n",
       "      <th>dealNm</th>\n",
       "    </tr>\n",
       "  </thead>\n",
       "  <tbody>\n",
       "    <tr>\n",
       "      <th>0</th>\n",
       "      <td>602610157</td>\n",
       "      <td>1100004</td>\n",
       "      <td>쿠폰추가★ 11개구매시 쿠폰가8,170원! 한끼대용 간편선식 국내산100% 7가지맛...</td>\n",
       "    </tr>\n",
       "    <tr>\n",
       "      <th>1</th>\n",
       "      <td>600515938</td>\n",
       "      <td>1100000</td>\n",
       "      <td>[실라리안] 국내산 돼지고기로 만든 가성비 갑 만두 모음!</td>\n",
       "    </tr>\n",
       "    <tr>\n",
       "      <th>2</th>\n",
       "      <td>600185944</td>\n",
       "      <td>1100000</td>\n",
       "      <td>[실라리안] 100% 우리콩 안동낫또 골라담기</td>\n",
       "    </tr>\n",
       "    <tr>\n",
       "      <th>3</th>\n",
       "      <td>601529111</td>\n",
       "      <td>1100059</td>\n",
       "      <td>닥터딥 민감성피부관리 여드름성 피부, 아기피부, 수부지피부</td>\n",
       "    </tr>\n",
       "    <tr>\n",
       "      <th>4</th>\n",
       "      <td>600016493</td>\n",
       "      <td>1100014</td>\n",
       "      <td>[쇼핑의모든것] 대천갓바위김 도시락김120봉 가격특가</td>\n",
       "    </tr>\n",
       "  </tbody>\n",
       "</table>\n",
       "</div>"
      ],
      "text/plain": [
       "         pid  lcate_cd                                             dealNm\n",
       "0  602610157   1100004  쿠폰추가★ 11개구매시 쿠폰가8,170원! 한끼대용 간편선식 국내산100% 7가지맛...\n",
       "1  600515938   1100000                   [실라리안] 국내산 돼지고기로 만든 가성비 갑 만두 모음!\n",
       "2  600185944   1100000                          [실라리안] 100% 우리콩 안동낫또 골라담기\n",
       "3  601529111   1100059                   닥터딥 민감성피부관리 여드름성 피부, 아기피부, 수부지피부\n",
       "4  600016493   1100014                      [쇼핑의모든것] 대천갓바위김 도시락김120봉 가격특가"
      ]
     },
     "execution_count": 46,
     "metadata": {},
     "output_type": "execute_result"
    }
   ],
   "source": [
    "undi_nodes_w_cate_.head()"
   ]
  },
  {
   "cell_type": "code",
   "execution_count": 44,
   "metadata": {},
   "outputs": [
    {
     "data": {
      "text/plain": [
       "(5591911, 3)"
      ]
     },
     "execution_count": 44,
     "metadata": {},
     "output_type": "execute_result"
    }
   ],
   "source": [
    "undi_nodes_w_cate_.shape"
   ]
  },
  {
   "cell_type": "code",
   "execution_count": 45,
   "metadata": {},
   "outputs": [
    {
     "data": {
      "text/plain": [
       "pid         0\n",
       "lcate_cd    0\n",
       "dealNm      0\n",
       "dtype: int64"
      ]
     },
     "execution_count": 45,
     "metadata": {},
     "output_type": "execute_result"
    }
   ],
   "source": [
    "undi_nodes_w_cate_.isnull().sum(axis=0)"
   ]
  },
  {
   "cell_type": "markdown",
   "metadata": {},
   "source": [
    "---"
   ]
  },
  {
   "cell_type": "code",
   "execution_count": null,
   "metadata": {
    "colab": {},
    "colab_type": "code",
    "id": "nxSTrkzyuJiA"
   },
   "outputs": [],
   "source": [
    "apply(lambda x: \"\".join(x.split()))"
   ]
  },
  {
   "cell_type": "code",
   "execution_count": 47,
   "metadata": {
    "colab": {
     "base_uri": "https://localhost:8080/",
     "height": 225
    },
    "colab_type": "code",
    "executionInfo": {
     "elapsed": 2430,
     "status": "ok",
     "timestamp": 1575426278471,
     "user": {
      "displayName": "이명규",
      "photoUrl": "",
      "userId": "00414544825750465133"
     },
     "user_tz": -540
    },
    "id": "z0Ag8Yjet2R7",
    "outputId": "46d04f0a-6203-4818-c89c-112b1a832ab0"
   },
   "outputs": [
    {
     "data": {
      "text/plain": [
       "0          쿠폰추가★11개구매시쿠폰가8,170원!한끼대용간편선식국내산100%7가지맛!10+1/...\n",
       "1                                  [실라리안]국내산돼지고기로만든가성비갑만두모음!\n",
       "2                                      [실라리안]100%우리콩안동낫또골라담기\n",
       "3                                닥터딥민감성피부관리여드름성피부,아기피부,수부지피부\n",
       "4                                 [쇼핑의모든것]대천갓바위김도시락김120봉가격특가\n",
       "                                 ...                        \n",
       "5591906                                   LG와인3GT390메탈릭하드케이스\n",
       "5591907           휴대폰핸드폰악세사리케이스아이폰6플러스아이메탈컬러젤리케이스갤럭시LG아이폰케이스\n",
       "5591908                             1갤럭시A8(A800)퍼펙트올라운드하이브리드\n",
       "5591909                        갤럭시S8플러스G955투명스탠드이중보호케이스(거치형)\n",
       "5591910                     S4198가지디자인LGG6하드케이스/핸드폰케이스/커플케이스\n",
       "Name: dealNm, Length: 5591911, dtype: object"
      ]
     },
     "execution_count": 47,
     "metadata": {},
     "output_type": "execute_result"
    }
   ],
   "source": [
    "undi_nodes_w_cate_['dealNm'].apply(lambda x: \"\".join(x.split()) )"
   ]
  },
  {
   "cell_type": "code",
   "execution_count": 49,
   "metadata": {
    "colab": {},
    "colab_type": "code",
    "id": "T76dd4zktUWn"
   },
   "outputs": [],
   "source": [
    "# id = pid + dealNm\n",
    "undi_nodes_w_cate_['id'] = undi_nodes_w_cate_['pid'].astype('str') + '_' + undi_nodes_w_cate_['dealNm'].apply(lambda x: \"\".join(x.split()) )"
   ]
  },
  {
   "cell_type": "code",
   "execution_count": 50,
   "metadata": {},
   "outputs": [
    {
     "data": {
      "text/html": [
       "<div>\n",
       "<style scoped>\n",
       "    .dataframe tbody tr th:only-of-type {\n",
       "        vertical-align: middle;\n",
       "    }\n",
       "\n",
       "    .dataframe tbody tr th {\n",
       "        vertical-align: top;\n",
       "    }\n",
       "\n",
       "    .dataframe thead th {\n",
       "        text-align: right;\n",
       "    }\n",
       "</style>\n",
       "<table border=\"1\" class=\"dataframe\">\n",
       "  <thead>\n",
       "    <tr style=\"text-align: right;\">\n",
       "      <th></th>\n",
       "      <th>pid</th>\n",
       "      <th>lcate_cd</th>\n",
       "      <th>dealNm</th>\n",
       "      <th>id</th>\n",
       "    </tr>\n",
       "  </thead>\n",
       "  <tbody>\n",
       "    <tr>\n",
       "      <th>0</th>\n",
       "      <td>602610157</td>\n",
       "      <td>1100004</td>\n",
       "      <td>쿠폰추가★ 11개구매시 쿠폰가8,170원! 한끼대용 간편선식 국내산100% 7가지맛...</td>\n",
       "      <td>602610157_쿠폰추가★11개구매시쿠폰가8,170원!한끼대용간편선식국내산100%...</td>\n",
       "    </tr>\n",
       "    <tr>\n",
       "      <th>1</th>\n",
       "      <td>600515938</td>\n",
       "      <td>1100000</td>\n",
       "      <td>[실라리안] 국내산 돼지고기로 만든 가성비 갑 만두 모음!</td>\n",
       "      <td>600515938_[실라리안]국내산돼지고기로만든가성비갑만두모음!</td>\n",
       "    </tr>\n",
       "    <tr>\n",
       "      <th>2</th>\n",
       "      <td>600185944</td>\n",
       "      <td>1100000</td>\n",
       "      <td>[실라리안] 100% 우리콩 안동낫또 골라담기</td>\n",
       "      <td>600185944_[실라리안]100%우리콩안동낫또골라담기</td>\n",
       "    </tr>\n",
       "    <tr>\n",
       "      <th>3</th>\n",
       "      <td>601529111</td>\n",
       "      <td>1100059</td>\n",
       "      <td>닥터딥 민감성피부관리 여드름성 피부, 아기피부, 수부지피부</td>\n",
       "      <td>601529111_닥터딥민감성피부관리여드름성피부,아기피부,수부지피부</td>\n",
       "    </tr>\n",
       "    <tr>\n",
       "      <th>4</th>\n",
       "      <td>600016493</td>\n",
       "      <td>1100014</td>\n",
       "      <td>[쇼핑의모든것] 대천갓바위김 도시락김120봉 가격특가</td>\n",
       "      <td>600016493_[쇼핑의모든것]대천갓바위김도시락김120봉가격특가</td>\n",
       "    </tr>\n",
       "  </tbody>\n",
       "</table>\n",
       "</div>"
      ],
      "text/plain": [
       "         pid  lcate_cd                                             dealNm  \\\n",
       "0  602610157   1100004  쿠폰추가★ 11개구매시 쿠폰가8,170원! 한끼대용 간편선식 국내산100% 7가지맛...   \n",
       "1  600515938   1100000                   [실라리안] 국내산 돼지고기로 만든 가성비 갑 만두 모음!   \n",
       "2  600185944   1100000                          [실라리안] 100% 우리콩 안동낫또 골라담기   \n",
       "3  601529111   1100059                   닥터딥 민감성피부관리 여드름성 피부, 아기피부, 수부지피부   \n",
       "4  600016493   1100014                      [쇼핑의모든것] 대천갓바위김 도시락김120봉 가격특가   \n",
       "\n",
       "                                                  id  \n",
       "0  602610157_쿠폰추가★11개구매시쿠폰가8,170원!한끼대용간편선식국내산100%...  \n",
       "1                600515938_[실라리안]국내산돼지고기로만든가성비갑만두모음!  \n",
       "2                    600185944_[실라리안]100%우리콩안동낫또골라담기  \n",
       "3              601529111_닥터딥민감성피부관리여드름성피부,아기피부,수부지피부  \n",
       "4               600016493_[쇼핑의모든것]대천갓바위김도시락김120봉가격특가  "
      ]
     },
     "execution_count": 50,
     "metadata": {},
     "output_type": "execute_result"
    }
   ],
   "source": [
    "undi_nodes_w_cate_.head()"
   ]
  },
  {
   "cell_type": "code",
   "execution_count": 51,
   "metadata": {
    "colab": {
     "base_uri": "https://localhost:8080/",
     "height": 206
    },
    "colab_type": "code",
    "executionInfo": {
     "elapsed": 564,
     "status": "ok",
     "timestamp": 1575426348528,
     "user": {
      "displayName": "이명규",
      "photoUrl": "",
      "userId": "00414544825750465133"
     },
     "user_tz": -540
    },
    "id": "8XqjhOcQk4XA",
    "outputId": "209fe55a-a9d9-4761-cdd8-337146818efd"
   },
   "outputs": [
    {
     "data": {
      "text/html": [
       "<div>\n",
       "<style scoped>\n",
       "    .dataframe tbody tr th:only-of-type {\n",
       "        vertical-align: middle;\n",
       "    }\n",
       "\n",
       "    .dataframe tbody tr th {\n",
       "        vertical-align: top;\n",
       "    }\n",
       "\n",
       "    .dataframe thead th {\n",
       "        text-align: right;\n",
       "    }\n",
       "</style>\n",
       "<table border=\"1\" class=\"dataframe\">\n",
       "  <thead>\n",
       "    <tr style=\"text-align: right;\">\n",
       "      <th></th>\n",
       "      <th>id</th>\n",
       "      <th>lcate_cd</th>\n",
       "    </tr>\n",
       "  </thead>\n",
       "  <tbody>\n",
       "    <tr>\n",
       "      <th>0</th>\n",
       "      <td>602610157_쿠폰추가★11개구매시쿠폰가8,170원!한끼대용간편선식국내산100%...</td>\n",
       "      <td>1100004</td>\n",
       "    </tr>\n",
       "    <tr>\n",
       "      <th>1</th>\n",
       "      <td>600515938_[실라리안]국내산돼지고기로만든가성비갑만두모음!</td>\n",
       "      <td>1100000</td>\n",
       "    </tr>\n",
       "    <tr>\n",
       "      <th>2</th>\n",
       "      <td>600185944_[실라리안]100%우리콩안동낫또골라담기</td>\n",
       "      <td>1100000</td>\n",
       "    </tr>\n",
       "    <tr>\n",
       "      <th>3</th>\n",
       "      <td>601529111_닥터딥민감성피부관리여드름성피부,아기피부,수부지피부</td>\n",
       "      <td>1100059</td>\n",
       "    </tr>\n",
       "    <tr>\n",
       "      <th>4</th>\n",
       "      <td>600016493_[쇼핑의모든것]대천갓바위김도시락김120봉가격특가</td>\n",
       "      <td>1100014</td>\n",
       "    </tr>\n",
       "  </tbody>\n",
       "</table>\n",
       "</div>"
      ],
      "text/plain": [
       "                                                  id  lcate_cd\n",
       "0  602610157_쿠폰추가★11개구매시쿠폰가8,170원!한끼대용간편선식국내산100%...   1100004\n",
       "1                600515938_[실라리안]국내산돼지고기로만든가성비갑만두모음!   1100000\n",
       "2                    600185944_[실라리안]100%우리콩안동낫또골라담기   1100000\n",
       "3              601529111_닥터딥민감성피부관리여드름성피부,아기피부,수부지피부   1100059\n",
       "4               600016493_[쇼핑의모든것]대천갓바위김도시락김120봉가격특가   1100014"
      ]
     },
     "execution_count": 51,
     "metadata": {},
     "output_type": "execute_result"
    }
   ],
   "source": [
    "undi_nodes_w_cate_[['id', 'lcate_cd']].head()"
   ]
  },
  {
   "cell_type": "code",
   "execution_count": null,
   "metadata": {
    "colab": {
     "base_uri": "https://localhost:8080/",
     "height": 424
    },
    "colab_type": "code",
    "collapsed": true,
    "executionInfo": {
     "elapsed": 732,
     "status": "ok",
     "timestamp": 1575426428978,
     "user": {
      "displayName": "이명규",
      "photoUrl": "",
      "userId": "00414544825750465133"
     },
     "user_tz": -540
    },
    "id": "7YCntBLvkfA3",
    "jupyter": {
     "outputs_hidden": true
    },
    "outputId": "556fe121-556f-4fe7-8ab0-348e7a6a5b58"
   },
   "outputs": [
    {
     "data": {
      "text/html": [
       "<div>\n",
       "<style scoped>\n",
       "    .dataframe tbody tr th:only-of-type {\n",
       "        vertical-align: middle;\n",
       "    }\n",
       "\n",
       "    .dataframe tbody tr th {\n",
       "        vertical-align: top;\n",
       "    }\n",
       "\n",
       "    .dataframe thead th {\n",
       "        text-align: right;\n",
       "    }\n",
       "</style>\n",
       "<table border=\"1\" class=\"dataframe\">\n",
       "  <thead>\n",
       "    <tr style=\"text-align: right;\">\n",
       "      <th></th>\n",
       "      <th>id</th>\n",
       "      <th>lcate_nm</th>\n",
       "    </tr>\n",
       "  </thead>\n",
       "  <tbody>\n",
       "    <tr>\n",
       "      <th>0</th>\n",
       "      <td>600181479_[만반잘부]오바다부드러운국내산오징어</td>\n",
       "      <td>신선식품</td>\n",
       "    </tr>\n",
       "    <tr>\n",
       "      <th>1</th>\n",
       "      <td>600186873_[만반잘부]주재원삼겹살/오겹살/목살500g모음전</td>\n",
       "      <td>신선식품</td>\n",
       "    </tr>\n",
       "    <tr>\n",
       "      <th>2</th>\n",
       "      <td>600185426_핫한청도아이스홍시&amp;감말랭이모음전</td>\n",
       "      <td>신선식품</td>\n",
       "    </tr>\n",
       "    <tr>\n",
       "      <th>3</th>\n",
       "      <td>600118584_사과즙/도라지배즙/배도라지즙/포도즙/배즙/통째로과일즙</td>\n",
       "      <td>커피/음료</td>\n",
       "    </tr>\n",
       "    <tr>\n",
       "      <th>4</th>\n",
       "      <td>600186422_악세사리함쥬얼리함보석함시계보관함모음전</td>\n",
       "      <td>쥬얼리/시계</td>\n",
       "    </tr>\n",
       "    <tr>\n",
       "      <th>...</th>\n",
       "      <td>...</td>\n",
       "      <td>...</td>\n",
       "    </tr>\n",
       "    <tr>\n",
       "      <th>1106364</th>\n",
       "      <td>117164526_[5%적립]ThePrincetonCompaniontoMathema...</td>\n",
       "      <td>도서/교육/음반</td>\n",
       "    </tr>\n",
       "    <tr>\n",
       "      <th>1106365</th>\n",
       "      <td>159880060_버블뮤다이노캡미아방지배낭인형가방영유아가방</td>\n",
       "      <td>유아동 신발/잡화</td>\n",
       "    </tr>\n",
       "    <tr>\n",
       "      <th>1106366</th>\n",
       "      <td>101361801_[무료배송]키친아트아르떼열센서후라이팬30cm인덕션겸용</td>\n",
       "      <td>주방용품</td>\n",
       "    </tr>\n",
       "    <tr>\n",
       "      <th>1106367</th>\n",
       "      <td>156809981_인증점K제트VS20R9044SA무선청소기미세먼지차단베터리패키지</td>\n",
       "      <td>생활가전</td>\n",
       "    </tr>\n",
       "    <tr>\n",
       "      <th>1106368</th>\n",
       "      <td>160981088_화분월드동그라미화분받침2호</td>\n",
       "      <td>악기/취미/원예</td>\n",
       "    </tr>\n",
       "  </tbody>\n",
       "</table>\n",
       "<p>1106369 rows × 2 columns</p>\n",
       "</div>"
      ],
      "text/plain": [
       "                                                        id   lcate_nm\n",
       "0                            600181479_[만반잘부]오바다부드러운국내산오징어       신선식품\n",
       "1                     600186873_[만반잘부]주재원삼겹살/오겹살/목살500g모음전       신선식품\n",
       "2                              600185426_핫한청도아이스홍시&감말랭이모음전       신선식품\n",
       "3                  600118584_사과즙/도라지배즙/배도라지즙/포도즙/배즙/통째로과일즙      커피/음료\n",
       "4                           600186422_악세사리함쥬얼리함보석함시계보관함모음전     쥬얼리/시계\n",
       "...                                                    ...        ...\n",
       "1106364  117164526_[5%적립]ThePrincetonCompaniontoMathema...   도서/교육/음반\n",
       "1106365                   159880060_버블뮤다이노캡미아방지배낭인형가방영유아가방  유아동 신발/잡화\n",
       "1106366            101361801_[무료배송]키친아트아르떼열센서후라이팬30cm인덕션겸용       주방용품\n",
       "1106367       156809981_인증점K제트VS20R9044SA무선청소기미세먼지차단베터리패키지       생활가전\n",
       "1106368                           160981088_화분월드동그라미화분받침2호   악기/취미/원예\n",
       "\n",
       "[1106369 rows x 2 columns]"
      ]
     },
     "execution_count": 73,
     "metadata": {
      "tags": []
     },
     "output_type": "execute_result"
    }
   ],
   "source": [
    "# 이걸 붙여주자 (label로 lcate_nm)\n",
    "undi_nodes_w_categories[['id', 'lcate_cd']].merge(dlv_cat[['lcate_cd', 'lcate_nm']].drop_duplicates().reset_index(drop=True),\n",
    "                                                    how='left' ).drop(columns=['lcate_cd'])"
   ]
  },
  {
   "cell_type": "code",
   "execution_count": null,
   "metadata": {
    "colab": {},
    "colab_type": "code",
    "id": "ca3aCHRllbM3"
   },
   "outputs": [],
   "source": [
    "undi_nodes_w_categories_  =  undi_nodes_w_categories[['id', 'lcate_cd']]\\\n",
    "                    .merge(dlv_cat[['lcate_cd', 'lcate_nm']].drop_duplicates().reset_index(drop=True), how='left' )\\\n",
    "                    .drop(columns=['lcate_cd'])"
   ]
  },
  {
   "cell_type": "code",
   "execution_count": 53,
   "metadata": {
    "colab": {
     "base_uri": "https://localhost:8080/",
     "height": 266
    },
    "colab_type": "code",
    "executionInfo": {
     "elapsed": 3019,
     "status": "ok",
     "timestamp": 1575426484811,
     "user": {
      "displayName": "이명규",
      "photoUrl": "",
      "userId": "00414544825750465133"
     },
     "user_tz": -540
    },
    "id": "Z2L9XSfUDvAJ",
    "outputId": "8095add1-09e9-4614-add9-c58a455a5686"
   },
   "outputs": [
    {
     "data": {
      "text/html": [
       "<div>\n",
       "<style scoped>\n",
       "    .dataframe tbody tr th:only-of-type {\n",
       "        vertical-align: middle;\n",
       "    }\n",
       "\n",
       "    .dataframe tbody tr th {\n",
       "        vertical-align: top;\n",
       "    }\n",
       "\n",
       "    .dataframe thead th {\n",
       "        text-align: right;\n",
       "    }\n",
       "</style>\n",
       "<table border=\"1\" class=\"dataframe\">\n",
       "  <thead>\n",
       "    <tr style=\"text-align: right;\">\n",
       "      <th></th>\n",
       "      <th>id</th>\n",
       "      <th>lcate_cd</th>\n",
       "      <th>0</th>\n",
       "      <th>1</th>\n",
       "      <th>2</th>\n",
       "      <th>3</th>\n",
       "      <th>4</th>\n",
       "      <th>5</th>\n",
       "      <th>6</th>\n",
       "      <th>7</th>\n",
       "      <th>...</th>\n",
       "      <th>118</th>\n",
       "      <th>119</th>\n",
       "      <th>120</th>\n",
       "      <th>121</th>\n",
       "      <th>122</th>\n",
       "      <th>123</th>\n",
       "      <th>124</th>\n",
       "      <th>125</th>\n",
       "      <th>126</th>\n",
       "      <th>127</th>\n",
       "    </tr>\n",
       "  </thead>\n",
       "  <tbody>\n",
       "    <tr>\n",
       "      <th>0</th>\n",
       "      <td>602610157_쿠폰추가★11개구매시쿠폰가8,170원!한끼대용간편선식국내산100%...</td>\n",
       "      <td>1100004</td>\n",
       "      <td>0.446286</td>\n",
       "      <td>0.277313</td>\n",
       "      <td>0.177863</td>\n",
       "      <td>0.224614</td>\n",
       "      <td>0.053937</td>\n",
       "      <td>0.116937</td>\n",
       "      <td>0.243198</td>\n",
       "      <td>0.347476</td>\n",
       "      <td>...</td>\n",
       "      <td>0.297818</td>\n",
       "      <td>-0.004374</td>\n",
       "      <td>0.139615</td>\n",
       "      <td>0.317857</td>\n",
       "      <td>0.093901</td>\n",
       "      <td>0.317629</td>\n",
       "      <td>0.224229</td>\n",
       "      <td>0.299337</td>\n",
       "      <td>0.200292</td>\n",
       "      <td>0.232984</td>\n",
       "    </tr>\n",
       "    <tr>\n",
       "      <th>1</th>\n",
       "      <td>600515938_[실라리안]국내산돼지고기로만든가성비갑만두모음!</td>\n",
       "      <td>1100000</td>\n",
       "      <td>0.516052</td>\n",
       "      <td>0.281411</td>\n",
       "      <td>0.333511</td>\n",
       "      <td>0.254800</td>\n",
       "      <td>-0.006607</td>\n",
       "      <td>0.032997</td>\n",
       "      <td>0.148115</td>\n",
       "      <td>0.360973</td>\n",
       "      <td>...</td>\n",
       "      <td>0.360331</td>\n",
       "      <td>0.038403</td>\n",
       "      <td>0.039156</td>\n",
       "      <td>0.249721</td>\n",
       "      <td>0.167012</td>\n",
       "      <td>0.295624</td>\n",
       "      <td>0.055712</td>\n",
       "      <td>0.135611</td>\n",
       "      <td>0.170498</td>\n",
       "      <td>0.294120</td>\n",
       "    </tr>\n",
       "  </tbody>\n",
       "</table>\n",
       "<p>2 rows × 130 columns</p>\n",
       "</div>"
      ],
      "text/plain": [
       "                                                  id  lcate_cd         0  \\\n",
       "0  602610157_쿠폰추가★11개구매시쿠폰가8,170원!한끼대용간편선식국내산100%...   1100004  0.446286   \n",
       "1                600515938_[실라리안]국내산돼지고기로만든가성비갑만두모음!   1100000  0.516052   \n",
       "\n",
       "          1         2         3         4         5         6         7  ...  \\\n",
       "0  0.277313  0.177863  0.224614  0.053937  0.116937  0.243198  0.347476  ...   \n",
       "1  0.281411  0.333511  0.254800 -0.006607  0.032997  0.148115  0.360973  ...   \n",
       "\n",
       "        118       119       120       121       122       123       124  \\\n",
       "0  0.297818 -0.004374  0.139615  0.317857  0.093901  0.317629  0.224229   \n",
       "1  0.360331  0.038403  0.039156  0.249721  0.167012  0.295624  0.055712   \n",
       "\n",
       "        125       126       127  \n",
       "0  0.299337  0.200292  0.232984  \n",
       "1  0.135611  0.170498  0.294120  \n",
       "\n",
       "[2 rows x 130 columns]"
      ]
     },
     "execution_count": 53,
     "metadata": {},
     "output_type": "execute_result"
    }
   ],
   "source": [
    "embedding_df = pd.concat([ undi_nodes_w_cate_[['id', 'lcate_cd']] , embedding_df ], axis=1);embedding_df.head(2)"
   ]
  },
  {
   "cell_type": "code",
   "execution_count": 54,
   "metadata": {
    "colab": {},
    "colab_type": "code",
    "id": "pyS-wrxnsoAc"
   },
   "outputs": [],
   "source": [
    "embedding_df.to_csv('embedding_1209.csv')"
   ]
  },
  {
   "cell_type": "code",
   "execution_count": 6,
   "metadata": {},
   "outputs": [],
   "source": [
    "# 불러오기\n",
    "embedding_df = pd.read_csv('embedding_1209.csv')\n",
    "embedding_df = embedding_df.iloc[:,1:]"
   ]
  },
  {
   "cell_type": "code",
   "execution_count": 9,
   "metadata": {},
   "outputs": [
    {
     "data": {
      "text/html": [
       "<div>\n",
       "<style scoped>\n",
       "    .dataframe tbody tr th:only-of-type {\n",
       "        vertical-align: middle;\n",
       "    }\n",
       "\n",
       "    .dataframe tbody tr th {\n",
       "        vertical-align: top;\n",
       "    }\n",
       "\n",
       "    .dataframe thead th {\n",
       "        text-align: right;\n",
       "    }\n",
       "</style>\n",
       "<table border=\"1\" class=\"dataframe\">\n",
       "  <thead>\n",
       "    <tr style=\"text-align: right;\">\n",
       "      <th></th>\n",
       "      <th>id</th>\n",
       "      <th>lcate_cd</th>\n",
       "      <th>0</th>\n",
       "      <th>1</th>\n",
       "      <th>2</th>\n",
       "      <th>3</th>\n",
       "      <th>4</th>\n",
       "      <th>5</th>\n",
       "      <th>6</th>\n",
       "      <th>7</th>\n",
       "      <th>...</th>\n",
       "      <th>118</th>\n",
       "      <th>119</th>\n",
       "      <th>120</th>\n",
       "      <th>121</th>\n",
       "      <th>122</th>\n",
       "      <th>123</th>\n",
       "      <th>124</th>\n",
       "      <th>125</th>\n",
       "      <th>126</th>\n",
       "      <th>127</th>\n",
       "    </tr>\n",
       "  </thead>\n",
       "  <tbody>\n",
       "    <tr>\n",
       "      <th>0</th>\n",
       "      <td>602610157_쿠폰추가★11개구매시쿠폰가8,170원!한끼대용간편선식국내산100%...</td>\n",
       "      <td>1100004</td>\n",
       "      <td>0.446286</td>\n",
       "      <td>0.277313</td>\n",
       "      <td>0.177863</td>\n",
       "      <td>0.224614</td>\n",
       "      <td>0.053937</td>\n",
       "      <td>0.116937</td>\n",
       "      <td>0.243198</td>\n",
       "      <td>0.347476</td>\n",
       "      <td>...</td>\n",
       "      <td>0.297818</td>\n",
       "      <td>-0.004374</td>\n",
       "      <td>0.139615</td>\n",
       "      <td>0.317857</td>\n",
       "      <td>0.093901</td>\n",
       "      <td>0.317629</td>\n",
       "      <td>0.224229</td>\n",
       "      <td>0.299337</td>\n",
       "      <td>0.200292</td>\n",
       "      <td>0.232984</td>\n",
       "    </tr>\n",
       "    <tr>\n",
       "      <th>1</th>\n",
       "      <td>600515938_[실라리안]국내산돼지고기로만든가성비갑만두모음!</td>\n",
       "      <td>1100000</td>\n",
       "      <td>0.516052</td>\n",
       "      <td>0.281411</td>\n",
       "      <td>0.333511</td>\n",
       "      <td>0.254800</td>\n",
       "      <td>-0.006607</td>\n",
       "      <td>0.032997</td>\n",
       "      <td>0.148115</td>\n",
       "      <td>0.360973</td>\n",
       "      <td>...</td>\n",
       "      <td>0.360331</td>\n",
       "      <td>0.038403</td>\n",
       "      <td>0.039156</td>\n",
       "      <td>0.249721</td>\n",
       "      <td>0.167012</td>\n",
       "      <td>0.295624</td>\n",
       "      <td>0.055712</td>\n",
       "      <td>0.135611</td>\n",
       "      <td>0.170498</td>\n",
       "      <td>0.294120</td>\n",
       "    </tr>\n",
       "    <tr>\n",
       "      <th>2</th>\n",
       "      <td>600185944_[실라리안]100%우리콩안동낫또골라담기</td>\n",
       "      <td>1100000</td>\n",
       "      <td>0.417226</td>\n",
       "      <td>0.252049</td>\n",
       "      <td>0.292064</td>\n",
       "      <td>0.212674</td>\n",
       "      <td>0.004232</td>\n",
       "      <td>0.063358</td>\n",
       "      <td>0.146772</td>\n",
       "      <td>0.339002</td>\n",
       "      <td>...</td>\n",
       "      <td>0.345188</td>\n",
       "      <td>0.015622</td>\n",
       "      <td>0.104531</td>\n",
       "      <td>0.276849</td>\n",
       "      <td>0.135741</td>\n",
       "      <td>0.272882</td>\n",
       "      <td>0.071401</td>\n",
       "      <td>0.177105</td>\n",
       "      <td>0.180849</td>\n",
       "      <td>0.312720</td>\n",
       "    </tr>\n",
       "    <tr>\n",
       "      <th>3</th>\n",
       "      <td>601529111_닥터딥민감성피부관리여드름성피부,아기피부,수부지피부</td>\n",
       "      <td>1100059</td>\n",
       "      <td>0.421385</td>\n",
       "      <td>0.288960</td>\n",
       "      <td>0.143851</td>\n",
       "      <td>0.133606</td>\n",
       "      <td>0.082439</td>\n",
       "      <td>0.099255</td>\n",
       "      <td>0.236265</td>\n",
       "      <td>0.350072</td>\n",
       "      <td>...</td>\n",
       "      <td>0.334989</td>\n",
       "      <td>0.111873</td>\n",
       "      <td>0.071139</td>\n",
       "      <td>0.361715</td>\n",
       "      <td>0.051260</td>\n",
       "      <td>0.204689</td>\n",
       "      <td>0.237831</td>\n",
       "      <td>0.210794</td>\n",
       "      <td>0.070109</td>\n",
       "      <td>0.124177</td>\n",
       "    </tr>\n",
       "    <tr>\n",
       "      <th>4</th>\n",
       "      <td>600016493_[쇼핑의모든것]대천갓바위김도시락김120봉가격특가</td>\n",
       "      <td>1100014</td>\n",
       "      <td>0.544923</td>\n",
       "      <td>0.384857</td>\n",
       "      <td>0.284561</td>\n",
       "      <td>0.176304</td>\n",
       "      <td>-0.009811</td>\n",
       "      <td>-0.000901</td>\n",
       "      <td>0.033510</td>\n",
       "      <td>0.195942</td>\n",
       "      <td>...</td>\n",
       "      <td>0.457690</td>\n",
       "      <td>-0.031100</td>\n",
       "      <td>0.037204</td>\n",
       "      <td>0.394122</td>\n",
       "      <td>0.054656</td>\n",
       "      <td>0.292350</td>\n",
       "      <td>-0.014870</td>\n",
       "      <td>0.095671</td>\n",
       "      <td>0.238219</td>\n",
       "      <td>0.325416</td>\n",
       "    </tr>\n",
       "  </tbody>\n",
       "</table>\n",
       "<p>5 rows × 130 columns</p>\n",
       "</div>"
      ],
      "text/plain": [
       "                                                  id  lcate_cd         0  \\\n",
       "0  602610157_쿠폰추가★11개구매시쿠폰가8,170원!한끼대용간편선식국내산100%...   1100004  0.446286   \n",
       "1                600515938_[실라리안]국내산돼지고기로만든가성비갑만두모음!   1100000  0.516052   \n",
       "2                    600185944_[실라리안]100%우리콩안동낫또골라담기   1100000  0.417226   \n",
       "3              601529111_닥터딥민감성피부관리여드름성피부,아기피부,수부지피부   1100059  0.421385   \n",
       "4               600016493_[쇼핑의모든것]대천갓바위김도시락김120봉가격특가   1100014  0.544923   \n",
       "\n",
       "          1         2         3         4         5         6         7  ...  \\\n",
       "0  0.277313  0.177863  0.224614  0.053937  0.116937  0.243198  0.347476  ...   \n",
       "1  0.281411  0.333511  0.254800 -0.006607  0.032997  0.148115  0.360973  ...   \n",
       "2  0.252049  0.292064  0.212674  0.004232  0.063358  0.146772  0.339002  ...   \n",
       "3  0.288960  0.143851  0.133606  0.082439  0.099255  0.236265  0.350072  ...   \n",
       "4  0.384857  0.284561  0.176304 -0.009811 -0.000901  0.033510  0.195942  ...   \n",
       "\n",
       "        118       119       120       121       122       123       124  \\\n",
       "0  0.297818 -0.004374  0.139615  0.317857  0.093901  0.317629  0.224229   \n",
       "1  0.360331  0.038403  0.039156  0.249721  0.167012  0.295624  0.055712   \n",
       "2  0.345188  0.015622  0.104531  0.276849  0.135741  0.272882  0.071401   \n",
       "3  0.334989  0.111873  0.071139  0.361715  0.051260  0.204689  0.237831   \n",
       "4  0.457690 -0.031100  0.037204  0.394122  0.054656  0.292350 -0.014870   \n",
       "\n",
       "        125       126       127  \n",
       "0  0.299337  0.200292  0.232984  \n",
       "1  0.135611  0.170498  0.294120  \n",
       "2  0.177105  0.180849  0.312720  \n",
       "3  0.210794  0.070109  0.124177  \n",
       "4  0.095671  0.238219  0.325416  \n",
       "\n",
       "[5 rows x 130 columns]"
      ]
     },
     "execution_count": 9,
     "metadata": {},
     "output_type": "execute_result"
    }
   ],
   "source": [
    "embedding_df.head()"
   ]
  },
  {
   "cell_type": "markdown",
   "metadata": {},
   "source": [
    "---"
   ]
  },
  {
   "cell_type": "markdown",
   "metadata": {},
   "source": [
    "## # word2vec 포멧으로"
   ]
  },
  {
   "cell_type": "code",
   "execution_count": 10,
   "metadata": {},
   "outputs": [],
   "source": [
    "word2vec_fmt_1209 = [[5591911, 128]]"
   ]
  },
  {
   "cell_type": "code",
   "execution_count": 11,
   "metadata": {},
   "outputs": [],
   "source": [
    "word2vec_fmt_1209.extend( embedding_df.drop(columns=['lcate_cd']).values.tolist() ) # ram 엄청 잡아먹는다"
   ]
  },
  {
   "cell_type": "code",
   "execution_count": 12,
   "metadata": {},
   "outputs": [
    {
     "data": {
      "text/plain": [
       "5591912"
      ]
     },
     "execution_count": 12,
     "metadata": {},
     "output_type": "execute_result"
    }
   ],
   "source": [
    "# 확인\n",
    "len(word2vec_fmt_1209)"
   ]
  },
  {
   "cell_type": "code",
   "execution_count": 13,
   "metadata": {},
   "outputs": [
    {
     "data": {
      "text/plain": [
       "[[5591911, 128],\n",
       " ['602610157_쿠폰추가★11개구매시쿠폰가8,170원!한끼대용간편선식국내산100%7가지맛!10+1/30+5/50+10추가증정!',\n",
       "  0.44628644,\n",
       "  0.27731293,\n",
       "  0.17786291,\n",
       "  0.22461429,\n",
       "  0.05393718,\n",
       "  0.11693694,\n",
       "  0.24319808,\n",
       "  0.34747642,\n",
       "  0.24231112,\n",
       "  0.08423729,\n",
       "  0.36705879999999996,\n",
       "  -0.034921084,\n",
       "  0.13799348,\n",
       "  0.20650537,\n",
       "  0.2674704,\n",
       "  0.2165,\n",
       "  0.293976,\n",
       "  0.35595274,\n",
       "  0.12915194,\n",
       "  0.057837263,\n",
       "  0.38792548,\n",
       "  0.10130472,\n",
       "  0.3342236,\n",
       "  0.17950791,\n",
       "  0.03536048,\n",
       "  0.27614784,\n",
       "  0.2051489,\n",
       "  0.10869560000000002,\n",
       "  0.266669,\n",
       "  0.33471546,\n",
       "  0.24255787,\n",
       "  0.087647945,\n",
       "  0.16672163,\n",
       "  0.31040156,\n",
       "  0.19066848,\n",
       "  0.15910175,\n",
       "  0.16651805,\n",
       "  0.27452627,\n",
       "  0.12763159,\n",
       "  0.3932799,\n",
       "  0.0030662715000000004,\n",
       "  0.15766427,\n",
       "  0.17603076,\n",
       "  0.16045116,\n",
       "  0.14470905,\n",
       "  0.037425898,\n",
       "  0.16326863,\n",
       "  0.21468759,\n",
       "  0.10761005,\n",
       "  0.16074449,\n",
       "  0.12940636,\n",
       "  0.32159945,\n",
       "  0.19454089,\n",
       "  0.16014813,\n",
       "  -0.02174962,\n",
       "  0.2377656,\n",
       "  0.33787647,\n",
       "  0.26465067,\n",
       "  0.16954285,\n",
       "  0.36503136,\n",
       "  0.19451526,\n",
       "  0.2825617,\n",
       "  0.30363214,\n",
       "  0.114199564,\n",
       "  0.3179909,\n",
       "  0.14279373,\n",
       "  0.16124508,\n",
       "  0.13681039,\n",
       "  0.3926805,\n",
       "  0.17775957,\n",
       "  0.25737348,\n",
       "  0.14265333,\n",
       "  -0.0060658315,\n",
       "  0.30981106,\n",
       "  0.13267593,\n",
       "  -0.0008334778,\n",
       "  0.21209244,\n",
       "  0.15372367,\n",
       "  0.17639783,\n",
       "  0.2950036,\n",
       "  0.14457864,\n",
       "  0.25339139,\n",
       "  0.2752301,\n",
       "  -0.011919517,\n",
       "  0.2846361,\n",
       "  -0.01551873,\n",
       "  0.38638407,\n",
       "  0.19861664,\n",
       "  0.47770536,\n",
       "  0.27674243,\n",
       "  0.29531407,\n",
       "  0.08773124,\n",
       "  0.16240653,\n",
       "  -0.02467961,\n",
       "  0.37164342,\n",
       "  0.115673706,\n",
       "  0.39737415,\n",
       "  0.12615103,\n",
       "  -0.012224536000000001,\n",
       "  0.27881584,\n",
       "  0.08404703,\n",
       "  0.22537813,\n",
       "  0.10838604,\n",
       "  0.17386788,\n",
       "  0.047258905999999996,\n",
       "  0.24066143,\n",
       "  0.30194512,\n",
       "  0.29880095,\n",
       "  0.19518346,\n",
       "  0.09223079,\n",
       "  0.14165609,\n",
       "  0.20740484,\n",
       "  0.2597663,\n",
       "  0.15238917,\n",
       "  0.21502149,\n",
       "  0.15691453,\n",
       "  0.37899056,\n",
       "  0.15531072,\n",
       "  0.29781818,\n",
       "  -0.0043739537,\n",
       "  0.13961549,\n",
       "  0.31785697,\n",
       "  0.09390135,\n",
       "  0.31762874,\n",
       "  0.22422874,\n",
       "  0.29933703,\n",
       "  0.20029211,\n",
       "  0.23298411]]"
      ]
     },
     "execution_count": 13,
     "metadata": {},
     "output_type": "execute_result"
    }
   ],
   "source": [
    "# 확인\n",
    "word2vec_fmt_1209[:2]"
   ]
  },
  {
   "cell_type": "code",
   "execution_count": 14,
   "metadata": {},
   "outputs": [],
   "source": [
    "# save\n",
    "with open('result_data/embedding_w2v_1209.txt', 'w') as f:\n",
    "    for item in word2vec_fmt_1209:\n",
    "        for k,element in enumerate(item):\n",
    "            last = len(item)\n",
    "            if k == last:\n",
    "                f.write(\"%s\" % element) # 마지막 요소는, 띄어쓰기 없다\n",
    "            else:\n",
    "                f.write(\"%s \" % element)\n",
    "        f.write(\"\\n\") # 한줄이 끝나면 줄 바꿈"
   ]
  },
  {
   "cell_type": "code",
   "execution_count": null,
   "metadata": {},
   "outputs": [],
   "source": []
  },
  {
   "cell_type": "code",
   "execution_count": null,
   "metadata": {},
   "outputs": [],
   "source": []
  },
  {
   "cell_type": "code",
   "execution_count": null,
   "metadata": {
    "colab": {},
    "colab_type": "code",
    "id": "3sY4cFeWVF7f"
   },
   "outputs": [],
   "source": [
    "# name 저장\n",
    "embedding_df.iloc[:50000,:2].to_csv('1203_title_elu.tsv', header=True, index=False, sep='\\t')"
   ]
  },
  {
   "cell_type": "code",
   "execution_count": null,
   "metadata": {
    "colab": {},
    "colab_type": "code",
    "id": "0V0VNQEhVFwn"
   },
   "outputs": [],
   "source": [
    "# embedding 저장\n",
    "embedding_df.iloc[:50000,2:].to_csv('1203_embedding_elu.tsv', header=False, index=False, sep='\\t')"
   ]
  },
  {
   "cell_type": "code",
   "execution_count": null,
   "metadata": {
    "colab": {},
    "colab_type": "code",
    "id": "rZ8X4SRwyaoo"
   },
   "outputs": [],
   "source": []
  },
  {
   "cell_type": "markdown",
   "metadata": {
    "colab_type": "text",
    "id": "3lfy2Mzix8KH"
   },
   "source": [
    "---"
   ]
  }
 ],
 "metadata": {
  "accelerator": "TPU",
  "colab": {
   "collapsed_sections": [
    "wpff-Lnvha5U"
   ],
   "machine_shape": "hm",
   "name": "GCN_snu.ipynb",
   "provenance": [
    {
     "file_id": "1GWrlwxpNoL_Quectr80-8W9kslb7vexn",
     "timestamp": 1574840561005
    }
   ]
  },
  "kernelspec": {
   "display_name": "Python 3",
   "language": "python",
   "name": "python3"
  },
  "language_info": {
   "codemirror_mode": {
    "name": "ipython",
    "version": 3
   },
   "file_extension": ".py",
   "mimetype": "text/x-python",
   "name": "python",
   "nbconvert_exporter": "python",
   "pygments_lexer": "ipython3",
   "version": "3.7.6"
  }
 },
 "nbformat": 4,
 "nbformat_minor": 4
}
