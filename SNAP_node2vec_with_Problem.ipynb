{
 "cells": [
  {
   "cell_type": "markdown",
   "metadata": {},
   "source": [
    "# * SNAP 의 Node2vec\n",
    "- SNAP(Stanford Network Analysis Project) : http://snap.stanford.edu/node2vec/\n",
    "- 논문 : https://arxiv.org/abs/1607.00653\n",
    "- 구현 : c버젼과 python 버전 존재(python 버젼은 느려서 불가능 -> 코드 개선해야한다)"
   ]
  },
  {
   "cell_type": "markdown",
   "metadata": {},
   "source": [
    "## * python 사용 대안\n",
    "- 어떤분이 sparse matrix 로 구현하셨다 : https://www.singlelunch.com/2019/08/01/700x-faster-node2vec-models-fastest-random-walks-on-a-graph/\n",
    "- 하지만 초기 adjency matrix 초기화시에 임의의 int로 elements를 채워놓는 문제로, graph edge가 존재하지 않는 경우에 문제가 있다('임의' int를 수정해야한다)\n",
    "> https://github.com/VHRanger/graph2vec/blob/master/graph2vec/graph.py 내의 오류가 있다 \n",
    "> - 58번째 line res = np.empty((n_walks, walklen), dtype=np.int64)<br/>\n",
    "(이는 undirected일때 나타날 수 있는 문제 - directed라면 edge가 null인 node가 없을것이야)\n",
    "> > - 대안1: undirected로 바꾼다"
   ]
  },
  {
   "cell_type": "markdown",
   "metadata": {},
   "source": [
    "# * 오류 case는 가장 밑부분에 나와있다. 역추적해간다"
   ]
  },
  {
   "cell_type": "markdown",
   "metadata": {},
   "source": [
    "---"
   ]
  },
  {
   "cell_type": "code",
   "execution_count": null,
   "metadata": {
    "colab": {
     "base_uri": "https://localhost:8080/",
     "height": 258
    },
    "colab_type": "code",
    "id": "JesvsBKOGNkc",
    "outputId": "a712c8a3-5014-41b0-a76c-c553bfe60a83",
    "scrolled": true
   },
   "outputs": [],
   "source": [
    "from google.colab import auth\n",
    "auth.authenticate_user()\n",
    "\n",
    "from google.colab import drive\n",
    "drive.mount('/content/gdrive')"
   ]
  },
  {
   "cell_type": "code",
   "execution_count": 0,
   "metadata": {
    "colab": {},
    "colab_type": "code",
    "id": "Tel1E5nD-MBi"
   },
   "outputs": [],
   "source": [
    "import pandas as pd\n",
    "import numpy as np\n",
    "import seaborn as sns\n",
    "import matplotlib.pyplot as plt\n",
    "\n",
    "import glob\n",
    "import os\n",
    "\n",
    "%matplotlib inline"
   ]
  },
  {
   "cell_type": "code",
   "execution_count": 0,
   "metadata": {
    "colab": {},
    "colab_type": "code",
    "id": "cv_8-WMTqKDd"
   },
   "outputs": [],
   "source": [
    "from sklearn import cluster, metrics"
   ]
  },
  {
   "cell_type": "code",
   "execution_count": 0,
   "metadata": {
    "colab": {},
    "colab_type": "code",
    "id": "8EVsU4VSYJj0"
   },
   "outputs": [],
   "source": [
    "import networkx as nx\n",
    "from collections import Counter"
   ]
  },
  {
   "cell_type": "code",
   "execution_count": 0,
   "metadata": {
    "colab": {},
    "colab_type": "code",
    "id": "_2n69uEXbZ1U"
   },
   "outputs": [],
   "source": [
    "import pickle\n",
    "import graph2vec # dir를 'graph2vec-master'로 맞춰주었잖아"
   ]
  },
  {
   "cell_type": "markdown",
   "metadata": {},
   "source": [
    "---"
   ]
  },
  {
   "cell_type": "markdown",
   "metadata": {
    "colab_type": "text",
    "id": "J01D0AV48L5d"
   },
   "source": [
    "## # load & using weighted Graph"
   ]
  },
  {
   "cell_type": "code",
   "execution_count": null,
   "metadata": {},
   "outputs": [],
   "source": [
    "# 불러올때\n",
    "with open ('./1107_with_cate/new_graph_list_w_cate_1115', 'rb') as fp:\n",
    "    new_graph_list_ = pickle.load(fp)"
   ]
  },
  {
   "cell_type": "code",
   "execution_count": 0,
   "metadata": {
    "colab": {},
    "colab_type": "code",
    "id": "iEzlrsigYMff"
   },
   "outputs": [],
   "source": [
    "import networkx as nx\n",
    "from collections import Counter"
   ]
  },
  {
   "cell_type": "code",
   "execution_count": 0,
   "metadata": {
    "colab": {},
    "colab_type": "code",
    "id": "f_GX4NKr-ysS"
   },
   "outputs": [],
   "source": [
    "#G = nx.Graph((x, y, {'weight': v}) for (x, y), v in Counter(node_edge).items()) # Undirected-graph"
   ]
  },
  {
   "cell_type": "code",
   "execution_count": 0,
   "metadata": {
    "colab": {},
    "colab_type": "code",
    "id": "d-bza6TTzV_x"
   },
   "outputs": [],
   "source": [
    "G_d = nx.DiGraph(new_graph_list_) # 만들어놓은 new_graph_list_ 활용"
   ]
  },
  {
   "cell_type": "code",
   "execution_count": 0,
   "metadata": {
    "colab": {},
    "colab_type": "code",
    "id": "-MvSpXFfYMdA"
   },
   "outputs": [],
   "source": [
    "G_d = nx.DiGraph((x, y, {'weight': v}) for (x, y), v in Counter(node_edge).items()) # directed-graph"
   ]
  },
  {
   "cell_type": "code",
   "execution_count": 0,
   "metadata": {
    "colab": {
     "base_uri": "https://localhost:8080/",
     "height": 34
    },
    "colab_type": "code",
    "id": "7OY1NLykzcoK",
    "outputId": "4c83ec99-01d1-47e1-e4b5-74ba1434ee3f"
   },
   "outputs": [
    {
     "data": {
      "text/plain": [
       "1371788"
      ]
     },
     "execution_count": 12,
     "metadata": {
      "tags": []
     },
     "output_type": "execute_result"
    }
   ],
   "source": [
    "len(G_d)"
   ]
  },
  {
   "cell_type": "code",
   "execution_count": 0,
   "metadata": {
    "colab": {
     "base_uri": "https://localhost:8080/",
     "height": 34
    },
    "colab_type": "code",
    "id": "7qRbgattybcD",
    "outputId": "719567fb-eea6-4b6f-f9ec-9157102c9a5f"
   },
   "outputs": [
    {
     "data": {
      "text/plain": [
       "1087231"
      ]
     },
     "execution_count": 16,
     "metadata": {
      "tags": []
     },
     "output_type": "execute_result"
    }
   ],
   "source": [
    "len(G_d) # kwd로 node(상품) 100만개"
   ]
  },
  {
   "cell_type": "code",
   "execution_count": 0,
   "metadata": {
    "colab": {
     "base_uri": "https://localhost:8080/",
     "height": 34
    },
    "colab_type": "code",
    "id": "n4UMYowvGGMd",
    "outputId": "9d7b98a1-cbab-44f6-f69b-6b1f84405ac5"
   },
   "outputs": [
    {
     "data": {
      "text/plain": [
       "1371865"
      ]
     },
     "execution_count": 15,
     "metadata": {
      "tags": []
     },
     "output_type": "execute_result"
    }
   ],
   "source": [
    "len(G_d) # 5일동안 137만개의 상품이 있는겨 (물론 조금 filtering되었지만)"
   ]
  },
  {
   "cell_type": "code",
   "execution_count": 0,
   "metadata": {
    "colab": {},
    "colab_type": "code",
    "id": "FZyaupqlHoWX"
   },
   "outputs": [],
   "source": [
    "#nodes = list(G.nodes)\n",
    "digraph_nodes = list(G_d.nodes)"
   ]
  },
  {
   "cell_type": "code",
   "execution_count": 0,
   "metadata": {
    "colab": {
     "base_uri": "https://localhost:8080/",
     "height": 34
    },
    "colab_type": "code",
    "id": "iFONMFCbHqRO",
    "outputId": "36383a13-c384-4a5f-c1fe-732ba09754b7"
   },
   "outputs": [
    {
     "data": {
      "text/plain": [
       "1371788"
      ]
     },
     "execution_count": 12,
     "metadata": {
      "tags": []
     },
     "output_type": "execute_result"
    }
   ],
   "source": [
    "#len(nodes)\n",
    "len(digraph_nodes)"
   ]
  },
  {
   "cell_type": "markdown",
   "metadata": {
    "colab_type": "text",
    "id": "JveKSAS8G2Rw"
   },
   "source": [
    "#### cf. undirected vs. directed 노드의 순서 같나? - 같다"
   ]
  },
  {
   "cell_type": "code",
   "execution_count": 0,
   "metadata": {
    "colab": {
     "base_uri": "https://localhost:8080/",
     "height": 34
    },
    "colab_type": "code",
    "id": "bMHBd3KjAtJA",
    "outputId": "39069ccc-c38d-4093-9835-019812979565"
   },
   "outputs": [
    {
     "name": "stdout",
     "output_type": "stream",
     "text": [
      "[600181479, 600186873, 600185426, 600118584, 600186422] [101361801, 156809981, 157125654, 160981088, 152397171]\n"
     ]
    }
   ],
   "source": [
    "# Undirected 에서\n",
    "print(nodes[:5] , nodes[-5:])"
   ]
  },
  {
   "cell_type": "code",
   "execution_count": 0,
   "metadata": {
    "colab": {
     "base_uri": "https://localhost:8080/",
     "height": 34
    },
    "colab_type": "code",
    "id": "5VpCtklaGvR3",
    "outputId": "830f394a-1094-4c95-a7c7-80ec0441dd9f"
   },
   "outputs": [
    {
     "name": "stdout",
     "output_type": "stream",
     "text": [
      "[600181479, 600186873, 600185426, 600118584, 600186422] [101361801, 156809981, 157125654, 160981088, 152397171]\n"
     ]
    }
   ],
   "source": [
    "# directed 에서\n",
    "print(nodelist_d[:5] , nodelist_d[-5:])"
   ]
  },
  {
   "cell_type": "code",
   "execution_count": 0,
   "metadata": {
    "colab": {
     "base_uri": "https://localhost:8080/",
     "height": 34
    },
    "colab_type": "code",
    "id": "xYAj0zdQH62m",
    "outputId": "749b9e9a-6948-49a0-c065-ba32e6b48b53"
   },
   "outputs": [
    {
     "data": {
      "text/plain": [
       "[600181479, 600186873, 600185426, 600118584, 600186422]"
      ]
     },
     "execution_count": 19,
     "metadata": {
      "tags": []
     },
     "output_type": "execute_result"
    }
   ],
   "source": [
    "nodes[:5] # directed"
   ]
  },
  {
   "cell_type": "code",
   "execution_count": 0,
   "metadata": {
    "colab": {
     "base_uri": "https://localhost:8080/",
     "height": 34
    },
    "colab_type": "code",
    "id": "UAL8JFpmH8vO",
    "outputId": "c57a2758-0700-49a2-a858-9f48932dbe65"
   },
   "outputs": [
    {
     "data": {
      "text/plain": [
       "[600181479, 600186873, 600185426, 600118584, 600186422]"
      ]
     },
     "execution_count": 20,
     "metadata": {
      "tags": []
     },
     "output_type": "execute_result"
    }
   ],
   "source": [
    "nodelist[:5] # directed 저장본 불러왔을때"
   ]
  },
  {
   "cell_type": "markdown",
   "metadata": {
    "colab_type": "text",
    "id": "z7wWgiQliRf_"
   },
   "source": [
    "\n",
    "\n",
    "---\n",
    "\n",
    "\n",
    "\n",
    "---\n",
    "\n"
   ]
  },
  {
   "cell_type": "markdown",
   "metadata": {
    "colab_type": "text",
    "id": "gWQFH3Ivb77q"
   },
   "source": [
    "### # Using node2vec"
   ]
  },
  {
   "cell_type": "code",
   "execution_count": 0,
   "metadata": {
    "colab": {
     "base_uri": "https://localhost:8080/",
     "height": 34
    },
    "colab_type": "code",
    "id": "bWq3WLpgGGMm",
    "outputId": "56119dfc-d743-4f0c-bc9f-5a3c3663edf3"
   },
   "outputs": [
    {
     "data": {
      "text/plain": [
       "40"
      ]
     },
     "execution_count": 19,
     "metadata": {
      "tags": []
     },
     "output_type": "execute_result"
    }
   ],
   "source": [
    "import multiprocessing\n",
    "\n",
    "multiprocessing.cpu_count()"
   ]
  },
  {
   "cell_type": "code",
   "execution_count": 0,
   "metadata": {
    "colab": {},
    "colab_type": "code",
    "id": "XpnpatSPR44r"
   },
   "outputs": [],
   "source": [
    "??graph2vec.Node2Vec() # 기본 파라미터를 참고하여 훈련하자 (w2vparams 값 하나만 바꾸면,  나머지 파라미터들은 word2vec의 기본 파라미터들이 적용되는 문제가 있는것 같다 - 100차원으로 훈련되는것에서 힌트)\n",
    "\n",
    "### 기본파라미터\n",
    "#walklen=10, epochs=20, return_weight=1., \n",
    "#        neighbor_weight=1., threads=0,\n",
    "#        w2vparams={\"window\":10, \"size\":32, \"negative\":20, \"iter\":10,\n",
    "#                   \"batch_words\":128})"
   ]
  },
  {
   "cell_type": "code",
   "execution_count": 0,
   "metadata": {
    "colab": {},
    "colab_type": "code",
    "id": "DYNrklZ00B8a"
   },
   "outputs": [],
   "source": [
    "## 기본 setting 에서  - walklen:5 , epochs:30, negative:5 만 바꿨다\n",
    "\n",
    "n2v = graph2vec.Node2Vec(threads=0, walklen = 10, return_weight=1. , neighbor_weight=1. , epochs=15,  \n",
    "                         w2vparams={'window':10, 'size':32, \"negative\": 20, \"iter\":10, \"batch_words\":128})"
   ]
  },
  {
   "cell_type": "code",
   "execution_count": 0,
   "metadata": {
    "colab": {
     "base_uri": "https://localhost:8080/",
     "height": 34
    },
    "colab_type": "code",
    "id": "AQiLnGr_0C3x",
    "outputId": "35653922-30c6-4125-c41b-d877714d33c8"
   },
   "outputs": [
    {
     "data": {
      "text/plain": [
       "'/content/gdrive/My Drive/Colab Notebooks/공부/embedding_model/Graph embedding/1029_graph2vec/graph2vec-master'"
      ]
     },
     "execution_count": 15,
     "metadata": {
      "tags": []
     },
     "output_type": "execute_result"
    }
   ],
   "source": [
    "%pwd"
   ]
  },
  {
   "cell_type": "code",
   "execution_count": 0,
   "metadata": {
    "colab": {
     "base_uri": "https://localhost:8080/",
     "height": 68
    },
    "colab_type": "code",
    "id": "_17lKFvSQn2J",
    "outputId": "f30597f2-0c72-4858-995a-8f94245251dc"
   },
   "outputs": [
    {
     "name": "stdout",
     "output_type": "stream",
     "text": [
      "Making walks... Done, T=33.87\n",
      "Mapping Walk Names... CPU times: user 26min 51s, sys: 20.7 s, total: 27min 12s\n",
      "Wall time: 5min 56s\n"
     ]
    }
   ],
   "source": [
    "%%time \n",
    "# random_walk 따로 뽑아오고싶다\n",
    "## 기본 - walklen=10, epochs=20, w2vparams={window:10, size=32, negative:20, iter:10, batch_words:128}\n",
    "walks = n2v.fit_make_walks(G_d)"
   ]
  },
  {
   "cell_type": "code",
   "execution_count": 0,
   "metadata": {
    "colab": {
     "base_uri": "https://localhost:8080/",
     "height": 34
    },
    "colab_type": "code",
    "id": "hIXdCKZ1SUy9",
    "outputId": "43ebc39c-e092-40a2-a8d5-ca21bc70b734"
   },
   "outputs": [
    {
     "data": {
      "text/plain": [
       "1371788"
      ]
     },
     "execution_count": 37,
     "metadata": {
      "tags": []
     },
     "output_type": "execute_result"
    }
   ],
   "source": [
    "len(G_d.nodes)"
   ]
  },
  {
   "cell_type": "code",
   "execution_count": 0,
   "metadata": {
    "colab": {
     "base_uri": "https://localhost:8080/",
     "height": 34
    },
    "colab_type": "code",
    "id": "JEX4djOKSddf",
    "outputId": "7bcc0a64-62ed-4ed8-b331-c6fc2565288e"
   },
   "outputs": [
    {
     "data": {
      "text/plain": [
       "list"
      ]
     },
     "execution_count": 39,
     "metadata": {
      "tags": []
     },
     "output_type": "execute_result"
    }
   ],
   "source": [
    "type(walks)"
   ]
  },
  {
   "cell_type": "code",
   "execution_count": 0,
   "metadata": {
    "colab": {
     "base_uri": "https://localhost:8080/",
     "height": 34
    },
    "colab_type": "code",
    "id": "CQb4QvY6SKqf",
    "outputId": "91c60388-92f3-4339-99ce-c3e254073744"
   },
   "outputs": [
    {
     "data": {
      "text/plain": [
       "20576820"
      ]
     },
     "execution_count": 36,
     "metadata": {
      "tags": []
     },
     "output_type": "execute_result"
    }
   ],
   "source": [
    "len(walks)"
   ]
  },
  {
   "cell_type": "code",
   "execution_count": 0,
   "metadata": {
    "colab": {
     "base_uri": "https://localhost:8080/",
     "height": 34
    },
    "colab_type": "code",
    "id": "6Yn_gHAOdS2y",
    "outputId": "c2d54886-e6eb-464a-a1b2-d62954b8c49f"
   },
   "outputs": [
    {
     "data": {
      "text/plain": [
       "20576820"
      ]
     },
     "execution_count": 60,
     "metadata": {
      "tags": []
     },
     "output_type": "execute_result"
    }
   ],
   "source": [
    "len(G_d.nodes)*15 # epochs 만큼인거 확인!"
   ]
  },
  {
   "cell_type": "code",
   "execution_count": 0,
   "metadata": {
    "colab": {
     "base_uri": "https://localhost:8080/",
     "height": 867
    },
    "colab_type": "code",
    "id": "Uy-oobTXSav3",
    "outputId": "06e2e009-76ef-4456-f196-5ab2eac35b3d"
   },
   "outputs": [
    {
     "data": {
      "text/plain": [
       "[['600181479',\n",
       "  '4416758',\n",
       "  '154787604',\n",
       "  '153289529',\n",
       "  '153150289',\n",
       "  '154985086',\n",
       "  '4417845',\n",
       "  '4429859',\n",
       "  '4428821',\n",
       "  '161377353'],\n",
       " ['600186873',\n",
       "  '160809230',\n",
       "  '600011229',\n",
       "  '100314905',\n",
       "  '4398247',\n",
       "  '1869895',\n",
       "  '1874687',\n",
       "  '131976415',\n",
       "  '2158386',\n",
       "  '3769103'],\n",
       " ['600185426',\n",
       "  '2102732',\n",
       "  '4341809',\n",
       "  '4424216',\n",
       "  '4425372',\n",
       "  '4424216',\n",
       "  '4284836',\n",
       "  '4303445',\n",
       "  '4385637',\n",
       "  '4372804'],\n",
       " ['600118584',\n",
       "  '4425637',\n",
       "  '600204978',\n",
       "  '4428342',\n",
       "  '4428099',\n",
       "  '4427650',\n",
       "  '4428637',\n",
       "  '4430570',\n",
       "  '4427100',\n",
       "  '600187245'],\n",
       " ['600186422',\n",
       "  '160603299',\n",
       "  '127613301',\n",
       "  '152055767',\n",
       "  '4324783',\n",
       "  '3573618',\n",
       "  '142461616',\n",
       "  '153821757',\n",
       "  '142290362',\n",
       "  '142290320']]"
      ]
     },
     "execution_count": 38,
     "metadata": {
      "tags": []
     },
     "output_type": "execute_result"
    }
   ],
   "source": [
    "walks[:5]"
   ]
  },
  {
   "cell_type": "markdown",
   "metadata": {},
   "source": [
    "----"
   ]
  },
  {
   "cell_type": "markdown",
   "metadata": {},
   "source": [
    "### cf. normalize row랑, sparse.csr_matrix 에서 indptr 사용법 살피기"
   ]
  },
  {
   "cell_type": "code",
   "execution_count": 0,
   "metadata": {
    "colab": {},
    "colab_type": "code",
    "id": "5J0URTfsixBA"
   },
   "outputs": [],
   "source": [
    "tmp = np.array([[0,2,0,1],\n",
    "                [1,0,0,0],\n",
    "                [0,0,0,0],\n",
    "                [0,0,0,0]])"
   ]
  },
  {
   "cell_type": "code",
   "execution_count": 0,
   "metadata": {
    "colab": {},
    "colab_type": "code",
    "id": "3npVMx8riw-P"
   },
   "outputs": [],
   "source": [
    "def _sparse_normalize_rows(mat):\n",
    "    \"\"\"\n",
    "    Normalize a sparse CSR matrix row-wise (each row sums to 1)\n",
    "    If a row is all 0's, it remains all 0's\n",
    "    \n",
    "    Parameters\n",
    "    ----------\n",
    "    mat : scipy.sparse.csr matrix\n",
    "        Matrix in CSR sparse format\n",
    "    Returns\n",
    "    -------\n",
    "    out : scipy.sparse.csr matrix\n",
    "        Normalized matrix in CSR sparse format\n",
    "    \"\"\"\n",
    "    n_nodes = mat.shape[0]\n",
    "    # Normalize Adjacency matrix to transition matrix\n",
    "    # Diagonal of the degree matrix is the sum of nonzero elements\n",
    "    degrees_div = np.array(np.sum(mat, axis=1)).flatten()\n",
    "    # This is equivalent to inverting the diag mat\n",
    "    # weights are 1 / degree\n",
    "    degrees = np.divide(\n",
    "        1,\n",
    "        degrees_div,\n",
    "        out=np.zeros_like(degrees_div, dtype=float),\n",
    "        where=(degrees_div != 0)\n",
    "    )\n",
    "    # construct sparse diag mat \n",
    "    # to broadcast weights to adj mat by dot product\n",
    "    D = sparse.dia_matrix((n_nodes,n_nodes), dtype=np.float64)\n",
    "    D.setdiag(degrees)   \n",
    "    # premultiplying by diag mat is row-wise mul\n",
    "    return sparse.csr_matrix(D.dot(mat))"
   ]
  },
  {
   "cell_type": "code",
   "execution_count": 0,
   "metadata": {
    "colab": {
     "base_uri": "https://localhost:8080/",
     "height": 51
    },
    "colab_type": "code",
    "id": "bcuaKSnmEo7B",
    "outputId": "1be0d045-02cf-46cf-886d-09a3e3cc22a7"
   },
   "outputs": [
    {
     "data": {
      "text/plain": [
       "<1371788x1371788 sparse matrix of type '<class 'numpy.float64'>'\n",
       "\twith 10496487 stored elements in Compressed Sparse Row format>"
      ]
     },
     "execution_count": 18,
     "metadata": {
      "tags": []
     },
     "output_type": "execute_result"
    }
   ],
   "source": [
    "T = _sparse_normalize_rows(A);T"
   ]
  },
  {
   "cell_type": "code",
   "execution_count": 0,
   "metadata": {
    "colab": {
     "base_uri": "https://localhost:8080/",
     "height": 85
    },
    "colab_type": "code",
    "id": "f5rgqaaaiw7S",
    "outputId": "769399c5-973d-4924-fe0a-c0032eb84496"
   },
   "outputs": [
    {
     "data": {
      "text/plain": [
       "matrix([[0.        , 0.66666667, 0.        , 0.33333333],\n",
       "        [1.        , 0.        , 0.        , 0.        ],\n",
       "        [0.        , 0.        , 0.        , 0.        ],\n",
       "        [0.        , 0.        , 0.        , 0.        ]])"
      ]
     },
     "execution_count": 86,
     "metadata": {
      "tags": []
     },
     "output_type": "execute_result"
    }
   ],
   "source": [
    "tmp_normalized = _sparse_normalize_rows(tmp);tmp_normalized"
   ]
  },
  {
   "cell_type": "code",
   "execution_count": 0,
   "metadata": {
    "colab": {},
    "colab_type": "code",
    "id": "-zZ-hb742rHG"
   },
   "outputs": [],
   "source": []
  },
  {
   "cell_type": "code",
   "execution_count": 0,
   "metadata": {
    "colab": {},
    "colab_type": "code",
    "id": "eov6dELUiw4H"
   },
   "outputs": [],
   "source": [
    "tmp_csr = sparse.csr_matrix(tmp_normalized)"
   ]
  },
  {
   "cell_type": "code",
   "execution_count": 0,
   "metadata": {
    "colab": {
     "base_uri": "https://localhost:8080/",
     "height": 34
    },
    "colab_type": "code",
    "id": "Fwxtr5OSzMOq",
    "outputId": "5ab3ae60-7454-4bb6-8f6f-fdbe015fd72a"
   },
   "outputs": [
    {
     "data": {
      "text/plain": [
       "array([0.66666667, 0.33333333, 1.        ])"
      ]
     },
     "execution_count": 89,
     "metadata": {
      "tags": []
     },
     "output_type": "execute_result"
    }
   ],
   "source": [
    "tmp_csr.data"
   ]
  },
  {
   "cell_type": "code",
   "execution_count": 0,
   "metadata": {
    "colab": {
     "base_uri": "https://localhost:8080/",
     "height": 34
    },
    "colab_type": "code",
    "id": "VWcUrVYezIPh",
    "outputId": "43f9499e-f97d-4071-d0ba-e0fa0686413c"
   },
   "outputs": [
    {
     "data": {
      "text/plain": [
       "array([1, 3, 0], dtype=int32)"
      ]
     },
     "execution_count": 90,
     "metadata": {
      "tags": []
     },
     "output_type": "execute_result"
    }
   ],
   "source": [
    "tmp_csr.indices"
   ]
  },
  {
   "cell_type": "code",
   "execution_count": 0,
   "metadata": {
    "colab": {
     "base_uri": "https://localhost:8080/",
     "height": 34
    },
    "colab_type": "code",
    "id": "ZeRnfz7TyOa0",
    "outputId": "31621419-ebff-4ae4-ccfa-63794d7c8a66"
   },
   "outputs": [
    {
     "data": {
      "text/plain": [
       "array([0, 2, 3, 3, 3], dtype=int32)"
      ]
     },
     "execution_count": 91,
     "metadata": {
      "tags": []
     },
     "output_type": "execute_result"
    }
   ],
   "source": [
    "tmp_csr.indptr"
   ]
  },
  {
   "cell_type": "code",
   "execution_count": 0,
   "metadata": {
    "colab": {},
    "colab_type": "code",
    "id": "VMOSUVWe3Ghq"
   },
   "outputs": [],
   "source": [
    "sampling_nodes = [0,1]"
   ]
  },
  {
   "cell_type": "code",
   "execution_count": 0,
   "metadata": {
    "colab": {},
    "colab_type": "code",
    "id": "CZxnyh6D7Qog"
   },
   "outputs": [],
   "source": [
    "n_walks = 2\n",
    "walklen = 5\n",
    "res = np.empty((n_walks, walklen), np.int64)"
   ]
  },
  {
   "cell_type": "code",
   "execution_count": 0,
   "metadata": {
    "colab": {},
    "colab_type": "code",
    "id": "IzSzGIH5_NnQ"
   },
   "outputs": [],
   "source": [
    "cdf_ = cdf[0]"
   ]
  },
  {
   "cell_type": "code",
   "execution_count": 0,
   "metadata": {
    "colab": {
     "base_uri": "https://localhost:8080/",
     "height": 51
    },
    "colab_type": "code",
    "id": "GzM3NIpHAxjN",
    "outputId": "b38477e2-2c97-409e-c27f-54135b12b220"
   },
   "outputs": [
    {
     "data": {
      "text/plain": [
       "matrix([[0.        , 0.66666667, 0.        , 0.33333333],\n",
       "        [1.        , 0.        , 0.        , 0.        ]])"
      ]
     },
     "execution_count": 95,
     "metadata": {
      "tags": []
     },
     "output_type": "execute_result"
    }
   ],
   "source": [
    "cdf_.todense()"
   ]
  },
  {
   "cell_type": "code",
   "execution_count": 0,
   "metadata": {
    "colab": {
     "base_uri": "https://localhost:8080/",
     "height": 68
    },
    "colab_type": "code",
    "id": "qxSEZOOI_8lk",
    "outputId": "63ad1117-563c-46ac-c65e-7d056a5fe151"
   },
   "outputs": [
    {
     "name": "stdout",
     "output_type": "stream",
     "text": [
      "  (0, 1)\t0.6666666666666666\n",
      "  (0, 3)\t0.3333333333333333\n",
      "  (1, 0)\t1.0\n"
     ]
    }
   ],
   "source": [
    "print(p)"
   ]
  },
  {
   "cell_type": "code",
   "execution_count": null,
   "metadata": {},
   "outputs": [],
   "source": []
  },
  {
   "cell_type": "markdown",
   "metadata": {},
   "source": [
    "---"
   ]
  },
  {
   "cell_type": "markdown",
   "metadata": {},
   "source": [
    "### # 문제가되는 3874398('와플수세미') 상품의 random-walk 조사해보자"
   ]
  },
  {
   "cell_type": "code",
   "execution_count": 0,
   "metadata": {
    "colab": {},
    "colab_type": "code",
    "id": "0FatCG_zUxZJ"
   },
   "outputs": [],
   "source": [
    "walk_3874398 = []\n",
    "\n",
    "for walk in walks:\n",
    "    if '3874398' in walk:\n",
    "        walk_3874398.append(walk) "
   ]
  },
  {
   "cell_type": "code",
   "execution_count": 0,
   "metadata": {
    "colab": {
     "base_uri": "https://localhost:8080/",
     "height": 34
    },
    "colab_type": "code",
    "id": "si4Z24xLWhFR",
    "outputId": "35fb35a8-d500-42b3-dd1d-ad74e388661b"
   },
   "outputs": [
    {
     "data": {
      "text/plain": [
       "106"
      ]
     },
     "execution_count": 57,
     "metadata": {
      "tags": []
     },
     "output_type": "execute_result"
    }
   ],
   "source": [
    "len(walk_3874398)# 106개가 포함"
   ]
  },
  {
   "cell_type": "code",
   "execution_count": 0,
   "metadata": {
    "colab": {
     "base_uri": "https://localhost:8080/",
     "height": 1000
    },
    "colab_type": "code",
    "id": "-ha8nbeJWlvP",
    "outputId": "58ce994f-7334-4e69-b760-6d284a1ad904"
   },
   "outputs": [
    {
     "data": {
      "text/plain": [
       "[['3874398',\n",
       "  '107057133',\n",
       "  '101117477',\n",
       "  '3357781',\n",
       "  '135709355',\n",
       "  '3357781',\n",
       "  '2537289',\n",
       "  '100515948',\n",
       "  '600158489',\n",
       "  '155175570'],\n",
       " ['3874398',\n",
       "  '107057133',\n",
       "  '600051152',\n",
       "  '600055677',\n",
       "  '600017925',\n",
       "  '2974502',\n",
       "  '600062355',\n",
       "  '600090377',\n",
       "  '600041542',\n",
       "  '600057126'],\n",
       " ['3874398',\n",
       "  '107057133',\n",
       "  '112622009',\n",
       "  '122018726',\n",
       "  '147674953',\n",
       "  '122018726',\n",
       "  '147674953',\n",
       "  '122018726',\n",
       "  '122018717',\n",
       "  '163153072'],\n",
       " ['3874398',\n",
       "  '107057133',\n",
       "  '2389354',\n",
       "  '600114667',\n",
       "  '4424322',\n",
       "  '4424858',\n",
       "  '4424622',\n",
       "  '4425107',\n",
       "  '4415307',\n",
       "  '4421273'],\n",
       " ['3874398',\n",
       "  '107057133',\n",
       "  '600051152',\n",
       "  '600055677',\n",
       "  '1578142',\n",
       "  '600098202',\n",
       "  '124265882',\n",
       "  '120031505',\n",
       "  '600055677',\n",
       "  '600098202'],\n",
       " ['3874398',\n",
       "  '107057133',\n",
       "  '101117477',\n",
       "  '123466405',\n",
       "  '123466480',\n",
       "  '4426586',\n",
       "  '4425915',\n",
       "  '4426339',\n",
       "  '4426883',\n",
       "  '4426430'],\n",
       " ['3874398',\n",
       "  '107057133',\n",
       "  '2389354',\n",
       "  '600013401',\n",
       "  '600114667',\n",
       "  '2300524',\n",
       "  '3122676',\n",
       "  '3521291',\n",
       "  '4412029',\n",
       "  '2853745'],\n",
       " ['3874398',\n",
       "  '107057133',\n",
       "  '3189381',\n",
       "  '1617637',\n",
       "  '153287426',\n",
       "  '4424889',\n",
       "  '4421163',\n",
       "  '4421913',\n",
       "  '4419339',\n",
       "  '4421805'],\n",
       " ['3874398',\n",
       "  '107057133',\n",
       "  '2388453',\n",
       "  '600051152',\n",
       "  '100429257',\n",
       "  '2389354',\n",
       "  '600114667',\n",
       "  '100344665',\n",
       "  '600136539',\n",
       "  '600160165'],\n",
       " ['3874398',\n",
       "  '107057133',\n",
       "  '101117477',\n",
       "  '120857120',\n",
       "  '4407890',\n",
       "  '4424027',\n",
       "  '600139391',\n",
       "  '600088975',\n",
       "  '4031461',\n",
       "  '4417653'],\n",
       " ['3874398',\n",
       "  '107057133',\n",
       "  '101117477',\n",
       "  '3357781',\n",
       "  '2591091',\n",
       "  '3700335',\n",
       "  '600134942',\n",
       "  '157653402',\n",
       "  '153570424',\n",
       "  '155642471'],\n",
       " ['3874398',\n",
       "  '107057133',\n",
       "  '152740411',\n",
       "  '136886248',\n",
       "  '600181793',\n",
       "  '1389451',\n",
       "  '3609940',\n",
       "  '1749014',\n",
       "  '4025731',\n",
       "  '155445965'],\n",
       " ['3874398',\n",
       "  '107057133',\n",
       "  '3385864',\n",
       "  '4420860',\n",
       "  '4423338',\n",
       "  '600185230',\n",
       "  '4424889',\n",
       "  '4423008',\n",
       "  '600184735',\n",
       "  '4420659'],\n",
       " ['3874398',\n",
       "  '107057133',\n",
       "  '2389354',\n",
       "  '4424691',\n",
       "  '4423283',\n",
       "  '4425471',\n",
       "  '4424899',\n",
       "  '4424576',\n",
       "  '4424013',\n",
       "  '4424648'],\n",
       " ['3874398',\n",
       "  '107057133',\n",
       "  '101117477',\n",
       "  '3357781',\n",
       "  '2669344',\n",
       "  '4424491',\n",
       "  '4423934',\n",
       "  '600152293',\n",
       "  '600175218',\n",
       "  '600039993']]"
      ]
     },
     "execution_count": 59,
     "metadata": {
      "tags": []
     },
     "output_type": "execute_result"
    }
   ],
   "source": [
    "# 3874398은 계속 똑같은 node로 이동하네???\n",
    "[walk for walk in walks if walk[0] == '3874398' ] # epochs를 15로 했더니, 맞네"
   ]
  },
  {
   "cell_type": "code",
   "execution_count": 0,
   "metadata": {
    "colab": {},
    "colab_type": "code",
    "id": "DiY_qW07WhBG"
   },
   "outputs": [],
   "source": [
    "# adjency matrix 조사\n",
    "A = nx.adj_matrix(G_d)"
   ]
  },
  {
   "cell_type": "code",
   "execution_count": 0,
   "metadata": {
    "colab": {
     "base_uri": "https://localhost:8080/",
     "height": 34
    },
    "colab_type": "code",
    "id": "j9c8G6xpewBY",
    "outputId": "f17f46b0-5f19-407a-ebeb-5091027b57b3"
   },
   "outputs": [
    {
     "data": {
      "text/plain": [
       "(1371788, 1371788)"
      ]
     },
     "execution_count": 100,
     "metadata": {
      "tags": []
     },
     "output_type": "execute_result"
    }
   ],
   "source": [
    "A.shape"
   ]
  },
  {
   "cell_type": "code",
   "execution_count": 0,
   "metadata": {
    "colab": {},
    "colab_type": "code",
    "id": "DpxqT7UCgmwp"
   },
   "outputs": [],
   "source": [
    "# nodes를 리스트형태로\n",
    "directed_nodes = list(G_d.nodes())"
   ]
  },
  {
   "cell_type": "code",
   "execution_count": 0,
   "metadata": {
    "colab": {
     "base_uri": "https://localhost:8080/",
     "height": 34
    },
    "colab_type": "code",
    "id": "f5uuAJ13exzz",
    "outputId": "4f972771-d78e-40f5-f0b0-2eb09231c4b2"
   },
   "outputs": [
    {
     "data": {
      "text/plain": [
       "1371788"
      ]
     },
     "execution_count": 19,
     "metadata": {
      "tags": []
     },
     "output_type": "execute_result"
    }
   ],
   "source": [
    "len(directed_nodes)"
   ]
  },
  {
   "cell_type": "code",
   "execution_count": 0,
   "metadata": {
    "colab": {
     "base_uri": "https://localhost:8080/",
     "height": 34
    },
    "colab_type": "code",
    "id": "-oPoLrN-g1VC",
    "outputId": "d77a1814-be4b-44fa-9130-a3728b12e47a"
   },
   "outputs": [
    {
     "data": {
      "text/plain": [
       "[600181479, 600186873, 600185426, 600118584, 600186422]"
      ]
     },
     "execution_count": 20,
     "metadata": {
      "tags": []
     },
     "output_type": "execute_result"
    }
   ],
   "source": [
    "directed_nodes[:5]"
   ]
  },
  {
   "cell_type": "code",
   "execution_count": 0,
   "metadata": {
    "colab": {
     "base_uri": "https://localhost:8080/",
     "height": 34
    },
    "colab_type": "code",
    "id": "8fPY0K_se7Tz",
    "outputId": "9a664611-8bf0-4450-d8d3-2d411bfe4798"
   },
   "outputs": [
    {
     "name": "stdout",
     "output_type": "stream",
     "text": [
      "index : 359464 , node : 3874398\n"
     ]
    }
   ],
   "source": [
    "# directed_nodes에서 3874398 를 찾아보자(결과 index:359464)\n",
    "\n",
    "for i,node in enumerate(directed_nodes):\n",
    "    if node == 3874398:\n",
    "        print('index :', i, ', node :', node)"
   ]
  },
  {
   "cell_type": "markdown",
   "metadata": {},
   "source": [
    "----"
   ]
  },
  {
   "cell_type": "markdown",
   "metadata": {},
   "source": [
    "### * 해당 index의 random-walk 과정 살펴보자(오류 찾았따!)"
   ]
  },
  {
   "cell_type": "code",
   "execution_count": 0,
   "metadata": {
    "colab": {},
    "colab_type": "code",
    "id": "IeyJfSr9Hle2"
   },
   "outputs": [],
   "source": [
    "import numba"
   ]
  },
  {
   "cell_type": "code",
   "execution_count": 0,
   "metadata": {
    "colab": {
     "base_uri": "https://localhost:8080/",
     "height": 1000
    },
    "colab_type": "code",
    "id": "uIhzOG4t2zbv",
    "outputId": "de0e93f3-29d6-4b7e-d975-e9448867c994"
   },
   "outputs": [
    {
     "name": "stdout",
     "output_type": "stream",
     "text": [
      "res[0,0]: 359464 start: 8709785 end: 8709785\n",
      "p : []\n",
      "cdf : []\n",
      "draw : 0.8660822452444411\n",
      "next_idx : 0\n",
      "\n",
      "\n",
      "res[0,1]: 103158 start: 6582194 end: 6582205\n",
      "p : [0.10989011 0.06593407 0.06593407 0.06593407 0.10989011 0.06593407\n",
      " 0.01098901 0.10989011 0.06593407 0.10989011 0.21978022]\n",
      "cdf : [0.10989011 0.17582418 0.24175824 0.30769231 0.41758242 0.48351648\n",
      " 0.49450549 0.6043956  0.67032967 0.78021978 1.        ]\n",
      "draw : 0.8126232044264129\n",
      "next_idx : 10\n",
      "\n",
      "\n",
      "res[0,2]: 58195 start: 5577438 end: 5577449\n",
      "p : [0.07692308 0.07692308 0.04615385 0.07692308 0.09230769 0.15384615\n",
      " 0.07692308 0.07692308 0.04615385 0.23076923 0.04615385]\n",
      "cdf : [0.07692308 0.15384615 0.2        0.27692308 0.36923077 0.52307692\n",
      " 0.6        0.67692308 0.72307692 0.95384615 1.        ]\n",
      "draw : 0.5199250918663558\n",
      "next_idx : 5\n",
      "\n",
      "\n",
      "res[0,3]: 91161 start: 6363075 end: 6363166\n",
      "p : [0.00347021 0.00578369 0.00578369 0.00578369 0.00578369 0.00347021\n",
      " 0.00578369 0.00578369 0.00578369 0.00578369 0.00578369 0.00578369\n",
      " 0.00578369 0.00578369 0.00347021 0.00347021 0.00347021 0.01156738\n",
      " 0.00578369 0.01735107 0.01156738 0.01735107 0.00578369 0.01156738\n",
      " 0.00578369 0.00347021 0.00347021 0.00578369 0.00578369 0.01735107\n",
      " 0.00578369 0.00578369 0.04626952 0.00578369 0.00578369 0.00578369\n",
      " 0.00578369 0.00578369 0.0578369  0.04626952 0.00057837 0.01735107\n",
      " 0.00347021 0.00578369 0.21399653 0.0578369  0.01156738 0.00578369\n",
      " 0.01156738 0.00578369 0.02313476 0.00347021 0.01156738 0.00578369\n",
      " 0.00578369 0.00578369 0.00347021 0.00347021 0.00578369 0.00347021\n",
      " 0.00347021 0.00347021 0.00578369 0.06362059 0.00347021 0.00347021\n",
      " 0.00347021 0.00578369 0.00347021 0.00347021 0.00578369 0.00578369\n",
      " 0.00057837 0.01156738 0.01156738 0.00347021 0.00347021 0.00347021\n",
      " 0.00578369 0.00347021 0.00347021 0.00578369 0.00347021 0.00578369\n",
      " 0.00347021 0.00347021 0.00347021 0.00347021 0.00057837 0.00347021\n",
      " 0.00347021]\n",
      "cdf : [0.00347021 0.0092539  0.01503759 0.02082128 0.02660497 0.03007519\n",
      " 0.03585888 0.04164257 0.04742626 0.05320995 0.05899364 0.06477733\n",
      " 0.07056102 0.07634471 0.07981492 0.08328514 0.08675535 0.09832273\n",
      " 0.10410642 0.12145749 0.13302487 0.15037594 0.15615963 0.16772701\n",
      " 0.1735107  0.17698091 0.18045113 0.18623482 0.19201851 0.20936958\n",
      " 0.21515327 0.22093696 0.26720648 0.27299017 0.27877386 0.28455755\n",
      " 0.29034124 0.29612493 0.35396183 0.40023135 0.40080972 0.41816079\n",
      " 0.421631   0.42741469 0.64141122 0.69924812 0.7108155  0.71659919\n",
      " 0.72816657 0.73395026 0.75708502 0.76055523 0.77212261 0.7779063\n",
      " 0.78368999 0.78947368 0.7929439  0.79641411 0.8021978  0.80566802\n",
      " 0.80913823 0.81260844 0.81839213 0.88201272 0.88548294 0.88895315\n",
      " 0.89242337 0.89820706 0.90167727 0.90514748 0.91093117 0.91671486\n",
      " 0.91729323 0.92886061 0.94042799 0.94389821 0.94736842 0.95083864\n",
      " 0.95662233 0.96009254 0.96356275 0.96934644 0.97281666 0.97860035\n",
      " 0.98207056 0.98554078 0.98901099 0.9924812  0.99305957 0.99652979\n",
      " 1.        ]\n",
      "draw : 0.2902324298443585\n",
      "next_idx : 36\n",
      "\n",
      "\n",
      "res[0,4]: 82452 start: 6186573 end: 6186610\n",
      "p : [0.01572327 0.01572327 0.01572327 0.00943396 0.01572327 0.01572327\n",
      " 0.03144654 0.01572327 0.01572327 0.01572327 0.03144654 0.00943396\n",
      " 0.00943396 0.01572327 0.03144654 0.01572327 0.17295597 0.01572327\n",
      " 0.01572327 0.01572327 0.06289308 0.04716981 0.01572327 0.12578616\n",
      " 0.03144654 0.03144654 0.03144654 0.01572327 0.00943396 0.00943396\n",
      " 0.00943396 0.00943396 0.06289308 0.00943396 0.00943396 0.00943396\n",
      " 0.00943396]\n",
      "cdf : [0.01572327 0.03144654 0.04716981 0.05660377 0.07232704 0.08805031\n",
      " 0.11949686 0.13522013 0.1509434  0.16666667 0.19811321 0.20754717\n",
      " 0.21698113 0.2327044  0.26415094 0.27987421 0.45283019 0.46855346\n",
      " 0.48427673 0.5        0.56289308 0.61006289 0.62578616 0.75157233\n",
      " 0.78301887 0.81446541 0.84591195 0.86163522 0.87106918 0.88050314\n",
      " 0.88993711 0.89937107 0.96226415 0.97169811 0.98113208 0.99056604\n",
      " 1.        ]\n",
      "draw : 0.8108238207094456\n",
      "next_idx : 25\n",
      "\n",
      "\n",
      "res[0,5]: 40305 start: 4940348 end: 4940414\n",
      "p : [0.00775194 0.00465116 0.00465116 0.00775194 0.00775194 0.00775194\n",
      " 0.00775194 0.00775194 0.00775194 0.00775194 0.00775194 0.00775194\n",
      " 0.00775194 0.00775194 0.00775194 0.00775194 0.0620155  0.00465116\n",
      " 0.00775194 0.02325581 0.00775194 0.02325581 0.00775194 0.00775194\n",
      " 0.00775194 0.03100775 0.00775194 0.01550388 0.00465116 0.01550388\n",
      " 0.14728682 0.00465116 0.00775194 0.00465116 0.01550388 0.00775194\n",
      " 0.33333333 0.00775194 0.00465116 0.00465116 0.00465116 0.00465116\n",
      " 0.00465116 0.00465116 0.00465116 0.00465116 0.00775194 0.00465116\n",
      " 0.00077519 0.00465116 0.00465116 0.00775194 0.00465116 0.00775194\n",
      " 0.00077519 0.00465116 0.00775194 0.00465116 0.00465116 0.00465116\n",
      " 0.00077519 0.00465116 0.00465116 0.00465116 0.00077519 0.00465116]\n",
      "cdf : [0.00775194 0.0124031  0.01705426 0.0248062  0.03255814 0.04031008\n",
      " 0.04806202 0.05581395 0.06356589 0.07131783 0.07906977 0.08682171\n",
      " 0.09457364 0.10232558 0.11007752 0.11782946 0.17984496 0.18449612\n",
      " 0.19224806 0.21550388 0.22325581 0.24651163 0.25426357 0.2620155\n",
      " 0.26976744 0.30077519 0.30852713 0.32403101 0.32868217 0.34418605\n",
      " 0.49147287 0.49612403 0.50387597 0.50852713 0.52403101 0.53178295\n",
      " 0.86511628 0.87286822 0.87751938 0.88217054 0.88682171 0.89147287\n",
      " 0.89612403 0.90077519 0.90542636 0.91007752 0.91782946 0.92248062\n",
      " 0.92325581 0.92790698 0.93255814 0.94031008 0.94496124 0.95271318\n",
      " 0.95348837 0.95813953 0.96589147 0.97054264 0.9751938  0.97984496\n",
      " 0.98062016 0.98527132 0.98992248 0.99457364 0.99534884 1.        ]\n",
      "draw : 0.44381696873680754\n",
      "next_idx : 30\n",
      "\n",
      "\n",
      "res[0,6]: 62204 start: 5690714 end: 5690767\n",
      "p : [0.00607287 0.01012146 0.00607287 0.00607287 0.01012146 0.01012146\n",
      " 0.01012146 0.01012146 0.01012146 0.01012146 0.01012146 0.02024291\n",
      " 0.01012146 0.04048583 0.02024291 0.02024291 0.01012146 0.03036437\n",
      " 0.03036437 0.01012146 0.13157895 0.01012146 0.01012146 0.08097166\n",
      " 0.02024291 0.01012146 0.01012146 0.02024291 0.01012146 0.01012146\n",
      " 0.01012146 0.01012146 0.03036437 0.01012146 0.01012146 0.01012146\n",
      " 0.05060729 0.15182186 0.01012146 0.01012146 0.01012146 0.00607287\n",
      " 0.01012146 0.00607287 0.01012146 0.00607287 0.00607287 0.00607287\n",
      " 0.00607287 0.00607287 0.00607287 0.00607287 0.00607287]\n",
      "cdf : [0.00607287 0.01619433 0.02226721 0.02834008 0.03846154 0.048583\n",
      " 0.05870445 0.06882591 0.07894737 0.08906883 0.09919028 0.1194332\n",
      " 0.12955466 0.17004049 0.1902834  0.21052632 0.22064777 0.25101215\n",
      " 0.28137652 0.29149798 0.42307692 0.43319838 0.44331984 0.5242915\n",
      " 0.54453441 0.55465587 0.56477733 0.58502024 0.5951417  0.60526316\n",
      " 0.61538462 0.62550607 0.65587045 0.6659919  0.67611336 0.68623482\n",
      " 0.73684211 0.88866397 0.89878543 0.90890688 0.91902834 0.92510121\n",
      " 0.93522267 0.94129555 0.951417   0.95748988 0.96356275 0.96963563\n",
      " 0.9757085  0.98178138 0.98785425 0.99392713 1.        ]\n",
      "draw : 0.021257963737222663\n",
      "next_idx : 2\n",
      "\n",
      "\n",
      "res[0,7]: 1028831 start: 10163189 end: 10163191\n",
      "p : [0.625 0.375]\n",
      "cdf : [0.625 1.   ]\n",
      "draw : 0.8309505504120769\n",
      "next_idx : 1\n",
      "\n",
      "\n",
      "res[0,8]: 46243 start: 5180987 end: 5181118\n",
      "p : [0.00518672 0.00518672 0.00518672 0.00518672 0.00311203 0.00518672\n",
      " 0.00311203 0.00518672 0.00518672 0.00311203 0.01037344 0.00518672\n",
      " 0.00518672 0.00518672 0.00518672 0.00518672 0.00518672 0.00311203\n",
      " 0.00311203 0.00518672 0.00518672 0.00518672 0.00518672 0.00518672\n",
      " 0.00311203 0.00518672 0.00311203 0.00518672 0.00518672 0.00518672\n",
      " 0.02074689 0.00518672 0.01556017 0.00518672 0.00518672 0.01037344\n",
      " 0.00518672 0.01037344 0.00518672 0.00518672 0.00518672 0.00518672\n",
      " 0.00518672 0.01556017 0.01556017 0.00518672 0.00311203 0.02593361\n",
      " 0.00518672 0.10373444 0.00518672 0.00518672 0.00518672 0.00518672\n",
      " 0.00518672 0.01037344 0.03112033 0.00311203 0.00518672 0.00311203\n",
      " 0.04149378 0.00518672 0.01556017 0.00518672 0.00518672 0.00311203\n",
      " 0.01037344 0.00311203 0.00518672 0.00518672 0.00518672 0.03112033\n",
      " 0.05705394 0.00518672 0.00518672 0.00518672 0.00311203 0.01556017\n",
      " 0.00311203 0.00311203 0.00311203 0.00311203 0.00518672 0.00518672\n",
      " 0.00518672 0.01037344 0.01037344 0.00311203 0.00518672 0.00518672\n",
      " 0.00103734 0.00518672 0.00311203 0.00311203 0.00518672 0.00518672\n",
      " 0.00311203 0.00518672 0.00518672 0.00311203 0.00518672 0.0466805\n",
      " 0.00311203 0.00311203 0.00518672 0.00311203 0.00518672 0.00311203\n",
      " 0.00311203 0.00518672 0.00311203 0.01037344 0.00518672 0.00518672\n",
      " 0.00518672 0.00311203 0.00311203 0.00518672 0.00311203 0.00518672\n",
      " 0.00311203 0.00518672 0.00518672 0.00311203 0.00311203 0.00051867\n",
      " 0.00311203 0.00622407 0.00311203 0.00311203 0.00051867]\n",
      "cdf : [0.00518672 0.01037344 0.01556017 0.02074689 0.02385892 0.02904564\n",
      " 0.03215768 0.0373444  0.04253112 0.04564315 0.0560166  0.06120332\n",
      " 0.06639004 0.07157676 0.07676349 0.08195021 0.08713693 0.09024896\n",
      " 0.093361   0.09854772 0.10373444 0.10892116 0.11410788 0.11929461\n",
      " 0.12240664 0.12759336 0.13070539 0.13589212 0.14107884 0.14626556\n",
      " 0.16701245 0.17219917 0.18775934 0.19294606 0.19813278 0.20850622\n",
      " 0.21369295 0.22406639 0.22925311 0.23443983 0.23962656 0.24481328\n",
      " 0.25       0.26556017 0.28112033 0.28630705 0.28941909 0.3153527\n",
      " 0.32053942 0.42427386 0.42946058 0.4346473  0.43983402 0.44502075\n",
      " 0.45020747 0.46058091 0.49170124 0.49481328 0.5        0.50311203\n",
      " 0.54460581 0.54979253 0.5653527  0.57053942 0.57572614 0.57883817\n",
      " 0.58921162 0.59232365 0.59751037 0.6026971  0.60788382 0.63900415\n",
      " 0.69605809 0.70124481 0.70643154 0.71161826 0.71473029 0.73029046\n",
      " 0.73340249 0.73651452 0.73962656 0.74273859 0.74792531 0.75311203\n",
      " 0.75829876 0.7686722  0.77904564 0.78215768 0.7873444  0.79253112\n",
      " 0.79356846 0.79875519 0.80186722 0.80497925 0.81016598 0.8153527\n",
      " 0.81846473 0.82365145 0.82883817 0.83195021 0.83713693 0.88381743\n",
      " 0.88692946 0.89004149 0.89522822 0.89834025 0.90352697 0.906639\n",
      " 0.90975104 0.91493776 0.91804979 0.92842324 0.93360996 0.93879668\n",
      " 0.9439834  0.94709544 0.95020747 0.95539419 0.95850622 0.96369295\n",
      " 0.96680498 0.9719917  0.97717842 0.98029046 0.98340249 0.98392116\n",
      " 0.9870332  0.99325726 0.99636929 0.99948133 1.        ]\n",
      "draw : 0.23808160787759391\n",
      "next_idx : 40\n",
      "\n",
      "\n",
      "res[0,-1]: 131561\n",
      "------------------------------------------------\n",
      "\n",
      "\n",
      "res[1,0]: 359463 start: 8709783 end: 8709785\n",
      "p : [0.5 0.5]\n",
      "cdf : [0.5 1. ]\n",
      "draw : 0.06607428941126181\n",
      "next_idx : 0\n",
      "\n",
      "\n",
      "res[1,1]: 359464 start: 8709785 end: 8709785\n",
      "p : []\n",
      "cdf : []\n",
      "draw : 0.6272051501565538\n",
      "next_idx : 0\n",
      "\n",
      "\n",
      "res[1,2]: 103158 start: 6582194 end: 6582205\n",
      "p : [0.10989011 0.06593407 0.06593407 0.06593407 0.10989011 0.06593407\n",
      " 0.01098901 0.10989011 0.06593407 0.10989011 0.21978022]\n",
      "cdf : [0.10989011 0.17582418 0.24175824 0.30769231 0.41758242 0.48351648\n",
      " 0.49450549 0.6043956  0.67032967 0.78021978 1.        ]\n",
      "draw : 0.23254697012222547\n",
      "next_idx : 2\n",
      "\n",
      "\n",
      "res[1,3]: 474508 start: 9132984 end: 9132994\n",
      "p : [0.10869565 0.10869565 0.10869565 0.10869565 0.06521739 0.10869565\n",
      " 0.10869565 0.10869565 0.10869565 0.06521739]\n",
      "cdf : [0.10869565 0.2173913  0.32608696 0.43478261 0.5        0.60869565\n",
      " 0.7173913  0.82608696 0.93478261 1.        ]\n",
      "draw : 0.6054293365615846\n",
      "next_idx : 5\n",
      "\n",
      "\n",
      "res[1,4]: 639016 start: 9557128 end: 9557135\n",
      "p : [0.13513514 0.08108108 0.13513514 0.08108108 0.08108108 0.40540541\n",
      " 0.08108108]\n",
      "cdf : [0.13513514 0.21621622 0.35135135 0.43243243 0.51351351 0.91891892\n",
      " 1.        ]\n",
      "draw : 0.8275879837677974\n",
      "next_idx : 5\n",
      "\n",
      "\n",
      "res[1,5]: 19135 start: 3676030 end: 3676067\n",
      "p : [0.01926782 0.01926782 0.01926782 0.01926782 0.01926782 0.01926782\n",
      " 0.01926782 0.01926782 0.01926782 0.01926782 0.01926782 0.01926782\n",
      " 0.01156069 0.01926782 0.11560694 0.01926782 0.01926782 0.01926782\n",
      " 0.01926782 0.01926782 0.09633911 0.03853565 0.03853565 0.13487476\n",
      " 0.01926782 0.00192678 0.01926782 0.01926782 0.01926782 0.01926782\n",
      " 0.01156069 0.01156069 0.01926782 0.01926782 0.01926782 0.01926782\n",
      " 0.01926782]\n",
      "cdf : [0.01926782 0.03853565 0.05780347 0.07707129 0.09633911 0.11560694\n",
      " 0.13487476 0.15414258 0.1734104  0.19267823 0.21194605 0.23121387\n",
      " 0.24277457 0.26204239 0.37764933 0.39691715 0.41618497 0.43545279\n",
      " 0.45472062 0.47398844 0.57032755 0.6088632  0.64739884 0.7822736\n",
      " 0.80154143 0.80346821 0.82273603 0.84200385 0.86127168 0.8805395\n",
      " 0.89210019 0.90366089 0.92292871 0.94219653 0.96146435 0.98073218\n",
      " 1.        ]\n",
      "draw : 0.41965172456194855\n",
      "next_idx : 17\n",
      "\n",
      "\n",
      "res[1,6]: 91857 start: 6375186 end: 6375279\n",
      "p : [0.00496278 0.0082713  0.0165426  0.0082713  0.0082713  0.0082713\n",
      " 0.0082713  0.0082713  0.0165426  0.0082713  0.0082713  0.0082713\n",
      " 0.00496278 0.0082713  0.0082713  0.0082713  0.00496278 0.00496278\n",
      " 0.0082713  0.0082713  0.0082713  0.0082713  0.00496278 0.03308519\n",
      " 0.0165426  0.0082713  0.05789909 0.0082713  0.04962779 0.0248139\n",
      " 0.00082713 0.0082713  0.00496278 0.0082713  0.04962779 0.00496278\n",
      " 0.0082713  0.0082713  0.00496278 0.0248139  0.0082713  0.03308519\n",
      " 0.03308519 0.0165426  0.0082713  0.0082713  0.0165426  0.00496278\n",
      " 0.00496278 0.00496278 0.0082713  0.00496278 0.04962779 0.0082713\n",
      " 0.00496278 0.0082713  0.0082713  0.0082713  0.00496278 0.0082713\n",
      " 0.0082713  0.0082713  0.0082713  0.00496278 0.00496278 0.0165426\n",
      " 0.00496278 0.00496278 0.0082713  0.03308519 0.00496278 0.0082713\n",
      " 0.00082713 0.00496278 0.00496278 0.00496278 0.0082713  0.0082713\n",
      " 0.0082713  0.00496278 0.0082713  0.00496278 0.00082713 0.0082713\n",
      " 0.00496278 0.00496278 0.00496278 0.00496278 0.00496278 0.0082713\n",
      " 0.00496278 0.00496278 0.0082713 ]\n",
      "cdf : [0.00496278 0.01323408 0.02977667 0.03804797 0.04631927 0.05459057\n",
      " 0.06286187 0.07113317 0.08767577 0.09594706 0.10421836 0.11248966\n",
      " 0.11745244 0.12572374 0.13399504 0.14226634 0.14722911 0.15219189\n",
      " 0.16046319 0.16873449 0.17700579 0.18527709 0.19023987 0.22332506\n",
      " 0.23986766 0.24813896 0.30603805 0.31430935 0.36393714 0.38875103\n",
      " 0.38957816 0.39784946 0.40281224 0.41108354 0.46071133 0.46567411\n",
      " 0.47394541 0.48221671 0.48717949 0.51199338 0.52026468 0.55334988\n",
      " 0.58643507 0.60297767 0.61124897 0.61952026 0.63606286 0.64102564\n",
      " 0.64598842 0.6509512  0.6592225  0.66418528 0.71381307 0.72208437\n",
      " 0.72704715 0.73531844 0.74358974 0.75186104 0.75682382 0.76509512\n",
      " 0.77336642 0.78163772 0.78990902 0.79487179 0.79983457 0.81637717\n",
      " 0.82133995 0.82630273 0.83457403 0.86765922 0.872622   0.8808933\n",
      " 0.88172043 0.88668321 0.89164599 0.89660877 0.90488007 0.91315136\n",
      " 0.92142266 0.92638544 0.93465674 0.93961952 0.94044665 0.94871795\n",
      " 0.95368073 0.95864351 0.96360629 0.96856907 0.97353184 0.98180314\n",
      " 0.98676592 0.9917287  1.        ]\n",
      "draw : 0.34170233533999517\n",
      "next_idx : 28\n",
      "\n",
      "\n",
      "res[1,7]: 110427 start: 6702578 end: 6702597\n",
      "p : [0.03184713 0.03184713 0.01910828 0.03184713 0.03184713 0.06369427\n",
      " 0.03184713 0.03184713 0.12738854 0.03184713 0.22292994 0.12738854\n",
      " 0.03184713 0.03184713 0.06369427 0.01910828 0.03184713 0.01910828\n",
      " 0.01910828]\n",
      "cdf : [0.03184713 0.06369427 0.08280255 0.11464968 0.14649682 0.21019108\n",
      " 0.24203822 0.27388535 0.40127389 0.43312102 0.65605096 0.78343949\n",
      " 0.81528662 0.84713376 0.91082803 0.92993631 0.96178344 0.98089172\n",
      " 1.        ]\n",
      "draw : 0.694058454177257\n",
      "next_idx : 11\n",
      "\n",
      "\n",
      "res[1,8]: 47964 start: 5244150 end: 5244173\n",
      "p : [0.02680965 0.02680965 0.02680965 0.02680965 0.02680965 0.24128686\n",
      " 0.02680965 0.02680965 0.02680965 0.02680965 0.13404826 0.02680965\n",
      " 0.0536193  0.0536193  0.02680965 0.02680965 0.08042895 0.02680965\n",
      " 0.02680965 0.02680965 0.01608579 0.01608579 0.00268097]\n",
      "cdf : [0.02680965 0.0536193  0.08042895 0.10723861 0.13404826 0.37533512\n",
      " 0.40214477 0.42895442 0.45576408 0.48257373 0.61662198 0.64343164\n",
      " 0.69705094 0.75067024 0.77747989 0.80428954 0.8847185  0.91152815\n",
      " 0.9383378  0.96514745 0.98123324 0.99731903 1.        ]\n",
      "draw : 0.9317822069779583\n",
      "next_idx : 18\n",
      "\n",
      "\n",
      "res[1,-1]: 14460\n",
      "------------------------------------------------\n",
      "\n",
      "\n"
     ]
    }
   ],
   "source": [
    "Tdata = T.data\n",
    "Tindptr = T.indptr\n",
    "Tindices = T.indices\n",
    "walklen = 10\n",
    "\n",
    "sampling_nodes = [359464,359463]\n",
    "\n",
    "n_walks = len(sampling_nodes)\n",
    "res = np.empty((n_walks, walklen), dtype=np.int64)\n",
    "\n",
    "for i in numba.prange(n_walks):\n",
    "    state = sampling_nodes[i]\n",
    "    for k in range(walklen-1):\n",
    "        res[i, k] = state\n",
    "        start = Tindptr[state]\n",
    "        end = Tindptr[state+1]\n",
    "        print('res[{},{}]:'.format(i,k), state, 'start:',start, 'end:',end)\n",
    "        # transition probabilities\n",
    "        p = Tdata[start:end]\n",
    "        print('p : {}'.format(p))\n",
    "        # cumulative distribution of transition probabilities\n",
    "        cdf = np.cumsum(p) # [0] 붙어야하나?\n",
    "        print('cdf : {}'.format(cdf))\n",
    "        # Random draw in [0, 1] for each row\n",
    "        # Choice is where random draw falls in cumulative distribution\n",
    "        draw = np.random.rand()\n",
    "        print('draw : {}'.format(draw))\n",
    "        \n",
    "        # Find where draw is in cdf\n",
    "        # Then use its index to update state\n",
    "        next_idx = np.searchsorted(cdf, draw)\n",
    "        print('next_idx : {}'.format(next_idx))\n",
    "        \n",
    "        # Winner points to the column index of the next node\n",
    "        state = Tindices[start + next_idx]\n",
    "        # Write final states\n",
    "        print('\\n')\n",
    "    res[i, -1] = state\n",
    "    print('res[{},-1]:'.format(i), res[i, -1])\n",
    "    print('------------------------------------------------')\n",
    "    print('\\n')"
   ]
  },
  {
   "cell_type": "code",
   "execution_count": 0,
   "metadata": {
    "colab": {
     "base_uri": "https://localhost:8080/",
     "height": 85
    },
    "colab_type": "code",
    "id": "DlPuo4odJ21U",
    "outputId": "5e563057-4395-4a11-84cb-6a81b6903862"
   },
   "outputs": [
    {
     "data": {
      "text/plain": [
       "array([[ 359464,  103158,   58195,   91161,   82452,   40305,   62204,\n",
       "        1028831,   46243,  131561],\n",
       "       [ 359463,  359464,  103158,  474508,  639016,   19135,   91857,\n",
       "         110427,   47964,   14460]])"
      ]
     },
     "execution_count": 33,
     "metadata": {
      "tags": []
     },
     "output_type": "execute_result"
    }
   ],
   "source": [
    "res"
   ]
  },
  {
   "cell_type": "markdown",
   "metadata": {},
   "source": [
    "* **오류가 있다 : 분명 첫번째 random-walk에서 갈곳이 없었는데, 이상한곳으로 mapping 된다!**"
   ]
  },
  {
   "cell_type": "markdown",
   "metadata": {
    "colab": {},
    "colab_type": "code",
    "id": "XOKqBLNu2zMN"
   },
   "source": [
    "---"
   ]
  },
  {
   "cell_type": "markdown",
   "metadata": {},
   "source": [
    "### # node2vec fitting"
   ]
  },
  {
   "cell_type": "code",
   "execution_count": 0,
   "metadata": {
    "colab": {
     "base_uri": "https://localhost:8080/",
     "height": 156
    },
    "colab_type": "code",
    "id": "QdK-WMZix9Ix",
    "outputId": "d2aaf7a2-6db6-4f74-e5c4-bc001d11e9e4"
   },
   "outputs": [
    {
     "name": "stdout",
     "output_type": "stream",
     "text": [
      "Making walks... Done, T=29.60\n",
      "Mapping Walk Names... Done, T=246.09\n",
      "Training W2V... Done, T=8830.81\n"
     ]
    },
    {
     "name": "stderr",
     "output_type": "stream",
     "text": [
      "/content/gdrive/My Drive/Colab Notebooks/공부/embedding_model/Graph embedding/1029_graph2vec/graph2vec-master/graph2vec/graph.py:406: DeprecationWarning: Call to deprecated `__getitem__` (Method will be removed in 4.0.0, use self.wv.__getitem__() instead).\n",
      "  return self.model[node_name]\n"
     ]
    },
    {
     "name": "stdout",
     "output_type": "stream",
     "text": [
      "CPU times: user 6h 23min 46s, sys: 33min 55s, total: 6h 57min 42s\n",
      "Wall time: 2h 33min 5s\n"
     ]
    }
   ],
   "source": [
    "%%time \n",
    "## 기본 - walklen=10, epochs=20, w2vparams={window:10, size=32, negative:20, iter:10, batch_words:128}\n",
    "n2v.fit(G_d) \n",
    "\n",
    "\n",
    "embed_size = 32 # Node2Vec의 기본 embed-size 는 32였어\n",
    "embeds = np.empty((len(digraph_nodes), embed_size))\n",
    "\n",
    "for i,node in enumerate(digraph_nodes):\n",
    "    embeds[i] = n2v.predict(node)\n",
    "\n",
    "np.save('1113_direct_base.npy', embeds)"
   ]
  },
  {
   "cell_type": "code",
   "execution_count": 0,
   "metadata": {
    "colab": {
     "base_uri": "https://localhost:8080/",
     "height": 238
    },
    "colab_type": "code",
    "id": "CCMEI-KQOQ7Y",
    "outputId": "79eab860-3525-4574-c900-64cac967f66c"
   },
   "outputs": [
    {
     "data": {
      "text/plain": [
       "array([[ 1.22905171, -3.26411247,  2.05514336, ..., -3.58916736,\n",
       "         2.38996267,  2.13926458],\n",
       "       [-0.53847474, -5.56275606,  1.86666739, ..., -0.13200162,\n",
       "         5.59156132, -0.04875129],\n",
       "       [-0.1989885 , -1.45533049, -0.08335733, ..., -0.0689493 ,\n",
       "         2.78106451, -5.79675436],\n",
       "       ...,\n",
       "       [ 0.25762832,  0.19774814,  0.93224514, ...,  0.27430385,\n",
       "         0.54954588, -2.33664894],\n",
       "       [ 0.00925384, -0.3487694 ,  0.28238174, ..., -0.28226861,\n",
       "         0.06169181, -0.42875022],\n",
       "       [-0.05393747, -0.69453079,  1.14673924, ..., -0.14792757,\n",
       "         0.61898339, -2.71857667]])"
      ]
     },
     "execution_count": 15,
     "metadata": {
      "tags": []
     },
     "output_type": "execute_result"
    }
   ],
   "source": [
    "embeds"
   ]
  },
  {
   "cell_type": "code",
   "execution_count": 0,
   "metadata": {
    "colab": {
     "base_uri": "https://localhost:8080/",
     "height": 34
    },
    "colab_type": "code",
    "id": "YajTiUi7xLCW",
    "outputId": "973543ef-8895-44e7-eae3-61936a764671"
   },
   "outputs": [
    {
     "data": {
      "text/plain": [
       "(1371788, 32)"
      ]
     },
     "execution_count": 16,
     "metadata": {
      "tags": []
     },
     "output_type": "execute_result"
    }
   ],
   "source": [
    "embeds.shape"
   ]
  },
  {
   "cell_type": "code",
   "execution_count": 0,
   "metadata": {
    "colab": {
     "base_uri": "https://localhost:8080/",
     "height": 238
    },
    "colab_type": "code",
    "id": "u3220N77oetQ",
    "outputId": "a4c0f512-1906-4f99-b282-ccd0c9e34f50"
   },
   "outputs": [
    {
     "data": {
      "text/plain": [
       "array([[ 4.48070955,  1.61329055, -1.55646265, ..., -1.68655717,\n",
       "         0.71059108, -1.32855093],\n",
       "       [ 0.84004813, -1.3062377 , -0.60076034, ..., -5.26315022,\n",
       "         1.66197932,  0.73398423],\n",
       "       [ 7.51180553, -1.19695747, -3.03270149, ..., -0.23695295,\n",
       "         2.95918536, -2.91803145],\n",
       "       ...,\n",
       "       [ 0.98433661,  0.24287279,  0.27622041, ...,  0.97671133,\n",
       "         0.98167813,  0.29304436],\n",
       "       [-1.30843747, -0.89789724,  1.07976973, ...,  1.15732777,\n",
       "        -0.04601382, -1.40657759],\n",
       "       [-0.96856052, -0.27465129,  0.92876369, ...,  0.835365  ,\n",
       "         0.0953926 , -0.85234773]])"
      ]
     },
     "execution_count": 17,
     "metadata": {
      "tags": []
     },
     "output_type": "execute_result"
    }
   ],
   "source": [
    "embeds"
   ]
  },
  {
   "cell_type": "markdown",
   "metadata": {
    "colab_type": "text",
    "id": "_pUGnMrTJlcx"
   },
   "source": [
    "\n",
    "\n",
    "---\n",
    "\n",
    "\n",
    "\n",
    "---\n",
    "\n"
   ]
  },
  {
   "cell_type": "markdown",
   "metadata": {
    "colab_type": "text",
    "id": "dQZpePysJmiu"
   },
   "source": [
    "### # embedding load하여 사용"
   ]
  },
  {
   "cell_type": "code",
   "execution_count": 0,
   "metadata": {
    "colab": {},
    "colab_type": "code",
    "id": "3TL9YttjoeqM"
   },
   "outputs": [],
   "source": [
    "#undirected = np.load('embedding_1029.npy')\n",
    "#directed = np.load('./1104_kwd/di_embedding_1104_walk10_window10_ep20.npy') #\n",
    "directed = embeds # 위의 훈련 결과 바로 쓸때 "
   ]
  },
  {
   "cell_type": "code",
   "execution_count": 0,
   "metadata": {
    "colab": {
     "base_uri": "https://localhost:8080/",
     "height": 34
    },
    "colab_type": "code",
    "id": "LgjAsOgOpmbU",
    "outputId": "d5585d80-b328-4314-81cf-d88baa27d38f"
   },
   "outputs": [
    {
     "data": {
      "text/plain": [
       "(1371788, 32)"
      ]
     },
     "execution_count": 19,
     "metadata": {
      "tags": []
     },
     "output_type": "execute_result"
    }
   ],
   "source": [
    "directed.shape # 그냥 클릭 : 170만 -> kwd클릭 : 100만 -> 클릭_w_cate : 137만"
   ]
  },
  {
   "cell_type": "code",
   "execution_count": 0,
   "metadata": {
    "colab": {
     "base_uri": "https://localhost:8080/",
     "height": 34
    },
    "colab_type": "code",
    "id": "0_MbVJlZzeN1",
    "outputId": "cb942743-99d0-48e1-b418-d1ad74b354dd"
   },
   "outputs": [
    {
     "data": {
      "text/plain": [
       "1371788"
      ]
     },
     "execution_count": 26,
     "metadata": {
      "tags": []
     },
     "output_type": "execute_result"
    }
   ],
   "source": [
    "len(digraph_nodes)"
   ]
  },
  {
   "cell_type": "code",
   "execution_count": 0,
   "metadata": {
    "colab": {
     "base_uri": "https://localhost:8080/",
     "height": 1000
    },
    "colab_type": "code",
    "id": "jqYVrc50zP1d",
    "outputId": "1a49e31c-1ee3-47ba-8807-f1e5c21283fe"
   },
   "outputs": [
    {
     "data": {
      "text/plain": [
       "[600181479,\n",
       " 600186873,\n",
       " 600185426,\n",
       " 600118584,\n",
       " 600186422,\n",
       " 158200378,\n",
       " 151723408,\n",
       " 4241527,\n",
       " 4421573,\n",
       " 148705230,\n",
       " 600006367,\n",
       " 143699050,\n",
       " 160485156,\n",
       " 152811662,\n",
       " 157231307,\n",
       " 152069791,\n",
       " 4407271,\n",
       " 4421078,\n",
       " 4421789,\n",
       " 600183527,\n",
       " 4422021,\n",
       " 4422034,\n",
       " 4423136,\n",
       " 4423093,\n",
       " 600183568,\n",
       " 4340713,\n",
       " 4344722,\n",
       " 4425136,\n",
       " 4424258,\n",
       " 4425152,\n",
       " 4424659,\n",
       " 4414577,\n",
       " 600187942,\n",
       " 159173216,\n",
       " 153543307,\n",
       " 160960557,\n",
       " 600178861,\n",
       " 155399929,\n",
       " 160602340,\n",
       " 600172878,\n",
       " 158923084,\n",
       " 157683844,\n",
       " 600183029,\n",
       " 161377353,\n",
       " 4423142,\n",
       " 4425677,\n",
       " 4424670,\n",
       " 600114430,\n",
       " 4418502,\n",
       " 4415306,\n",
       " 4403966,\n",
       " 4390047,\n",
       " 4420571,\n",
       " 600227607,\n",
       " 4428842,\n",
       " 600156346,\n",
       " 4428511,\n",
       " 600183689,\n",
       " 4413772,\n",
       " 4337134,\n",
       " 158088582,\n",
       " 4412226,\n",
       " 142988306,\n",
       " 122364967,\n",
       " 104077238,\n",
       " 132874992,\n",
       " 1308238,\n",
       " 2497111,\n",
       " 2658930,\n",
       " 600056265,\n",
       " 600186059,\n",
       " 160948238,\n",
       " 600025810,\n",
       " 101441562,\n",
       " 145610838,\n",
       " 162772363,\n",
       " 162772258,\n",
       " 162769548,\n",
       " 162768208,\n",
       " 162762304,\n",
       " 161789925,\n",
       " 161370250,\n",
       " 161369764,\n",
       " 156108781,\n",
       " 156102641,\n",
       " 155340404,\n",
       " 155265956,\n",
       " 155082051,\n",
       " 154494865,\n",
       " 153980777,\n",
       " 153980502,\n",
       " 153751291,\n",
       " 153037760,\n",
       " 152300545,\n",
       " 152014908,\n",
       " 151599900,\n",
       " 150870711,\n",
       " 158288823,\n",
       " 4389554,\n",
       " 4278487,\n",
       " 158057111,\n",
       " 145202037,\n",
       " 162776030,\n",
       " 162769982,\n",
       " 162766847,\n",
       " 162763176,\n",
       " 162163273,\n",
       " 162104195,\n",
       " 162100276,\n",
       " 161911061,\n",
       " 161858617,\n",
       " 161789939,\n",
       " 150472748,\n",
       " 124709073,\n",
       " 4307286,\n",
       " 161229349,\n",
       " 159185527,\n",
       " 163129627,\n",
       " 125495558,\n",
       " 160916086,\n",
       " 147414888,\n",
       " 155617311,\n",
       " 155452715,\n",
       " 148041054,\n",
       " 158803775,\n",
       " 151205858,\n",
       " 161767935,\n",
       " 161635307,\n",
       " 160962567,\n",
       " 159060208,\n",
       " 152018528,\n",
       " 161752132,\n",
       " 141925444,\n",
       " 600055271,\n",
       " 600074269,\n",
       " 160332798,\n",
       " 159485063,\n",
       " 157387949,\n",
       " 157120548,\n",
       " 163591747,\n",
       " 160646481,\n",
       " 158467467,\n",
       " 3117040,\n",
       " 120256858,\n",
       " 101742568,\n",
       " 3682432,\n",
       " 100872604,\n",
       " 600116668,\n",
       " 3188930,\n",
       " 600119932,\n",
       " 4394608,\n",
       " 3538286,\n",
       " 600142632,\n",
       " 139985550,\n",
       " 160575157,\n",
       " 2667061,\n",
       " 4381559,\n",
       " 138724084,\n",
       " 600160979,\n",
       " 600083484,\n",
       " 138872748,\n",
       " 122932631,\n",
       " 161364704,\n",
       " 4331417,\n",
       " 4184843,\n",
       " 2108523,\n",
       " 2982624,\n",
       " 121772656,\n",
       " 2920812,\n",
       " 146645354,\n",
       " 141850425,\n",
       " 144955598,\n",
       " 4407122,\n",
       " 155601494,\n",
       " 149675093,\n",
       " 152740123,\n",
       " 146505968,\n",
       " 152988779,\n",
       " 145883543,\n",
       " 154015067,\n",
       " 600094858,\n",
       " 141487391,\n",
       " 600042828,\n",
       " 3797484,\n",
       " 600142391,\n",
       " 600177604,\n",
       " 600181282,\n",
       " 130235064,\n",
       " 4423723,\n",
       " 4420860,\n",
       " 4424908,\n",
       " 4418345,\n",
       " 4424455,\n",
       " 4417543,\n",
       " 4425837,\n",
       " 4422585,\n",
       " 3547847,\n",
       " 155676324,\n",
       " 153819177,\n",
       " 157302491,\n",
       " 4423746,\n",
       " 4423884,\n",
       " 4420512,\n",
       " 4419615,\n",
       " 4422214,\n",
       " 4424995,\n",
       " 4424541,\n",
       " 4425002,\n",
       " 4424680,\n",
       " 4424088,\n",
       " 4424685,\n",
       " 4423099,\n",
       " 152059126,\n",
       " 4424216,\n",
       " 600160134,\n",
       " 600184023,\n",
       " 101920026,\n",
       " 600030804,\n",
       " 600026341,\n",
       " 600026320,\n",
       " 600101359,\n",
       " 3013625,\n",
       " 162793186,\n",
       " 600125616,\n",
       " 600018300,\n",
       " 115944579,\n",
       " 600088572,\n",
       " 600153113,\n",
       " 600090402,\n",
       " 600035840,\n",
       " 4422113,\n",
       " 4423671,\n",
       " 146662208,\n",
       " 600091960,\n",
       " 152039621,\n",
       " 4396317,\n",
       " 600229443,\n",
       " 100150398,\n",
       " 600068201,\n",
       " 600096624,\n",
       " 600084124,\n",
       " 600020351,\n",
       " 600030792,\n",
       " 4419658,\n",
       " 4417396,\n",
       " 146172614,\n",
       " 600127079,\n",
       " 4351332,\n",
       " 4428667,\n",
       " 4405478,\n",
       " 4372586,\n",
       " 4418894,\n",
       " 4429877,\n",
       " 4400226,\n",
       " 3649671,\n",
       " 4426376,\n",
       " 4427009,\n",
       " 4417648,\n",
       " 4424850,\n",
       " 159194609,\n",
       " 159021281,\n",
       " 159240287,\n",
       " 157386723,\n",
       " 158086244,\n",
       " 158086235,\n",
       " 600169765,\n",
       " 600182325,\n",
       " 600160046,\n",
       " 3826514,\n",
       " 151825804,\n",
       " 155595117,\n",
       " 139968835,\n",
       " 158086251,\n",
       " 600105589,\n",
       " 4416927,\n",
       " 4421153,\n",
       " 4419832,\n",
       " 130251387,\n",
       " 101535545,\n",
       " 146179755,\n",
       " 138711959,\n",
       " 101545833,\n",
       " 158255120,\n",
       " 600181634,\n",
       " 4423144,\n",
       " 600169960,\n",
       " 4308336,\n",
       " 600187805,\n",
       " 600184838,\n",
       " 4423586,\n",
       " 4426421,\n",
       " 4424702,\n",
       " 4428720,\n",
       " 4426721,\n",
       " 4427868,\n",
       " 4423283,\n",
       " 4421465,\n",
       " 4419605,\n",
       " 4422563,\n",
       " 4423269,\n",
       " 600206485,\n",
       " 4428734,\n",
       " 4426325,\n",
       " 4428480,\n",
       " 3806546,\n",
       " 4399621,\n",
       " 2593764,\n",
       " 149622203,\n",
       " 3681058,\n",
       " 1795519,\n",
       " 4407424,\n",
       " 4404300,\n",
       " 4423192,\n",
       " 4423197,\n",
       " 4400203,\n",
       " 4429883,\n",
       " 4429891,\n",
       " 4428681,\n",
       " 4421133,\n",
       " 4417159,\n",
       " 4420515,\n",
       " 4418838,\n",
       " 4422133,\n",
       " 600000051,\n",
       " 148013615,\n",
       " 600222842,\n",
       " 4386533,\n",
       " 4287844,\n",
       " 4408776,\n",
       " 4423307,\n",
       " 4424586,\n",
       " 2839089,\n",
       " 128230499,\n",
       " 600082508,\n",
       " 600080185,\n",
       " 600185538,\n",
       " 153990854,\n",
       " 600067481,\n",
       " 600018159,\n",
       " 128479805,\n",
       " 128479801,\n",
       " 128457692,\n",
       " 128457691,\n",
       " 4423185,\n",
       " 4425889,\n",
       " 4425471,\n",
       " 130595512,\n",
       " 148511753,\n",
       " 124073577,\n",
       " 600180579,\n",
       " 4418299,\n",
       " 4426835,\n",
       " 600145896,\n",
       " 4421917,\n",
       " 600091388,\n",
       " 600202003,\n",
       " 600066910,\n",
       " 4416650,\n",
       " 600062829,\n",
       " 600082099,\n",
       " 600119288,\n",
       " 2241899,\n",
       " 4422805,\n",
       " 4364011,\n",
       " 2403022,\n",
       " 160908667,\n",
       " 4418861,\n",
       " 4423186,\n",
       " 4418030,\n",
       " 600187447,\n",
       " 4414364,\n",
       " 4421468,\n",
       " 4424271,\n",
       " 600179980,\n",
       " 4420896,\n",
       " 4423514,\n",
       " 4423006,\n",
       " 4422622,\n",
       " 4421315,\n",
       " 4429239,\n",
       " 4428296,\n",
       " 4422635,\n",
       " 4420075,\n",
       " 4413602,\n",
       " 158965350,\n",
       " 4426342,\n",
       " 600088549,\n",
       " 4423337,\n",
       " 4422877,\n",
       " 4390706,\n",
       " 4425283,\n",
       " 600089143,\n",
       " 154278183,\n",
       " 600000848,\n",
       " 3963473,\n",
       " 4421271,\n",
       " 4421149,\n",
       " 4420659,\n",
       " 4420966,\n",
       " 4421265,\n",
       " 4293014,\n",
       " 600034103,\n",
       " 4417250,\n",
       " 4397580,\n",
       " 600134294,\n",
       " 2045446,\n",
       " 4429062,\n",
       " 4413854,\n",
       " 4426495,\n",
       " 4413983,\n",
       " 4422743,\n",
       " 4421212,\n",
       " 4419384,\n",
       " 1654460,\n",
       " 2715781,\n",
       " 4427641,\n",
       " 600088975,\n",
       " 2638052,\n",
       " 4031461,\n",
       " 600182506,\n",
       " 4421413,\n",
       " 600185943,\n",
       " 4422889,\n",
       " 4423098,\n",
       " 4421027,\n",
       " 4423284,\n",
       " 4419316,\n",
       " 4423155,\n",
       " 4422591,\n",
       " 4423214,\n",
       " 4423165,\n",
       " 4424121,\n",
       " 160592072,\n",
       " 600186678,\n",
       " 4425929,\n",
       " 4426310,\n",
       " 4422256,\n",
       " 4425915,\n",
       " 4421519,\n",
       " 4376621,\n",
       " 4426854,\n",
       " 600186622,\n",
       " 600168211,\n",
       " 4428965,\n",
       " 4428774,\n",
       " 162319302,\n",
       " 600206459,\n",
       " 4425778,\n",
       " 4158014,\n",
       " 155622060,\n",
       " 2510464,\n",
       " 133612482,\n",
       " 600177468,\n",
       " 600125625,\n",
       " 161439354,\n",
       " 160635330,\n",
       " 163070779,\n",
       " 161532998,\n",
       " 147182810,\n",
       " 163311708,\n",
       " 150504916,\n",
       " 4426632,\n",
       " 600017266,\n",
       " 600017270,\n",
       " 1781765,\n",
       " 2300911,\n",
       " 3070263,\n",
       " 4421914,\n",
       " 4413054,\n",
       " 4426579,\n",
       " 4425557,\n",
       " 4426535,\n",
       " 4426519,\n",
       " 4426422,\n",
       " 4424252,\n",
       " 4426168,\n",
       " 4421871,\n",
       " 4424020,\n",
       " 4427576,\n",
       " 4428299,\n",
       " 4426059,\n",
       " 142892575,\n",
       " 155323593,\n",
       " 154016064,\n",
       " 124646110,\n",
       " 600066754,\n",
       " 4422383,\n",
       " 157225538,\n",
       " 143009930,\n",
       " 4424994,\n",
       " 4421625,\n",
       " 4418128,\n",
       " 4421680,\n",
       " 4423570,\n",
       " 4423137,\n",
       " 4422529,\n",
       " 4424008,\n",
       " 600184115,\n",
       " 4417690,\n",
       " 4424656,\n",
       " 600187073,\n",
       " 160884067,\n",
       " 1547051,\n",
       " 3453206,\n",
       " 600181087,\n",
       " 150998699,\n",
       " 150997240,\n",
       " 4425647,\n",
       " 4427285,\n",
       " 4425363,\n",
       " 4427278,\n",
       " 4425599,\n",
       " 600110405,\n",
       " 2284333,\n",
       " 4427097,\n",
       " 4425637,\n",
       " 4423486,\n",
       " 4427930,\n",
       " 4428027,\n",
       " 4428321,\n",
       " 4430214,\n",
       " 4266639,\n",
       " 3846388,\n",
       " 4177257,\n",
       " 4382902,\n",
       " 2541359,\n",
       " 4420409,\n",
       " 600182106,\n",
       " 600110865,\n",
       " 146613221,\n",
       " 140829379,\n",
       " 600102213,\n",
       " 600110828,\n",
       " 3414853,\n",
       " 4422186,\n",
       " 117114415,\n",
       " 128565397,\n",
       " 120791238,\n",
       " 142122951,\n",
       " 141243772,\n",
       " 141544270,\n",
       " 2057620,\n",
       " 3327941,\n",
       " 4416456,\n",
       " 4421961,\n",
       " 4415584,\n",
       " 600173147,\n",
       " 600173655,\n",
       " 3647575,\n",
       " 600183471,\n",
       " 4420637,\n",
       " 4417670,\n",
       " 4402230,\n",
       " 600089215,\n",
       " 600100271,\n",
       " 600120556,\n",
       " 600096748,\n",
       " 600125132,\n",
       " 2246550,\n",
       " 3716374,\n",
       " 4424223,\n",
       " 4419455,\n",
       " 600186015,\n",
       " 600182814,\n",
       " 600050737,\n",
       " 600186573,\n",
       " 4422980,\n",
       " 600174387,\n",
       " 4422734,\n",
       " 148233396,\n",
       " 3843347,\n",
       " 4421152,\n",
       " 4429127,\n",
       " 4425316,\n",
       " 600083985,\n",
       " 4420800,\n",
       " 600178940,\n",
       " 600161618,\n",
       " 155282283,\n",
       " 600107016,\n",
       " 4423184,\n",
       " 4350510,\n",
       " 600145376,\n",
       " 4426430,\n",
       " 4424899,\n",
       " 600007626,\n",
       " 4428811,\n",
       " 4353081,\n",
       " 4427291,\n",
       " 4425142,\n",
       " 4252606,\n",
       " 600115648,\n",
       " 155396988,\n",
       " 600133516,\n",
       " 4270333,\n",
       " 4264246,\n",
       " 1527061,\n",
       " 121003204,\n",
       " 143025056,\n",
       " 3038744,\n",
       " 3341664,\n",
       " 3742552,\n",
       " 3898914,\n",
       " 600187352,\n",
       " 4371798,\n",
       " 4277487,\n",
       " 2647478,\n",
       " 2319979,\n",
       " 4417311,\n",
       " 4404337,\n",
       " 4429859,\n",
       " 100409632,\n",
       " 114406013,\n",
       " 4109079,\n",
       " 4372223,\n",
       " 4296997,\n",
       " 4371897,\n",
       " 4372251,\n",
       " 4371935,\n",
       " 4371959,\n",
       " 4371940,\n",
       " 4404339,\n",
       " 149873892,\n",
       " 600163170,\n",
       " 153614119,\n",
       " 150195622,\n",
       " 4323083,\n",
       " 3224323,\n",
       " 600123655,\n",
       " 143282136,\n",
       " 600066677,\n",
       " 4420237,\n",
       " 4425354,\n",
       " 4412905,\n",
       " 600188709,\n",
       " 600133265,\n",
       " 3352630,\n",
       " 600156695,\n",
       " 3307805,\n",
       " 102361017,\n",
       " 4286763,\n",
       " 600114765,\n",
       " 4418537,\n",
       " 4418965,\n",
       " 4418679,\n",
       " 4425940,\n",
       " 4420524,\n",
       " 4428654,\n",
       " 4428821,\n",
       " 4428342,\n",
       " 128583498,\n",
       " 600104072,\n",
       " 108049611,\n",
       " 600127575,\n",
       " 141515875,\n",
       " 141484599,\n",
       " 140834259,\n",
       " 142298062,\n",
       " 1532444,\n",
       " 3314012,\n",
       " 121977476,\n",
       " 4248886,\n",
       " 120999586,\n",
       " 3504195,\n",
       " 141998399,\n",
       " 1520200,\n",
       " 1623258,\n",
       " 600084007,\n",
       " 4418991,\n",
       " 4389213,\n",
       " 4353690,\n",
       " 4423384,\n",
       " 126517896,\n",
       " 3924371,\n",
       " 4421629,\n",
       " 4416687,\n",
       " 4416579,\n",
       " 4412994,\n",
       " 4421184,\n",
       " 153978834,\n",
       " 124799201,\n",
       " 3444993,\n",
       " 147058763,\n",
       " 3721532,\n",
       " 4420544,\n",
       " 4421941,\n",
       " 4422138,\n",
       " 4420236,\n",
       " 4421922,\n",
       " 4172477,\n",
       " 600184735,\n",
       " 600168318,\n",
       " 4389974,\n",
       " 4422019,\n",
       " 600083933,\n",
       " 4420676,\n",
       " 4426224,\n",
       " 600081767,\n",
       " 4417438,\n",
       " 600183733,\n",
       " 4418090,\n",
       " 1572225,\n",
       " 600134147,\n",
       " 4409547,\n",
       " 600183792,\n",
       " 600177549,\n",
       " 152277360,\n",
       " 153555017,\n",
       " 4074685,\n",
       " 141270970,\n",
       " 159121778,\n",
       " 600187621,\n",
       " 4427086,\n",
       " 600122647,\n",
       " 4420706,\n",
       " 4392441,\n",
       " 4365248,\n",
       " 4409858,\n",
       " 4409930,\n",
       " 1952843,\n",
       " 600039422,\n",
       " 4006843,\n",
       " 3498826,\n",
       " 4378654,\n",
       " 4116880,\n",
       " 2974877,\n",
       " 4417744,\n",
       " 600181670,\n",
       " 4421653,\n",
       " 600187759,\n",
       " 4427010,\n",
       " 4423818,\n",
       " 4423294,\n",
       " 4420799,\n",
       " 4363821,\n",
       " 4424576,\n",
       " 4424858,\n",
       " 4428855,\n",
       " 4198582,\n",
       " 4428524,\n",
       " 4428697,\n",
       " 4406305,\n",
       " 160910884,\n",
       " 600201818,\n",
       " 161923672,\n",
       " 161934814,\n",
       " 153174713,\n",
       " 3827503,\n",
       " 600146152,\n",
       " 3324152,\n",
       " 4415913,\n",
       " 128407773,\n",
       " 1342309,\n",
       " 4270758,\n",
       " 600111883,\n",
       " 3324163,\n",
       " 100136418,\n",
       " 151225825,\n",
       " 3566074,\n",
       " 600161403,\n",
       " 3244665,\n",
       " 4028527,\n",
       " 4340331,\n",
       " 4404538,\n",
       " 134118546,\n",
       " 1638058,\n",
       " 139843577,\n",
       " 600127046,\n",
       " 4425032,\n",
       " 4381482,\n",
       " 4384747,\n",
       " 4345762,\n",
       " 4359569,\n",
       " 4421486,\n",
       " 2982524,\n",
       " 600116022,\n",
       " 4421282,\n",
       " 143951534,\n",
       " 1485296,\n",
       " 3136209,\n",
       " 600070015,\n",
       " 4422182,\n",
       " 4422954,\n",
       " 4425058,\n",
       " 4424443,\n",
       " 600183463,\n",
       " 137785485,\n",
       " 127670516,\n",
       " 2415625,\n",
       " 600012912,\n",
       " 2823126,\n",
       " 143676693,\n",
       " 2187749,\n",
       " 100324689,\n",
       " 100315216,\n",
       " 1588950,\n",
       " 600089130,\n",
       " 4425213,\n",
       " 4429739,\n",
       " 160923816,\n",
       " 160924055,\n",
       " 4411540,\n",
       " 4404498,\n",
       " 4416806,\n",
       " 4407936,\n",
       " 4416854,\n",
       " 600139021,\n",
       " 153470256,\n",
       " 2569072,\n",
       " 600161731,\n",
       " 153601614,\n",
       " 141501646,\n",
       " 121045715,\n",
       " 110504121,\n",
       " 140931986,\n",
       " 4422655,\n",
       " 140782801,\n",
       " 600132333,\n",
       " 4421280,\n",
       " 4324795,\n",
       " 600100060,\n",
       " 112304868,\n",
       " 139825257,\n",
       " 160923482,\n",
       " 163095671,\n",
       " 4427581,\n",
       " 4347165,\n",
       " 145962028,\n",
       " 100395373,\n",
       " 600013509,\n",
       " 1969109,\n",
       " 4414633,\n",
       " 111456025,\n",
       " 149904175,\n",
       " 161976934,\n",
       " 600210303,\n",
       " 600208512,\n",
       " 600173202,\n",
       " 600204851,\n",
       " 4425189,\n",
       " 1657207,\n",
       " 600144920,\n",
       " 600097802,\n",
       " 600124263,\n",
       " 600089955,\n",
       " 4421162,\n",
       " 4389386,\n",
       " 600183933,\n",
       " 4419789,\n",
       " 4420968,\n",
       " 4388821,\n",
       " 4421234,\n",
       " 600033357,\n",
       " 102017249,\n",
       " 3839548,\n",
       " 600111345,\n",
       " 157406140,\n",
       " 4380194,\n",
       " 600132007,\n",
       " 4418718,\n",
       " 100107751,\n",
       " 600001713,\n",
       " 4421084,\n",
       " 4321735,\n",
       " 4416221,\n",
       " 4421263,\n",
       " 4423182,\n",
       " 4427060,\n",
       " 4427199,\n",
       " 4426883,\n",
       " 4426375,\n",
       " 4425433,\n",
       " 4425546,\n",
       " 4426685,\n",
       " 4425278,\n",
       " 1615850,\n",
       " 3527019,\n",
       " 600206132,\n",
       " 4421535,\n",
       " 102799961,\n",
       " 600068951,\n",
       " 159017694,\n",
       " 600138284,\n",
       " 3754804,\n",
       " 148707838,\n",
       " 1352108,\n",
       " 133139005,\n",
       " 600158269,\n",
       " 153989337,\n",
       " 148707862,\n",
       " 154206646,\n",
       " 154202237,\n",
       " 153996654,\n",
       " 142883317,\n",
       " 4416688,\n",
       " 600066276,\n",
       " 155255332,\n",
       " 4421520,\n",
       " 155612427,\n",
       " 4406774,\n",
       " 600068139,\n",
       " 4263258,\n",
       " 600136521,\n",
       " 3632741,\n",
       " 2425255,\n",
       " 600141420,\n",
       " 3567101,\n",
       " 600030219,\n",
       " 600030222,\n",
       " 600119733,\n",
       " 159170858,\n",
       " 159185327,\n",
       " 4308664,\n",
       " 600023762,\n",
       " 600095296,\n",
       " 600109991,\n",
       " 100208641,\n",
       " 101110090,\n",
       " 100208602,\n",
       " 101111250,\n",
       " 139681494,\n",
       " 4428252,\n",
       " 2900469,\n",
       " 139460869,\n",
       " 600012049,\n",
       " 600062998,\n",
       " 600014722,\n",
       " 600012039,\n",
       " 600062607,\n",
       " 4420615,\n",
       " 600136217,\n",
       " 600161150,\n",
       " 147983243,\n",
       " 600057984,\n",
       " 600013317,\n",
       " 144024535,\n",
       " 600130450,\n",
       " 4318926,\n",
       " 4398712,\n",
       " 140796088,\n",
       " 600182527,\n",
       " 3435404,\n",
       " 135273129,\n",
       " 1911816,\n",
       " 159240444,\n",
       " 137779728,\n",
       " 600168671,\n",
       " 159053370,\n",
       " 159120855,\n",
       " 600147188,\n",
       " 148493393,\n",
       " 154236221,\n",
       " 600183457,\n",
       " 4420041,\n",
       " 160613298,\n",
       " 600084055,\n",
       " 101979791,\n",
       " 600133700,\n",
       " 600136972,\n",
       " 150105268,\n",
       " 100065664,\n",
       " 600185236,\n",
       " 152224002,\n",
       " 160619225,\n",
       " 120630104,\n",
       " 154493978,\n",
       " 152754673,\n",
       " 148815810,\n",
       " 119997437,\n",
       " 3316023,\n",
       " 600093375,\n",
       " 161474589,\n",
       " 160968649,\n",
       " 4427303,\n",
       " 4417848,\n",
       " 600166910,\n",
       " 600129850,\n",
       " 4345312,\n",
       " 600142240,\n",
       " 600146013,\n",
       " 4384664,\n",
       " 4397009,\n",
       " 600035171,\n",
       " 137581612,\n",
       " 146178356,\n",
       " 600131608,\n",
       " 146182669,\n",
       " 147068326,\n",
       " 147171725,\n",
       " 139479297,\n",
       " 147170485,\n",
       " 141246836,\n",
       " 600188253,\n",
       " 122980159,\n",
       " 147070092,\n",
       " 4423168,\n",
       " 4176166,\n",
       " 121082539,\n",
       " 4405089,\n",
       " 4418174,\n",
       " ...]"
      ]
     },
     "execution_count": 25,
     "metadata": {
      "tags": []
     },
     "output_type": "execute_result"
    }
   ],
   "source": [
    "digraph_nodes # embedding 의 순서는 이 순서야!"
   ]
  },
  {
   "cell_type": "markdown",
   "metadata": {
    "colab_type": "text",
    "id": "QB4WznlQCVK2"
   },
   "source": [
    "## # embedding 밝혀준다\n",
    "- embedding 어떤 순서\n",
    "- did, d_nm 명시"
   ]
  },
  {
   "cell_type": "code",
   "execution_count": 0,
   "metadata": {
    "colab": {
     "base_uri": "https://localhost:8080/",
     "height": 34
    },
    "colab_type": "code",
    "id": "t2NJpVnQG-A1",
    "outputId": "b256eff4-eb6d-44a9-b5bf-c0479b4bce62"
   },
   "outputs": [
    {
     "name": "stdout",
     "output_type": "stream",
     "text": [
      "[600181479, 600186873, 600185426, 600118584, 600186422] [101361801, 156809981, 157125654, 160981088, 152397171]\n"
     ]
    }
   ],
   "source": [
    "print( digraph_nodes[:5] , digraph_nodes[-5:] )"
   ]
  },
  {
   "cell_type": "code",
   "execution_count": 0,
   "metadata": {
    "colab": {
     "base_uri": "https://localhost:8080/",
     "height": 34
    },
    "colab_type": "code",
    "id": "6rARNpMFJHCE",
    "outputId": "cf3f76b8-9da4-4377-a5c7-b4188a729751"
   },
   "outputs": [
    {
     "data": {
      "text/plain": [
       "['../../../unique_deal_name/part-00000-077ffd9c-243a-4192-b5ca-b1765355727c-c000.csv']"
      ]
     },
     "execution_count": 29,
     "metadata": {
      "tags": []
     },
     "output_type": "execute_result"
    }
   ],
   "source": [
    "glob.glob('../../../unique_deal_name/*')"
   ]
  },
  {
   "cell_type": "code",
   "execution_count": 0,
   "metadata": {
    "colab": {
     "base_uri": "https://localhost:8080/",
     "height": 71
    },
    "colab_type": "code",
    "id": "F3bLKYteHAEu",
    "outputId": "f7777489-a64f-45eb-a7c2-075fc50b336d"
   },
   "outputs": [
    {
     "name": "stderr",
     "output_type": "stream",
     "text": [
      "/usr/local/lib/python3.6/dist-packages/numpy/lib/arraysetops.py:568: FutureWarning: elementwise comparison failed; returning scalar instead, but in the future will perform elementwise comparison\n",
      "  mask |= (ar1 == a)\n"
     ]
    }
   ],
   "source": [
    "# 여기선 category 정보 입힌 딜정보 사용\n",
    "unique_deal_name = deal_w_cate \\\n",
    "  = pd.read_csv('/content/gdrive/My Drive/Colab Notebooks/공부/embedding_model/Graph embedding/1029_graph2vec/graph2vec-master/1107_with_cate/deal_w_cate_1108.csv', index_col=0)"
   ]
  },
  {
   "cell_type": "code",
   "execution_count": 0,
   "metadata": {
    "colab": {
     "base_uri": "https://localhost:8080/",
     "height": 204
    },
    "colab_type": "code",
    "id": "7m5n9EaxHNq8",
    "outputId": "390f9b13-8176-4c67-f2c0-2a7bd64c3114"
   },
   "outputs": [
    {
     "data": {
      "text/html": [
       "<div>\n",
       "<style scoped>\n",
       "    .dataframe tbody tr th:only-of-type {\n",
       "        vertical-align: middle;\n",
       "    }\n",
       "\n",
       "    .dataframe tbody tr th {\n",
       "        vertical-align: top;\n",
       "    }\n",
       "\n",
       "    .dataframe thead th {\n",
       "        text-align: right;\n",
       "    }\n",
       "</style>\n",
       "<table border=\"1\" class=\"dataframe\">\n",
       "  <thead>\n",
       "    <tr style=\"text-align: right;\">\n",
       "      <th></th>\n",
       "      <th>did</th>\n",
       "      <th>d_nm</th>\n",
       "      <th>cate</th>\n",
       "      <th>cate_nm</th>\n",
       "    </tr>\n",
       "  </thead>\n",
       "  <tbody>\n",
       "    <tr>\n",
       "      <th>0</th>\n",
       "      <td>273551</td>\n",
       "      <td>[97무배]닥터수 피부관리샵 모델링팩</td>\n",
       "      <td>234020105</td>\n",
       "      <td>234020105_팩/마스크</td>\n",
       "    </tr>\n",
       "    <tr>\n",
       "      <th>1</th>\n",
       "      <td>3651575</td>\n",
       "      <td>고유에 프로덤 GOLD SILK 마스크</td>\n",
       "      <td>234020105</td>\n",
       "      <td>234020105_팩/마스크</td>\n",
       "    </tr>\n",
       "    <tr>\n",
       "      <th>2</th>\n",
       "      <td>3922380</td>\n",
       "      <td>[원더쿠폰] 다이아필오프팩+사은 2종</td>\n",
       "      <td>234020105</td>\n",
       "      <td>234020105_팩/마스크</td>\n",
       "    </tr>\n",
       "    <tr>\n",
       "      <th>3</th>\n",
       "      <td>3369862</td>\n",
       "      <td>[무료배송] 여드름 스팟 트러블패치</td>\n",
       "      <td>234020105</td>\n",
       "      <td>234020105_팩/마스크</td>\n",
       "    </tr>\n",
       "    <tr>\n",
       "      <th>4</th>\n",
       "      <td>3386562</td>\n",
       "      <td>남해청정해역 생다시마를 담은</td>\n",
       "      <td>234020105</td>\n",
       "      <td>234020105_팩/마스크</td>\n",
       "    </tr>\n",
       "  </tbody>\n",
       "</table>\n",
       "</div>"
      ],
      "text/plain": [
       "       did                   d_nm       cate          cate_nm\n",
       "0   273551   [97무배]닥터수 피부관리샵 모델링팩  234020105  234020105_팩/마스크\n",
       "1  3651575  고유에 프로덤 GOLD SILK 마스크  234020105  234020105_팩/마스크\n",
       "2  3922380   [원더쿠폰] 다이아필오프팩+사은 2종  234020105  234020105_팩/마스크\n",
       "3  3369862    [무료배송] 여드름 스팟 트러블패치  234020105  234020105_팩/마스크\n",
       "4  3386562        남해청정해역 생다시마를 담은  234020105  234020105_팩/마스크"
      ]
     },
     "execution_count": 21,
     "metadata": {
      "tags": []
     },
     "output_type": "execute_result"
    }
   ],
   "source": [
    "unique_deal_name.head()"
   ]
  },
  {
   "cell_type": "code",
   "execution_count": 0,
   "metadata": {
    "colab": {
     "base_uri": "https://localhost:8080/",
     "height": 34
    },
    "colab_type": "code",
    "id": "vz2pN7v3Sp9d",
    "outputId": "6de879a3-9740-47f3-f722-a1eda05b0959"
   },
   "outputs": [
    {
     "data": {
      "text/plain": [
       "(1457035, 4)"
      ]
     },
     "execution_count": 22,
     "metadata": {
      "tags": []
     },
     "output_type": "execute_result"
    }
   ],
   "source": [
    "unique_deal_name.shape"
   ]
  },
  {
   "cell_type": "code",
   "execution_count": 0,
   "metadata": {
    "colab": {
     "base_uri": "https://localhost:8080/",
     "height": 34
    },
    "colab_type": "code",
    "id": "AeQk7VCESrzl",
    "outputId": "92d265e8-aeaf-4aaa-8ba9-f6a947d782b5"
   },
   "outputs": [
    {
     "data": {
      "text/plain": [
       "(1371788, 4)"
      ]
     },
     "execution_count": 29,
     "metadata": {
      "tags": []
     },
     "output_type": "execute_result"
    }
   ],
   "source": [
    "pd.DataFrame({'did':digraph_nodes}).merge(unique_deal_name, how='left').shape"
   ]
  },
  {
   "cell_type": "code",
   "execution_count": 0,
   "metadata": {
    "colab": {
     "base_uri": "https://localhost:8080/",
     "height": 204
    },
    "colab_type": "code",
    "id": "NKJayliy0Ih-",
    "outputId": "3b420b4f-b967-44ab-fad1-7c6abacd606c"
   },
   "outputs": [
    {
     "data": {
      "text/html": [
       "<div>\n",
       "<style scoped>\n",
       "    .dataframe tbody tr th:only-of-type {\n",
       "        vertical-align: middle;\n",
       "    }\n",
       "\n",
       "    .dataframe tbody tr th {\n",
       "        vertical-align: top;\n",
       "    }\n",
       "\n",
       "    .dataframe thead th {\n",
       "        text-align: right;\n",
       "    }\n",
       "</style>\n",
       "<table border=\"1\" class=\"dataframe\">\n",
       "  <thead>\n",
       "    <tr style=\"text-align: right;\">\n",
       "      <th></th>\n",
       "      <th>did</th>\n",
       "      <th>d_nm</th>\n",
       "      <th>cate</th>\n",
       "      <th>cate_nm</th>\n",
       "    </tr>\n",
       "  </thead>\n",
       "  <tbody>\n",
       "    <tr>\n",
       "      <th>0</th>\n",
       "      <td>600181479</td>\n",
       "      <td>[만반잘부] 오바다 부드러운 국내산 오징어</td>\n",
       "      <td>4102681</td>\n",
       "      <td>4102681_건오징어/반건오징어</td>\n",
       "    </tr>\n",
       "    <tr>\n",
       "      <th>1</th>\n",
       "      <td>600186873</td>\n",
       "      <td>[만반잘부] 주재원 삼겹살/오겹살/목살 500g 모음전</td>\n",
       "      <td>4102757</td>\n",
       "      <td>4102757_삼겹살/오겹살</td>\n",
       "    </tr>\n",
       "    <tr>\n",
       "      <th>2</th>\n",
       "      <td>600185426</td>\n",
       "      <td>핫한 청도 아이스홍시 &amp; 감말랭이 모음전</td>\n",
       "      <td>4102648</td>\n",
       "      <td>4102648_아이스홍시</td>\n",
       "    </tr>\n",
       "    <tr>\n",
       "      <th>3</th>\n",
       "      <td>600118584</td>\n",
       "      <td>사과즙/도라지배즙/배도라지즙/포도즙/배즙/통째로 과일즙</td>\n",
       "      <td>4104154</td>\n",
       "      <td>4104154_유기농/친환경주스</td>\n",
       "    </tr>\n",
       "    <tr>\n",
       "      <th>4</th>\n",
       "      <td>600186422</td>\n",
       "      <td>악세사리함 쥬얼리함 보석함 시계보관함 모음전</td>\n",
       "      <td>4104556</td>\n",
       "      <td>4104556_쥬얼리 용품/세척</td>\n",
       "    </tr>\n",
       "  </tbody>\n",
       "</table>\n",
       "</div>"
      ],
      "text/plain": [
       "         did                            d_nm     cate             cate_nm\n",
       "0  600181479         [만반잘부] 오바다 부드러운 국내산 오징어  4102681  4102681_건오징어/반건오징어\n",
       "1  600186873  [만반잘부] 주재원 삼겹살/오겹살/목살 500g 모음전  4102757     4102757_삼겹살/오겹살\n",
       "2  600185426          핫한 청도 아이스홍시 & 감말랭이 모음전  4102648       4102648_아이스홍시\n",
       "3  600118584  사과즙/도라지배즙/배도라지즙/포도즙/배즙/통째로 과일즙  4104154   4104154_유기농/친환경주스\n",
       "4  600186422        악세사리함 쥬얼리함 보석함 시계보관함 모음전  4104556   4104556_쥬얼리 용품/세척"
      ]
     },
     "execution_count": 30,
     "metadata": {
      "tags": []
     },
     "output_type": "execute_result"
    }
   ],
   "source": [
    "pd.DataFrame({'did':digraph_nodes}).merge(unique_deal_name, how='left').head()"
   ]
  },
  {
   "cell_type": "code",
   "execution_count": 0,
   "metadata": {
    "colab": {
     "base_uri": "https://localhost:8080/",
     "height": 204
    },
    "colab_type": "code",
    "id": "pfFrKYLk0WnI",
    "outputId": "1545dd91-17a7-4db6-e344-33761e48a562"
   },
   "outputs": [
    {
     "data": {
      "text/html": [
       "<div>\n",
       "<style scoped>\n",
       "    .dataframe tbody tr th:only-of-type {\n",
       "        vertical-align: middle;\n",
       "    }\n",
       "\n",
       "    .dataframe tbody tr th {\n",
       "        vertical-align: top;\n",
       "    }\n",
       "\n",
       "    .dataframe thead th {\n",
       "        text-align: right;\n",
       "    }\n",
       "</style>\n",
       "<table border=\"1\" class=\"dataframe\">\n",
       "  <thead>\n",
       "    <tr style=\"text-align: right;\">\n",
       "      <th></th>\n",
       "      <th>did</th>\n",
       "      <th>d_nm</th>\n",
       "      <th>cate</th>\n",
       "      <th>cate_nm</th>\n",
       "    </tr>\n",
       "  </thead>\n",
       "  <tbody>\n",
       "    <tr>\n",
       "      <th>1371783</th>\n",
       "      <td>101361801</td>\n",
       "      <td>[무료배송]키친아트 아르떼 열센서 후라이팬 30cm 인덕션겸용</td>\n",
       "      <td>4103720</td>\n",
       "      <td>4103720_프라이팬 낱개</td>\n",
       "    </tr>\n",
       "    <tr>\n",
       "      <th>1371784</th>\n",
       "      <td>156809981</td>\n",
       "      <td>인증점K 제트 VS20R9044SA 무선청소기 미세먼지차단 베터리패키지</td>\n",
       "      <td>4100558</td>\n",
       "      <td>4100558_삼성</td>\n",
       "    </tr>\n",
       "    <tr>\n",
       "      <th>1371785</th>\n",
       "      <td>157125654</td>\n",
       "      <td>[바보사랑]애플펜슬2세대 듀오 실리콘 케이스</td>\n",
       "      <td>4101328</td>\n",
       "      <td>4101328_이외 스마트폰 액세서리</td>\n",
       "    </tr>\n",
       "    <tr>\n",
       "      <th>1371786</th>\n",
       "      <td>160981088</td>\n",
       "      <td>화분월드동그라미 화분받침 2호</td>\n",
       "      <td>4103919</td>\n",
       "      <td>4103919_화분</td>\n",
       "    </tr>\n",
       "    <tr>\n",
       "      <th>1371787</th>\n",
       "      <td>152397171</td>\n",
       "      <td>식품/생활/유아동</td>\n",
       "      <td>4106318</td>\n",
       "      <td>4106318_비즈닛</td>\n",
       "    </tr>\n",
       "  </tbody>\n",
       "</table>\n",
       "</div>"
      ],
      "text/plain": [
       "               did  ...               cate_nm\n",
       "1371783  101361801  ...       4103720_프라이팬 낱개\n",
       "1371784  156809981  ...            4100558_삼성\n",
       "1371785  157125654  ...  4101328_이외 스마트폰 액세서리\n",
       "1371786  160981088  ...            4103919_화분\n",
       "1371787  152397171  ...           4106318_비즈닛\n",
       "\n",
       "[5 rows x 4 columns]"
      ]
     },
     "execution_count": 32,
     "metadata": {
      "tags": []
     },
     "output_type": "execute_result"
    }
   ],
   "source": [
    "pd.DataFrame({'did':digraph_nodes}).merge(unique_deal_name, how='left').tail()"
   ]
  },
  {
   "cell_type": "code",
   "execution_count": 0,
   "metadata": {
    "colab": {},
    "colab_type": "code",
    "id": "HCjrPvSw0d-j"
   },
   "outputs": [],
   "source": [
    "unique_deal_name_ = pd.DataFrame({'did':digraph_nodes}).merge(unique_deal_name, how='left').drop(columns=['cate', 'cate_nm'])"
   ]
  },
  {
   "cell_type": "code",
   "execution_count": 0,
   "metadata": {
    "colab": {
     "base_uri": "https://localhost:8080/",
     "height": 204
    },
    "colab_type": "code",
    "id": "ycKj04QX0dGl",
    "outputId": "2b290986-8949-43a9-f314-5566a6672e57"
   },
   "outputs": [
    {
     "data": {
      "text/html": [
       "<div>\n",
       "<style scoped>\n",
       "    .dataframe tbody tr th:only-of-type {\n",
       "        vertical-align: middle;\n",
       "    }\n",
       "\n",
       "    .dataframe tbody tr th {\n",
       "        vertical-align: top;\n",
       "    }\n",
       "\n",
       "    .dataframe thead th {\n",
       "        text-align: right;\n",
       "    }\n",
       "</style>\n",
       "<table border=\"1\" class=\"dataframe\">\n",
       "  <thead>\n",
       "    <tr style=\"text-align: right;\">\n",
       "      <th></th>\n",
       "      <th>did</th>\n",
       "      <th>d_nm</th>\n",
       "    </tr>\n",
       "  </thead>\n",
       "  <tbody>\n",
       "    <tr>\n",
       "      <th>0</th>\n",
       "      <td>600181479</td>\n",
       "      <td>[만반잘부] 오바다 부드러운 국내산 오징어</td>\n",
       "    </tr>\n",
       "    <tr>\n",
       "      <th>1</th>\n",
       "      <td>600186873</td>\n",
       "      <td>[만반잘부] 주재원 삼겹살/오겹살/목살 500g 모음전</td>\n",
       "    </tr>\n",
       "    <tr>\n",
       "      <th>2</th>\n",
       "      <td>600185426</td>\n",
       "      <td>핫한 청도 아이스홍시 &amp; 감말랭이 모음전</td>\n",
       "    </tr>\n",
       "    <tr>\n",
       "      <th>3</th>\n",
       "      <td>600118584</td>\n",
       "      <td>사과즙/도라지배즙/배도라지즙/포도즙/배즙/통째로 과일즙</td>\n",
       "    </tr>\n",
       "    <tr>\n",
       "      <th>4</th>\n",
       "      <td>600186422</td>\n",
       "      <td>악세사리함 쥬얼리함 보석함 시계보관함 모음전</td>\n",
       "    </tr>\n",
       "  </tbody>\n",
       "</table>\n",
       "</div>"
      ],
      "text/plain": [
       "         did                            d_nm\n",
       "0  600181479         [만반잘부] 오바다 부드러운 국내산 오징어\n",
       "1  600186873  [만반잘부] 주재원 삼겹살/오겹살/목살 500g 모음전\n",
       "2  600185426          핫한 청도 아이스홍시 & 감말랭이 모음전\n",
       "3  600118584  사과즙/도라지배즙/배도라지즙/포도즙/배즙/통째로 과일즙\n",
       "4  600186422        악세사리함 쥬얼리함 보석함 시계보관함 모음전"
      ]
     },
     "execution_count": 34,
     "metadata": {
      "tags": []
     },
     "output_type": "execute_result"
    }
   ],
   "source": [
    "unique_deal_name_.head()"
   ]
  },
  {
   "cell_type": "code",
   "execution_count": 0,
   "metadata": {
    "colab": {},
    "colab_type": "code",
    "id": "kIihBptk00fG"
   },
   "outputs": [],
   "source": []
  },
  {
   "cell_type": "markdown",
   "metadata": {
    "colab_type": "text",
    "id": "pKWndRv5UNSH"
   },
   "source": [
    "---\n",
    "### 일단 합치고, 상품 정보 없는거 날려주어야겠다 - gensim 에서 similar 못보잖아 (nan이 중복되게 많으니깐)"
   ]
  },
  {
   "cell_type": "code",
   "execution_count": 0,
   "metadata": {
    "colab": {
     "base_uri": "https://localhost:8080/",
     "height": 34
    },
    "colab_type": "code",
    "id": "DblIjeEBTcgE",
    "outputId": "539a151f-c236-48c8-f8df-e2e183071bb1"
   },
   "outputs": [
    {
     "data": {
      "text/plain": [
       "(1371788, 34)"
      ]
     },
     "execution_count": 35,
     "metadata": {
      "tags": []
     },
     "output_type": "execute_result"
    }
   ],
   "source": [
    "pd.concat([unique_deal_name_, pd.DataFrame(directed)], axis=1).dropna().shape"
   ]
  },
  {
   "cell_type": "code",
   "execution_count": 0,
   "metadata": {
    "colab": {
     "base_uri": "https://localhost:8080/",
     "height": 1000
    },
    "colab_type": "code",
    "id": "GWwg2ikXMDNJ",
    "outputId": "ffe72b23-4a23-41ae-96dd-ca05cc432e4f"
   },
   "outputs": [
    {
     "data": {
      "text/html": [
       "<div>\n",
       "<style scoped>\n",
       "    .dataframe tbody tr th:only-of-type {\n",
       "        vertical-align: middle;\n",
       "    }\n",
       "\n",
       "    .dataframe tbody tr th {\n",
       "        vertical-align: top;\n",
       "    }\n",
       "\n",
       "    .dataframe thead th {\n",
       "        text-align: right;\n",
       "    }\n",
       "</style>\n",
       "<table border=\"1\" class=\"dataframe\">\n",
       "  <thead>\n",
       "    <tr style=\"text-align: right;\">\n",
       "      <th></th>\n",
       "      <th>did</th>\n",
       "      <th>d_nm</th>\n",
       "      <th>0</th>\n",
       "      <th>1</th>\n",
       "      <th>2</th>\n",
       "      <th>3</th>\n",
       "      <th>4</th>\n",
       "      <th>5</th>\n",
       "      <th>6</th>\n",
       "      <th>7</th>\n",
       "      <th>8</th>\n",
       "      <th>9</th>\n",
       "      <th>10</th>\n",
       "      <th>11</th>\n",
       "      <th>12</th>\n",
       "      <th>13</th>\n",
       "      <th>14</th>\n",
       "      <th>15</th>\n",
       "      <th>16</th>\n",
       "      <th>17</th>\n",
       "      <th>18</th>\n",
       "      <th>19</th>\n",
       "      <th>20</th>\n",
       "      <th>21</th>\n",
       "      <th>22</th>\n",
       "      <th>23</th>\n",
       "      <th>24</th>\n",
       "      <th>25</th>\n",
       "      <th>26</th>\n",
       "      <th>27</th>\n",
       "      <th>28</th>\n",
       "      <th>29</th>\n",
       "      <th>30</th>\n",
       "      <th>31</th>\n",
       "    </tr>\n",
       "  </thead>\n",
       "  <tbody>\n",
       "    <tr>\n",
       "      <th>0</th>\n",
       "      <td>600181479</td>\n",
       "      <td>[만반잘부] 오바다 부드러운 국내산 오징어</td>\n",
       "      <td>1.229052</td>\n",
       "      <td>-3.264112</td>\n",
       "      <td>2.055143</td>\n",
       "      <td>1.580373</td>\n",
       "      <td>-1.305503</td>\n",
       "      <td>-0.773409</td>\n",
       "      <td>4.613352</td>\n",
       "      <td>1.593006</td>\n",
       "      <td>-3.262018</td>\n",
       "      <td>-2.191530</td>\n",
       "      <td>1.096127</td>\n",
       "      <td>1.941396</td>\n",
       "      <td>1.369102</td>\n",
       "      <td>-2.222415</td>\n",
       "      <td>0.654294</td>\n",
       "      <td>-4.260469</td>\n",
       "      <td>-0.702936</td>\n",
       "      <td>4.347555</td>\n",
       "      <td>-0.135871</td>\n",
       "      <td>-4.510448</td>\n",
       "      <td>-2.119558</td>\n",
       "      <td>0.390893</td>\n",
       "      <td>3.758309</td>\n",
       "      <td>1.867299</td>\n",
       "      <td>-4.477293</td>\n",
       "      <td>-0.084679</td>\n",
       "      <td>3.284910</td>\n",
       "      <td>0.624318</td>\n",
       "      <td>-1.526585</td>\n",
       "      <td>-3.589167</td>\n",
       "      <td>2.389963</td>\n",
       "      <td>2.139265</td>\n",
       "    </tr>\n",
       "    <tr>\n",
       "      <th>1</th>\n",
       "      <td>600186873</td>\n",
       "      <td>[만반잘부] 주재원 삼겹살/오겹살/목살 500g 모음전</td>\n",
       "      <td>-0.538475</td>\n",
       "      <td>-5.562756</td>\n",
       "      <td>1.866667</td>\n",
       "      <td>0.805510</td>\n",
       "      <td>-0.860459</td>\n",
       "      <td>0.686097</td>\n",
       "      <td>-0.561745</td>\n",
       "      <td>-1.243336</td>\n",
       "      <td>0.387312</td>\n",
       "      <td>1.979101</td>\n",
       "      <td>0.278067</td>\n",
       "      <td>0.867419</td>\n",
       "      <td>-0.660043</td>\n",
       "      <td>-0.967203</td>\n",
       "      <td>-1.415900</td>\n",
       "      <td>-0.279134</td>\n",
       "      <td>1.713486</td>\n",
       "      <td>1.063283</td>\n",
       "      <td>0.232399</td>\n",
       "      <td>-2.199799</td>\n",
       "      <td>-2.226140</td>\n",
       "      <td>2.356587</td>\n",
       "      <td>-0.654963</td>\n",
       "      <td>3.594916</td>\n",
       "      <td>-2.185772</td>\n",
       "      <td>-0.066778</td>\n",
       "      <td>2.100049</td>\n",
       "      <td>-2.355687</td>\n",
       "      <td>0.481627</td>\n",
       "      <td>-0.132002</td>\n",
       "      <td>5.591561</td>\n",
       "      <td>-0.048751</td>\n",
       "    </tr>\n",
       "    <tr>\n",
       "      <th>2</th>\n",
       "      <td>600185426</td>\n",
       "      <td>핫한 청도 아이스홍시 &amp; 감말랭이 모음전</td>\n",
       "      <td>-0.198988</td>\n",
       "      <td>-1.455330</td>\n",
       "      <td>-0.083357</td>\n",
       "      <td>2.721674</td>\n",
       "      <td>1.698118</td>\n",
       "      <td>6.046679</td>\n",
       "      <td>2.205015</td>\n",
       "      <td>-1.031879</td>\n",
       "      <td>-3.351793</td>\n",
       "      <td>-1.754357</td>\n",
       "      <td>0.923496</td>\n",
       "      <td>-0.607799</td>\n",
       "      <td>-0.060533</td>\n",
       "      <td>-0.039705</td>\n",
       "      <td>2.217461</td>\n",
       "      <td>-5.524176</td>\n",
       "      <td>-0.236714</td>\n",
       "      <td>-0.811096</td>\n",
       "      <td>-0.219093</td>\n",
       "      <td>-0.468020</td>\n",
       "      <td>1.993686</td>\n",
       "      <td>-3.131876</td>\n",
       "      <td>-2.162918</td>\n",
       "      <td>7.130883</td>\n",
       "      <td>0.283335</td>\n",
       "      <td>1.802665</td>\n",
       "      <td>4.820302</td>\n",
       "      <td>-2.781886</td>\n",
       "      <td>0.191043</td>\n",
       "      <td>-0.068949</td>\n",
       "      <td>2.781065</td>\n",
       "      <td>-5.796754</td>\n",
       "    </tr>\n",
       "    <tr>\n",
       "      <th>3</th>\n",
       "      <td>600118584</td>\n",
       "      <td>사과즙/도라지배즙/배도라지즙/포도즙/배즙/통째로 과일즙</td>\n",
       "      <td>-0.826809</td>\n",
       "      <td>0.229932</td>\n",
       "      <td>2.354365</td>\n",
       "      <td>4.996829</td>\n",
       "      <td>-3.060762</td>\n",
       "      <td>-1.269347</td>\n",
       "      <td>-0.884455</td>\n",
       "      <td>-5.253204</td>\n",
       "      <td>-2.990948</td>\n",
       "      <td>-0.807123</td>\n",
       "      <td>-1.994426</td>\n",
       "      <td>-3.365553</td>\n",
       "      <td>1.850344</td>\n",
       "      <td>-4.325764</td>\n",
       "      <td>-4.673232</td>\n",
       "      <td>-1.093071</td>\n",
       "      <td>0.116866</td>\n",
       "      <td>-0.506159</td>\n",
       "      <td>0.365160</td>\n",
       "      <td>3.885775</td>\n",
       "      <td>2.592640</td>\n",
       "      <td>-1.485418</td>\n",
       "      <td>-0.874233</td>\n",
       "      <td>3.603109</td>\n",
       "      <td>-4.192461</td>\n",
       "      <td>0.198641</td>\n",
       "      <td>-0.952814</td>\n",
       "      <td>-3.046672</td>\n",
       "      <td>0.678599</td>\n",
       "      <td>-4.625407</td>\n",
       "      <td>2.105101</td>\n",
       "      <td>-2.815536</td>\n",
       "    </tr>\n",
       "    <tr>\n",
       "      <th>4</th>\n",
       "      <td>600186422</td>\n",
       "      <td>악세사리함 쥬얼리함 보석함 시계보관함 모음전</td>\n",
       "      <td>-0.876567</td>\n",
       "      <td>0.342568</td>\n",
       "      <td>1.907246</td>\n",
       "      <td>-1.139385</td>\n",
       "      <td>-0.793353</td>\n",
       "      <td>-0.952386</td>\n",
       "      <td>0.132055</td>\n",
       "      <td>1.211387</td>\n",
       "      <td>-2.625733</td>\n",
       "      <td>2.470055</td>\n",
       "      <td>-1.640479</td>\n",
       "      <td>-0.200465</td>\n",
       "      <td>-1.838699</td>\n",
       "      <td>-2.038641</td>\n",
       "      <td>-0.368154</td>\n",
       "      <td>1.752448</td>\n",
       "      <td>0.361291</td>\n",
       "      <td>-2.492242</td>\n",
       "      <td>0.482906</td>\n",
       "      <td>1.329928</td>\n",
       "      <td>-3.390306</td>\n",
       "      <td>-2.432199</td>\n",
       "      <td>-1.787804</td>\n",
       "      <td>0.641939</td>\n",
       "      <td>1.249624</td>\n",
       "      <td>-0.763985</td>\n",
       "      <td>-1.409229</td>\n",
       "      <td>-0.167177</td>\n",
       "      <td>2.549449</td>\n",
       "      <td>-1.421691</td>\n",
       "      <td>1.078133</td>\n",
       "      <td>-1.925694</td>\n",
       "    </tr>\n",
       "  </tbody>\n",
       "</table>\n",
       "</div>"
      ],
      "text/plain": [
       "         did                            d_nm  ...        30        31\n",
       "0  600181479         [만반잘부] 오바다 부드러운 국내산 오징어  ...  2.389963  2.139265\n",
       "1  600186873  [만반잘부] 주재원 삼겹살/오겹살/목살 500g 모음전  ...  5.591561 -0.048751\n",
       "2  600185426          핫한 청도 아이스홍시 & 감말랭이 모음전  ...  2.781065 -5.796754\n",
       "3  600118584  사과즙/도라지배즙/배도라지즙/포도즙/배즙/통째로 과일즙  ...  2.105101 -2.815536\n",
       "4  600186422        악세사리함 쥬얼리함 보석함 시계보관함 모음전  ...  1.078133 -1.925694\n",
       "\n",
       "[5 rows x 34 columns]"
      ]
     },
     "execution_count": 36,
     "metadata": {
      "tags": []
     },
     "output_type": "execute_result"
    }
   ],
   "source": [
    "pd.concat([unique_deal_name_, pd.DataFrame(directed)], axis=1).head()"
   ]
  },
  {
   "cell_type": "code",
   "execution_count": 0,
   "metadata": {
    "colab": {},
    "colab_type": "code",
    "id": "0pl_rv7dUxmP"
   },
   "outputs": [],
   "source": [
    "word_embed = pd.concat([unique_deal_name_, pd.DataFrame(directed)], axis=1)"
   ]
  },
  {
   "cell_type": "code",
   "execution_count": 0,
   "metadata": {
    "colab": {
     "base_uri": "https://localhost:8080/",
     "height": 1000
    },
    "colab_type": "code",
    "id": "-6A7GGNTUI65",
    "outputId": "3df4477c-b349-4502-8b38-845832494be3"
   },
   "outputs": [
    {
     "data": {
      "text/html": [
       "<div>\n",
       "<style scoped>\n",
       "    .dataframe tbody tr th:only-of-type {\n",
       "        vertical-align: middle;\n",
       "    }\n",
       "\n",
       "    .dataframe tbody tr th {\n",
       "        vertical-align: top;\n",
       "    }\n",
       "\n",
       "    .dataframe thead th {\n",
       "        text-align: right;\n",
       "    }\n",
       "</style>\n",
       "<table border=\"1\" class=\"dataframe\">\n",
       "  <thead>\n",
       "    <tr style=\"text-align: right;\">\n",
       "      <th></th>\n",
       "      <th>did</th>\n",
       "      <th>d_nm</th>\n",
       "      <th>0</th>\n",
       "      <th>1</th>\n",
       "      <th>2</th>\n",
       "      <th>3</th>\n",
       "      <th>4</th>\n",
       "      <th>5</th>\n",
       "      <th>6</th>\n",
       "      <th>7</th>\n",
       "      <th>8</th>\n",
       "      <th>9</th>\n",
       "      <th>10</th>\n",
       "      <th>11</th>\n",
       "      <th>12</th>\n",
       "      <th>13</th>\n",
       "      <th>14</th>\n",
       "      <th>15</th>\n",
       "      <th>16</th>\n",
       "      <th>17</th>\n",
       "      <th>18</th>\n",
       "      <th>19</th>\n",
       "      <th>20</th>\n",
       "      <th>21</th>\n",
       "      <th>22</th>\n",
       "      <th>23</th>\n",
       "      <th>24</th>\n",
       "      <th>25</th>\n",
       "      <th>26</th>\n",
       "      <th>27</th>\n",
       "      <th>28</th>\n",
       "      <th>29</th>\n",
       "      <th>30</th>\n",
       "      <th>31</th>\n",
       "    </tr>\n",
       "  </thead>\n",
       "  <tbody>\n",
       "    <tr>\n",
       "      <th>0</th>\n",
       "      <td>600181479</td>\n",
       "      <td>[만반잘부] 오바다 부드러운 국내산 오징어</td>\n",
       "      <td>1.229052</td>\n",
       "      <td>-3.264112</td>\n",
       "      <td>2.055143</td>\n",
       "      <td>1.580373</td>\n",
       "      <td>-1.305503</td>\n",
       "      <td>-0.773409</td>\n",
       "      <td>4.613352</td>\n",
       "      <td>1.593006</td>\n",
       "      <td>-3.262018</td>\n",
       "      <td>-2.191530</td>\n",
       "      <td>1.096127</td>\n",
       "      <td>1.941396</td>\n",
       "      <td>1.369102</td>\n",
       "      <td>-2.222415</td>\n",
       "      <td>0.654294</td>\n",
       "      <td>-4.260469</td>\n",
       "      <td>-0.702936</td>\n",
       "      <td>4.347555</td>\n",
       "      <td>-0.135871</td>\n",
       "      <td>-4.510448</td>\n",
       "      <td>-2.119558</td>\n",
       "      <td>0.390893</td>\n",
       "      <td>3.758309</td>\n",
       "      <td>1.867299</td>\n",
       "      <td>-4.477293</td>\n",
       "      <td>-0.084679</td>\n",
       "      <td>3.284910</td>\n",
       "      <td>0.624318</td>\n",
       "      <td>-1.526585</td>\n",
       "      <td>-3.589167</td>\n",
       "      <td>2.389963</td>\n",
       "      <td>2.139265</td>\n",
       "    </tr>\n",
       "    <tr>\n",
       "      <th>1</th>\n",
       "      <td>600186873</td>\n",
       "      <td>[만반잘부] 주재원 삼겹살/오겹살/목살 500g 모음전</td>\n",
       "      <td>-0.538475</td>\n",
       "      <td>-5.562756</td>\n",
       "      <td>1.866667</td>\n",
       "      <td>0.805510</td>\n",
       "      <td>-0.860459</td>\n",
       "      <td>0.686097</td>\n",
       "      <td>-0.561745</td>\n",
       "      <td>-1.243336</td>\n",
       "      <td>0.387312</td>\n",
       "      <td>1.979101</td>\n",
       "      <td>0.278067</td>\n",
       "      <td>0.867419</td>\n",
       "      <td>-0.660043</td>\n",
       "      <td>-0.967203</td>\n",
       "      <td>-1.415900</td>\n",
       "      <td>-0.279134</td>\n",
       "      <td>1.713486</td>\n",
       "      <td>1.063283</td>\n",
       "      <td>0.232399</td>\n",
       "      <td>-2.199799</td>\n",
       "      <td>-2.226140</td>\n",
       "      <td>2.356587</td>\n",
       "      <td>-0.654963</td>\n",
       "      <td>3.594916</td>\n",
       "      <td>-2.185772</td>\n",
       "      <td>-0.066778</td>\n",
       "      <td>2.100049</td>\n",
       "      <td>-2.355687</td>\n",
       "      <td>0.481627</td>\n",
       "      <td>-0.132002</td>\n",
       "      <td>5.591561</td>\n",
       "      <td>-0.048751</td>\n",
       "    </tr>\n",
       "    <tr>\n",
       "      <th>2</th>\n",
       "      <td>600185426</td>\n",
       "      <td>핫한 청도 아이스홍시 &amp; 감말랭이 모음전</td>\n",
       "      <td>-0.198988</td>\n",
       "      <td>-1.455330</td>\n",
       "      <td>-0.083357</td>\n",
       "      <td>2.721674</td>\n",
       "      <td>1.698118</td>\n",
       "      <td>6.046679</td>\n",
       "      <td>2.205015</td>\n",
       "      <td>-1.031879</td>\n",
       "      <td>-3.351793</td>\n",
       "      <td>-1.754357</td>\n",
       "      <td>0.923496</td>\n",
       "      <td>-0.607799</td>\n",
       "      <td>-0.060533</td>\n",
       "      <td>-0.039705</td>\n",
       "      <td>2.217461</td>\n",
       "      <td>-5.524176</td>\n",
       "      <td>-0.236714</td>\n",
       "      <td>-0.811096</td>\n",
       "      <td>-0.219093</td>\n",
       "      <td>-0.468020</td>\n",
       "      <td>1.993686</td>\n",
       "      <td>-3.131876</td>\n",
       "      <td>-2.162918</td>\n",
       "      <td>7.130883</td>\n",
       "      <td>0.283335</td>\n",
       "      <td>1.802665</td>\n",
       "      <td>4.820302</td>\n",
       "      <td>-2.781886</td>\n",
       "      <td>0.191043</td>\n",
       "      <td>-0.068949</td>\n",
       "      <td>2.781065</td>\n",
       "      <td>-5.796754</td>\n",
       "    </tr>\n",
       "    <tr>\n",
       "      <th>3</th>\n",
       "      <td>600118584</td>\n",
       "      <td>사과즙/도라지배즙/배도라지즙/포도즙/배즙/통째로 과일즙</td>\n",
       "      <td>-0.826809</td>\n",
       "      <td>0.229932</td>\n",
       "      <td>2.354365</td>\n",
       "      <td>4.996829</td>\n",
       "      <td>-3.060762</td>\n",
       "      <td>-1.269347</td>\n",
       "      <td>-0.884455</td>\n",
       "      <td>-5.253204</td>\n",
       "      <td>-2.990948</td>\n",
       "      <td>-0.807123</td>\n",
       "      <td>-1.994426</td>\n",
       "      <td>-3.365553</td>\n",
       "      <td>1.850344</td>\n",
       "      <td>-4.325764</td>\n",
       "      <td>-4.673232</td>\n",
       "      <td>-1.093071</td>\n",
       "      <td>0.116866</td>\n",
       "      <td>-0.506159</td>\n",
       "      <td>0.365160</td>\n",
       "      <td>3.885775</td>\n",
       "      <td>2.592640</td>\n",
       "      <td>-1.485418</td>\n",
       "      <td>-0.874233</td>\n",
       "      <td>3.603109</td>\n",
       "      <td>-4.192461</td>\n",
       "      <td>0.198641</td>\n",
       "      <td>-0.952814</td>\n",
       "      <td>-3.046672</td>\n",
       "      <td>0.678599</td>\n",
       "      <td>-4.625407</td>\n",
       "      <td>2.105101</td>\n",
       "      <td>-2.815536</td>\n",
       "    </tr>\n",
       "    <tr>\n",
       "      <th>4</th>\n",
       "      <td>600186422</td>\n",
       "      <td>악세사리함 쥬얼리함 보석함 시계보관함 모음전</td>\n",
       "      <td>-0.876567</td>\n",
       "      <td>0.342568</td>\n",
       "      <td>1.907246</td>\n",
       "      <td>-1.139385</td>\n",
       "      <td>-0.793353</td>\n",
       "      <td>-0.952386</td>\n",
       "      <td>0.132055</td>\n",
       "      <td>1.211387</td>\n",
       "      <td>-2.625733</td>\n",
       "      <td>2.470055</td>\n",
       "      <td>-1.640479</td>\n",
       "      <td>-0.200465</td>\n",
       "      <td>-1.838699</td>\n",
       "      <td>-2.038641</td>\n",
       "      <td>-0.368154</td>\n",
       "      <td>1.752448</td>\n",
       "      <td>0.361291</td>\n",
       "      <td>-2.492242</td>\n",
       "      <td>0.482906</td>\n",
       "      <td>1.329928</td>\n",
       "      <td>-3.390306</td>\n",
       "      <td>-2.432199</td>\n",
       "      <td>-1.787804</td>\n",
       "      <td>0.641939</td>\n",
       "      <td>1.249624</td>\n",
       "      <td>-0.763985</td>\n",
       "      <td>-1.409229</td>\n",
       "      <td>-0.167177</td>\n",
       "      <td>2.549449</td>\n",
       "      <td>-1.421691</td>\n",
       "      <td>1.078133</td>\n",
       "      <td>-1.925694</td>\n",
       "    </tr>\n",
       "  </tbody>\n",
       "</table>\n",
       "</div>"
      ],
      "text/plain": [
       "         did                            d_nm  ...        30        31\n",
       "0  600181479         [만반잘부] 오바다 부드러운 국내산 오징어  ...  2.389963  2.139265\n",
       "1  600186873  [만반잘부] 주재원 삼겹살/오겹살/목살 500g 모음전  ...  5.591561 -0.048751\n",
       "2  600185426          핫한 청도 아이스홍시 & 감말랭이 모음전  ...  2.781065 -5.796754\n",
       "3  600118584  사과즙/도라지배즙/배도라지즙/포도즙/배즙/통째로 과일즙  ...  2.105101 -2.815536\n",
       "4  600186422        악세사리함 쥬얼리함 보석함 시계보관함 모음전  ...  1.078133 -1.925694\n",
       "\n",
       "[5 rows x 34 columns]"
      ]
     },
     "execution_count": 38,
     "metadata": {
      "tags": []
     },
     "output_type": "execute_result"
    }
   ],
   "source": [
    "word_embed.head()"
   ]
  },
  {
   "cell_type": "code",
   "execution_count": 0,
   "metadata": {
    "colab": {
     "base_uri": "https://localhost:8080/",
     "height": 34
    },
    "colab_type": "code",
    "id": "BhmliACNVDrj",
    "outputId": "300208bc-eb14-4dc7-d054-aa053b54bacb"
   },
   "outputs": [
    {
     "data": {
      "text/plain": [
       "(577798, 34)"
      ]
     },
     "execution_count": 38,
     "metadata": {
      "tags": []
     },
     "output_type": "execute_result"
    }
   ],
   "source": [
    "word_embed.values.shape"
   ]
  },
  {
   "cell_type": "code",
   "execution_count": 0,
   "metadata": {
    "colab": {},
    "colab_type": "code",
    "id": "qvuiAQAzhiD6"
   },
   "outputs": [],
   "source": [
    "word_embed.to_csv('./1107_with_cate/word_embed_1113_direct(base).csv')"
   ]
  },
  {
   "cell_type": "code",
   "execution_count": 0,
   "metadata": {
    "colab": {},
    "colab_type": "code",
    "id": "zUN_nGWsi0Up"
   },
   "outputs": [],
   "source": []
  },
  {
   "cell_type": "markdown",
   "metadata": {
    "colab_type": "text",
    "id": "RK0gv-SJMWJ4"
   },
   "source": [
    "### # word_embed_direct.csv 불러와서 쓴다!"
   ]
  },
  {
   "cell_type": "code",
   "execution_count": 0,
   "metadata": {
    "colab": {},
    "colab_type": "code",
    "id": "pyQkSR1yi0Qg"
   },
   "outputs": [],
   "source": [
    "#word_embed_direct = pd.read_csv('./word_embed_direct.csv')\n",
    "word_embed_direct = word_embed # 지금은 그냥 위에 훈련한거 바로 쓸게"
   ]
  },
  {
   "cell_type": "code",
   "execution_count": 0,
   "metadata": {
    "colab": {
     "base_uri": "https://localhost:8080/",
     "height": 1000
    },
    "colab_type": "code",
    "id": "_nYYnApki_sG",
    "outputId": "0287ba2a-cc1d-4701-95d6-c563059599c2"
   },
   "outputs": [
    {
     "data": {
      "text/html": [
       "<div>\n",
       "<style scoped>\n",
       "    .dataframe tbody tr th:only-of-type {\n",
       "        vertical-align: middle;\n",
       "    }\n",
       "\n",
       "    .dataframe tbody tr th {\n",
       "        vertical-align: top;\n",
       "    }\n",
       "\n",
       "    .dataframe thead th {\n",
       "        text-align: right;\n",
       "    }\n",
       "</style>\n",
       "<table border=\"1\" class=\"dataframe\">\n",
       "  <thead>\n",
       "    <tr style=\"text-align: right;\">\n",
       "      <th></th>\n",
       "      <th>d_nm</th>\n",
       "      <th>0</th>\n",
       "      <th>1</th>\n",
       "      <th>2</th>\n",
       "      <th>3</th>\n",
       "      <th>4</th>\n",
       "      <th>5</th>\n",
       "      <th>6</th>\n",
       "      <th>7</th>\n",
       "      <th>8</th>\n",
       "      <th>9</th>\n",
       "      <th>10</th>\n",
       "      <th>11</th>\n",
       "      <th>12</th>\n",
       "      <th>13</th>\n",
       "      <th>14</th>\n",
       "      <th>15</th>\n",
       "      <th>16</th>\n",
       "      <th>17</th>\n",
       "      <th>18</th>\n",
       "      <th>19</th>\n",
       "      <th>20</th>\n",
       "      <th>21</th>\n",
       "      <th>22</th>\n",
       "      <th>23</th>\n",
       "      <th>24</th>\n",
       "      <th>25</th>\n",
       "      <th>26</th>\n",
       "      <th>27</th>\n",
       "      <th>28</th>\n",
       "      <th>29</th>\n",
       "      <th>30</th>\n",
       "      <th>31</th>\n",
       "    </tr>\n",
       "  </thead>\n",
       "  <tbody>\n",
       "    <tr>\n",
       "      <th>0</th>\n",
       "      <td>[만반잘부] 오바다 부드러운 국내산 오징어</td>\n",
       "      <td>1.229052</td>\n",
       "      <td>-3.264112</td>\n",
       "      <td>2.055143</td>\n",
       "      <td>1.580373</td>\n",
       "      <td>-1.305503</td>\n",
       "      <td>-0.773409</td>\n",
       "      <td>4.613352</td>\n",
       "      <td>1.593006</td>\n",
       "      <td>-3.262018</td>\n",
       "      <td>-2.191530</td>\n",
       "      <td>1.096127</td>\n",
       "      <td>1.941396</td>\n",
       "      <td>1.369102</td>\n",
       "      <td>-2.222415</td>\n",
       "      <td>0.654294</td>\n",
       "      <td>-4.260469</td>\n",
       "      <td>-0.702936</td>\n",
       "      <td>4.347555</td>\n",
       "      <td>-0.135871</td>\n",
       "      <td>-4.510448</td>\n",
       "      <td>-2.119558</td>\n",
       "      <td>0.390893</td>\n",
       "      <td>3.758309</td>\n",
       "      <td>1.867299</td>\n",
       "      <td>-4.477293</td>\n",
       "      <td>-0.084679</td>\n",
       "      <td>3.284910</td>\n",
       "      <td>0.624318</td>\n",
       "      <td>-1.526585</td>\n",
       "      <td>-3.589167</td>\n",
       "      <td>2.389963</td>\n",
       "      <td>2.139265</td>\n",
       "    </tr>\n",
       "    <tr>\n",
       "      <th>1</th>\n",
       "      <td>[만반잘부] 주재원 삼겹살/오겹살/목살 500g 모음전</td>\n",
       "      <td>-0.538475</td>\n",
       "      <td>-5.562756</td>\n",
       "      <td>1.866667</td>\n",
       "      <td>0.805510</td>\n",
       "      <td>-0.860459</td>\n",
       "      <td>0.686097</td>\n",
       "      <td>-0.561745</td>\n",
       "      <td>-1.243336</td>\n",
       "      <td>0.387312</td>\n",
       "      <td>1.979101</td>\n",
       "      <td>0.278067</td>\n",
       "      <td>0.867419</td>\n",
       "      <td>-0.660043</td>\n",
       "      <td>-0.967203</td>\n",
       "      <td>-1.415900</td>\n",
       "      <td>-0.279134</td>\n",
       "      <td>1.713486</td>\n",
       "      <td>1.063283</td>\n",
       "      <td>0.232399</td>\n",
       "      <td>-2.199799</td>\n",
       "      <td>-2.226140</td>\n",
       "      <td>2.356587</td>\n",
       "      <td>-0.654963</td>\n",
       "      <td>3.594916</td>\n",
       "      <td>-2.185772</td>\n",
       "      <td>-0.066778</td>\n",
       "      <td>2.100049</td>\n",
       "      <td>-2.355687</td>\n",
       "      <td>0.481627</td>\n",
       "      <td>-0.132002</td>\n",
       "      <td>5.591561</td>\n",
       "      <td>-0.048751</td>\n",
       "    </tr>\n",
       "    <tr>\n",
       "      <th>2</th>\n",
       "      <td>핫한 청도 아이스홍시 &amp; 감말랭이 모음전</td>\n",
       "      <td>-0.198988</td>\n",
       "      <td>-1.455330</td>\n",
       "      <td>-0.083357</td>\n",
       "      <td>2.721674</td>\n",
       "      <td>1.698118</td>\n",
       "      <td>6.046679</td>\n",
       "      <td>2.205015</td>\n",
       "      <td>-1.031879</td>\n",
       "      <td>-3.351793</td>\n",
       "      <td>-1.754357</td>\n",
       "      <td>0.923496</td>\n",
       "      <td>-0.607799</td>\n",
       "      <td>-0.060533</td>\n",
       "      <td>-0.039705</td>\n",
       "      <td>2.217461</td>\n",
       "      <td>-5.524176</td>\n",
       "      <td>-0.236714</td>\n",
       "      <td>-0.811096</td>\n",
       "      <td>-0.219093</td>\n",
       "      <td>-0.468020</td>\n",
       "      <td>1.993686</td>\n",
       "      <td>-3.131876</td>\n",
       "      <td>-2.162918</td>\n",
       "      <td>7.130883</td>\n",
       "      <td>0.283335</td>\n",
       "      <td>1.802665</td>\n",
       "      <td>4.820302</td>\n",
       "      <td>-2.781886</td>\n",
       "      <td>0.191043</td>\n",
       "      <td>-0.068949</td>\n",
       "      <td>2.781065</td>\n",
       "      <td>-5.796754</td>\n",
       "    </tr>\n",
       "    <tr>\n",
       "      <th>3</th>\n",
       "      <td>사과즙/도라지배즙/배도라지즙/포도즙/배즙/통째로 과일즙</td>\n",
       "      <td>-0.826809</td>\n",
       "      <td>0.229932</td>\n",
       "      <td>2.354365</td>\n",
       "      <td>4.996829</td>\n",
       "      <td>-3.060762</td>\n",
       "      <td>-1.269347</td>\n",
       "      <td>-0.884455</td>\n",
       "      <td>-5.253204</td>\n",
       "      <td>-2.990948</td>\n",
       "      <td>-0.807123</td>\n",
       "      <td>-1.994426</td>\n",
       "      <td>-3.365553</td>\n",
       "      <td>1.850344</td>\n",
       "      <td>-4.325764</td>\n",
       "      <td>-4.673232</td>\n",
       "      <td>-1.093071</td>\n",
       "      <td>0.116866</td>\n",
       "      <td>-0.506159</td>\n",
       "      <td>0.365160</td>\n",
       "      <td>3.885775</td>\n",
       "      <td>2.592640</td>\n",
       "      <td>-1.485418</td>\n",
       "      <td>-0.874233</td>\n",
       "      <td>3.603109</td>\n",
       "      <td>-4.192461</td>\n",
       "      <td>0.198641</td>\n",
       "      <td>-0.952814</td>\n",
       "      <td>-3.046672</td>\n",
       "      <td>0.678599</td>\n",
       "      <td>-4.625407</td>\n",
       "      <td>2.105101</td>\n",
       "      <td>-2.815536</td>\n",
       "    </tr>\n",
       "    <tr>\n",
       "      <th>4</th>\n",
       "      <td>악세사리함 쥬얼리함 보석함 시계보관함 모음전</td>\n",
       "      <td>-0.876567</td>\n",
       "      <td>0.342568</td>\n",
       "      <td>1.907246</td>\n",
       "      <td>-1.139385</td>\n",
       "      <td>-0.793353</td>\n",
       "      <td>-0.952386</td>\n",
       "      <td>0.132055</td>\n",
       "      <td>1.211387</td>\n",
       "      <td>-2.625733</td>\n",
       "      <td>2.470055</td>\n",
       "      <td>-1.640479</td>\n",
       "      <td>-0.200465</td>\n",
       "      <td>-1.838699</td>\n",
       "      <td>-2.038641</td>\n",
       "      <td>-0.368154</td>\n",
       "      <td>1.752448</td>\n",
       "      <td>0.361291</td>\n",
       "      <td>-2.492242</td>\n",
       "      <td>0.482906</td>\n",
       "      <td>1.329928</td>\n",
       "      <td>-3.390306</td>\n",
       "      <td>-2.432199</td>\n",
       "      <td>-1.787804</td>\n",
       "      <td>0.641939</td>\n",
       "      <td>1.249624</td>\n",
       "      <td>-0.763985</td>\n",
       "      <td>-1.409229</td>\n",
       "      <td>-0.167177</td>\n",
       "      <td>2.549449</td>\n",
       "      <td>-1.421691</td>\n",
       "      <td>1.078133</td>\n",
       "      <td>-1.925694</td>\n",
       "    </tr>\n",
       "  </tbody>\n",
       "</table>\n",
       "</div>"
      ],
      "text/plain": [
       "                             d_nm         0  ...        30        31\n",
       "0         [만반잘부] 오바다 부드러운 국내산 오징어  1.229052  ...  2.389963  2.139265\n",
       "1  [만반잘부] 주재원 삼겹살/오겹살/목살 500g 모음전 -0.538475  ...  5.591561 -0.048751\n",
       "2          핫한 청도 아이스홍시 & 감말랭이 모음전 -0.198988  ...  2.781065 -5.796754\n",
       "3  사과즙/도라지배즙/배도라지즙/포도즙/배즙/통째로 과일즙 -0.826809  ...  2.105101 -2.815536\n",
       "4        악세사리함 쥬얼리함 보석함 시계보관함 모음전 -0.876567  ...  1.078133 -1.925694\n",
       "\n",
       "[5 rows x 33 columns]"
      ]
     },
     "execution_count": 42,
     "metadata": {
      "tags": []
     },
     "output_type": "execute_result"
    }
   ],
   "source": [
    "# did 필요없고\n",
    "word_embed_direct.iloc[:,1:].head()\n"
   ]
  },
  {
   "cell_type": "code",
   "execution_count": 0,
   "metadata": {
    "colab": {
     "base_uri": "https://localhost:8080/",
     "height": 34
    },
    "colab_type": "code",
    "id": "R43K0BA-mCKF",
    "outputId": "3ba519cd-55c0-4b86-cca5-92e54ed7e8c4"
   },
   "outputs": [
    {
     "data": {
      "text/plain": [
       "(1371788, 32)"
      ]
     },
     "execution_count": 43,
     "metadata": {
      "tags": []
     },
     "output_type": "execute_result"
    }
   ],
   "source": [
    "word_embed_direct.iloc[:,2:].shape"
   ]
  },
  {
   "cell_type": "code",
   "execution_count": 0,
   "metadata": {
    "colab": {},
    "colab_type": "code",
    "id": "ynSCT8jdhh6z"
   },
   "outputs": [],
   "source": []
  },
  {
   "cell_type": "markdown",
   "metadata": {
    "colab_type": "text",
    "id": "1DiXC-2vhiki"
   },
   "source": [
    "### # word2vec용 txt파일 만들기(pretrained model)"
   ]
  },
  {
   "cell_type": "code",
   "execution_count": 0,
   "metadata": {
    "colab": {},
    "colab_type": "code",
    "id": "RSwZ4llCWhf6"
   },
   "outputs": [],
   "source": [
    "word2vec_fmt_directed = [[1371788, 32]]"
   ]
  },
  {
   "cell_type": "code",
   "execution_count": 0,
   "metadata": {
    "colab": {
     "base_uri": "https://localhost:8080/",
     "height": 34
    },
    "colab_type": "code",
    "id": "y3iwmaGPXXT1",
    "outputId": "5fc9d2f8-f1f8-438b-d423-4c1ca44a0102"
   },
   "outputs": [
    {
     "data": {
      "text/plain": [
       "[[1371788, 32]]"
      ]
     },
     "execution_count": 45,
     "metadata": {
      "tags": []
     },
     "output_type": "execute_result"
    }
   ],
   "source": [
    "word2vec_fmt_directed"
   ]
  },
  {
   "cell_type": "code",
   "execution_count": 0,
   "metadata": {
    "colab": {},
    "colab_type": "code",
    "id": "dVwhduhCnWpE"
   },
   "outputs": [],
   "source": [
    "### 상품명 공백 제거해줬다\n",
    "word_embed_direct['d_nm'] = word_embed_direct.d_nm.apply(lambda x: \"\".join(x.split()))"
   ]
  },
  {
   "cell_type": "code",
   "execution_count": 0,
   "metadata": {
    "colab": {
     "base_uri": "https://localhost:8080/",
     "height": 989
    },
    "colab_type": "code",
    "id": "FJ4meU0rnTkk",
    "outputId": "7a728780-be7d-4db2-fa47-49ed76b5b302"
   },
   "outputs": [
    {
     "data": {
      "text/html": [
       "<div>\n",
       "<style scoped>\n",
       "    .dataframe tbody tr th:only-of-type {\n",
       "        vertical-align: middle;\n",
       "    }\n",
       "\n",
       "    .dataframe tbody tr th {\n",
       "        vertical-align: top;\n",
       "    }\n",
       "\n",
       "    .dataframe thead th {\n",
       "        text-align: right;\n",
       "    }\n",
       "</style>\n",
       "<table border=\"1\" class=\"dataframe\">\n",
       "  <thead>\n",
       "    <tr style=\"text-align: right;\">\n",
       "      <th></th>\n",
       "      <th>did</th>\n",
       "      <th>d_nm</th>\n",
       "      <th>0</th>\n",
       "      <th>1</th>\n",
       "      <th>2</th>\n",
       "      <th>3</th>\n",
       "      <th>4</th>\n",
       "      <th>5</th>\n",
       "      <th>6</th>\n",
       "      <th>7</th>\n",
       "      <th>8</th>\n",
       "      <th>9</th>\n",
       "      <th>10</th>\n",
       "      <th>11</th>\n",
       "      <th>12</th>\n",
       "      <th>13</th>\n",
       "      <th>14</th>\n",
       "      <th>15</th>\n",
       "      <th>16</th>\n",
       "      <th>17</th>\n",
       "      <th>18</th>\n",
       "      <th>19</th>\n",
       "      <th>20</th>\n",
       "      <th>21</th>\n",
       "      <th>22</th>\n",
       "      <th>23</th>\n",
       "      <th>24</th>\n",
       "      <th>25</th>\n",
       "      <th>26</th>\n",
       "      <th>27</th>\n",
       "      <th>28</th>\n",
       "      <th>29</th>\n",
       "      <th>30</th>\n",
       "      <th>31</th>\n",
       "    </tr>\n",
       "  </thead>\n",
       "  <tbody>\n",
       "    <tr>\n",
       "      <th>0</th>\n",
       "      <td>600181479</td>\n",
       "      <td>[만반잘부]오바다부드러운국내산오징어</td>\n",
       "      <td>1.229052</td>\n",
       "      <td>-3.264112</td>\n",
       "      <td>2.055143</td>\n",
       "      <td>1.580373</td>\n",
       "      <td>-1.305503</td>\n",
       "      <td>-0.773409</td>\n",
       "      <td>4.613352</td>\n",
       "      <td>1.593006</td>\n",
       "      <td>-3.262018</td>\n",
       "      <td>-2.191530</td>\n",
       "      <td>1.096127</td>\n",
       "      <td>1.941396</td>\n",
       "      <td>1.369102</td>\n",
       "      <td>-2.222415</td>\n",
       "      <td>0.654294</td>\n",
       "      <td>-4.260469</td>\n",
       "      <td>-0.702936</td>\n",
       "      <td>4.347555</td>\n",
       "      <td>-0.135871</td>\n",
       "      <td>-4.510448</td>\n",
       "      <td>-2.119558</td>\n",
       "      <td>0.390893</td>\n",
       "      <td>3.758309</td>\n",
       "      <td>1.867299</td>\n",
       "      <td>-4.477293</td>\n",
       "      <td>-0.084679</td>\n",
       "      <td>3.284910</td>\n",
       "      <td>0.624318</td>\n",
       "      <td>-1.526585</td>\n",
       "      <td>-3.589167</td>\n",
       "      <td>2.389963</td>\n",
       "      <td>2.139265</td>\n",
       "    </tr>\n",
       "    <tr>\n",
       "      <th>1</th>\n",
       "      <td>600186873</td>\n",
       "      <td>[만반잘부]주재원삼겹살/오겹살/목살500g모음전</td>\n",
       "      <td>-0.538475</td>\n",
       "      <td>-5.562756</td>\n",
       "      <td>1.866667</td>\n",
       "      <td>0.805510</td>\n",
       "      <td>-0.860459</td>\n",
       "      <td>0.686097</td>\n",
       "      <td>-0.561745</td>\n",
       "      <td>-1.243336</td>\n",
       "      <td>0.387312</td>\n",
       "      <td>1.979101</td>\n",
       "      <td>0.278067</td>\n",
       "      <td>0.867419</td>\n",
       "      <td>-0.660043</td>\n",
       "      <td>-0.967203</td>\n",
       "      <td>-1.415900</td>\n",
       "      <td>-0.279134</td>\n",
       "      <td>1.713486</td>\n",
       "      <td>1.063283</td>\n",
       "      <td>0.232399</td>\n",
       "      <td>-2.199799</td>\n",
       "      <td>-2.226140</td>\n",
       "      <td>2.356587</td>\n",
       "      <td>-0.654963</td>\n",
       "      <td>3.594916</td>\n",
       "      <td>-2.185772</td>\n",
       "      <td>-0.066778</td>\n",
       "      <td>2.100049</td>\n",
       "      <td>-2.355687</td>\n",
       "      <td>0.481627</td>\n",
       "      <td>-0.132002</td>\n",
       "      <td>5.591561</td>\n",
       "      <td>-0.048751</td>\n",
       "    </tr>\n",
       "    <tr>\n",
       "      <th>2</th>\n",
       "      <td>600185426</td>\n",
       "      <td>핫한청도아이스홍시&amp;감말랭이모음전</td>\n",
       "      <td>-0.198988</td>\n",
       "      <td>-1.455330</td>\n",
       "      <td>-0.083357</td>\n",
       "      <td>2.721674</td>\n",
       "      <td>1.698118</td>\n",
       "      <td>6.046679</td>\n",
       "      <td>2.205015</td>\n",
       "      <td>-1.031879</td>\n",
       "      <td>-3.351793</td>\n",
       "      <td>-1.754357</td>\n",
       "      <td>0.923496</td>\n",
       "      <td>-0.607799</td>\n",
       "      <td>-0.060533</td>\n",
       "      <td>-0.039705</td>\n",
       "      <td>2.217461</td>\n",
       "      <td>-5.524176</td>\n",
       "      <td>-0.236714</td>\n",
       "      <td>-0.811096</td>\n",
       "      <td>-0.219093</td>\n",
       "      <td>-0.468020</td>\n",
       "      <td>1.993686</td>\n",
       "      <td>-3.131876</td>\n",
       "      <td>-2.162918</td>\n",
       "      <td>7.130883</td>\n",
       "      <td>0.283335</td>\n",
       "      <td>1.802665</td>\n",
       "      <td>4.820302</td>\n",
       "      <td>-2.781886</td>\n",
       "      <td>0.191043</td>\n",
       "      <td>-0.068949</td>\n",
       "      <td>2.781065</td>\n",
       "      <td>-5.796754</td>\n",
       "    </tr>\n",
       "    <tr>\n",
       "      <th>3</th>\n",
       "      <td>600118584</td>\n",
       "      <td>사과즙/도라지배즙/배도라지즙/포도즙/배즙/통째로과일즙</td>\n",
       "      <td>-0.826809</td>\n",
       "      <td>0.229932</td>\n",
       "      <td>2.354365</td>\n",
       "      <td>4.996829</td>\n",
       "      <td>-3.060762</td>\n",
       "      <td>-1.269347</td>\n",
       "      <td>-0.884455</td>\n",
       "      <td>-5.253204</td>\n",
       "      <td>-2.990948</td>\n",
       "      <td>-0.807123</td>\n",
       "      <td>-1.994426</td>\n",
       "      <td>-3.365553</td>\n",
       "      <td>1.850344</td>\n",
       "      <td>-4.325764</td>\n",
       "      <td>-4.673232</td>\n",
       "      <td>-1.093071</td>\n",
       "      <td>0.116866</td>\n",
       "      <td>-0.506159</td>\n",
       "      <td>0.365160</td>\n",
       "      <td>3.885775</td>\n",
       "      <td>2.592640</td>\n",
       "      <td>-1.485418</td>\n",
       "      <td>-0.874233</td>\n",
       "      <td>3.603109</td>\n",
       "      <td>-4.192461</td>\n",
       "      <td>0.198641</td>\n",
       "      <td>-0.952814</td>\n",
       "      <td>-3.046672</td>\n",
       "      <td>0.678599</td>\n",
       "      <td>-4.625407</td>\n",
       "      <td>2.105101</td>\n",
       "      <td>-2.815536</td>\n",
       "    </tr>\n",
       "    <tr>\n",
       "      <th>4</th>\n",
       "      <td>600186422</td>\n",
       "      <td>악세사리함쥬얼리함보석함시계보관함모음전</td>\n",
       "      <td>-0.876567</td>\n",
       "      <td>0.342568</td>\n",
       "      <td>1.907246</td>\n",
       "      <td>-1.139385</td>\n",
       "      <td>-0.793353</td>\n",
       "      <td>-0.952386</td>\n",
       "      <td>0.132055</td>\n",
       "      <td>1.211387</td>\n",
       "      <td>-2.625733</td>\n",
       "      <td>2.470055</td>\n",
       "      <td>-1.640479</td>\n",
       "      <td>-0.200465</td>\n",
       "      <td>-1.838699</td>\n",
       "      <td>-2.038641</td>\n",
       "      <td>-0.368154</td>\n",
       "      <td>1.752448</td>\n",
       "      <td>0.361291</td>\n",
       "      <td>-2.492242</td>\n",
       "      <td>0.482906</td>\n",
       "      <td>1.329928</td>\n",
       "      <td>-3.390306</td>\n",
       "      <td>-2.432199</td>\n",
       "      <td>-1.787804</td>\n",
       "      <td>0.641939</td>\n",
       "      <td>1.249624</td>\n",
       "      <td>-0.763985</td>\n",
       "      <td>-1.409229</td>\n",
       "      <td>-0.167177</td>\n",
       "      <td>2.549449</td>\n",
       "      <td>-1.421691</td>\n",
       "      <td>1.078133</td>\n",
       "      <td>-1.925694</td>\n",
       "    </tr>\n",
       "  </tbody>\n",
       "</table>\n",
       "</div>"
      ],
      "text/plain": [
       "         did                           d_nm  ...        30        31\n",
       "0  600181479            [만반잘부]오바다부드러운국내산오징어  ...  2.389963  2.139265\n",
       "1  600186873     [만반잘부]주재원삼겹살/오겹살/목살500g모음전  ...  5.591561 -0.048751\n",
       "2  600185426              핫한청도아이스홍시&감말랭이모음전  ...  2.781065 -5.796754\n",
       "3  600118584  사과즙/도라지배즙/배도라지즙/포도즙/배즙/통째로과일즙  ...  2.105101 -2.815536\n",
       "4  600186422           악세사리함쥬얼리함보석함시계보관함모음전  ...  1.078133 -1.925694\n",
       "\n",
       "[5 rows x 34 columns]"
      ]
     },
     "execution_count": 48,
     "metadata": {
      "tags": []
     },
     "output_type": "execute_result"
    }
   ],
   "source": [
    "word_embed_direct.head()"
   ]
  },
  {
   "cell_type": "code",
   "execution_count": 0,
   "metadata": {
    "colab": {},
    "colab_type": "code",
    "id": "G8LJiqqtW14v"
   },
   "outputs": [],
   "source": [
    "word2vec_fmt_directed.extend(word_embed_direct.iloc[:,1:].values.tolist())"
   ]
  },
  {
   "cell_type": "code",
   "execution_count": 0,
   "metadata": {
    "colab": {
     "base_uri": "https://localhost:8080/",
     "height": 34
    },
    "colab_type": "code",
    "id": "3sxfr995VDgh",
    "outputId": "9200164a-3c3f-42da-96c8-e4089f645f36"
   },
   "outputs": [
    {
     "data": {
      "text/plain": [
       "1371789"
      ]
     },
     "execution_count": 50,
     "metadata": {
      "tags": []
     },
     "output_type": "execute_result"
    }
   ],
   "source": [
    "len(word2vec_fmt_directed)"
   ]
  },
  {
   "cell_type": "code",
   "execution_count": 0,
   "metadata": {
    "colab": {
     "base_uri": "https://localhost:8080/",
     "height": 595
    },
    "colab_type": "code",
    "id": "BYfDoi20VDcs",
    "outputId": "29df7679-f63b-4626-c1c5-4802b9d9b0c8"
   },
   "outputs": [
    {
     "data": {
      "text/plain": [
       "[[1371788, 32],\n",
       " ['[만반잘부]오바다부드러운국내산오징어',\n",
       "  1.2290517091751099,\n",
       "  -3.2641124725341797,\n",
       "  2.055143356323242,\n",
       "  1.5803725719451904,\n",
       "  -1.3055033683776855,\n",
       "  -0.7734090685844421,\n",
       "  4.613351821899414,\n",
       "  1.5930055379867554,\n",
       "  -3.2620177268981934,\n",
       "  -2.191530227661133,\n",
       "  1.0961267948150635,\n",
       "  1.9413959980010986,\n",
       "  1.3691022396087646,\n",
       "  -2.222414970397949,\n",
       "  0.6542935967445374,\n",
       "  -4.26046895980835,\n",
       "  -0.7029355764389038,\n",
       "  4.347554683685303,\n",
       "  -0.1358708143234253,\n",
       "  -4.510448455810547,\n",
       "  -2.1195578575134277,\n",
       "  0.39089319109916687,\n",
       "  3.7583093643188477,\n",
       "  1.8672987222671509,\n",
       "  -4.477293014526367,\n",
       "  -0.08467933535575867,\n",
       "  3.284909963607788,\n",
       "  0.6243177056312561,\n",
       "  -1.5265854597091675,\n",
       "  -3.589167356491089,\n",
       "  2.389962673187256,\n",
       "  2.1392645835876465]]"
      ]
     },
     "execution_count": 51,
     "metadata": {
      "tags": []
     },
     "output_type": "execute_result"
    }
   ],
   "source": [
    "word2vec_fmt_directed[:2]"
   ]
  },
  {
   "cell_type": "code",
   "execution_count": 0,
   "metadata": {
    "colab": {},
    "colab_type": "code",
    "id": "XfgoRw-dYeRB"
   },
   "outputs": [],
   "source": [
    "# save\n",
    "with open('./1107_with_cate/1113_word2vec_fmt_cate_directed(base).txt', 'w') as f:\n",
    "    for item in word2vec_fmt_directed:\n",
    "        for k,element in enumerate(item):\n",
    "            last = len(item)\n",
    "            if k == last:\n",
    "                f.write(\"%s\" % element) # 마지막 요소는, 띄어쓰기 없다\n",
    "            else:\n",
    "                f.write(\"%s \" % element)\n",
    "            f.write(\"\\n\") # 한줄이 끝나면 줄 바꿈"
   ]
  },
  {
   "cell_type": "code",
   "execution_count": 0,
   "metadata": {
    "colab": {},
    "colab_type": "code",
    "id": "_uB_vr1uj6rt"
   },
   "outputs": [],
   "source": [
    "## 이용해보자 gensim.models.Word2Vec.laod_word2vec_format"
   ]
  },
  {
   "cell_type": "code",
   "execution_count": 0,
   "metadata": {
    "colab": {
     "base_uri": "https://localhost:8080/",
     "height": 71
    },
    "colab_type": "code",
    "id": "BaMFO4nXYeKI",
    "outputId": "8aad3ca8-9800-4498-dadf-585f872db5d4"
   },
   "outputs": [
    {
     "name": "stderr",
     "output_type": "stream",
     "text": [
      "/usr/local/lib/python3.6/dist-packages/smart_open/smart_open_lib.py:402: UserWarning: This function is deprecated, use smart_open.open instead. See the migration notes for details: https://github.com/RaRe-Technologies/smart_open/blob/master/README.rst#migrating-to-the-new-open-function\n",
      "  'See the migration notes for details: %s' % _MIGRATION_NOTES_URL\n"
     ]
    }
   ],
   "source": [
    "import gensim\n",
    "model = gensim.models.KeyedVectors.load_word2vec_format('./1107_with_cate/1113_word2vec_fmt_cate_directed(base).txt')"
   ]
  },
  {
   "cell_type": "markdown",
   "metadata": {
    "colab_type": "text",
    "id": "CKVRZ_EuGgW1"
   },
   "source": [
    "\n",
    "\n",
    "---\n",
    "\n",
    "\n",
    "\n"
   ]
  },
  {
   "cell_type": "code",
   "execution_count": 0,
   "metadata": {
    "colab": {
     "base_uri": "https://localhost:8080/",
     "height": 275
    },
    "colab_type": "code",
    "id": "1CfkM-2t5156",
    "outputId": "188293ae-e320-4166-ad35-42cb20dcb456"
   },
   "outputs": [
    {
     "name": "stderr",
     "output_type": "stream",
     "text": [
      "/usr/local/lib/python3.6/dist-packages/ipykernel_launcher.py:1: DeprecationWarning: Call to deprecated `wv` (Attribute will be removed in 4.0.0, use self instead).\n",
      "  \"\"\"Entry point for launching an IPython kernel.\n",
      "/usr/local/lib/python3.6/dist-packages/gensim/matutils.py:737: FutureWarning: Conversion of the second argument of issubdtype from `int` to `np.signedinteger` is deprecated. In future, it will be treated as `np.int64 == np.dtype(int).type`.\n",
      "  if np.issubdtype(vec.dtype, np.int):\n"
     ]
    },
    {
     "data": {
      "text/plain": [
       "[('피마자오일100ml1+1+1', 0.8831630349159241),\n",
       " ('피마자오일100ml피마자유캐스터오일속눈썹영양제탈모두피오일바디오일', 0.8599170446395874),\n",
       " ('보르헤스천연피마자유(비정제)1L피마자오일캐스터오일속눈썹영양제탈모두피오일', 0.8261103630065918),\n",
       " ('유앤오일/건성+노화+탄력너리시에너자이즈메이처페이스오일50ml', 0.7810809016227722),\n",
       " ('[더위치]피마자오일500ml/캐스태르오일/CastorO', 0.7714093327522278),\n",
       " ('정제피마자유100ml/500ml', 0.7642123699188232),\n",
       " ('[더위치]피마자오일100ml/캐스태르오일/Castor', 0.7640499472618103),\n",
       " ('보르헤스천연피마자유(비정제)500ml피마자오일캐스터오일속눈썹영양제탈모두피오일', 0.7593515515327454),\n",
       " ('[아이오페]골든글로우페이스오일40ml', 0.742207407951355),\n",
       " ('비정제피마자유아주까리기름', 0.7323443293571472)]"
      ]
     },
     "execution_count": 149,
     "metadata": {
      "tags": []
     },
     "output_type": "execute_result"
    }
   ],
   "source": [
    "model.wv.most_similar( '림라이프피마자오일100ml' )"
   ]
  },
  {
   "cell_type": "code",
   "execution_count": 0,
   "metadata": {
    "colab": {
     "base_uri": "https://localhost:8080/",
     "height": 275
    },
    "colab_type": "code",
    "id": "-ZAvD6G84T61",
    "outputId": "2527b480-d80a-40d9-9f0e-7d5e2c8e4f62"
   },
   "outputs": [
    {
     "name": "stderr",
     "output_type": "stream",
     "text": [
      "/usr/local/lib/python3.6/dist-packages/ipykernel_launcher.py:1: DeprecationWarning: Call to deprecated `wv` (Attribute will be removed in 4.0.0, use self instead).\n",
      "  \"\"\"Entry point for launching an IPython kernel.\n",
      "/usr/local/lib/python3.6/dist-packages/gensim/matutils.py:737: FutureWarning: Conversion of the second argument of issubdtype from `int` to `np.signedinteger` is deprecated. In future, it will be treated as `np.int64 == np.dtype(int).type`.\n",
      "  if np.issubdtype(vec.dtype, np.int):\n"
     ]
    },
    {
     "data": {
      "text/plain": [
       "[('부산명물부산어포포포500g대용량', 0.9689480066299438),\n",
       " ('[더반찬]삼색나물과고추장(3~4회분)', 0.9098036289215088),\n",
       " ('[바이홈]바른생활뽑아쓰는데일리수세미(30매입X4+2박스)', 0.8497264981269836),\n",
       " ('대용량부산어포포포500g', 0.847880482673645),\n",
       " ('대용량월드컵어포500g', 0.8291774988174438),\n",
       " ('부산어포포포대용량500g', 0.8202527761459351),\n",
       " ('[무료배송]대용량부산어포포포500g', 0.8106222152709961),\n",
       " ('추억의옛날그맛월드컵어포500g대용량', 0.8088663220405579),\n",
       " ('어포/꾸이킹/한진식품추가배송료없이전부구매가능', 0.7773061394691467),\n",
       " ('[무료배송]부산어포포포어채500g', 0.7496709823608398)]"
      ]
     },
     "execution_count": 147,
     "metadata": {
      "tags": []
     },
     "output_type": "execute_result"
    }
   ],
   "source": [
    "model.wv.most_similar( '[원더쿠폰]일회용와플수세미' ) ### 왜 이런 결과가????"
   ]
  }
 ],
 "metadata": {
  "accelerator": "TPU",
  "colab": {
   "collapsed_sections": [
    "wpff-Lnvha5U",
    "tKKuxs1LO0iQ",
    "lHqVdZk7qMEn",
    "N92a_DjhM5RC",
    "uX1foBx8-XFB",
    "aX3VBvWCiCdr",
    "g252n9B8rsbA",
    "rBCK206JabmX",
    "2BuG4YO9z-Ih"
   ],
   "machine_shape": "hm",
   "name": "세션_with카테고리_make_walks.ipynb",
   "provenance": []
  },
  "kernelspec": {
   "display_name": "Python 3",
   "language": "python",
   "name": "python3"
  },
  "language_info": {
   "codemirror_mode": {
    "name": "ipython",
    "version": 3
   },
   "file_extension": ".py",
   "mimetype": "text/x-python",
   "name": "python",
   "nbconvert_exporter": "python",
   "pygments_lexer": "ipython3",
   "version": "3.6.5"
  }
 },
 "nbformat": 4,
 "nbformat_minor": 1
}
